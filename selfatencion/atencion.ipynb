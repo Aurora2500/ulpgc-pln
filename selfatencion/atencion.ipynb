{
 "cells": [
  {
   "cell_type": "code",
   "execution_count": 1,
   "metadata": {},
   "outputs": [
    {
     "ename": "ModuleNotFoundError",
     "evalue": "No module named 'torchtext'",
     "output_type": "error",
     "traceback": [
      "\u001b[0;31m---------------------------------------------------------------------------\u001b[0m",
      "\u001b[0;31mModuleNotFoundError\u001b[0m                       Traceback (most recent call last)",
      "Cell \u001b[0;32mIn[1], line 4\u001b[0m\n\u001b[1;32m      2\u001b[0m \u001b[38;5;28;01mimport\u001b[39;00m \u001b[38;5;21;01mtorch\u001b[39;00m\u001b[38;5;21;01m.\u001b[39;00m\u001b[38;5;21;01mnn\u001b[39;00m \u001b[38;5;28;01mas\u001b[39;00m \u001b[38;5;21;01mnn\u001b[39;00m\n\u001b[1;32m      3\u001b[0m \u001b[38;5;28;01mimport\u001b[39;00m \u001b[38;5;21;01mtorch\u001b[39;00m\u001b[38;5;21;01m.\u001b[39;00m\u001b[38;5;21;01moptim\u001b[39;00m \u001b[38;5;28;01mas\u001b[39;00m \u001b[38;5;21;01moptim\u001b[39;00m\n\u001b[0;32m----> 4\u001b[0m \u001b[38;5;28;01mimport\u001b[39;00m \u001b[38;5;21;01mtorchtext\u001b[39;00m\n",
      "\u001b[0;31mModuleNotFoundError\u001b[0m: No module named 'torchtext'"
     ]
    }
   ],
   "source": [
    "import torch\n",
    "import torch.nn as nn\n",
    "import torch.optim as optim\n",
    "import torchtext"
   ]
  },
  {
   "cell_type": "code",
   "execution_count": null,
   "metadata": {},
   "outputs": [],
   "source": [
    "class SelfAtencion(nn.Module):\n",
    "    def self_atencion(self, decoder_state: torch.Tensor, encoder_state: torch.Tensor):\n",
    "        scores = torch.bmm(encoder_state, decoder_state.unsqueeze(1).transpose(1, 2))\n",
    "        weights = nn.Softmax(dim=1)(scores)\n",
    "        dim = encoder_state.shape\n",
    "        output = torch.bmm(weights.flatten().view(dim[0],1,dim[1]), encoder_state)\n",
    "        return output\n"
   ]
  },
  {
   "cell_type": "code",
   "execution_count": 105,
   "metadata": {},
   "outputs": [
    {
     "name": "stdout",
     "output_type": "stream",
     "text": [
      "tensor([[[  1.,   2.,   3.],\n",
      "         [  1.,   2.,   3.],\n",
      "         [  0.,   2.,   3.],\n",
      "         [  1.,   2.,   3.]],\n",
      "\n",
      "        [[ 10.,  20.,  30.],\n",
      "         [ 10.,  20.,  30.],\n",
      "         [  0.,  20.,  30.],\n",
      "         [ 10.,  20.,  30.]],\n",
      "\n",
      "        [[100., 200., 300.],\n",
      "         [100., 200., 300.],\n",
      "         [  0., 200., 300.],\n",
      "         [100., 200., 300.]]])\n",
      "tensor([[1., 1., 1.],\n",
      "        [1., 1., 1.],\n",
      "        [1., 1., 1.]])\n"
     ]
    }
   ],
   "source": [
    "# Datos para verificar\n",
    "encoder_state = torch.ones(3, 4, 3)\n",
    "encoder_state[0, :, :] = torch.tensor([[1,2,3], [1, 2, 3], [0, 2, 3], [1, 2, 3]])\n",
    "encoder_state[1, :, :] = encoder_state[0, :, :] * 10\n",
    "encoder_state[2, :, :] = encoder_state[0, :, :] * 100\n",
    "print(encoder_state)\n",
    "decoder_state = torch.ones(3, 3)\n",
    "print(decoder_state)"
   ]
  },
  {
   "cell_type": "code",
   "execution_count": 107,
   "metadata": {},
   "outputs": [
    {
     "name": "stdout",
     "output_type": "stream",
     "text": [
      "tensor([[[  0.8908,   2.0000,   3.0000]],\n",
      "\n",
      "        [[  9.9998,  20.0000,  30.0000]],\n",
      "\n",
      "        [[100.0000, 200.0000, 300.0000]]])\n"
     ]
    }
   ],
   "source": [
    "sa = SelfAtencion()\n",
    "output = sa.self_atencion(decoder_state, encoder_state)\n",
    "print(output)"
   ]
  }
 ],
 "metadata": {
  "kernelspec": {
   "display_name": "Python 3",
   "language": "python",
   "name": "python3"
  },
  "language_info": {
   "codemirror_mode": {
    "name": "ipython",
    "version": 3
   },
   "file_extension": ".py",
   "mimetype": "text/x-python",
   "name": "python",
   "nbconvert_exporter": "python",
   "pygments_lexer": "ipython3",
   "version": "3.11.7"
  }
 },
 "nbformat": 4,
 "nbformat_minor": 2
}
