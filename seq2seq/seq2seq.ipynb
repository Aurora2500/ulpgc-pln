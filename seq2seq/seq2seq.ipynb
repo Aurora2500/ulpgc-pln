{
  "cells": [
    {
      "cell_type": "markdown",
      "metadata": {
        "id": "7j2RVFaY98MZ"
      },
      "source": [
        "<p>\n",
        "<img src=\"../imgs/EII-ULPGC-logo.jpeg\" width=\"430px\" align=\"right\">"
      ]
    },
    {
      "cell_type": "markdown",
      "metadata": {
        "id": "R8M0ngpW98Mc"
      },
      "source": [
        "# **NOTEBOOK 14**\n",
        "---"
      ]
    },
    {
      "cell_type": "markdown",
      "metadata": {
        "id": "83hTaEFd98Md"
      },
      "source": [
        "\n",
        "# **Modelos del lenguaje basados en redes neuronales artificiales**"
      ]
    },
    {
      "cell_type": "markdown",
      "metadata": {
        "id": "lnMv7k6P98Me"
      },
      "source": [
        "## **Modelos seq2seq 1**\n",
        "\n",
        "La arquitectura seq2seq, o secuencia a secuencia, es un tipo de modelo de red neuronal utilizado en el aprendizaje profundo para convertir secuencias de entrada en secuencias de salida. Es especialmente popular para tareas como traducción automática, generación de texto, y reconocimiento de voz. Se forma mediante la unión de dos componentes principales: un **codificador** y un **decodificador**.\n",
        "\n",
        "<p align=\"center\">\n",
        "<img src=\"imgs/seq2seq_.svg\" width=\"80%\">\n",
        "</p>\n",
        "\n",
        "\n",
        "#### **Codificador (Encoder)**\n",
        "\n",
        "El codificador toma la secuencia de entrada y la procesa para generar una representación interna, a menudo en forma de un vector de contexto o una serie de estados ocultos. Aquí está el proceso detallado:\n",
        "\n",
        "1. **Entrada de la secuencia**: El modelo toma una secuencia de entrada (por ejemplo, una frase en inglés si estamos haciendo traducción inglés-español).\n",
        "\n",
        "2. **Embedding de palabras**: Cada palabra o token de la secuencia se transforma en un vector mediante una capa de embebido (embedding).\n",
        "\n",
        "3. **Procesamiento recurrente**: Los vectores embebidos se pasan a través de capas recurrentes (como LSTM o GRU) para procesar la secuencia. En cada paso temporal, la red actualiza su estado oculto basándose en el token actual y el estado oculto anterior.\n",
        "\n",
        "4. **Captura de contexto**: El último estado oculto de la red (o una combinación de todos los estados ocultos, dependiendo del diseño) se toma como la representación condensada de la secuencia completa. Este vector de contexto captura la información esencial de la entrada.\n",
        "\n",
        "### **Decodificador (Decoder)**\n",
        "\n",
        "El decodificador utiliza la representación generada por el codificador para producir la secuencia de salida.\n",
        "\n",
        "1. **Inicialización**: El decodificador se inicializa con el estado oculto final del codificador. En algunos diseños, el vector de contexto también se usa directamente como parte de la entrada en cada paso del decodificador.\n",
        "\n",
        "2. **Generación de la secuencia de salida**: En cada paso, el decodificador genera un token de la secuencia de salida.\n",
        "\n",
        "   - **Estado oculto**: Se actualiza en cada paso basándose en la entrada actual y el estado oculto anterior.\n",
        "   - **Entrada**: Puede ser el token de salida del paso anterior o un token especial para indicar el inicio de la secuencia.\n",
        "   - **Salida**: Un vector que se transforma en las probabilidades de los diferentes tokens posibles para el siguiente paso de la secuencia. Esto se hace típicamente con una capa softmax.\n",
        "\n",
        "3. **Terminación**: El proceso continúa hasta que se genera un token de final de secuencia o se alcanza una longitud máxima de secuencia."
      ]
    },
    {
      "cell_type": "markdown",
      "metadata": {
        "id": "iVac7g1m98Mg"
      },
      "source": [
        "### **Implementación**\n",
        "\n",
        "Vamos a implementar un sencillo modelo seq2seq que realice la suma de dos números decimales de, como máximo, 3 cifras. La entrada será una cadena de texto con el formato \"123+456\" y la salida será una cadena de texto con el formato \"0579\".\n",
        "\n",
        "#### **Dataset**"
      ]
    },
    {
      "cell_type": "code",
      "execution_count": 1,
      "metadata": {
        "id": "kfGUpPTj98Mh"
      },
      "outputs": [],
      "source": [
        "import random\n",
        "import string\n",
        "import torch\n",
        "\n",
        "allowed_chars = string.digits + '+'\n",
        "\n",
        "class Generator():\n",
        "    def __init__(self) -> None:\n",
        "        pass\n",
        "\n",
        "    # Método para crear un ejemplo de entrenamiento\n",
        "    def sample(self):\n",
        "        s1 = random.randint(0, 999)\n",
        "        s2 = random.randint(0, 999)\n",
        "        r = s1 + s2\n",
        "        s1_string = str(s1).zfill(3)\n",
        "        s2_string = str(s2).zfill(3)\n",
        "        output = str(r).zfill(4)\n",
        "        input = s1_string + \"+\" + s2_string\n",
        "        return input, output\n",
        "\n",
        "    # Método para crear un lote de ejemplos de entrenamiento\n",
        "    def batch(self, n):\n",
        "        inputs = []\n",
        "        outputs = []\n",
        "        for _ in range(n):\n",
        "            input, output = self.sample()\n",
        "            inputs.append(input)\n",
        "            outputs.append(output)\n",
        "        return inputs, outputs\n",
        "\n",
        "    # Método para codificar una cadena de caracteres en un tensor one-hot\n",
        "    def string_to_tensor(self, s):\n",
        "        tensor = torch.zeros(len(s), len(allowed_chars))\n",
        "        for i, char in enumerate(s):\n",
        "            tensor[i, allowed_chars.index(char)] = 1\n",
        "        return tensor\n",
        "\n",
        "    # Método para decodificar un tensor one-hot en una cadena de caracteres\n",
        "    def tensor_to_string(self, tensor):\n",
        "        _, max_idx = tensor.max(1)\n",
        "        return ''.join([allowed_chars[i] for i in max_idx])\n",
        "\n",
        "    # Método para generar un lote de ejemplos de entrenamiento codificados\n",
        "    def batch_to_tensor(self, n):\n",
        "        seq_in = []\n",
        "        seq_out = []\n",
        "        inputs, outputs = self.batch(n)\n",
        "        # print(inputs, outputs)\n",
        "        for input, output in zip(inputs, outputs):\n",
        "            seq_in.append(self.string_to_tensor(input))\n",
        "            seq_out.append(self.string_to_tensor(output))\n",
        "        return torch.stack(seq_in), torch.stack(seq_out)"
      ]
    },
    {
      "cell_type": "markdown",
      "metadata": {
        "id": "Ca-KB3C498Mi"
      },
      "source": [
        "#### **Modelo**"
      ]
    },
    {
      "cell_type": "code",
      "execution_count": 49,
      "metadata": {
        "id": "-aTYVvqG98Mj"
      },
      "outputs": [],
      "source": [
        "import torch.nn as nn\n",
        "import torch.optim as optim\n",
        "import torch.nn.functional as F\n",
        "from torch.nn.utils.rnn import pad_sequence\n",
        "\n",
        "\n",
        "# Definir la arquitectura del modelo seq2seq\n",
        "class Seq2Seq(nn.Module):\n",
        "    def __init__(self, input_size, hidden_size, output_size):\n",
        "        super(Seq2Seq, self).__init__()\n",
        "        self.hidden_size = hidden_size\n",
        "        self.encoder = nn.LSTM(input_size, hidden_size, batch_first=True)\n",
        "        self.decoder = nn.LSTM(hidden_size, hidden_size, batch_first=True)\n",
        "        self.output = nn.Linear(hidden_size, output_size)\n",
        "\n",
        "    def forward(self, input, hidden=None):\n",
        "        dummy_input = input + torch.empty(self.encoder.input_size)\n",
        "        dummy_input = pad_sequence(dummy_input, batch_first=True, padding_value=0)\n",
        "        input = dummy_input[:]\n",
        "        _, (hn_enc, cn_enc) = self.encoder(input, hidden)\n",
        "        latent_tensor = hn_enc[0].unsqueeze(1).repeat(1, 4, 1)\n",
        "        out_dec, (_, _) = self.decoder(latent_tensor, (hn_enc, cn_enc))\n",
        "        out = F.softmax(self.output(out_dec), dim=2)\n",
        "        return out\n",
        "\n",
        "model = Seq2Seq(input_size=len(allowed_chars), hidden_size=128, output_size=len(allowed_chars))"
      ]
    },
    {
      "cell_type": "markdown",
      "metadata": {
        "id": "0_pSA8nn98Mk"
      },
      "source": [
        "#### **Entrenamiento**"
      ]
    },
    {
      "cell_type": "code",
      "execution_count": 3,
      "metadata": {
        "colab": {
          "base_uri": "https://localhost:8080/",
          "height": 479,
          "referenced_widgets": [
            "cfd7012ae3ba4529a8556ae57a132242",
            "57b0a201be334bacb51385c61b97be09",
            "08ed4da495d1424881a0bc258185302b",
            "1c08d6da39de4821b921a9d31de189ef",
            "0f41ed7ef0dc483093f0d068d035132d",
            "51615cf4e4ea42bdb836f60e2b316107",
            "973b1f6632204befa6fec0d718033f5a",
            "685d8d2839e247b9b4c505108b60d77a",
            "3737c41a3b5e4339ab013fb5c02da5d9",
            "0fde2fa927bd430db9a1bf8d4b23304a",
            "9ec8dee90bf349ea9f1d2978b9ba110b"
          ]
        },
        "id": "RNr9Xotq98Ml",
        "outputId": "31a4be7a-0471-495b-a749-4545f5c868e8"
      },
      "outputs": [
        {
          "output_type": "display_data",
          "data": {
            "text/plain": [
              "  0%|          | 0/5000 [00:00<?, ?it/s]"
            ],
            "application/vnd.jupyter.widget-view+json": {
              "version_major": 2,
              "version_minor": 0,
              "model_id": "cfd7012ae3ba4529a8556ae57a132242"
            }
          },
          "metadata": {}
        },
        {
          "output_type": "execute_result",
          "data": {
            "text/plain": [
              "[<matplotlib.lines.Line2D at 0x7e6b1a1f7950>]"
            ]
          },
          "metadata": {},
          "execution_count": 3
        },
        {
          "output_type": "display_data",
          "data": {
            "text/plain": [
              "<Figure size 640x480 with 1 Axes>"
            ],
            "image/png": "[encoded data removed]"
          },
          "metadata": {}
        }
      ],
      "source": [
        "import matplotlib.pyplot as plt\n",
        "from tqdm.notebook import trange\n",
        "\n",
        "history = []\n",
        "\n",
        "# Bucle de entrenamiento\n",
        "def train(model, optimizer, loss_fn, dg, n_epochs, batch_size):\n",
        "    pbar = trange(n_epochs)\n",
        "    for epoch in pbar:\n",
        "        total_loss = 0\n",
        "\n",
        "        optimizer.zero_grad()\n",
        "        x, y = dg.batch_to_tensor(batch_size)\n",
        "        y_pred = model(x)\n",
        "        loss = loss_fn(y_pred, y)\n",
        "        loss.backward()\n",
        "        optimizer.step()\n",
        "        total_loss += loss.item()\n",
        "        # Print the loss every 10 epochs\n",
        "        if epoch % 100 == 0:\n",
        "            pbar.set_postfix_str(f\"{total_loss:.4} loss\")\n",
        "            history.append(total_loss)\n",
        "\n",
        "# Definir la función de pérdida y el optimizador\n",
        "loss_fn = nn.MSELoss()\n",
        "optimizer = optim.Adam(model.parameters(), lr=0.01)\n",
        "\n",
        "# Entrenar el modelo\n",
        "dg = Generator()\n",
        "train(model, optimizer, loss_fn, dg, 5000, 128)\n",
        "\n",
        "\n",
        "plt.plot(history, label='loss')"
      ]
    },
    {
      "cell_type": "markdown",
      "metadata": {
        "id": "J7tFTpiu98Ml"
      },
      "source": [
        "#### **Evaluación**"
      ]
    },
    {
      "cell_type": "code",
      "execution_count": 4,
      "metadata": {
        "colab": {
          "base_uri": "https://localhost:8080/"
        },
        "id": "cTUZvXsq98Mm",
        "outputId": "d7f2c31a-617c-4a2f-c8b2-26ca6692fb98"
      },
      "outputs": [
        {
          "output_type": "stream",
          "name": "stdout",
          "text": [
            "946+079 = 1025 (expected 1025) OK\n",
            "286+724 = 1110 (expected 1010) ERROR\n",
            "174+732 = 0906 (expected 0906) OK\n",
            "977+749 = 1726 (expected 1726) OK\n",
            "674+609 = 1283 (expected 1283) OK\n",
            "188+629 = 0817 (expected 0817) OK\n",
            "202+857 = 1059 (expected 1059) OK\n",
            "618+832 = 1550 (expected 1450) ERROR\n",
            "522+715 = 1237 (expected 1237) OK\n",
            "161+486 = 0647 (expected 0647) OK\n",
            "--------------------\n",
            "result: 8/10\n"
          ]
        }
      ],
      "source": [
        "# Evaluar el modelo\n",
        "def evaluate(model, n):\n",
        "    x, y = dg.batch_to_tensor(n)\n",
        "    y_pred = model(x)\n",
        "    correct = 0\n",
        "    for i in range(n):\n",
        "        query = dg.tensor_to_string(x[i])\n",
        "        pred = dg.tensor_to_string(y_pred[i])\n",
        "        result = dg.tensor_to_string(y[i])\n",
        "        print(f\"{query} = {pred} (expected {result}) {'OK' if pred == result else 'ERROR'}\")\n",
        "        if pred == result:\n",
        "            correct += 1\n",
        "    print(\"-\"*20)\n",
        "    print(f\"result: {correct}/{n}\")\n",
        "\n",
        "evaluate(model, 10)"
      ]
    },
    {
      "cell_type": "markdown",
      "metadata": {
        "id": "mt9UB-Hx98Mm"
      },
      "source": [
        "Es importante destacar que el modelo no realiza una suma de números siguiendo un procedimiento aritmético, sino que aprende a generar la secuencia de salida correcta mediante un proceso de traducción aprendido a partir de los datos de entrenamiento."
      ]
    },
    {
      "cell_type": "markdown",
      "metadata": {
        "id": "aP-AGUBj98Mn"
      },
      "source": [
        "---\n",
        "\n",
        "### Ejercicio 1\n",
        "\n",
        "Modifica el código anterior para que el modelo pueda recibir secuencias de longitud variable. Para ello, usa el generador de datos siguiente. Otra de las cosas que debes tener en cuenta es que el generador devuelve una lista de tensores, esto es así para que puedas usar la función `pad_sequence` para rellenar las secuencias más cortas con ceros. Consulta la referencia de la función para ver cómo se usa. El parámetro `batch_first` es importante para que la función sepa si los datos están en formato `(batch_size, seq_len, input_size)` o `(seq_len, batch_size, input_size)`. Nos interesa que estén en el primer formato.\n",
        "\n",
        "\n",
        "\n",
        "---"
      ]
    },
    {
      "cell_type": "code",
      "execution_count": 5,
      "metadata": {
        "id": "rHsanzWV98Mn"
      },
      "outputs": [],
      "source": [
        "import random\n",
        "import string\n",
        "import torch\n",
        "\n",
        "allowed_chars = string.digits + '+' + '#'  # <-- Añadimos el caracter # como padding para la salida\n",
        "\n",
        "class Generator2():\n",
        "    def __init__(self) -> None:\n",
        "        pass\n",
        "\n",
        "    # Método para crear un ejemplo de entrenamiento\n",
        "    def sample(self):\n",
        "        s1 = random.randint(0, 9999)\n",
        "        s2 = random.randint(0, 9999)\n",
        "        r = s1 + s2\n",
        "        s1_string = str(s1)\n",
        "        s2_string = str(s2)\n",
        "        output = str(r)\n",
        "        input = s1_string + \"+\" + s2_string\n",
        "        return input, output\n",
        "\n",
        "    # Método para crear un lote de ejemplos de entrenamiento\n",
        "    def batch(self, n):\n",
        "        inputs = []\n",
        "        outputs = []\n",
        "        for _ in range(n):\n",
        "            input, output = self.sample()\n",
        "            inputs.append(input)\n",
        "            outputs.append(output)\n",
        "        return inputs, outputs\n",
        "\n",
        "    # Método para codificar una cadena de caracteres en un tensor one-hot\n",
        "    def string_to_tensor(self, s):\n",
        "        tensor = torch.zeros(len(s), len(allowed_chars))\n",
        "        for i, char in enumerate(s):\n",
        "            tensor[i, allowed_chars.index(char)] = 1\n",
        "        return tensor\n",
        "\n",
        "    # Método para decodificar un tensor one-hot en una cadena de caracteres\n",
        "    def tensor_to_string(self, tensor):\n",
        "        _, max_idx = tensor.max(1)\n",
        "        return ''.join([allowed_chars[i] for i in max_idx])\n",
        "\n",
        "    # Método para generar un lote de ejemplos de entrenamiento codificados\n",
        "    def batch_to_tensor(self, n):\n",
        "        seq_in = []\n",
        "        seq_out = []\n",
        "        inputs, outputs = self.batch(n)\n",
        "        for input, output in zip(inputs, outputs):\n",
        "            seq_in.append(self.string_to_tensor(input))\n",
        "            seq_out.append(self.string_to_tensor(output))\n",
        "        return seq_in, seq_out # <-- Devolvemos dos listas de tensores"
      ]
    },
    {
      "cell_type": "code",
      "execution_count": 13,
      "metadata": {
        "colab": {
          "base_uri": "https://localhost:8080/"
        },
        "id": "7cs3dO3098Mn",
        "outputId": "83a1620e-cb98-44d2-c00e-1555fa3a2a39"
      },
      "outputs": [
        {
          "output_type": "stream",
          "name": "stdout",
          "text": [
            "tensor([[[0., 0., 0., 0., 0., 0., 0., 0., 1., 0., 0., 0.],\n",
            "         [0., 0., 0., 1., 0., 0., 0., 0., 0., 0., 0., 0.],\n",
            "         [0., 0., 0., 1., 0., 0., 0., 0., 0., 0., 0., 0.],\n",
            "         [0., 1., 0., 0., 0., 0., 0., 0., 0., 0., 0., 0.],\n",
            "         [0., 0., 0., 0., 0., 0., 0., 0., 0., 0., 1., 0.],\n",
            "         [0., 0., 0., 0., 0., 1., 0., 0., 0., 0., 0., 0.],\n",
            "         [0., 0., 0., 1., 0., 0., 0., 0., 0., 0., 0., 0.],\n",
            "         [1., 0., 0., 0., 0., 0., 0., 0., 0., 0., 0., 0.],\n",
            "         [0., 0., 0., 0., 0., 0., 1., 0., 0., 0., 0., 0.]],\n",
            "\n",
            "        [[0., 0., 0., 0., 0., 0., 0., 0., 1., 0., 0., 0.],\n",
            "         [1., 0., 0., 0., 0., 0., 0., 0., 0., 0., 0., 0.],\n",
            "         [0., 0., 0., 0., 0., 0., 0., 1., 0., 0., 0., 0.],\n",
            "         [0., 0., 1., 0., 0., 0., 0., 0., 0., 0., 0., 0.],\n",
            "         [0., 0., 0., 0., 0., 0., 0., 0., 0., 0., 1., 0.],\n",
            "         [0., 0., 0., 0., 0., 0., 1., 0., 0., 0., 0., 0.],\n",
            "         [0., 1., 0., 0., 0., 0., 0., 0., 0., 0., 0., 0.],\n",
            "         [0., 0., 0., 0., 0., 0., 0., 0., 0., 1., 0., 0.],\n",
            "         [0., 0., 0., 1., 0., 0., 0., 0., 0., 0., 0., 0.]]])\n",
            "--------------------------------------------------\n",
            "tensor([[[0., 1., 0., 0., 0., 0., 0., 0., 0., 0., 0., 0.],\n",
            "         [0., 0., 0., 1., 0., 0., 0., 0., 0., 0., 0., 0.],\n",
            "         [0., 0., 0., 0., 0., 0., 1., 0., 0., 0., 0., 0.],\n",
            "         [0., 0., 0., 1., 0., 0., 0., 0., 0., 0., 0., 0.],\n",
            "         [0., 0., 0., 0., 0., 0., 0., 1., 0., 0., 0., 0.]],\n",
            "\n",
            "        [[0., 1., 0., 0., 0., 0., 0., 0., 0., 0., 0., 0.],\n",
            "         [0., 0., 0., 0., 1., 0., 0., 0., 0., 0., 0., 0.],\n",
            "         [0., 0., 1., 0., 0., 0., 0., 0., 0., 0., 0., 0.],\n",
            "         [0., 0., 0., 0., 0., 0., 1., 0., 0., 0., 0., 0.],\n",
            "         [0., 0., 0., 0., 0., 1., 0., 0., 0., 0., 0., 0.]]])\n"
          ]
        }
      ],
      "source": [
        "gen = Generator2()\n",
        "batch_in, batch_out = gen.batch_to_tensor(2)\n",
        "print(torch.stack(batch_in))\n",
        "print(\"-\"*50)\n",
        "print(torch.stack(batch_out))"
      ]
    },
    {
      "cell_type": "code",
      "execution_count": 60,
      "metadata": {
        "colab": {
          "base_uri": "https://localhost:8080/",
          "height": 479,
          "referenced_widgets": [
            "a2ad7e1a94584db1bd84f867212c794c",
            "d9aad0efa5874fdab31b655666c109ee",
            "d5352dc358c74714b5900f020e61d874",
            "644b3fbe34ef496ea28976f685b9fb63",
            "5e82b344cc0440388c8f320b8b737b98",
            "8ceb28bee2514b98b6723aca7096fdec",
            "a533e24f68f441d4ab9eaa30f508e3df",
            "8b4c39b3da05402d9883344c0ef22ab2",
            "013054590b8c4adb9e9696aa0fd24eed",
            "f5cd5b2c96cb409784a697c173cfed58",
            "371eb9e7f44b4219ad0f25904fb1ee3f"
          ]
        },
        "outputId": "9c825ed9-b419-43ef-84cc-92db3849f19b",
        "id": "-DwT2kU-CLuw"
      },
      "outputs": [
        {
          "output_type": "display_data",
          "data": {
            "text/plain": [
              "  0%|          | 0/5000 [00:00<?, ?it/s]"
            ],
            "application/vnd.jupyter.widget-view+json": {
              "version_major": 2,
              "version_minor": 0,
              "model_id": "a2ad7e1a94584db1bd84f867212c794c"
            }
          },
          "metadata": {}
        },
        {
          "output_type": "execute_result",
          "data": {
            "text/plain": [
              "[<matplotlib.lines.Line2D at 0x7e6b00ec85d0>]"
            ]
          },
          "metadata": {},
          "execution_count": 60
        },
        {
          "output_type": "display_data",
          "data": {
            "text/plain": [
              "<Figure size 640x480 with 1 Axes>"
            ],
            "image/png": "[encoded data removed]"
          },
          "metadata": {}
        }
      ],
      "source": [
        "import matplotlib.pyplot as plt\n",
        "from tqdm.notebook import trange\n",
        "import torch.nn.functional as F\n",
        "\n",
        "history = []\n",
        "\n",
        "# Bucle de entrenamiento\n",
        "def train(model, optimizer, loss_fn, dg, n_epochs, batch_size):\n",
        "    pbar = trange(n_epochs)\n",
        "    for epoch in pbar:\n",
        "        total_loss = 0\n",
        "\n",
        "        optimizer.zero_grad()\n",
        "        x, y = gen.batch_to_tensor(batch_size)\n",
        "        x = pad_sequence(x, batch_first=True)\n",
        "        y = pad_sequence(y, batch_first=True, padding_side='left')\n",
        "        # print(y.size())\n",
        "        y_pred = model(x)\n",
        "        # print(y_pred.size())\n",
        "        padding_size = y.size(1) - y_pred.size(1)\n",
        "        y_next = F.pad(y_pred, (0, 0, 0, padding_size), mode='constant', value=0)\n",
        "        loss = loss_fn(y_next, y)\n",
        "        loss.backward()\n",
        "        optimizer.step()\n",
        "        total_loss += loss.item()\n",
        "        # Print the loss every 10 epochs\n",
        "        if epoch % 100 == 0:\n",
        "            pbar.set_postfix_str(f\"{total_loss:.4} loss\")\n",
        "            history.append(total_loss)\n",
        "\n",
        "model = Seq2Seq(input_size=len(allowed_chars), hidden_size=128, output_size=len(allowed_chars))\n",
        "\n",
        "# Definir la función de pérdida y el optimizador\n",
        "loss_fn = nn.MSELoss()\n",
        "optimizer = optim.Adam(model.parameters(), lr=0.009)\n",
        "\n",
        "# Entrenar el modelo\n",
        "dg = Generator2()\n",
        "train(model, optimizer, loss_fn, dg, 5000, 128)\n",
        "\n",
        "\n",
        "plt.plot(history, label='loss')"
      ]
    },
    {
      "cell_type": "code",
      "execution_count": 61,
      "metadata": {
        "colab": {
          "base_uri": "https://localhost:8080/"
        },
        "outputId": "4363d9fe-646d-4dc0-927d-47297504ab22",
        "id": "HLBaWd19J59Z"
      },
      "outputs": [
        {
          "output_type": "stream",
          "name": "stdout",
          "text": [
            "7452+2920 = 17750 (expected 77440) ERROR\n",
            "8996+5291 = 14230 (expected 14287) ERROR\n",
            "1579+4493 = 56040 (expected 60720) ERROR\n",
            "8327+1029 = 19370 (expected 93560) ERROR\n",
            "9569+3580 = 19910 (expected 99270) ERROR\n",
            "4181+8318 = 12500 (expected 12499) ERROR\n",
            "2716+3357 = 86040 (expected 60730) ERROR\n",
            "40+703500 = 25180 (expected 70750) ERROR\n",
            "2093+2207 = 34390 (expected 43000) ERROR\n",
            "6317+3988 = 10280 (expected 10305) ERROR\n",
            "--------------------\n",
            "result: 0/10\n"
          ]
        }
      ],
      "source": [
        "# Evaluar el modelo\n",
        "def evaluate(model, n):\n",
        "    x, y = dg.batch_to_tensor(n)\n",
        "\n",
        "    x = pad_sequence(x, batch_first=True)\n",
        "    y = pad_sequence(y, batch_first=True)\n",
        "    y_pred = model(x)\n",
        "    padding_size = y.size(1) - y_pred.size(1)\n",
        "    y_next = F.pad(y_pred, (0, 0, 0, padding_size), mode='constant', value=0)\n",
        "    correct = 0\n",
        "    for i in range(n):\n",
        "        query = dg.tensor_to_string(x[i])\n",
        "        pred = dg.tensor_to_string(y_next[i])\n",
        "        result = dg.tensor_to_string(y[i])\n",
        "        print(f\"{query} = {pred} (expected {result}) {'OK' if pred == result else 'ERROR'}\")\n",
        "        if pred == result:\n",
        "            correct += 1\n",
        "    print(\"-\"*20)\n",
        "    print(f\"result: {correct}/{n}\")\n",
        "\n",
        "evaluate(model, 10)"
      ]
    }
  ],
  "metadata": {
    "kernelspec": {
      "display_name": "Python 3",
      "language": "python",
      "name": "python3"
    },
    "language_info": {
      "codemirror_mode": {
        "name": "ipython",
        "version": 3
      },
      "file_extension": ".py",
      "mimetype": "text/x-python",
      "name": "python",
      "nbconvert_exporter": "python",
      "pygments_lexer": "ipython3",
      "version": "3.11.7"
    },
    "colab": {
      "provenance": []
    },
    "widgets": {
      "application/vnd.jupyter.widget-state+json": {
        "cfd7012ae3ba4529a8556ae57a132242": {
          "model_module": "@jupyter-widgets/controls",
          "model_name": "HBoxModel",
          "model_module_version": "1.5.0",
          "state": {
            "_dom_classes": [],
            "_model_module": "@jupyter-widgets/controls",
            "_model_module_version": "1.5.0",
            "_model_name": "HBoxModel",
            "_view_count": null,
            "_view_module": "@jupyter-widgets/controls",
            "_view_module_version": "1.5.0",
            "_view_name": "HBoxView",
            "box_style": "",
            "children": [
              "IPY_MODEL_57b0a201be334bacb51385c61b97be09",
              "IPY_MODEL_08ed4da495d1424881a0bc258185302b",
              "IPY_MODEL_1c08d6da39de4821b921a9d31de189ef"
            ],
            "layout": "IPY_MODEL_0f41ed7ef0dc483093f0d068d035132d"
          }
        },
        "57b0a201be334bacb51385c61b97be09": {
          "model_module": "@jupyter-widgets/controls",
          "model_name": "HTMLModel",
          "model_module_version": "1.5.0",
          "state": {
            "_dom_classes": [],
            "_model_module": "@jupyter-widgets/controls",
            "_model_module_version": "1.5.0",
            "_model_name": "HTMLModel",
            "_view_count": null,
            "_view_module": "@jupyter-widgets/controls",
            "_view_module_version": "1.5.0",
            "_view_name": "HTMLView",
            "description": "",
            "description_tooltip": null,
            "layout": "IPY_MODEL_51615cf4e4ea42bdb836f60e2b316107",
            "placeholder": "​",
            "style": "IPY_MODEL_973b1f6632204befa6fec0d718033f5a",
            "value": "100%"
          }
        },
        "08ed4da495d1424881a0bc258185302b": {
          "model_module": "@jupyter-widgets/controls",
          "model_name": "FloatProgressModel",
          "model_module_version": "1.5.0",
          "state": {
            "_dom_classes": [],
            "_model_module": "@jupyter-widgets/controls",
            "_model_module_version": "1.5.0",
            "_model_name": "FloatProgressModel",
            "_view_count": null,
            "_view_module": "@jupyter-widgets/controls",
            "_view_module_version": "1.5.0",
            "_view_name": "ProgressView",
            "bar_style": "success",
            "description": "",
            "description_tooltip": null,
            "layout": "IPY_MODEL_685d8d2839e247b9b4c505108b60d77a",
            "max": 5000,
            "min": 0,
            "orientation": "horizontal",
            "style": "IPY_MODEL_3737c41a3b5e4339ab013fb5c02da5d9",
            "value": 5000
          }
        },
        "1c08d6da39de4821b921a9d31de189ef": {
          "model_module": "@jupyter-widgets/controls",
          "model_name": "HTMLModel",
          "model_module_version": "1.5.0",
          "state": {
            "_dom_classes": [],
            "_model_module": "@jupyter-widgets/controls",
            "_model_module_version": "1.5.0",
            "_model_name": "HTMLModel",
            "_view_count": null,
            "_view_module": "@jupyter-widgets/controls",
            "_view_module_version": "1.5.0",
            "_view_name": "HTMLView",
            "description": "",
            "description_tooltip": null,
            "layout": "IPY_MODEL_0fde2fa927bd430db9a1bf8d4b23304a",
            "placeholder": "​",
            "style": "IPY_MODEL_9ec8dee90bf349ea9f1d2978b9ba110b",
            "value": " 5000/5000 [07:10&lt;00:00, 12.52it/s, 0.002335 loss]"
          }
        },
        "0f41ed7ef0dc483093f0d068d035132d": {
          "model_module": "@jupyter-widgets/base",
          "model_name": "LayoutModel",
          "model_module_version": "1.2.0",
          "state": {
            "_model_module": "@jupyter-widgets/base",
            "_model_module_version": "1.2.0",
            "_model_name": "LayoutModel",
            "_view_count": null,
            "_view_module": "@jupyter-widgets/base",
            "_view_module_version": "1.2.0",
            "_view_name": "LayoutView",
            "align_content": null,
            "align_items": null,
            "align_self": null,
            "border": null,
            "bottom": null,
            "display": null,
            "flex": null,
            "flex_flow": null,
            "grid_area": null,
            "grid_auto_columns": null,
            "grid_auto_flow": null,
            "grid_auto_rows": null,
            "grid_column": null,
            "grid_gap": null,
            "grid_row": null,
            "grid_template_areas": null,
            "grid_template_columns": null,
            "grid_template_rows": null,
            "height": null,
            "justify_content": null,
            "justify_items": null,
            "left": null,
            "margin": null,
            "max_height": null,
            "max_width": null,
            "min_height": null,
            "min_width": null,
            "object_fit": null,
            "object_position": null,
            "order": null,
            "overflow": null,
            "overflow_x": null,
            "overflow_y": null,
            "padding": null,
            "right": null,
            "top": null,
            "visibility": null,
            "width": null
          }
        },
        "51615cf4e4ea42bdb836f60e2b316107": {
          "model_module": "@jupyter-widgets/base",
          "model_name": "LayoutModel",
          "model_module_version": "1.2.0",
          "state": {
            "_model_module": "@jupyter-widgets/base",
            "_model_module_version": "1.2.0",
            "_model_name": "LayoutModel",
            "_view_count": null,
            "_view_module": "@jupyter-widgets/base",
            "_view_module_version": "1.2.0",
            "_view_name": "LayoutView",
            "align_content": null,
            "align_items": null,
            "align_self": null,
            "border": null,
            "bottom": null,
            "display": null,
            "flex": null,
            "flex_flow": null,
            "grid_area": null,
            "grid_auto_columns": null,
            "grid_auto_flow": null,
            "grid_auto_rows": null,
            "grid_column": null,
            "grid_gap": null,
            "grid_row": null,
            "grid_template_areas": null,
            "grid_template_columns": null,
            "grid_template_rows": null,
            "height": null,
            "justify_content": null,
            "justify_items": null,
            "left": null,
            "margin": null,
            "max_height": null,
            "max_width": null,
            "min_height": null,
            "min_width": null,
            "object_fit": null,
            "object_position": null,
            "order": null,
            "overflow": null,
            "overflow_x": null,
            "overflow_y": null,
            "padding": null,
            "right": null,
            "top": null,
            "visibility": null,
            "width": null
          }
        },
        "973b1f6632204befa6fec0d718033f5a": {
          "model_module": "@jupyter-widgets/controls",
          "model_name": "DescriptionStyleModel",
          "model_module_version": "1.5.0",
          "state": {
            "_model_module": "@jupyter-widgets/controls",
            "_model_module_version": "1.5.0",
            "_model_name": "DescriptionStyleModel",
            "_view_count": null,
            "_view_module": "@jupyter-widgets/base",
            "_view_module_version": "1.2.0",
            "_view_name": "StyleView",
            "description_width": ""
          }
        },
        "685d8d2839e247b9b4c505108b60d77a": {
          "model_module": "@jupyter-widgets/base",
          "model_name": "LayoutModel",
          "model_module_version": "1.2.0",
          "state": {
            "_model_module": "@jupyter-widgets/base",
            "_model_module_version": "1.2.0",
            "_model_name": "LayoutModel",
            "_view_count": null,
            "_view_module": "@jupyter-widgets/base",
            "_view_module_version": "1.2.0",
            "_view_name": "LayoutView",
            "align_content": null,
            "align_items": null,
            "align_self": null,
            "border": null,
            "bottom": null,
            "display": null,
            "flex": null,
            "flex_flow": null,
            "grid_area": null,
            "grid_auto_columns": null,
            "grid_auto_flow": null,
            "grid_auto_rows": null,
            "grid_column": null,
            "grid_gap": null,
            "grid_row": null,
            "grid_template_areas": null,
            "grid_template_columns": null,
            "grid_template_rows": null,
            "height": null,
            "justify_content": null,
            "justify_items": null,
            "left": null,
            "margin": null,
            "max_height": null,
            "max_width": null,
            "min_height": null,
            "min_width": null,
            "object_fit": null,
            "object_position": null,
            "order": null,
            "overflow": null,
            "overflow_x": null,
            "overflow_y": null,
            "padding": null,
            "right": null,
            "top": null,
            "visibility": null,
            "width": null
          }
        },
        "3737c41a3b5e4339ab013fb5c02da5d9": {
          "model_module": "@jupyter-widgets/controls",
          "model_name": "ProgressStyleModel",
          "model_module_version": "1.5.0",
          "state": {
            "_model_module": "@jupyter-widgets/controls",
            "_model_module_version": "1.5.0",
            "_model_name": "ProgressStyleModel",
            "_view_count": null,
            "_view_module": "@jupyter-widgets/base",
            "_view_module_version": "1.2.0",
            "_view_name": "StyleView",
            "bar_color": null,
            "description_width": ""
          }
        },
        "0fde2fa927bd430db9a1bf8d4b23304a": {
          "model_module": "@jupyter-widgets/base",
          "model_name": "LayoutModel",
          "model_module_version": "1.2.0",
          "state": {
            "_model_module": "@jupyter-widgets/base",
            "_model_module_version": "1.2.0",
            "_model_name": "LayoutModel",
            "_view_count": null,
            "_view_module": "@jupyter-widgets/base",
            "_view_module_version": "1.2.0",
            "_view_name": "LayoutView",
            "align_content": null,
            "align_items": null,
            "align_self": null,
            "border": null,
            "bottom": null,
            "display": null,
            "flex": null,
            "flex_flow": null,
            "grid_area": null,
            "grid_auto_columns": null,
            "grid_auto_flow": null,
            "grid_auto_rows": null,
            "grid_column": null,
            "grid_gap": null,
            "grid_row": null,
            "grid_template_areas": null,
            "grid_template_columns": null,
            "grid_template_rows": null,
            "height": null,
            "justify_content": null,
            "justify_items": null,
            "left": null,
            "margin": null,
            "max_height": null,
            "max_width": null,
            "min_height": null,
            "min_width": null,
            "object_fit": null,
            "object_position": null,
            "order": null,
            "overflow": null,
            "overflow_x": null,
            "overflow_y": null,
            "padding": null,
            "right": null,
            "top": null,
            "visibility": null,
            "width": null
          }
        },
        "9ec8dee90bf349ea9f1d2978b9ba110b": {
          "model_module": "@jupyter-widgets/controls",
          "model_name": "DescriptionStyleModel",
          "model_module_version": "1.5.0",
          "state": {
            "_model_module": "@jupyter-widgets/controls",
            "_model_module_version": "1.5.0",
            "_model_name": "DescriptionStyleModel",
            "_view_count": null,
            "_view_module": "@jupyter-widgets/base",
            "_view_module_version": "1.2.0",
            "_view_name": "StyleView",
            "description_width": ""
          }
        },
        "a2ad7e1a94584db1bd84f867212c794c": {
          "model_module": "@jupyter-widgets/controls",
          "model_name": "HBoxModel",
          "model_module_version": "1.5.0",
          "state": {
            "_dom_classes": [],
            "_model_module": "@jupyter-widgets/controls",
            "_model_module_version": "1.5.0",
            "_model_name": "HBoxModel",
            "_view_count": null,
            "_view_module": "@jupyter-widgets/controls",
            "_view_module_version": "1.5.0",
            "_view_name": "HBoxView",
            "box_style": "",
            "children": [
              "IPY_MODEL_d9aad0efa5874fdab31b655666c109ee",
              "IPY_MODEL_d5352dc358c74714b5900f020e61d874",
              "IPY_MODEL_644b3fbe34ef496ea28976f685b9fb63"
            ],
            "layout": "IPY_MODEL_5e82b344cc0440388c8f320b8b737b98"
          }
        },
        "d9aad0efa5874fdab31b655666c109ee": {
          "model_module": "@jupyter-widgets/controls",
          "model_name": "HTMLModel",
          "model_module_version": "1.5.0",
          "state": {
            "_dom_classes": [],
            "_model_module": "@jupyter-widgets/controls",
            "_model_module_version": "1.5.0",
            "_model_name": "HTMLModel",
            "_view_count": null,
            "_view_module": "@jupyter-widgets/controls",
            "_view_module_version": "1.5.0",
            "_view_name": "HTMLView",
            "description": "",
            "description_tooltip": null,
            "layout": "IPY_MODEL_8ceb28bee2514b98b6723aca7096fdec",
            "placeholder": "​",
            "style": "IPY_MODEL_a533e24f68f441d4ab9eaa30f508e3df",
            "value": "100%"
          }
        },
        "d5352dc358c74714b5900f020e61d874": {
          "model_module": "@jupyter-widgets/controls",
          "model_name": "FloatProgressModel",
          "model_module_version": "1.5.0",
          "state": {
            "_dom_classes": [],
            "_model_module": "@jupyter-widgets/controls",
            "_model_module_version": "1.5.0",
            "_model_name": "FloatProgressModel",
            "_view_count": null,
            "_view_module": "@jupyter-widgets/controls",
            "_view_module_version": "1.5.0",
            "_view_name": "ProgressView",
            "bar_style": "success",
            "description": "",
            "description_tooltip": null,
            "layout": "IPY_MODEL_8b4c39b3da05402d9883344c0ef22ab2",
            "max": 5000,
            "min": 0,
            "orientation": "horizontal",
            "style": "IPY_MODEL_013054590b8c4adb9e9696aa0fd24eed",
            "value": 5000
          }
        },
        "644b3fbe34ef496ea28976f685b9fb63": {
          "model_module": "@jupyter-widgets/controls",
          "model_name": "HTMLModel",
          "model_module_version": "1.5.0",
          "state": {
            "_dom_classes": [],
            "_model_module": "@jupyter-widgets/controls",
            "_model_module_version": "1.5.0",
            "_model_name": "HTMLModel",
            "_view_count": null,
            "_view_module": "@jupyter-widgets/controls",
            "_view_module_version": "1.5.0",
            "_view_name": "HTMLView",
            "description": "",
            "description_tooltip": null,
            "layout": "IPY_MODEL_f5cd5b2c96cb409784a697c173cfed58",
            "placeholder": "​",
            "style": "IPY_MODEL_371eb9e7f44b4219ad0f25904fb1ee3f",
            "value": " 5000/5000 [07:58&lt;00:00, 11.44it/s, 0.036 loss]"
          }
        },
        "5e82b344cc0440388c8f320b8b737b98": {
          "model_module": "@jupyter-widgets/base",
          "model_name": "LayoutModel",
          "model_module_version": "1.2.0",
          "state": {
            "_model_module": "@jupyter-widgets/base",
            "_model_module_version": "1.2.0",
            "_model_name": "LayoutModel",
            "_view_count": null,
            "_view_module": "@jupyter-widgets/base",
            "_view_module_version": "1.2.0",
            "_view_name": "LayoutView",
            "align_content": null,
            "align_items": null,
            "align_self": null,
            "border": null,
            "bottom": null,
            "display": null,
            "flex": null,
            "flex_flow": null,
            "grid_area": null,
            "grid_auto_columns": null,
            "grid_auto_flow": null,
            "grid_auto_rows": null,
            "grid_column": null,
            "grid_gap": null,
            "grid_row": null,
            "grid_template_areas": null,
            "grid_template_columns": null,
            "grid_template_rows": null,
            "height": null,
            "justify_content": null,
            "justify_items": null,
            "left": null,
            "margin": null,
            "max_height": null,
            "max_width": null,
            "min_height": null,
            "min_width": null,
            "object_fit": null,
            "object_position": null,
            "order": null,
            "overflow": null,
            "overflow_x": null,
            "overflow_y": null,
            "padding": null,
            "right": null,
            "top": null,
            "visibility": null,
            "width": null
          }
        },
        "8ceb28bee2514b98b6723aca7096fdec": {
          "model_module": "@jupyter-widgets/base",
          "model_name": "LayoutModel",
          "model_module_version": "1.2.0",
          "state": {
            "_model_module": "@jupyter-widgets/base",
            "_model_module_version": "1.2.0",
            "_model_name": "LayoutModel",
            "_view_count": null,
            "_view_module": "@jupyter-widgets/base",
            "_view_module_version": "1.2.0",
            "_view_name": "LayoutView",
            "align_content": null,
            "align_items": null,
            "align_self": null,
            "border": null,
            "bottom": null,
            "display": null,
            "flex": null,
            "flex_flow": null,
            "grid_area": null,
            "grid_auto_columns": null,
            "grid_auto_flow": null,
            "grid_auto_rows": null,
            "grid_column": null,
            "grid_gap": null,
            "grid_row": null,
            "grid_template_areas": null,
            "grid_template_columns": null,
            "grid_template_rows": null,
            "height": null,
            "justify_content": null,
            "justify_items": null,
            "left": null,
            "margin": null,
            "max_height": null,
            "max_width": null,
            "min_height": null,
            "min_width": null,
            "object_fit": null,
            "object_position": null,
            "order": null,
            "overflow": null,
            "overflow_x": null,
            "overflow_y": null,
            "padding": null,
            "right": null,
            "top": null,
            "visibility": null,
            "width": null
          }
        },
        "a533e24f68f441d4ab9eaa30f508e3df": {
          "model_module": "@jupyter-widgets/controls",
          "model_name": "DescriptionStyleModel",
          "model_module_version": "1.5.0",
          "state": {
            "_model_module": "@jupyter-widgets/controls",
            "_model_module_version": "1.5.0",
            "_model_name": "DescriptionStyleModel",
            "_view_count": null,
            "_view_module": "@jupyter-widgets/base",
            "_view_module_version": "1.2.0",
            "_view_name": "StyleView",
            "description_width": ""
          }
        },
        "8b4c39b3da05402d9883344c0ef22ab2": {
          "model_module": "@jupyter-widgets/base",
          "model_name": "LayoutModel",
          "model_module_version": "1.2.0",
          "state": {
            "_model_module": "@jupyter-widgets/base",
            "_model_module_version": "1.2.0",
            "_model_name": "LayoutModel",
            "_view_count": null,
            "_view_module": "@jupyter-widgets/base",
            "_view_module_version": "1.2.0",
            "_view_name": "LayoutView",
            "align_content": null,
            "align_items": null,
            "align_self": null,
            "border": null,
            "bottom": null,
            "display": null,
            "flex": null,
            "flex_flow": null,
            "grid_area": null,
            "grid_auto_columns": null,
            "grid_auto_flow": null,
            "grid_auto_rows": null,
            "grid_column": null,
            "grid_gap": null,
            "grid_row": null,
            "grid_template_areas": null,
            "grid_template_columns": null,
            "grid_template_rows": null,
            "height": null,
            "justify_content": null,
            "justify_items": null,
            "left": null,
            "margin": null,
            "max_height": null,
            "max_width": null,
            "min_height": null,
            "min_width": null,
            "object_fit": null,
            "object_position": null,
            "order": null,
            "overflow": null,
            "overflow_x": null,
            "overflow_y": null,
            "padding": null,
            "right": null,
            "top": null,
            "visibility": null,
            "width": null
          }
        },
        "013054590b8c4adb9e9696aa0fd24eed": {
          "model_module": "@jupyter-widgets/controls",
          "model_name": "ProgressStyleModel",
          "model_module_version": "1.5.0",
          "state": {
            "_model_module": "@jupyter-widgets/controls",
            "_model_module_version": "1.5.0",
            "_model_name": "ProgressStyleModel",
            "_view_count": null,
            "_view_module": "@jupyter-widgets/base",
            "_view_module_version": "1.2.0",
            "_view_name": "StyleView",
            "bar_color": null,
            "description_width": ""
          }
        },
        "f5cd5b2c96cb409784a697c173cfed58": {
          "model_module": "@jupyter-widgets/base",
          "model_name": "LayoutModel",
          "model_module_version": "1.2.0",
          "state": {
            "_model_module": "@jupyter-widgets/base",
            "_model_module_version": "1.2.0",
            "_model_name": "LayoutModel",
            "_view_count": null,
            "_view_module": "@jupyter-widgets/base",
            "_view_module_version": "1.2.0",
            "_view_name": "LayoutView",
            "align_content": null,
            "align_items": null,
            "align_self": null,
            "border": null,
            "bottom": null,
            "display": null,
            "flex": null,
            "flex_flow": null,
            "grid_area": null,
            "grid_auto_columns": null,
            "grid_auto_flow": null,
            "grid_auto_rows": null,
            "grid_column": null,
            "grid_gap": null,
            "grid_row": null,
            "grid_template_areas": null,
            "grid_template_columns": null,
            "grid_template_rows": null,
            "height": null,
            "justify_content": null,
            "justify_items": null,
            "left": null,
            "margin": null,
            "max_height": null,
            "max_width": null,
            "min_height": null,
            "min_width": null,
            "object_fit": null,
            "object_position": null,
            "order": null,
            "overflow": null,
            "overflow_x": null,
            "overflow_y": null,
            "padding": null,
            "right": null,
            "top": null,
            "visibility": null,
            "width": null
          }
        },
        "371eb9e7f44b4219ad0f25904fb1ee3f": {
          "model_module": "@jupyter-widgets/controls",
          "model_name": "DescriptionStyleModel",
          "model_module_version": "1.5.0",
          "state": {
            "_model_module": "@jupyter-widgets/controls",
            "_model_module_version": "1.5.0",
            "_model_name": "DescriptionStyleModel",
            "_view_count": null,
            "_view_module": "@jupyter-widgets/base",
            "_view_module_version": "1.2.0",
            "_view_name": "StyleView",
            "description_width": ""
          }
        }
      }
    }
  },
  "nbformat": 4,
  "nbformat_minor": 0
}