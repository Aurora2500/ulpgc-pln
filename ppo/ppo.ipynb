{
 "cells": [
  {
   "cell_type": "code",
   "execution_count": 1,
   "metadata": {
    "colab": {
     "base_uri": "https://localhost:8080/"
    },
    "id": "SDci3alEIvFY",
    "outputId": "3e6e7f91-b9e9-4376-fea4-77fd79e73e37"
   },
   "outputs": [
    {
     "data": {
      "text/plain": [
       "8"
      ]
     },
     "execution_count": 1,
     "metadata": {},
     "output_type": "execute_result"
    }
   ],
   "source": [
    "import re\n",
    "\n",
    "def extraer_primer_numero(cadena):\n",
    "    # Buscar el primer número en la cadena\n",
    "    coincidencia = re.search(r'\\d+', cadena)\n",
    "    if coincidencia:\n",
    "        return int(coincidencia.group())\n",
    "    else:\n",
    "        return None\n",
    "\n",
    "def funcion_de_recompensa(cadena):\n",
    "    # Diccionario para convertir números en texto a números en entero\n",
    "    texto_a_numero = {\n",
    "        \"uno\": 1,\n",
    "        \"dos\": 2,\n",
    "        \"tres\": 3,\n",
    "        \"cuatro\": 4,\n",
    "        \"cinco\": 5,\n",
    "        \"seis\": 6,\n",
    "        \"siete\": 7,\n",
    "        \"ocho\": 8,\n",
    "        \"nueve\": 9\n",
    "    }\n",
    "\n",
    "    numero_inicial = extraer_primer_numero(cadena)\n",
    "\n",
    "    # Extraer los números en texto y sumarlos\n",
    "    palabras = cadena.split()  # Ignorar \"es igual a\"\n",
    "    suma_numeros = sum(texto_a_numero[palabra] for palabra in palabras if palabra in texto_a_numero)\n",
    "\n",
    "    # Calcular la diferencia\n",
    "    diferencia = numero_inicial - suma_numeros\n",
    "\n",
    "    return (9-abs(diferencia))\n",
    "\n",
    "    if diferencia == 0:\n",
    "        return 1\n",
    "    else:\n",
    "        return 10-abs(diferencia)\n",
    "\n",
    "funcion_de_recompensa(\"[INST] 10 es igual a [/INST] nueve más dos\")"
   ]
  },
  {
   "cell_type": "code",
   "execution_count": 2,
   "metadata": {
    "colab": {
     "base_uri": "https://localhost:8080/"
    },
    "collapsed": true,
    "id": "ShvyvCZFMnOM",
    "outputId": "4b52a04a-f423-4e4e-bda0-989d872751a7"
   },
   "outputs": [
    {
     "name": "stdout",
     "output_type": "stream",
     "text": [
      "\u001b[33mDEPRECATION: Loading egg at /home/aurora/miniconda3/lib/python3.11/site-packages/qamar-0.1.0-py3.11-linux-x86_64.egg is deprecated. pip 25.1 will enforce this behaviour change. A possible replacement is to use pip for package installation. Discussion can be found at https://github.com/pypa/pip/issues/12330\u001b[0m\u001b[33m\n",
      "\u001b[0mRequirement already satisfied: transformers in /home/aurora/miniconda3/lib/python3.11/site-packages (4.46.2)\n",
      "Requirement already satisfied: filelock in /home/aurora/miniconda3/lib/python3.11/site-packages (from transformers) (3.13.1)\n",
      "Collecting huggingface-hub<1.0,>=0.23.2 (from transformers)\n",
      "  Downloading huggingface_hub-0.27.1-py3-none-any.whl.metadata (13 kB)\n",
      "Requirement already satisfied: numpy>=1.17 in /home/aurora/miniconda3/lib/python3.11/site-packages (from transformers) (1.26.3)\n",
      "Requirement already satisfied: packaging>=20.0 in /home/aurora/miniconda3/lib/python3.11/site-packages (from transformers) (23.2)\n",
      "Requirement already satisfied: pyyaml>=5.1 in /home/aurora/miniconda3/lib/python3.11/site-packages (from transformers) (6.0.1)\n",
      "Requirement already satisfied: regex!=2019.12.17 in /home/aurora/miniconda3/lib/python3.11/site-packages (from transformers) (2023.12.25)\n",
      "Requirement already satisfied: requests in /home/aurora/miniconda3/lib/python3.11/site-packages (from transformers) (2.31.0)\n",
      "Requirement already satisfied: safetensors>=0.4.1 in /home/aurora/miniconda3/lib/python3.11/site-packages (from transformers) (0.4.2)\n",
      "Collecting tokenizers<0.21,>=0.20 (from transformers)\n",
      "  Using cached tokenizers-0.20.3-cp311-cp311-manylinux_2_17_x86_64.manylinux2014_x86_64.whl.metadata (6.7 kB)\n",
      "Requirement already satisfied: tqdm>=4.27 in /home/aurora/miniconda3/lib/python3.11/site-packages (from transformers) (4.65.0)\n",
      "Requirement already satisfied: fsspec>=2023.5.0 in /home/aurora/miniconda3/lib/python3.11/site-packages (from huggingface-hub<1.0,>=0.23.2->transformers) (2024.2.0)\n",
      "Requirement already satisfied: typing-extensions>=3.7.4.3 in /home/aurora/miniconda3/lib/python3.11/site-packages (from huggingface-hub<1.0,>=0.23.2->transformers) (4.9.0)\n",
      "Requirement already satisfied: charset-normalizer<4,>=2 in /home/aurora/miniconda3/lib/python3.11/site-packages (from requests->transformers) (2.0.4)\n",
      "Requirement already satisfied: idna<4,>=2.5 in /home/aurora/miniconda3/lib/python3.11/site-packages (from requests->transformers) (3.4)\n",
      "Requirement already satisfied: urllib3<3,>=1.21.1 in /home/aurora/miniconda3/lib/python3.11/site-packages (from requests->transformers) (1.26.18)\n",
      "Requirement already satisfied: certifi>=2017.4.17 in /home/aurora/miniconda3/lib/python3.11/site-packages (from requests->transformers) (2024.8.30)\n",
      "Downloading huggingface_hub-0.27.1-py3-none-any.whl (450 kB)\n",
      "Using cached tokenizers-0.20.3-cp311-cp311-manylinux_2_17_x86_64.manylinux2014_x86_64.whl (3.0 MB)\n",
      "Installing collected packages: huggingface-hub, tokenizers\n",
      "  Attempting uninstall: huggingface-hub\n",
      "    Found existing installation: huggingface-hub 0.21.4\n",
      "    Uninstalling huggingface-hub-0.21.4:\n",
      "      Successfully uninstalled huggingface-hub-0.21.4\n",
      "  Attempting uninstall: tokenizers\n",
      "    Found existing installation: tokenizers 0.19.1\n",
      "    Uninstalling tokenizers-0.19.1:\n",
      "      Successfully uninstalled tokenizers-0.19.1\n",
      "Successfully installed huggingface-hub-0.27.1 tokenizers-0.20.3\n",
      "\u001b[33mDEPRECATION: Loading egg at /home/aurora/miniconda3/lib/python3.11/site-packages/qamar-0.1.0-py3.11-linux-x86_64.egg is deprecated. pip 25.1 will enforce this behaviour change. A possible replacement is to use pip for package installation. Discussion can be found at https://github.com/pypa/pip/issues/12330\u001b[0m\u001b[33m\n",
      "\u001b[0mCollecting trl==0.11\n",
      "  Downloading trl-0.11.0-py3-none-any.whl.metadata (12 kB)\n",
      "Requirement already satisfied: torch>=1.4.0 in /home/aurora/.local/lib/python3.11/site-packages (from trl==0.11) (2.2.2)\n",
      "Requirement already satisfied: transformers>=4.40.0 in /home/aurora/miniconda3/lib/python3.11/site-packages (from trl==0.11) (4.46.2)\n",
      "Collecting accelerate (from trl==0.11)\n",
      "  Downloading accelerate-1.2.1-py3-none-any.whl.metadata (19 kB)\n",
      "Requirement already satisfied: datasets in /home/aurora/miniconda3/lib/python3.11/site-packages (from trl==0.11) (2.19.1)\n",
      "Collecting tyro>=0.5.11 (from trl==0.11)\n",
      "  Downloading tyro-0.9.9-py3-none-any.whl.metadata (9.4 kB)\n",
      "Requirement already satisfied: numpy>=1.18.2 in /home/aurora/miniconda3/lib/python3.11/site-packages (from trl==0.11) (1.26.3)\n",
      "Requirement already satisfied: filelock in /home/aurora/miniconda3/lib/python3.11/site-packages (from torch>=1.4.0->trl==0.11) (3.13.1)\n",
      "Requirement already satisfied: typing-extensions>=4.8.0 in /home/aurora/miniconda3/lib/python3.11/site-packages (from torch>=1.4.0->trl==0.11) (4.9.0)\n",
      "Requirement already satisfied: sympy in /home/aurora/.local/lib/python3.11/site-packages (from torch>=1.4.0->trl==0.11) (1.12)\n",
      "Requirement already satisfied: networkx in /home/aurora/.local/lib/python3.11/site-packages (from torch>=1.4.0->trl==0.11) (3.3)\n",
      "Requirement already satisfied: jinja2 in /home/aurora/miniconda3/lib/python3.11/site-packages (from torch>=1.4.0->trl==0.11) (3.1.2)\n",
      "Requirement already satisfied: fsspec in /home/aurora/miniconda3/lib/python3.11/site-packages (from torch>=1.4.0->trl==0.11) (2024.2.0)\n",
      "Requirement already satisfied: nvidia-cuda-nvrtc-cu12==12.1.105 in /home/aurora/.local/lib/python3.11/site-packages (from torch>=1.4.0->trl==0.11) (12.1.105)\n",
      "Requirement already satisfied: nvidia-cuda-runtime-cu12==12.1.105 in /home/aurora/.local/lib/python3.11/site-packages (from torch>=1.4.0->trl==0.11) (12.1.105)\n",
      "Requirement already satisfied: nvidia-cuda-cupti-cu12==12.1.105 in /home/aurora/.local/lib/python3.11/site-packages (from torch>=1.4.0->trl==0.11) (12.1.105)\n",
      "Requirement already satisfied: nvidia-cudnn-cu12==8.9.2.26 in /home/aurora/.local/lib/python3.11/site-packages (from torch>=1.4.0->trl==0.11) (8.9.2.26)\n",
      "Requirement already satisfied: nvidia-cublas-cu12==12.1.3.1 in /home/aurora/.local/lib/python3.11/site-packages (from torch>=1.4.0->trl==0.11) (12.1.3.1)\n",
      "Requirement already satisfied: nvidia-cufft-cu12==11.0.2.54 in /home/aurora/.local/lib/python3.11/site-packages (from torch>=1.4.0->trl==0.11) (11.0.2.54)\n",
      "Requirement already satisfied: nvidia-curand-cu12==10.3.2.106 in /home/aurora/.local/lib/python3.11/site-packages (from torch>=1.4.0->trl==0.11) (10.3.2.106)\n",
      "Requirement already satisfied: nvidia-cusolver-cu12==11.4.5.107 in /home/aurora/.local/lib/python3.11/site-packages (from torch>=1.4.0->trl==0.11) (11.4.5.107)\n",
      "Requirement already satisfied: nvidia-cusparse-cu12==12.1.0.106 in /home/aurora/.local/lib/python3.11/site-packages (from torch>=1.4.0->trl==0.11) (12.1.0.106)\n",
      "Requirement already satisfied: nvidia-nccl-cu12==2.19.3 in /home/aurora/.local/lib/python3.11/site-packages (from torch>=1.4.0->trl==0.11) (2.19.3)\n",
      "Requirement already satisfied: nvidia-nvtx-cu12==12.1.105 in /home/aurora/.local/lib/python3.11/site-packages (from torch>=1.4.0->trl==0.11) (12.1.105)\n",
      "Requirement already satisfied: triton==2.2.0 in /home/aurora/.local/lib/python3.11/site-packages (from torch>=1.4.0->trl==0.11) (2.2.0)\n",
      "Requirement already satisfied: nvidia-nvjitlink-cu12 in /home/aurora/.local/lib/python3.11/site-packages (from nvidia-cusolver-cu12==11.4.5.107->torch>=1.4.0->trl==0.11) (12.4.127)\n",
      "Requirement already satisfied: huggingface-hub<1.0,>=0.23.2 in /home/aurora/miniconda3/lib/python3.11/site-packages (from transformers>=4.40.0->trl==0.11) (0.27.1)\n",
      "Requirement already satisfied: packaging>=20.0 in /home/aurora/miniconda3/lib/python3.11/site-packages (from transformers>=4.40.0->trl==0.11) (23.2)\n",
      "Requirement already satisfied: pyyaml>=5.1 in /home/aurora/miniconda3/lib/python3.11/site-packages (from transformers>=4.40.0->trl==0.11) (6.0.1)\n",
      "Requirement already satisfied: regex!=2019.12.17 in /home/aurora/miniconda3/lib/python3.11/site-packages (from transformers>=4.40.0->trl==0.11) (2023.12.25)\n",
      "Requirement already satisfied: requests in /home/aurora/miniconda3/lib/python3.11/site-packages (from transformers>=4.40.0->trl==0.11) (2.31.0)\n",
      "Requirement already satisfied: safetensors>=0.4.1 in /home/aurora/miniconda3/lib/python3.11/site-packages (from transformers>=4.40.0->trl==0.11) (0.4.2)\n",
      "Requirement already satisfied: tokenizers<0.21,>=0.20 in /home/aurora/miniconda3/lib/python3.11/site-packages (from transformers>=4.40.0->trl==0.11) (0.20.3)\n",
      "Requirement already satisfied: tqdm>=4.27 in /home/aurora/miniconda3/lib/python3.11/site-packages (from transformers>=4.40.0->trl==0.11) (4.65.0)\n",
      "Collecting docstring-parser>=0.15 (from tyro>=0.5.11->trl==0.11)\n",
      "  Downloading docstring_parser-0.16-py3-none-any.whl.metadata (3.0 kB)\n",
      "Requirement already satisfied: rich>=11.1.0 in /home/aurora/miniconda3/lib/python3.11/site-packages (from tyro>=0.5.11->trl==0.11) (13.7.1)\n",
      "Collecting shtab>=1.5.6 (from tyro>=0.5.11->trl==0.11)\n",
      "  Downloading shtab-1.7.1-py3-none-any.whl.metadata (7.3 kB)\n",
      "Collecting typeguard>=4.0.0 (from tyro>=0.5.11->trl==0.11)\n",
      "  Downloading typeguard-4.4.1-py3-none-any.whl.metadata (3.7 kB)\n",
      "Requirement already satisfied: psutil in /home/aurora/miniconda3/lib/python3.11/site-packages (from accelerate->trl==0.11) (5.9.0)\n",
      "Collecting safetensors>=0.4.1 (from transformers>=4.40.0->trl==0.11)\n",
      "  Downloading safetensors-0.5.2-cp38-abi3-manylinux_2_17_x86_64.manylinux2014_x86_64.whl.metadata (3.8 kB)\n",
      "Requirement already satisfied: pyarrow>=12.0.0 in /home/aurora/miniconda3/lib/python3.11/site-packages (from datasets->trl==0.11) (16.1.0)\n",
      "Requirement already satisfied: dill<0.3.9,>=0.3.0 in /home/aurora/miniconda3/lib/python3.11/site-packages (from datasets->trl==0.11) (0.3.8)\n",
      "Requirement already satisfied: pandas in /home/aurora/miniconda3/lib/python3.11/site-packages (from datasets->trl==0.11) (2.1.4)\n",
      "Requirement already satisfied: xxhash in /home/aurora/miniconda3/lib/python3.11/site-packages (from datasets->trl==0.11) (2.0.2)\n",
      "Requirement already satisfied: multiprocess in /home/aurora/miniconda3/lib/python3.11/site-packages (from datasets->trl==0.11) (0.70.15)\n",
      "Requirement already satisfied: aiohttp in /home/aurora/miniconda3/lib/python3.11/site-packages (from datasets->trl==0.11) (3.9.3)\n",
      "Requirement already satisfied: aiosignal>=1.1.2 in /home/aurora/miniconda3/lib/python3.11/site-packages (from aiohttp->datasets->trl==0.11) (1.3.1)\n",
      "Requirement already satisfied: attrs>=17.3.0 in /home/aurora/miniconda3/lib/python3.11/site-packages (from aiohttp->datasets->trl==0.11) (23.2.0)\n",
      "Requirement already satisfied: frozenlist>=1.1.1 in /home/aurora/miniconda3/lib/python3.11/site-packages (from aiohttp->datasets->trl==0.11) (1.4.1)\n",
      "Requirement already satisfied: multidict<7.0,>=4.5 in /home/aurora/miniconda3/lib/python3.11/site-packages (from aiohttp->datasets->trl==0.11) (6.0.5)\n",
      "Requirement already satisfied: yarl<2.0,>=1.0 in /home/aurora/miniconda3/lib/python3.11/site-packages (from aiohttp->datasets->trl==0.11) (1.9.4)\n",
      "Requirement already satisfied: charset-normalizer<4,>=2 in /home/aurora/miniconda3/lib/python3.11/site-packages (from requests->transformers>=4.40.0->trl==0.11) (2.0.4)\n",
      "Requirement already satisfied: idna<4,>=2.5 in /home/aurora/miniconda3/lib/python3.11/site-packages (from requests->transformers>=4.40.0->trl==0.11) (3.4)\n",
      "Requirement already satisfied: urllib3<3,>=1.21.1 in /home/aurora/miniconda3/lib/python3.11/site-packages (from requests->transformers>=4.40.0->trl==0.11) (1.26.18)\n",
      "Requirement already satisfied: certifi>=2017.4.17 in /home/aurora/miniconda3/lib/python3.11/site-packages (from requests->transformers>=4.40.0->trl==0.11) (2024.8.30)\n",
      "Requirement already satisfied: markdown-it-py>=2.2.0 in /home/aurora/miniconda3/lib/python3.11/site-packages (from rich>=11.1.0->tyro>=0.5.11->trl==0.11) (3.0.0)\n",
      "Requirement already satisfied: pygments<3.0.0,>=2.13.0 in /home/aurora/miniconda3/lib/python3.11/site-packages (from rich>=11.1.0->tyro>=0.5.11->trl==0.11) (2.15.1)\n",
      "Collecting typing-extensions>=4.8.0 (from torch>=1.4.0->trl==0.11)\n",
      "  Downloading typing_extensions-4.12.2-py3-none-any.whl.metadata (3.0 kB)\n",
      "Requirement already satisfied: MarkupSafe>=2.0 in /home/aurora/miniconda3/lib/python3.11/site-packages (from jinja2->torch>=1.4.0->trl==0.11) (2.1.3)\n",
      "Requirement already satisfied: python-dateutil>=2.8.2 in /home/aurora/miniconda3/lib/python3.11/site-packages (from pandas->datasets->trl==0.11) (2.8.2)\n",
      "Requirement already satisfied: pytz>=2020.1 in /home/aurora/miniconda3/lib/python3.11/site-packages (from pandas->datasets->trl==0.11) (2023.3.post1)\n",
      "Requirement already satisfied: tzdata>=2022.1 in /home/aurora/miniconda3/lib/python3.11/site-packages (from pandas->datasets->trl==0.11) (2023.3)\n",
      "Requirement already satisfied: mpmath>=0.19 in /home/aurora/.local/lib/python3.11/site-packages (from sympy->torch>=1.4.0->trl==0.11) (1.3.0)\n",
      "Requirement already satisfied: mdurl~=0.1 in /home/aurora/miniconda3/lib/python3.11/site-packages (from markdown-it-py>=2.2.0->rich>=11.1.0->tyro>=0.5.11->trl==0.11) (0.1.2)\n",
      "Requirement already satisfied: six>=1.5 in /home/aurora/miniconda3/lib/python3.11/site-packages (from python-dateutil>=2.8.2->pandas->datasets->trl==0.11) (1.16.0)\n",
      "Downloading trl-0.11.0-py3-none-any.whl (316 kB)\n",
      "Downloading tyro-0.9.9-py3-none-any.whl (114 kB)\n",
      "Downloading accelerate-1.2.1-py3-none-any.whl (336 kB)\n",
      "Downloading docstring_parser-0.16-py3-none-any.whl (36 kB)\n",
      "Downloading safetensors-0.5.2-cp38-abi3-manylinux_2_17_x86_64.manylinux2014_x86_64.whl (461 kB)\n",
      "Downloading shtab-1.7.1-py3-none-any.whl (14 kB)\n",
      "Downloading typeguard-4.4.1-py3-none-any.whl (35 kB)\n",
      "Downloading typing_extensions-4.12.2-py3-none-any.whl (37 kB)\n",
      "Installing collected packages: typing-extensions, shtab, safetensors, docstring-parser, typeguard, tyro, accelerate, trl\n",
      "  Attempting uninstall: typing-extensions\n",
      "    Found existing installation: typing_extensions 4.9.0\n",
      "    Uninstalling typing_extensions-4.9.0:\n",
      "      Successfully uninstalled typing_extensions-4.9.0\n",
      "  Attempting uninstall: safetensors\n",
      "    Found existing installation: safetensors 0.4.2\n",
      "    Uninstalling safetensors-0.4.2:\n",
      "      Successfully uninstalled safetensors-0.4.2\n",
      "Successfully installed accelerate-1.2.1 docstring-parser-0.16 safetensors-0.5.2 shtab-1.7.1 trl-0.11.0 typeguard-4.4.1 typing-extensions-4.12.2 tyro-0.9.9\n"
     ]
    }
   ],
   "source": [
    "!pip install transformers\n",
    "!pip install trl==0.11"
   ]
  },
  {
   "cell_type": "code",
   "execution_count": 4,
   "metadata": {
    "colab": {
     "base_uri": "https://localhost:8080/"
    },
    "id": "6xmcdb7SM_Rz",
    "outputId": "f026fe79-14a3-4190-88fa-c631492da96b"
   },
   "outputs": [
    {
     "data": {
      "text/plain": [
       "0.0"
      ]
     },
     "execution_count": 4,
     "metadata": {},
     "output_type": "execute_result"
    }
   ],
   "source": [
    "prompts = [\n",
    "    \"[INST] 1+2= [/INST]\",\n",
    "    \"[INST] 2+2= [/INST]\",\n",
    "    \"[INST] 3+3= [/INST]\",\n",
    "    \"[INST] 1+1= [/INST]\",\n",
    "    \"[INST] 0+1= [/INST]\"\n",
    "]\n",
    "from math import log\n",
    "\n",
    "def is_digit(x):\n",
    "  return x in \"1234567890\"\n",
    "\n",
    "def funcion_de_recompensa2(cadena):\n",
    "    answer = cadena.split('[/INST]', 1)[1].strip()\n",
    "\n",
    "    # if len(answer) > 8:\n",
    "    #   return -log(len(answer) * 100)\n",
    "\n",
    "    has_garbage = any(not (c.isdigit() or  c.isspace()) for c in answer)\n",
    "\n",
    "    numbers = []\n",
    "    for char in cadena:\n",
    "      if is_digit(char):\n",
    "        numbers.append(int(char))\n",
    "    # print(numbers)\n",
    "    has_number = len(numbers) > 2\n",
    "\n",
    "    accurate = 0\n",
    "    if has_number:\n",
    "      a,b,c = numbers[:3]\n",
    "      diff = abs(a+b-c)\n",
    "      accurate = 10-diff\n",
    "\n",
    "    result = 10\n",
    "    if has_number:\n",
    "      result += 50\n",
    "    result += accurate * 5\n",
    "    if has_garbage:\n",
    "      result -= 9\n",
    "    return  log(110) - log(result)\n",
    "\n",
    "funcion_de_recompensa2(\"[INST] 1+1= [/INST] 2\")"
   ]
  },
  {
   "cell_type": "code",
   "execution_count": null,
   "metadata": {
    "colab": {
     "base_uri": "https://localhost:8080/",
     "height": 1000
    },
    "id": "7iDBrCt6IvFb",
    "outputId": "772657cf-a370-434f-d939-c67e440f7451"
   },
   "outputs": [
    {
     "data": {
      "application/vnd.jupyter.widget-view+json": {
       "model_id": "4f14a923fb1540388f170175c4fe3a4e",
       "version_major": 2,
       "version_minor": 0
      },
      "text/plain": [
       "train PPO:   0%|          | 0/60 [00:00<?, ?it/s]"
      ]
     },
     "metadata": {},
     "output_type": "display_data"
    },
    {
     "name": "stderr",
     "output_type": "stream",
     "text": [
      "Setting `pad_token_id` to `eos_token_id`:None for open-end generation.\n"
     ]
    },
    {
     "name": "stdout",
     "output_type": "stream",
     "text": [
      "Prompt: [INST] 10 es igual a [/INST]\n",
      "Respuesta: [INST] 10 es igual a [/INST] 10 es igual a [/INST] 10\n",
      "Recompensa: -1\n"
     ]
    },
    {
     "name": "stderr",
     "output_type": "stream",
     "text": [
      "/home/aurora/miniconda3/lib/python3.11/site-packages/trl/trainer/ppo_trainer.py:1309: UserWarning: std(): degrees of freedom is <= 0. Correction should be strictly less than the reduction factor (input numel divided by output numel). (Triggered internally at ../aten/src/ATen/native/ReduceOps.cpp:1760.)\n",
      "  std_scores = data[\"scores\"].std()\n",
      "/home/aurora/miniconda3/lib/python3.11/site-packages/trl/trainer/ppo_trainer.py:1336: UserWarning: std(): degrees of freedom is <= 0. Correction should be strictly less than the reduction factor (input numel divided by output numel). (Triggered internally at ../aten/src/ATen/native/ReduceOps.cpp:1760.)\n",
      "  stats[\"tokens/queries_len_std\"] = torch.std(query_lens).cpu().numpy().item()\n",
      "/home/aurora/miniconda3/lib/python3.11/site-packages/trl/trainer/ppo_trainer.py:1339: UserWarning: std(): degrees of freedom is <= 0. Correction should be strictly less than the reduction factor (input numel divided by output numel). (Triggered internally at ../aten/src/ATen/native/ReduceOps.cpp:1760.)\n",
      "  stats[\"tokens/responses_len_std\"] = torch.std(response_lens).cpu().numpy().item()\n",
      "Setting `pad_token_id` to `eos_token_id`:None for open-end generation.\n",
      "Setting `pad_token_id` to `eos_token_id`:None for open-end generation.\n"
     ]
    },
    {
     "name": "stdout",
     "output_type": "stream",
     "text": [
      "Prompt: [INST] 13 es igual a [/INST]\n",
      "Respuesta: [INST] 13 es igual a [/INST] 13 es es es es es es es es\n",
      "Recompensa: -4\n",
      "Prompt: [INST] 16 es igual a [/INST]\n",
      "Respuesta: [INST] 16 es igual a [/INST] [1] [2] [3]\n",
      "Recompensa: -7\n"
     ]
    },
    {
     "name": "stderr",
     "output_type": "stream",
     "text": [
      "Setting `pad_token_id` to `eos_token_id`:None for open-end generation.\n",
      "Setting `pad_token_id` to `eos_token_id`:None for open-end generation.\n"
     ]
    },
    {
     "name": "stdout",
     "output_type": "stream",
     "text": [
      "Prompt: [INST] 19 es igual a [/INST]\n",
      "Respuesta: [INST] 19 es igual a [/INST] 19 es igual a [/INST] 19\n",
      "Recompensa: -10\n",
      "Prompt: [INST] 22 es igual a [/INST]\n",
      "Respuesta: [INST] 22 es igual a [/INST] 22 es igual a [/INST] 22\n",
      "Recompensa: -13\n"
     ]
    },
    {
     "name": "stderr",
     "output_type": "stream",
     "text": [
      "Setting `pad_token_id` to `eos_token_id`:None for open-end generation.\n",
      "Setting `pad_token_id` to `eos_token_id`:None for open-end generation.\n"
     ]
    },
    {
     "name": "stdout",
     "output_type": "stream",
     "text": [
      "Prompt: [INST] 25 es igual a [/INST]\n",
      "Respuesta: [INST] 25 es igual a [/INST] 25\n",
      "\n",
      "[INST] 25 es ig\n",
      "Recompensa: -16\n"
     ]
    },
    {
     "name": "stderr",
     "output_type": "stream",
     "text": [
      "Setting `pad_token_id` to `eos_token_id`:None for open-end generation.\n"
     ]
    },
    {
     "name": "stdout",
     "output_type": "stream",
     "text": [
      "Prompt: [INST] 28 es igual a [/INST]\n",
      "Respuesta: [INST] 28 es igual a [/INST]\n",
      "\n",
      "[INST] 29 es igual\n",
      "Recompensa: -19\n"
     ]
    },
    {
     "name": "stderr",
     "output_type": "stream",
     "text": [
      "Setting `pad_token_id` to `eos_token_id`:None for open-end generation.\n"
     ]
    },
    {
     "name": "stdout",
     "output_type": "stream",
     "text": [
      "Prompt: [INST] 31 es igual a [/INST]\n",
      "Respuesta: [INST] 31 es igual a [/INST]\n",
      "\n",
      "[INST]\n",
      "\n",
      "[]\n",
      "Recompensa: -22\n"
     ]
    },
    {
     "name": "stderr",
     "output_type": "stream",
     "text": [
      "Setting `pad_token_id` to `eos_token_id`:None for open-end generation.\n"
     ]
    },
    {
     "name": "stdout",
     "output_type": "stream",
     "text": [
      "Prompt: [INST] 34 es igual a [/INST]\n",
      "Respuesta: [INST] 34 es igual a [/INST]\n",
      "\n",
      "[INST]\n",
      "\n",
      "[INST\n",
      "Recompensa: -25\n"
     ]
    },
    {
     "name": "stderr",
     "output_type": "stream",
     "text": [
      "/home/aurora/miniconda3/lib/python3.11/site-packages/trl/trainer/ppo_trainer.py:1313: UserWarning: KL divergence is starting to become negative: -2.62 - this might be a precursor for failed training. sometimes this happens because the generation kwargs are not correctly set. Please make sure that the generation kwargs are set correctly, or review your training hyperparameters.\n",
      "  warnings.warn(\n",
      "Setting `pad_token_id` to `eos_token_id`:None for open-end generation.\n"
     ]
    },
    {
     "name": "stdout",
     "output_type": "stream",
     "text": [
      "Prompt: [INST] 37 es igual a [/INST]\n",
      "Respuesta: [INST] 37 es igual a [/INST] 37 es igualualualualualual\n",
      "Recompensa: -28\n"
     ]
    },
    {
     "name": "stderr",
     "output_type": "stream",
     "text": [
      "/home/aurora/miniconda3/lib/python3.11/site-packages/trl/trainer/ppo_trainer.py:1313: UserWarning: KL divergence is starting to become negative: -1.43 - this might be a precursor for failed training. sometimes this happens because the generation kwargs are not correctly set. Please make sure that the generation kwargs are set correctly, or review your training hyperparameters.\n",
      "  warnings.warn(\n",
      "Setting `pad_token_id` to `eos_token_id`:None for open-end generation.\n"
     ]
    },
    {
     "name": "stdout",
     "output_type": "stream",
     "text": [
      "Prompt: [INST] 40 es igual a [/INST]\n",
      "Respuesta: [INST] 40 es igual a [/INST] 41 es igual a [/INST] 42\n",
      "Recompensa: -31\n",
      "Prompt: [INST] 43 es igual a [/INST]\n",
      "Respuesta: [INST] 43 es igual a [/INST] [INST] [INST] [INST]\n",
      "Recompensa: -34\n"
     ]
    },
    {
     "name": "stderr",
     "output_type": "stream",
     "text": [
      "Setting `pad_token_id` to `eos_token_id`:None for open-end generation.\n",
      "/home/aurora/miniconda3/lib/python3.11/site-packages/trl/trainer/ppo_trainer.py:1313: UserWarning: KL divergence is starting to become negative: -1.66 - this might be a precursor for failed training. sometimes this happens because the generation kwargs are not correctly set. Please make sure that the generation kwargs are set correctly, or review your training hyperparameters.\n",
      "  warnings.warn(\n",
      "Setting `pad_token_id` to `eos_token_id`:None for open-end generation.\n"
     ]
    },
    {
     "name": "stdout",
     "output_type": "stream",
     "text": [
      "Prompt: [INST] 46 es igual a [/INST]\n",
      "Respuesta: [INST] 46 es igual a [/INST] 47 es igual a [/INST] 48\n",
      "Recompensa: -37\n",
      "Prompt: [INST] 49 es igual a [/INST]\n",
      "Respuesta: [INST] 49 es igual a [/INST] [19:01:01] [Client\n",
      "Recompensa: -40\n"
     ]
    },
    {
     "name": "stderr",
     "output_type": "stream",
     "text": [
      "Setting `pad_token_id` to `eos_token_id`:None for open-end generation.\n",
      "Setting `pad_token_id` to `eos_token_id`:None for open-end generation.\n"
     ]
    },
    {
     "name": "stdout",
     "output_type": "stream",
     "text": [
      "Prompt: [INST] 10 es igual a [/INST]\n",
      "Respuesta: [INST] 10 es igual a [/INST] [INST] [INST] [INST]\n",
      "Recompensa: -1\n",
      "Prompt: [INST] 13 es igual a [/INST]\n",
      "Respuesta: [INST] 13 es igual a [/INST] 13 es igual a [INST] 13\n",
      "Recompensa: -4\n"
     ]
    },
    {
     "name": "stderr",
     "output_type": "stream",
     "text": [
      "Setting `pad_token_id` to `eos_token_id`:None for open-end generation.\n",
      "Setting `pad_token_id` to `eos_token_id`:None for open-end generation.\n"
     ]
    },
    {
     "name": "stdout",
     "output_type": "stream",
     "text": [
      "Prompt: [INST] 16 es igual a [/INST]\n",
      "Respuesta: [INST] 16 es igual a [/INST] 16 es es es es es es es es\n",
      "Recompensa: -7\n",
      "Prompt: [INST] 19 es igual a [/INST]\n",
      "Respuesta: [INST] 19 es igual a [/INST] 20 igual a 20 igual a ig\n",
      "Recompensa: -10\n"
     ]
    },
    {
     "name": "stderr",
     "output_type": "stream",
     "text": [
      "Setting `pad_token_id` to `eos_token_id`:None for open-end generation.\n",
      "/home/aurora/miniconda3/lib/python3.11/site-packages/trl/trainer/ppo_trainer.py:1313: UserWarning: KL divergence is starting to become negative: -1.34 - this might be a precursor for failed training. sometimes this happens because the generation kwargs are not correctly set. Please make sure that the generation kwargs are set correctly, or review your training hyperparameters.\n",
      "  warnings.warn(\n",
      "Setting `pad_token_id` to `eos_token_id`:None for open-end generation.\n"
     ]
    },
    {
     "name": "stdout",
     "output_type": "stream",
     "text": [
      "Prompt: [INST] 22 es igual a [/INST]\n",
      "Respuesta: [INST] 22 es igual a [/INST] [INST] [C] [C]\n",
      "Recompensa: -13\n",
      "Prompt: [INST] 25 es igual a [/INST]\n",
      "Respuesta: [INST] 25 es igual a [/INST]\n",
      "\n",
      "[INST]\n",
      "\n",
      "[INST\n",
      "Recompensa: -16\n"
     ]
    },
    {
     "name": "stderr",
     "output_type": "stream",
     "text": [
      "/home/aurora/miniconda3/lib/python3.11/site-packages/trl/trainer/ppo_trainer.py:1313: UserWarning: KL divergence is starting to become negative: -3.32 - this might be a precursor for failed training. sometimes this happens because the generation kwargs are not correctly set. Please make sure that the generation kwargs are set correctly, or review your training hyperparameters.\n",
      "  warnings.warn(\n",
      "Setting `pad_token_id` to `eos_token_id`:None for open-end generation.\n",
      "Setting `pad_token_id` to `eos_token_id`:None for open-end generation.\n"
     ]
    },
    {
     "name": "stdout",
     "output_type": "stream",
     "text": [
      "Prompt: [INST] 28 es igual a [/INST]\n",
      "Respuesta: [INST] 28 es igual a [/INST] [INSTALL] [INSTALL] [\n",
      "Recompensa: -19\n",
      "Prompt: [INST] 31 es igual a [/INST]\n",
      "Respuesta: [INST] 31 es igual a [/INST] [INSTALL] [INSTALL_NAME\n",
      "Recompensa: -22\n"
     ]
    },
    {
     "name": "stderr",
     "output_type": "stream",
     "text": [
      "Setting `pad_token_id` to `eos_token_id`:None for open-end generation.\n",
      "/home/aurora/miniconda3/lib/python3.11/site-packages/trl/trainer/ppo_trainer.py:1313: UserWarning: KL divergence is starting to become negative: -1.57 - this might be a precursor for failed training. sometimes this happens because the generation kwargs are not correctly set. Please make sure that the generation kwargs are set correctly, or review your training hyperparameters.\n",
      "  warnings.warn(\n",
      "Setting `pad_token_id` to `eos_token_id`:None for open-end generation.\n"
     ]
    },
    {
     "name": "stdout",
     "output_type": "stream",
     "text": [
      "Prompt: [INST] 34 es igual a [/INST]\n",
      "Respuesta: [INST] 34 es igual a [/INST] 34 es es es es es es es es\n",
      "Recompensa: -25\n",
      "Prompt: [INST] 37 es igual a [/INST]\n",
      "Respuesta: [INST] 37 es igual a [/INST] [INSTALL] [INSTINSTALL]\n",
      "Recompensa: -28\n"
     ]
    },
    {
     "name": "stderr",
     "output_type": "stream",
     "text": [
      "/home/aurora/miniconda3/lib/python3.11/site-packages/trl/trainer/ppo_trainer.py:1313: UserWarning: KL divergence is starting to become negative: -1.94 - this might be a precursor for failed training. sometimes this happens because the generation kwargs are not correctly set. Please make sure that the generation kwargs are set correctly, or review your training hyperparameters.\n",
      "  warnings.warn(\n",
      "Setting `pad_token_id` to `eos_token_id`:None for open-end generation.\n",
      "Setting `pad_token_id` to `eos_token_id`:None for open-end generation.\n"
     ]
    },
    {
     "name": "stdout",
     "output_type": "stream",
     "text": [
      "Prompt: [INST] 40 es igual a [/INST]\n",
      "Respuesta: [INST] 40 es igual a [/INST] 40 es igual a [/INSTINST]\n",
      "Recompensa: -31\n",
      "Prompt: [INST] 43 es igual a [/INST]\n",
      "Respuesta: [INST] 43 es igual a [/INST] [INST_NAME] [INST_NAME\n",
      "Recompensa: -34\n"
     ]
    },
    {
     "name": "stderr",
     "output_type": "stream",
     "text": [
      "Setting `pad_token_id` to `eos_token_id`:None for open-end generation.\n",
      "Setting `pad_token_id` to `eos_token_id`:None for open-end generation.\n"
     ]
    },
    {
     "name": "stdout",
     "output_type": "stream",
     "text": [
      "Prompt: [INST] 46 es igual a [/INST]\n",
      "Respuesta: [INST] 46 es igual a [/INST] 47 es igual a [INSTINST]\n",
      "Recompensa: -37\n",
      "Prompt: [INST] 49 es igual a [/INST]\n",
      "Respuesta: [INST] 49 es igual a [/INST] [INST] 50] [INST] [\n",
      "Recompensa: -40\n"
     ]
    },
    {
     "name": "stderr",
     "output_type": "stream",
     "text": [
      "Setting `pad_token_id` to `eos_token_id`:None for open-end generation.\n",
      "Setting `pad_token_id` to `eos_token_id`:None for open-end generation.\n"
     ]
    },
    {
     "name": "stdout",
     "output_type": "stream",
     "text": [
      "Prompt: [INST] 10 es igual a [/INST]\n",
      "Respuesta: [INST] 10 es igual a [/INST] 10 igual a [INST_INST]\n",
      "Recompensa: -1\n",
      "Prompt: [INST] 13 es igual a [/INST]\n",
      "Respuesta: [INST] 13 es igual a [/INST] 14 es a [/INST] 15 es a\n",
      "Recompensa: -4\n"
     ]
    },
    {
     "name": "stderr",
     "output_type": "stream",
     "text": [
      "Setting `pad_token_id` to `eos_token_id`:None for open-end generation.\n",
      "/home/aurora/miniconda3/lib/python3.11/site-packages/trl/trainer/ppo_trainer.py:1313: UserWarning: KL divergence is starting to become negative: -1.30 - this might be a precursor for failed training. sometimes this happens because the generation kwargs are not correctly set. Please make sure that the generation kwargs are set correctly, or review your training hyperparameters.\n",
      "  warnings.warn(\n",
      "Setting `pad_token_id` to `eos_token_id`:None for open-end generation.\n"
     ]
    },
    {
     "name": "stdout",
     "output_type": "stream",
     "text": [
      "Prompt: [INST] 16 es igual a [/INST]\n",
      "Respuesta: [INST] 16 es igual a [/INST] 16 16 16 16 16 16 16 16 16\n",
      "Recompensa: -7\n",
      "Prompt: [INST] 19 es igual a [/INST]\n",
      "Respuesta: [INST] 19 es igual a [/INST] 20 esi a [/INSTINST] 21\n",
      "Recompensa: -10\n"
     ]
    },
    {
     "name": "stderr",
     "output_type": "stream",
     "text": [
      "Setting `pad_token_id` to `eos_token_id`:None for open-end generation.\n",
      "/home/aurora/miniconda3/lib/python3.11/site-packages/trl/trainer/ppo_trainer.py:1313: UserWarning: KL divergence is starting to become negative: -2.47 - this might be a precursor for failed training. sometimes this happens because the generation kwargs are not correctly set. Please make sure that the generation kwargs are set correctly, or review your training hyperparameters.\n",
      "  warnings.warn(\n",
      "Setting `pad_token_id` to `eos_token_id`:None for open-end generation.\n"
     ]
    },
    {
     "name": "stdout",
     "output_type": "stream",
     "text": [
      "Prompt: [INST] 22 es igual a [/INST]\n",
      "Respuesta: [INST] 22 es igual a [/INST] 22 es aa aa aa a\n",
      "Recompensa: -13\n",
      "Prompt: [INST] 25 es igual a [/INST]\n",
      "Respuesta: [INST] 25 es igual a [/INST] 25 es es es es es es es es\n",
      "Recompensa: -16\n"
     ]
    },
    {
     "name": "stderr",
     "output_type": "stream",
     "text": [
      "/home/aurora/miniconda3/lib/python3.11/site-packages/trl/trainer/ppo_trainer.py:1313: UserWarning: KL divergence is starting to become negative: -4.43 - this might be a precursor for failed training. sometimes this happens because the generation kwargs are not correctly set. Please make sure that the generation kwargs are set correctly, or review your training hyperparameters.\n",
      "  warnings.warn(\n",
      "Setting `pad_token_id` to `eos_token_id`:None for open-end generation.\n",
      "/home/aurora/miniconda3/lib/python3.11/site-packages/trl/trainer/ppo_trainer.py:1313: UserWarning: KL divergence is starting to become negative: -8.49 - this might be a precursor for failed training. sometimes this happens because the generation kwargs are not correctly set. Please make sure that the generation kwargs are set correctly, or review your training hyperparameters.\n",
      "  warnings.warn(\n",
      "Setting `pad_token_id` to `eos_token_id`:None for open-end generation.\n"
     ]
    },
    {
     "name": "stdout",
     "output_type": "stream",
     "text": [
      "Prompt: [INST] 28 es igual a [/INST]\n",
      "Respuesta: [INST] 28 es igual a [/INST] [INST] [INST] [INST]\n",
      "Recompensa: -19\n",
      "Prompt: [INST] 31 es igual a [/INST]\n",
      "Respuesta: [INST] 31 es igual a [/INST] a b [/INST]) [/INST]\n",
      "\n",
      "Recompensa: -22\n"
     ]
    },
    {
     "name": "stderr",
     "output_type": "stream",
     "text": [
      "Setting `pad_token_id` to `eos_token_id`:None for open-end generation.\n",
      "/home/aurora/miniconda3/lib/python3.11/site-packages/trl/trainer/ppo_trainer.py:1313: UserWarning: KL divergence is starting to become negative: -3.58 - this might be a precursor for failed training. sometimes this happens because the generation kwargs are not correctly set. Please make sure that the generation kwargs are set correctly, or review your training hyperparameters.\n",
      "  warnings.warn(\n",
      "Setting `pad_token_id` to `eos_token_id`:None for open-end generation.\n"
     ]
    },
    {
     "name": "stdout",
     "output_type": "stream",
     "text": [
      "Prompt: [INST] 34 es igual a [/INST]\n",
      "Respuesta: [INST] 34 es igual a [/INST] [INST_NAME] [INST_NAME\n",
      "Recompensa: -25\n",
      "Prompt: [INST] 37 es igual a [/INST]\n",
      "Respuesta: [INST] 37 es igual a [/INST] 38 igual a [/INST] 39 ig\n",
      "Recompensa: -28\n"
     ]
    },
    {
     "name": "stderr",
     "output_type": "stream",
     "text": [
      "/home/aurora/miniconda3/lib/python3.11/site-packages/trl/trainer/ppo_trainer.py:1313: UserWarning: KL divergence is starting to become negative: -5.00 - this might be a precursor for failed training. sometimes this happens because the generation kwargs are not correctly set. Please make sure that the generation kwargs are set correctly, or review your training hyperparameters.\n",
      "  warnings.warn(\n",
      "Setting `pad_token_id` to `eos_token_id`:None for open-end generation.\n",
      "/home/aurora/miniconda3/lib/python3.11/site-packages/trl/trainer/ppo_trainer.py:1313: UserWarning: KL divergence is starting to become negative: -4.26 - this might be a precursor for failed training. sometimes this happens because the generation kwargs are not correctly set. Please make sure that the generation kwargs are set correctly, or review your training hyperparameters.\n",
      "  warnings.warn(\n",
      "Setting `pad_token_id` to `eos_token_id`:None for open-end generation.\n"
     ]
    },
    {
     "name": "stdout",
     "output_type": "stream",
     "text": [
      "Prompt: [INST] 40 es igual a [/INST]\n",
      "Respuesta: [INST] 40 es igual a [/INST] 40 es igual a [/INST] 40\n",
      "Recompensa: -31\n",
      "Prompt: [INST] 43 es igual a [/INST]\n",
      "Respuesta: [INST] 43 es igual a [/INST] 43 es es es es es es es es\n",
      "Recompensa: -34\n"
     ]
    },
    {
     "name": "stderr",
     "output_type": "stream",
     "text": [
      "/home/aurora/miniconda3/lib/python3.11/site-packages/trl/trainer/ppo_trainer.py:1313: UserWarning: KL divergence is starting to become negative: -8.05 - this might be a precursor for failed training. sometimes this happens because the generation kwargs are not correctly set. Please make sure that the generation kwargs are set correctly, or review your training hyperparameters.\n",
      "  warnings.warn(\n",
      "Setting `pad_token_id` to `eos_token_id`:None for open-end generation.\n",
      "/home/aurora/miniconda3/lib/python3.11/site-packages/trl/trainer/ppo_trainer.py:1313: UserWarning: KL divergence is starting to become negative: -5.34 - this might be a precursor for failed training. sometimes this happens because the generation kwargs are not correctly set. Please make sure that the generation kwargs are set correctly, or review your training hyperparameters.\n",
      "  warnings.warn(\n",
      "Setting `pad_token_id` to `eos_token_id`:None for open-end generation.\n"
     ]
    },
    {
     "name": "stdout",
     "output_type": "stream",
     "text": [
      "Prompt: [INST] 46 es igual a [/INST]\n",
      "Respuesta: [INST] 46 es igual a [/INST] [INST_] 47 es igual a\n",
      "Recompensa: -37\n",
      "Prompt: [INST] 49 es igual a [/INST]\n",
      "Respuesta: [INST] 49 es igual a [/INST] 49 es a b b b c c d\n",
      "Recompensa: -40\n"
     ]
    },
    {
     "name": "stderr",
     "output_type": "stream",
     "text": [
      "Setting `pad_token_id` to `eos_token_id`:None for open-end generation.\n",
      "/home/aurora/miniconda3/lib/python3.11/site-packages/trl/trainer/ppo_trainer.py:1313: UserWarning: KL divergence is starting to become negative: -6.21 - this might be a precursor for failed training. sometimes this happens because the generation kwargs are not correctly set. Please make sure that the generation kwargs are set correctly, or review your training hyperparameters.\n",
      "  warnings.warn(\n",
      "Setting `pad_token_id` to `eos_token_id`:None for open-end generation.\n"
     ]
    },
    {
     "name": "stdout",
     "output_type": "stream",
     "text": [
      "Prompt: [INST] 10 es igual a [/INST]\n",
      "Respuesta: [INST] 10 es igual a [/INST] [INST] [INST] [INST]\n",
      "Recompensa: -1\n",
      "Prompt: [INST] 13 es igual a [/INST]\n",
      "Respuesta: [INST] 13 es igual a [/INST] 13 es, igual a [/INST]\n",
      "Recompensa: -4\n"
     ]
    },
    {
     "name": "stderr",
     "output_type": "stream",
     "text": [
      "/home/aurora/miniconda3/lib/python3.11/site-packages/trl/trainer/ppo_trainer.py:1313: UserWarning: KL divergence is starting to become negative: -2.58 - this might be a precursor for failed training. sometimes this happens because the generation kwargs are not correctly set. Please make sure that the generation kwargs are set correctly, or review your training hyperparameters.\n",
      "  warnings.warn(\n",
      "Setting `pad_token_id` to `eos_token_id`:None for open-end generation.\n",
      "Setting `pad_token_id` to `eos_token_id`:None for open-end generation.\n"
     ]
    },
    {
     "name": "stdout",
     "output_type": "stream",
     "text": [
      "Prompt: [INST] 16 es igual a [/INST]\n",
      "Respuesta: [INST] 16 es igual a [/INST] 16 e igual a a [/INST]\n",
      "Recompensa: -7\n",
      "Prompt: [INST] 19 es igual a [/INST]\n",
      "Respuesta: [INST] 19 es igual a [/INST] 20 es igual a [/INST] 21\n",
      "Recompensa: -10\n"
     ]
    },
    {
     "name": "stderr",
     "output_type": "stream",
     "text": [
      "/home/aurora/miniconda3/lib/python3.11/site-packages/trl/trainer/ppo_trainer.py:1313: UserWarning: KL divergence is starting to become negative: -1.95 - this might be a precursor for failed training. sometimes this happens because the generation kwargs are not correctly set. Please make sure that the generation kwargs are set correctly, or review your training hyperparameters.\n",
      "  warnings.warn(\n",
      "Setting `pad_token_id` to `eos_token_id`:None for open-end generation.\n",
      "Setting `pad_token_id` to `eos_token_id`:None for open-end generation.\n"
     ]
    },
    {
     "name": "stdout",
     "output_type": "stream",
     "text": [
      "Prompt: [INST] 22 es igual a [/INST]\n",
      "Respuesta: [INST] 22 es igual a [/INST] 23 es igual b [/INST] 24\n",
      "Recompensa: -13\n",
      "Prompt: [INST] 25 es igual a [/INST]\n",
      "Respuesta: [INST] 25 es igual a [/INST] 25 igual a a a a a a\n",
      "Recompensa: -16\n"
     ]
    },
    {
     "name": "stderr",
     "output_type": "stream",
     "text": [
      "Setting `pad_token_id` to `eos_token_id`:None for open-end generation.\n",
      "Setting `pad_token_id` to `eos_token_id`:None for open-end generation.\n"
     ]
    },
    {
     "name": "stdout",
     "output_type": "stream",
     "text": [
      "Prompt: [INST] 28 es igual a [/INST]\n",
      "Respuesta: [INST] 28 es igual a [/INST] 28 es igual a b c d e\n",
      "Recompensa: -19\n",
      "Prompt: [INST] 31 es igual a [/INST]\n",
      "Respuesta: [INST] 31 es igual a [/INST] [D] [D] [D]\n",
      "Recompensa: -22\n"
     ]
    },
    {
     "name": "stderr",
     "output_type": "stream",
     "text": [
      "/home/aurora/miniconda3/lib/python3.11/site-packages/trl/trainer/ppo_trainer.py:1313: UserWarning: KL divergence is starting to become negative: -4.96 - this might be a precursor for failed training. sometimes this happens because the generation kwargs are not correctly set. Please make sure that the generation kwargs are set correctly, or review your training hyperparameters.\n",
      "  warnings.warn(\n",
      "Setting `pad_token_id` to `eos_token_id`:None for open-end generation.\n",
      "/home/aurora/miniconda3/lib/python3.11/site-packages/trl/trainer/ppo_trainer.py:1313: UserWarning: KL divergence is starting to become negative: -2.93 - this might be a precursor for failed training. sometimes this happens because the generation kwargs are not correctly set. Please make sure that the generation kwargs are set correctly, or review your training hyperparameters.\n",
      "  warnings.warn(\n",
      "Setting `pad_token_id` to `eos_token_id`:None for open-end generation.\n"
     ]
    },
    {
     "name": "stdout",
     "output_type": "stream",
     "text": [
      "Prompt: [INST] 34 es igual a [/INST]\n",
      "Respuesta: [INST] 34 es igual a [/INST] [1] [2] [2]\n",
      "Recompensa: -25\n",
      "Prompt: [INST] 37 es igual a [/INST]\n",
      "Respuesta: [INST] 37 es igual a [/INST] 38 es igual b a b b b\n",
      "Recompensa: -28\n"
     ]
    },
    {
     "name": "stderr",
     "output_type": "stream",
     "text": [
      "Setting `pad_token_id` to `eos_token_id`:None for open-end generation.\n",
      "/home/aurora/miniconda3/lib/python3.11/site-packages/trl/trainer/ppo_trainer.py:1313: UserWarning: KL divergence is starting to become negative: -2.88 - this might be a precursor for failed training. sometimes this happens because the generation kwargs are not correctly set. Please make sure that the generation kwargs are set correctly, or review your training hyperparameters.\n",
      "  warnings.warn(\n",
      "Setting `pad_token_id` to `eos_token_id`:None for open-end generation.\n"
     ]
    },
    {
     "name": "stdout",
     "output_type": "stream",
     "text": [
      "Prompt: [INST] 40 es igual a [/INST]\n",
      "Respuesta: [INST] 40 es igual a [/INST] [INST] [INST] [INST_\n",
      "Recompensa: -31\n",
      "Prompt: [INST] 43 es igual a [/INST]\n",
      "Respuesta: [INST] 43 es igual a [/INST] 43 es e es [/INST] 43 es\n",
      "Recompensa: -34\n"
     ]
    },
    {
     "name": "stderr",
     "output_type": "stream",
     "text": [
      "Setting `pad_token_id` to `eos_token_id`:None for open-end generation.\n",
      "/home/aurora/miniconda3/lib/python3.11/site-packages/trl/trainer/ppo_trainer.py:1313: UserWarning: KL divergence is starting to become negative: -16.05 - this might be a precursor for failed training. sometimes this happens because the generation kwargs are not correctly set. Please make sure that the generation kwargs are set correctly, or review your training hyperparameters.\n",
      "  warnings.warn(\n",
      "Setting `pad_token_id` to `eos_token_id`:None for open-end generation.\n"
     ]
    },
    {
     "name": "stdout",
     "output_type": "stream",
     "text": [
      "Prompt: [INST] 46 es igual a [/INST]\n",
      "Respuesta: [INST] 46 es igual a [/INST] 46 es es es es es es es es\n",
      "Recompensa: -37\n",
      "Prompt: [INST] 49 es igual a [/INST]\n",
      "Respuesta: [INST] 49 es igual a [/INST] [INST] 49 es es igual a\n",
      "Recompensa: -40\n"
     ]
    },
    {
     "name": "stderr",
     "output_type": "stream",
     "text": [
      "/home/aurora/miniconda3/lib/python3.11/site-packages/trl/trainer/ppo_trainer.py:1313: UserWarning: KL divergence is starting to become negative: -3.26 - this might be a precursor for failed training. sometimes this happens because the generation kwargs are not correctly set. Please make sure that the generation kwargs are set correctly, or review your training hyperparameters.\n",
      "  warnings.warn(\n",
      "Setting `pad_token_id` to `eos_token_id`:None for open-end generation.\n",
      "Setting `pad_token_id` to `eos_token_id`:None for open-end generation.\n"
     ]
    },
    {
     "name": "stdout",
     "output_type": "stream",
     "text": [
      "Prompt: [INST] 10 es igual a [/INST]\n",
      "Respuesta: [INST] 10 es igual a [/INST] 10 es a [/INSTALLED_PATH\n",
      "Recompensa: -1\n",
      "Prompt: [INST] 13 es igual a [/INST]\n",
      "Respuesta: [INST] 13 es igual a [/INST] 13 es igual a [/INST] 13\n",
      "Recompensa: -4\n"
     ]
    },
    {
     "name": "stderr",
     "output_type": "stream",
     "text": [
      "Setting `pad_token_id` to `eos_token_id`:None for open-end generation.\n",
      "Setting `pad_token_id` to `eos_token_id`:None for open-end generation.\n"
     ]
    },
    {
     "name": "stdout",
     "output_type": "stream",
     "text": [
      "Prompt: [INST] 16 es igual a [/INST]\n",
      "Respuesta: [INST] 16 es igual a [/INST] [[INST] 16 es igual]\n",
      "Recompensa: -7\n",
      "Prompt: [INST] 19 es igual a [/INST]\n",
      "Respuesta: [INST] 19 es igual a [/INST] 19 es igual a [/INST] 19\n",
      "Recompensa: -10\n"
     ]
    },
    {
     "name": "stderr",
     "output_type": "stream",
     "text": [
      "Setting `pad_token_id` to `eos_token_id`:None for open-end generation.\n",
      "Setting `pad_token_id` to `eos_token_id`:None for open-end generation.\n"
     ]
    },
    {
     "name": "stdout",
     "output_type": "stream",
     "text": [
      "Prompt: [INST] 22 es igual a [/INST]\n",
      "Respuesta: [INST] 22 es igual a [/INST] 22 es a [/INST] 22 es [/\n",
      "Recompensa: -13\n",
      "Prompt: [INST] 25 es igual a [/INST]\n",
      "Respuesta: [INST] 25 es igual a [/INST] 25 es\n",
      "\n",
      "[INST] 25 es\n",
      "Recompensa: -16\n"
     ]
    },
    {
     "name": "stderr",
     "output_type": "stream",
     "text": [
      "/home/aurora/miniconda3/lib/python3.11/site-packages/trl/trainer/ppo_trainer.py:1313: UserWarning: KL divergence is starting to become negative: -3.86 - this might be a precursor for failed training. sometimes this happens because the generation kwargs are not correctly set. Please make sure that the generation kwargs are set correctly, or review your training hyperparameters.\n",
      "  warnings.warn(\n",
      "Setting `pad_token_id` to `eos_token_id`:None for open-end generation.\n",
      "/home/aurora/miniconda3/lib/python3.11/site-packages/trl/trainer/ppo_trainer.py:1313: UserWarning: KL divergence is starting to become negative: -14.28 - this might be a precursor for failed training. sometimes this happens because the generation kwargs are not correctly set. Please make sure that the generation kwargs are set correctly, or review your training hyperparameters.\n",
      "  warnings.warn(\n",
      "Setting `pad_token_id` to `eos_token_id`:None for open-end generation.\n"
     ]
    },
    {
     "name": "stdout",
     "output_type": "stream",
     "text": [
      "Prompt: [INST] 28 es igual a [/INST]\n",
      "Respuesta: [INST] 28 es igual a [/INST] [INST] 28 es es es es a\n",
      "Recompensa: -19\n",
      "Prompt: [INST] 31 es igual a [/INST]\n",
      "Respuesta: [INST] 31 es igual a [/INST] [1] [/1] [/1]\n",
      "Recompensa: -22\n"
     ]
    },
    {
     "name": "stderr",
     "output_type": "stream",
     "text": [
      "/home/aurora/miniconda3/lib/python3.11/site-packages/trl/trainer/ppo_trainer.py:1313: UserWarning: KL divergence is starting to become negative: -8.19 - this might be a precursor for failed training. sometimes this happens because the generation kwargs are not correctly set. Please make sure that the generation kwargs are set correctly, or review your training hyperparameters.\n",
      "  warnings.warn(\n",
      "Setting `pad_token_id` to `eos_token_id`:None for open-end generation.\n",
      "/home/aurora/miniconda3/lib/python3.11/site-packages/trl/trainer/ppo_trainer.py:1313: UserWarning: KL divergence is starting to become negative: -2.92 - this might be a precursor for failed training. sometimes this happens because the generation kwargs are not correctly set. Please make sure that the generation kwargs are set correctly, or review your training hyperparameters.\n",
      "  warnings.warn(\n",
      "Setting `pad_token_id` to `eos_token_id`:None for open-end generation.\n"
     ]
    },
    {
     "name": "stdout",
     "output_type": "stream",
     "text": [
      "Prompt: [INST] 34 es igual a [/INST]\n",
      "Respuesta: [INST] 34 es igual a [/INST] 34 es igual igual igual ig\n",
      "Recompensa: -25\n"
     ]
    },
    {
     "name": "stderr",
     "output_type": "stream",
     "text": [
      "Setting `pad_token_id` to `eos_token_id`:None for open-end generation.\n"
     ]
    },
    {
     "name": "stdout",
     "output_type": "stream",
     "text": [
      "Prompt: [INST] 37 es igual a [/INST]\n",
      "Respuesta: [INST] 37 es igual a [/INST] [/INSTERSHIP]]: [INST\n",
      "Recompensa: -28\n"
     ]
    },
    {
     "name": "stderr",
     "output_type": "stream",
     "text": [
      "/home/aurora/miniconda3/lib/python3.11/site-packages/trl/trainer/ppo_trainer.py:1313: UserWarning: KL divergence is starting to become negative: -1.08 - this might be a precursor for failed training. sometimes this happens because the generation kwargs are not correctly set. Please make sure that the generation kwargs are set correctly, or review your training hyperparameters.\n",
      "  warnings.warn(\n",
      "Setting `pad_token_id` to `eos_token_id`:None for open-end generation.\n"
     ]
    },
    {
     "name": "stdout",
     "output_type": "stream",
     "text": [
      "Prompt: [INST] 40 es igual a [/INST]\n",
      "Respuesta: [INST] 40 es igual a [/INST] [40] [INST] 40 40 40\n",
      "Recompensa: -31\n",
      "Prompt: [INST] 43 es igual a [/INST]\n",
      "Respuesta: [INST] 43 es igual a [/INST] [00:01:01] <A\n",
      "Recompensa: -34\n"
     ]
    },
    {
     "name": "stderr",
     "output_type": "stream",
     "text": [
      "/home/aurora/miniconda3/lib/python3.11/site-packages/trl/trainer/ppo_trainer.py:1313: UserWarning: KL divergence is starting to become negative: -2.79 - this might be a precursor for failed training. sometimes this happens because the generation kwargs are not correctly set. Please make sure that the generation kwargs are set correctly, or review your training hyperparameters.\n",
      "  warnings.warn(\n",
      "Setting `pad_token_id` to `eos_token_id`:None for open-end generation.\n",
      "/home/aurora/miniconda3/lib/python3.11/site-packages/trl/trainer/ppo_trainer.py:1313: UserWarning: KL divergence is starting to become negative: -1.85 - this might be a precursor for failed training. sometimes this happens because the generation kwargs are not correctly set. Please make sure that the generation kwargs are set correctly, or review your training hyperparameters.\n",
      "  warnings.warn(\n",
      "Setting `pad_token_id` to `eos_token_id`:None for open-end generation.\n"
     ]
    },
    {
     "name": "stdout",
     "output_type": "stream",
     "text": [
      "Prompt: [INST] 46 es igual a [/INST]\n",
      "Respuesta: [INST] 46 es igual a [/INST] 46 es igual a [/INST] 46\n",
      "Recompensa: -37\n",
      "Prompt: [INST] 49 es igual a [/INST]\n",
      "Respuesta: [INST] 49 es igual a [/INST] 49 es igual a [/DOT]\n",
      "Recompensa: -40\n"
     ]
    },
    {
     "name": "stderr",
     "output_type": "stream",
     "text": [
      "Setting `pad_token_id` to `eos_token_id`:None for open-end generation.\n",
      "Setting `pad_token_id` to `eos_token_id`:None for open-end generation.\n"
     ]
    },
    {
     "name": "stdout",
     "output_type": "stream",
     "text": [
      "Prompt: [INST] 10 es igual a [/INST]\n",
      "Respuesta: [INST] 10 es igual a [/INST] [INSTAGED] [INSTAGED\n",
      "Recompensa: -1\n",
      "Prompt: [INST] 13 es igual a [/INST]\n",
      "Respuesta: [INST] 13 es igual a [/INST] 13 iguala [/INST] 13 ig\n",
      "Recompensa: -4\n"
     ]
    },
    {
     "name": "stderr",
     "output_type": "stream",
     "text": [
      "Setting `pad_token_id` to `eos_token_id`:None for open-end generation.\n",
      "Setting `pad_token_id` to `eos_token_id`:None for open-end generation.\n"
     ]
    },
    {
     "name": "stdout",
     "output_type": "stream",
     "text": [
      "Prompt: [INST] 16 es igual a [/INST]\n",
      "Respuesta: [INST] 16 es igual a [/INST] 16 es igual [/INST] 16 16\n",
      "Recompensa: -7\n",
      "Prompt: [INST] 19 es igual a [/INST]\n",
      "Respuesta: [INST] 19 es igual a [/INST] [INST_RUN] 19 19 es\n",
      "Recompensa: -10\n"
     ]
    },
    {
     "name": "stderr",
     "output_type": "stream",
     "text": [
      "Setting `pad_token_id` to `eos_token_id`:None for open-end generation.\n",
      "Setting `pad_token_id` to `eos_token_id`:None for open-end generation.\n"
     ]
    },
    {
     "name": "stdout",
     "output_type": "stream",
     "text": [
      "Prompt: [INST] 22 es igual a [/INST]\n",
      "Respuesta: [INST] 22 es igual a [/INST] [/INST] [/INSTINSTINST] [/\n",
      "Recompensa: -13\n",
      "Prompt: [INST] 25 es igual a [/INST]\n",
      "Respuesta: [INST] 25 es igual a [/INST] 25 es igual b [/INSTINSTINST\n",
      "Recompensa: -16\n"
     ]
    },
    {
     "name": "stderr",
     "output_type": "stream",
     "text": [
      "Setting `pad_token_id` to `eos_token_id`:None for open-end generation.\n",
      "Setting `pad_token_id` to `eos_token_id`:None for open-end generation.\n"
     ]
    },
    {
     "name": "stdout",
     "output_type": "stream",
     "text": [
      "Prompt: [INST] 28 es igual a [/INST]\n",
      "Respuesta: [INST] 28 es igual a [/INST] 28 es igual igual [/INST]\n",
      "Recompensa: -19\n"
     ]
    },
    {
     "name": "stderr",
     "output_type": "stream",
     "text": [
      "Setting `pad_token_id` to `eos_token_id`:None for open-end generation.\n"
     ]
    },
    {
     "name": "stdout",
     "output_type": "stream",
     "text": [
      "Prompt: [INST] 31 es igual a [/INST]\n",
      "Respuesta: [INST] 31 es igual a [/INST] 31 es igual a [/INST] 31\n",
      "Recompensa: -22\n",
      "Prompt: [INST] 34 es igual a [/INST]\n",
      "Respuesta: [INST] 34 es igual a [/INST] 34.34.34.34.34\n",
      "Recompensa: -25\n"
     ]
    },
    {
     "name": "stderr",
     "output_type": "stream",
     "text": [
      "Setting `pad_token_id` to `eos_token_id`:None for open-end generation.\n",
      "Setting `pad_token_id` to `eos_token_id`:None for open-end generation.\n"
     ]
    },
    {
     "name": "stdout",
     "output_type": "stream",
     "text": [
      "Prompt: [INST] 37 es igual a [/INST]\n",
      "Respuesta: [INST] 37 es igual a [/INST] [/INSTREAMED] [/INSTREAMED\n",
      "Recompensa: -28\n"
     ]
    },
    {
     "name": "stderr",
     "output_type": "stream",
     "text": [
      "Setting `pad_token_id` to `eos_token_id`:None for open-end generation.\n"
     ]
    },
    {
     "name": "stdout",
     "output_type": "stream",
     "text": [
      "Prompt: [INST] 40 es igual a [/INST]\n",
      "Respuesta: [INST] 40 es igual a [/INST] 40 es igual [/INST] 40 es\n",
      "Recompensa: -31\n"
     ]
    },
    {
     "name": "stderr",
     "output_type": "stream",
     "text": [
      "/home/aurora/miniconda3/lib/python3.11/site-packages/trl/trainer/ppo_trainer.py:1313: UserWarning: KL divergence is starting to become negative: -1.16 - this might be a precursor for failed training. sometimes this happens because the generation kwargs are not correctly set. Please make sure that the generation kwargs are set correctly, or review your training hyperparameters.\n",
      "  warnings.warn(\n",
      "Setting `pad_token_id` to `eos_token_id`:None for open-end generation.\n"
     ]
    },
    {
     "name": "stdout",
     "output_type": "stream",
     "text": [
      "Prompt: [INST] 43 es igual a [/INST]\n",
      "Respuesta: [INST] 43 es igual a [/INST] 43 es igual a [/INST] 43\n",
      "Recompensa: -34\n",
      "Prompt: [INST] 46 es igual a [/INST]\n",
      "Respuesta: [INST] 46 es igual a [/INST] b [0.0] [0]\n",
      "Recompensa: -37\n"
     ]
    },
    {
     "name": "stderr",
     "output_type": "stream",
     "text": [
      "Setting `pad_token_id` to `eos_token_id`:None for open-end generation.\n",
      "Setting `pad_token_id` to `eos_token_id`:None for open-end generation.\n"
     ]
    },
    {
     "name": "stdout",
     "output_type": "stream",
     "text": [
      "Prompt: [INST] 49 es igual a [/INST]\n",
      "Respuesta: [INST] 49 es igual a [/INST] [/b] [/u] [/t/\n",
      "Recompensa: -40\n",
      "Prompt: [INST] 10 es igual a [/INST]\n",
      "Respuesta: [INST] 10 es igual a [/INST] 10 igual a [/INSTINST] 10\n",
      "Recompensa: -1\n"
     ]
    },
    {
     "name": "stderr",
     "output_type": "stream",
     "text": [
      "Setting `pad_token_id` to `eos_token_id`:None for open-end generation.\n",
      "Setting `pad_token_id` to `eos_token_id`:None for open-end generation.\n"
     ]
    },
    {
     "name": "stdout",
     "output_type": "stream",
     "text": [
      "Prompt: [INST] 13 es igual a [/INST]\n",
      "Respuesta: [INST] 13 es igual a [/INST] 13 13 13 13 13 13 13 13 13\n",
      "Recompensa: -4\n",
      "Prompt: [INST] 16 es igual a [/INST]\n",
      "Respuesta: [INST] 16 es igual a [/INST] 16-16-16-16-16\n",
      "Recompensa: -7\n"
     ]
    },
    {
     "name": "stderr",
     "output_type": "stream",
     "text": [
      "Setting `pad_token_id` to `eos_token_id`:None for open-end generation.\n",
      "Setting `pad_token_id` to `eos_token_id`:None for open-end generation.\n"
     ]
    },
    {
     "name": "stdout",
     "output_type": "stream",
     "text": [
      "Prompt: [INST] 19 es igual a [/INST]\n",
      "Respuesta: [INST] 19 es igual a [/INST] 19 es fán a [/INST]\n",
      "Recompensa: -10\n",
      "Prompt: [INST] 22 es igual a [/INST]\n",
      "Respuesta: [INST] 22 es igual a [/INST] 22 es [/INST] 22 es [/INST\n",
      "Recompensa: -13\n"
     ]
    },
    {
     "name": "stderr",
     "output_type": "stream",
     "text": [
      "Setting `pad_token_id` to `eos_token_id`:None for open-end generation.\n",
      "Setting `pad_token_id` to `eos_token_id`:None for open-end generation.\n"
     ]
    },
    {
     "name": "stdout",
     "output_type": "stream",
     "text": [
      "Prompt: [INST] 25 es igual a [/INST]\n",
      "Respuesta: [INST] 25 es igual a [/INST] [N] 25 es igual a [/\n",
      "Recompensa: -16\n",
      "Prompt: [INST] 28 es igual a [/INST]\n",
      "Respuesta: [INST] 28 es igual a [/INST] 28 es igual a [/INST] 28\n",
      "Recompensa: -19\n"
     ]
    },
    {
     "name": "stderr",
     "output_type": "stream",
     "text": [
      "Setting `pad_token_id` to `eos_token_id`:None for open-end generation.\n",
      "/home/aurora/miniconda3/lib/python3.11/site-packages/trl/trainer/ppo_trainer.py:1313: UserWarning: KL divergence is starting to become negative: -1.73 - this might be a precursor for failed training. sometimes this happens because the generation kwargs are not correctly set. Please make sure that the generation kwargs are set correctly, or review your training hyperparameters.\n",
      "  warnings.warn(\n",
      "Setting `pad_token_id` to `eos_token_id`:None for open-end generation.\n"
     ]
    },
    {
     "name": "stdout",
     "output_type": "stream",
     "text": [
      "Prompt: [INST] 31 es igual a [/INST]\n",
      "Respuesta: [INST] 31 es igual a [/INST] 32 es a [/INST] 33 es a\n",
      "Recompensa: -22\n"
     ]
    },
    {
     "name": "stderr",
     "output_type": "stream",
     "text": [
      "/home/aurora/miniconda3/lib/python3.11/site-packages/trl/trainer/ppo_trainer.py:1313: UserWarning: KL divergence is starting to become negative: -5.18 - this might be a precursor for failed training. sometimes this happens because the generation kwargs are not correctly set. Please make sure that the generation kwargs are set correctly, or review your training hyperparameters.\n",
      "  warnings.warn(\n",
      "Setting `pad_token_id` to `eos_token_id`:None for open-end generation.\n"
     ]
    },
    {
     "name": "stdout",
     "output_type": "stream",
     "text": [
      "Prompt: [INST] 34 es igual a [/INST]\n",
      "Respuesta: [INST] 34 es igual a [/INST]\n",
      "\n",
      "[INST] 34 es es\n",
      "\n",
      "Recompensa: -25\n"
     ]
    },
    {
     "name": "stderr",
     "output_type": "stream",
     "text": [
      "Setting `pad_token_id` to `eos_token_id`:None for open-end generation.\n"
     ]
    },
    {
     "name": "stdout",
     "output_type": "stream",
     "text": [
      "Prompt: [INST] 37 es igual a [/INST]\n",
      "Respuesta: [INST] 37 es igual a [/INST] 37 es igual 37 es igual 37\n",
      "Recompensa: -28\n",
      "Prompt: [INST] 40 es igual a [/INST]\n",
      "Respuesta: [INST] 40 es igual a [/INST] 40 es [/INST] 40 es [/INST\n",
      "Recompensa: -31\n"
     ]
    },
    {
     "name": "stderr",
     "output_type": "stream",
     "text": [
      "Setting `pad_token_id` to `eos_token_id`:None for open-end generation.\n",
      "Setting `pad_token_id` to `eos_token_id`:None for open-end generation.\n"
     ]
    },
    {
     "name": "stdout",
     "output_type": "stream",
     "text": [
      "Prompt: [INST] 43 es igual a [/INST]\n",
      "Respuesta: [INST] 43 es igual a [/INST] b] [b][A[/b\n",
      "Recompensa: -34\n",
      "Prompt: [INST] 46 es igual a [/INST]\n",
      "Respuesta: [INST] 46 es igual a [/INST] 46 es igual [/INST 46 es ig\n",
      "Recompensa: -37\n"
     ]
    },
    {
     "name": "stderr",
     "output_type": "stream",
     "text": [
      "Setting `pad_token_id` to `eos_token_id`:None for open-end generation.\n",
      "Setting `pad_token_id` to `eos_token_id`:None for open-end generation.\n"
     ]
    },
    {
     "name": "stdout",
     "output_type": "stream",
     "text": [
      "Prompt: [INST] 49 es igual a [/INST]\n",
      "Respuesta: [INST] 49 es igual a [/INST] 49 es f a [/INST] 49 f\n",
      "Recompensa: -40\n",
      "Prompt: [INST] 10 es igual a [/INST]\n",
      "Respuesta: [INST] 10 es igual a [/INST] 10 es bf [/INST]) 10 11\n",
      "Recompensa: -1\n"
     ]
    },
    {
     "name": "stderr",
     "output_type": "stream",
     "text": [
      "Setting `pad_token_id` to `eos_token_id`:None for open-end generation.\n",
      "Setting `pad_token_id` to `eos_token_id`:None for open-end generation.\n"
     ]
    },
    {
     "name": "stdout",
     "output_type": "stream",
     "text": [
      "Prompt: [INST] 13 es igual a [/INST]\n",
      "Respuesta: [INST] 13 es igual a [/INST] [/INST]).\n",
      "\n",
      "[BEGIN_\n",
      "Recompensa: -4\n",
      "Prompt: [INST] 16 es igual a [/INST]\n",
      "Respuesta: [INST] 16 es igual a [/INST] 16 es es igual a [/INST]\n",
      "Recompensa: -7\n"
     ]
    },
    {
     "name": "stderr",
     "output_type": "stream",
     "text": [
      "/home/aurora/miniconda3/lib/python3.11/site-packages/trl/trainer/ppo_trainer.py:1313: UserWarning: KL divergence is starting to become negative: -6.36 - this might be a precursor for failed training. sometimes this happens because the generation kwargs are not correctly set. Please make sure that the generation kwargs are set correctly, or review your training hyperparameters.\n",
      "  warnings.warn(\n",
      "Setting `pad_token_id` to `eos_token_id`:None for open-end generation.\n",
      "/home/aurora/miniconda3/lib/python3.11/site-packages/trl/trainer/ppo_trainer.py:1313: UserWarning: KL divergence is starting to become negative: -3.42 - this might be a precursor for failed training. sometimes this happens because the generation kwargs are not correctly set. Please make sure that the generation kwargs are set correctly, or review your training hyperparameters.\n",
      "  warnings.warn(\n",
      "Setting `pad_token_id` to `eos_token_id`:None for open-end generation.\n"
     ]
    },
    {
     "name": "stdout",
     "output_type": "stream",
     "text": [
      "Prompt: [INST] 19 es igual a [/INST]\n",
      "Respuesta: [INST] 19 es igual a [/INST] 19 es igual a [INST] 19\n",
      "Recompensa: -10\n",
      "Prompt: [INST] 22 es igual a [/INST]\n",
      "Respuesta: [INST] 22 es igual a [/INST] 22 espa a [/INST] 22 es\n",
      "Recompensa: -13\n"
     ]
    },
    {
     "name": "stderr",
     "output_type": "stream",
     "text": [
      "/home/aurora/miniconda3/lib/python3.11/site-packages/trl/trainer/ppo_trainer.py:1313: UserWarning: KL divergence is starting to become negative: -6.40 - this might be a precursor for failed training. sometimes this happens because the generation kwargs are not correctly set. Please make sure that the generation kwargs are set correctly, or review your training hyperparameters.\n",
      "  warnings.warn(\n",
      "Setting `pad_token_id` to `eos_token_id`:None for open-end generation.\n",
      "Setting `pad_token_id` to `eos_token_id`:None for open-end generation.\n"
     ]
    },
    {
     "name": "stdout",
     "output_type": "stream",
     "text": [
      "Prompt: [INST] 25 es igual a [/INST]\n",
      "Respuesta: [INST] 25 es igual a [/INST] 25 25 25 25 25 25 25 25 25\n",
      "Recompensa: -16\n"
     ]
    },
    {
     "name": "stderr",
     "output_type": "stream",
     "text": [
      "Setting `pad_token_id` to `eos_token_id`:None for open-end generation.\n"
     ]
    },
    {
     "name": "stdout",
     "output_type": "stream",
     "text": [
      "Prompt: [INST] 28 es igual a [/INST]\n",
      "Respuesta: [INST] 28 es igual a [/INST] 28 28 [INST] 28 [INST]\n",
      "Recompensa: -19\n",
      "Prompt: [INST] 31 es igual a [/INST]\n",
      "Respuesta: [INST] 31 es igual a [/INST] 31 es igual a [/INST] 31\n",
      "Recompensa: -22\n"
     ]
    },
    {
     "name": "stderr",
     "output_type": "stream",
     "text": [
      "/home/aurora/miniconda3/lib/python3.11/site-packages/trl/trainer/ppo_trainer.py:1313: UserWarning: KL divergence is starting to become negative: -1.70 - this might be a precursor for failed training. sometimes this happens because the generation kwargs are not correctly set. Please make sure that the generation kwargs are set correctly, or review your training hyperparameters.\n",
      "  warnings.warn(\n",
      "Setting `pad_token_id` to `eos_token_id`:None for open-end generation.\n",
      "Setting `pad_token_id` to `eos_token_id`:None for open-end generation.\n"
     ]
    },
    {
     "name": "stdout",
     "output_type": "stream",
     "text": [
      "Prompt: [INST] 34 es igual a [/INST]\n",
      "Respuesta: [INST] 34 es igual a [/INST] [EQF] 34 [EQ\n",
      "Recompensa: -25\n",
      "Prompt: [INST] 37 es igual a [/INST]\n",
      "Respuesta: [INST] 37 es igual a [/INST][INST][ES][INST]\n",
      "Recompensa: -28\n"
     ]
    },
    {
     "name": "stderr",
     "output_type": "stream",
     "text": [
      "Setting `pad_token_id` to `eos_token_id`:None for open-end generation.\n",
      "Setting `pad_token_id` to `eos_token_id`:None for open-end generation.\n"
     ]
    },
    {
     "name": "stdout",
     "output_type": "stream",
     "text": [
      "Prompt: [INST] 40 es igual a [/INST]\n",
      "Respuesta: [INST] 40 es igual a [/INST] 40 es igual a [/INST 40 es\n",
      "Recompensa: -31\n",
      "Prompt: [INST] 43 es igual a [/INST]\n",
      "Respuesta: [INST] 43 es igual a [/INST] b [/INST]) [INST] [INST\n",
      "Recompensa: -34\n"
     ]
    },
    {
     "name": "stderr",
     "output_type": "stream",
     "text": [
      "Setting `pad_token_id` to `eos_token_id`:None for open-end generation.\n",
      "Setting `pad_token_id` to `eos_token_id`:None for open-end generation.\n"
     ]
    },
    {
     "name": "stdout",
     "output_type": "stream",
     "text": [
      "Prompt: [INST] 46 es igual a [/INST]\n",
      "Respuesta: [INST] 46 es igual a [/INST] [INST]) [INST] [INST=\n",
      "Recompensa: -37\n",
      "Prompt: [INST] 49 es igual a [/INST]\n",
      "Respuesta: [INST] 49 es igual a [/INST] 49 ee ee ef] 49\n",
      "Recompensa: -40\n"
     ]
    },
    {
     "name": "stderr",
     "output_type": "stream",
     "text": [
      "Setting `pad_token_id` to `eos_token_id`:None for open-end generation.\n",
      "Setting `pad_token_id` to `eos_token_id`:None for open-end generation.\n"
     ]
    },
    {
     "name": "stdout",
     "output_type": "stream",
     "text": [
      "Prompt: [INST] 10 es igual a [/INST]\n",
      "Respuesta: [INST] 10 es igual a [/INST] 10 10 10 [/INST]) 10 [/INST\n",
      "Recompensa: -1\n",
      "Prompt: [INST] 13 es igual a [/INST]\n",
      "Respuesta: [INST] 13 es igual a [/INST] 13 es igual [/INST] 13 13\n",
      "Recompensa: -4\n"
     ]
    },
    {
     "name": "stderr",
     "output_type": "stream",
     "text": [
      "Setting `pad_token_id` to `eos_token_id`:None for open-end generation.\n",
      "Setting `pad_token_id` to `eos_token_id`:None for open-end generation.\n"
     ]
    },
    {
     "name": "stdout",
     "output_type": "stream",
     "text": [
      "Prompt: [INST] 16 es igual a [/INST]\n",
      "Respuesta: [INST] 16 es igual a [/INST] 16 esl es [/INST 16 es [/\n",
      "Recompensa: -7\n",
      "Prompt: [INST] 19 es igual a [/INST]\n",
      "Respuesta: [INST] 19 es igual a [/INST] 19 20 20 20 20 20 20 20 20\n",
      "Recompensa: -10\n"
     ]
    },
    {
     "name": "stderr",
     "output_type": "stream",
     "text": [
      "Setting `pad_token_id` to `eos_token_id`:None for open-end generation.\n",
      "Setting `pad_token_id` to `eos_token_id`:None for open-end generation.\n"
     ]
    },
    {
     "name": "stdout",
     "output_type": "stream",
     "text": [
      "Prompt: [INST] 22 es igual a [/INST]\n",
      "Respuesta: [INST] 22 es igual a [/INST] 22 es] [/INST]: [INST]\n",
      "Recompensa: -13\n",
      "Prompt: [INST] 25 es igual a [/INST]\n",
      "Respuesta: [INST] 25 es igual a [/INST] 25 es igual [/INST] 25 es\n",
      "Recompensa: -16\n"
     ]
    },
    {
     "name": "stderr",
     "output_type": "stream",
     "text": [
      "Setting `pad_token_id` to `eos_token_id`:None for open-end generation.\n",
      "Setting `pad_token_id` to `eos_token_id`:None for open-end generation.\n"
     ]
    },
    {
     "name": "stdout",
     "output_type": "stream",
     "text": [
      "Prompt: [INST] 28 es igual a [/INST]\n",
      "Respuesta: [INST] 28 es igual a [/INST] 28] igual [/INST 28] 28\n",
      "Recompensa: -19\n",
      "Prompt: [INST] 31 es igual a [/INST]\n",
      "Respuesta: [INST] 31 es igual a [/INST] 31 es [/INST] [/INST] 31\n",
      "Recompensa: -22\n"
     ]
    },
    {
     "name": "stderr",
     "output_type": "stream",
     "text": [
      "Setting `pad_token_id` to `eos_token_id`:None for open-end generation.\n",
      "Setting `pad_token_id` to `eos_token_id`:None for open-end generation.\n"
     ]
    },
    {
     "name": "stdout",
     "output_type": "stream",
     "text": [
      "Prompt: [INST] 34 es igual a [/INST]\n",
      "Respuesta: [INST] 34 es igual a [/INST] 34 es [/INST] 34 34 [/INST\n",
      "Recompensa: -25\n",
      "Prompt: [INST] 37 es igual a [/INST]\n",
      "Respuesta: [INST] 37 es igual a [/INST] 37 37 37 37 37 37 37 37 37\n",
      "Recompensa: -28\n"
     ]
    },
    {
     "name": "stderr",
     "output_type": "stream",
     "text": [
      "Setting `pad_token_id` to `eos_token_id`:None for open-end generation.\n",
      "Setting `pad_token_id` to `eos_token_id`:None for open-end generation.\n"
     ]
    },
    {
     "name": "stdout",
     "output_type": "stream",
     "text": [
      "Prompt: [INST] 40 es igual a [/INST]\n",
      "Respuesta: [INST] 40 es igual a [/INST] 40 es igual [/INST] 40 es\n",
      "Recompensa: -31\n",
      "Prompt: [INST] 43 es igual a [/INST]\n",
      "Respuesta: [INST] 43 es igual a [/INST] 43 es es es es [/INST] 43\n",
      "Recompensa: -34\n"
     ]
    },
    {
     "name": "stderr",
     "output_type": "stream",
     "text": [
      "/home/aurora/miniconda3/lib/python3.11/site-packages/trl/trainer/ppo_trainer.py:1313: UserWarning: KL divergence is starting to become negative: -9.38 - this might be a precursor for failed training. sometimes this happens because the generation kwargs are not correctly set. Please make sure that the generation kwargs are set correctly, or review your training hyperparameters.\n",
      "  warnings.warn(\n",
      "Setting `pad_token_id` to `eos_token_id`:None for open-end generation.\n",
      "/home/aurora/miniconda3/lib/python3.11/site-packages/trl/trainer/ppo_trainer.py:1313: UserWarning: KL divergence is starting to become negative: -1.48 - this might be a precursor for failed training. sometimes this happens because the generation kwargs are not correctly set. Please make sure that the generation kwargs are set correctly, or review your training hyperparameters.\n",
      "  warnings.warn(\n",
      "Setting `pad_token_id` to `eos_token_id`:None for open-end generation.\n"
     ]
    },
    {
     "name": "stdout",
     "output_type": "stream",
     "text": [
      "Prompt: [INST] 46 es igual a [/INST]\n",
      "Respuesta: [INST] 46 es igual a [/INST] 46 es igual [/INST] 46 es\n",
      "Recompensa: -37\n",
      "Prompt: [INST] 49 es igual a [/INST]\n",
      "Respuesta: [INST] 49 es igual a [/INST]/ 49 a [/INST]/ 49 b\n",
      "Recompensa: -40\n"
     ]
    },
    {
     "name": "stderr",
     "output_type": "stream",
     "text": [
      "Setting `pad_token_id` to `eos_token_id`:None for open-end generation.\n",
      "Setting `pad_token_id` to `eos_token_id`:None for open-end generation.\n"
     ]
    },
    {
     "name": "stdout",
     "output_type": "stream",
     "text": [
      "Prompt: [INST] 10 es igual a [/INST]\n",
      "Respuesta: [INST] 10 es igual a [/INST] 10 es 10 10 10 10 10 10 10\n",
      "Recompensa: -1\n",
      "Prompt: [INST] 13 es igual a [/INST]\n",
      "Respuesta: [INST] 13 es igual a [/INST] 13 es igualf [/INST 13 ig\n",
      "Recompensa: -4\n"
     ]
    },
    {
     "name": "stderr",
     "output_type": "stream",
     "text": [
      "Setting `pad_token_id` to `eos_token_id`:None for open-end generation.\n",
      "Setting `pad_token_id` to `eos_token_id`:None for open-end generation.\n"
     ]
    },
    {
     "name": "stdout",
     "output_type": "stream",
     "text": [
      "Prompt: [INST] 16 es igual a [/INST]\n",
      "Respuesta: [INST] 16 es igual a [/INST] 16 es [/INST 16 es [/INST 16\n",
      "Recompensa: -7\n",
      "Prompt: [INST] 19 es igual a [/INST]\n",
      "Respuesta: [INST] 19 es igual a [/INST] 19 es igual a [/INST] 19\n",
      "Recompensa: -10\n"
     ]
    },
    {
     "name": "stderr",
     "output_type": "stream",
     "text": [
      "/home/aurora/miniconda3/lib/python3.11/site-packages/trl/trainer/ppo_trainer.py:1313: UserWarning: KL divergence is starting to become negative: -4.10 - this might be a precursor for failed training. sometimes this happens because the generation kwargs are not correctly set. Please make sure that the generation kwargs are set correctly, or review your training hyperparameters.\n",
      "  warnings.warn(\n",
      "Setting `pad_token_id` to `eos_token_id`:None for open-end generation.\n",
      "Setting `pad_token_id` to `eos_token_id`:None for open-end generation.\n"
     ]
    },
    {
     "name": "stdout",
     "output_type": "stream",
     "text": [
      "Prompt: [INST] 22 es igual a [/INST]\n",
      "Respuesta: [INST] 22 es igual a [/INST] [/22] [/22] [/INST]:\n",
      "Recompensa: -13\n",
      "Prompt: [INST] 25 es igual a [/INST]\n",
      "Respuesta: [INST] 25 es igual a [/INST] 25 es igual 25 25 25 25 25\n",
      "Recompensa: -16\n"
     ]
    },
    {
     "name": "stderr",
     "output_type": "stream",
     "text": [
      "Setting `pad_token_id` to `eos_token_id`:None for open-end generation.\n",
      "/home/aurora/miniconda3/lib/python3.11/site-packages/trl/trainer/ppo_trainer.py:1313: UserWarning: KL divergence is starting to become negative: -7.22 - this might be a precursor for failed training. sometimes this happens because the generation kwargs are not correctly set. Please make sure that the generation kwargs are set correctly, or review your training hyperparameters.\n",
      "  warnings.warn(\n",
      "Setting `pad_token_id` to `eos_token_id`:None for open-end generation.\n"
     ]
    },
    {
     "name": "stdout",
     "output_type": "stream",
     "text": [
      "Prompt: [INST] 28 es igual a [/INST]\n",
      "Respuesta: [INST] 28 es igual a [/INST] 28 es igual a [/INST] 28\n",
      "Recompensa: -19\n",
      "Prompt: [INST] 31 es igual a [/INST]\n",
      "Respuesta: [INST] 31 es igual a [/INST] 31 igual a 31 igual a a\n",
      "Recompensa: -22\n"
     ]
    },
    {
     "name": "stderr",
     "output_type": "stream",
     "text": [
      "Setting `pad_token_id` to `eos_token_id`:None for open-end generation.\n",
      "/home/aurora/miniconda3/lib/python3.11/site-packages/trl/trainer/ppo_trainer.py:1313: UserWarning: KL divergence is starting to become negative: -3.94 - this might be a precursor for failed training. sometimes this happens because the generation kwargs are not correctly set. Please make sure that the generation kwargs are set correctly, or review your training hyperparameters.\n",
      "  warnings.warn(\n",
      "Setting `pad_token_id` to `eos_token_id`:None for open-end generation.\n"
     ]
    },
    {
     "name": "stdout",
     "output_type": "stream",
     "text": [
      "Prompt: [INST] 34 es igual a [/INST]\n",
      "Respuesta: [INST] 34 es igual a [/INST] 34 34 a [/INST] 34 a [/\n",
      "Recompensa: -25\n",
      "Prompt: [INST] 37 es igual a [/INST]\n",
      "Respuesta: [INST] 37 es igual a [/INST] [/INST]) [/INST]\n",
      "\n",
      "[\n",
      "Recompensa: -28\n"
     ]
    },
    {
     "name": "stderr",
     "output_type": "stream",
     "text": [
      "Setting `pad_token_id` to `eos_token_id`:None for open-end generation.\n",
      "Setting `pad_token_id` to `eos_token_id`:None for open-end generation.\n"
     ]
    },
    {
     "name": "stdout",
     "output_type": "stream",
     "text": [
      "Prompt: [INST] 40 es igual a [/INST]\n",
      "Respuesta: [INST] 40 es igual a [/INST] 40 40 40 40 40 40 40 40 40\n",
      "Recompensa: -31\n",
      "Prompt: [INST] 43 es igual a [/INST]\n",
      "Respuesta: [INST] 43 es igual a [/INST] 43 es igual a [/INST] 43\n",
      "Recompensa: -34\n"
     ]
    },
    {
     "name": "stderr",
     "output_type": "stream",
     "text": [
      "/home/aurora/miniconda3/lib/python3.11/site-packages/trl/trainer/ppo_trainer.py:1313: UserWarning: KL divergence is starting to become negative: -17.81 - this might be a precursor for failed training. sometimes this happens because the generation kwargs are not correctly set. Please make sure that the generation kwargs are set correctly, or review your training hyperparameters.\n",
      "  warnings.warn(\n",
      "Setting `pad_token_id` to `eos_token_id`:None for open-end generation.\n",
      "/home/aurora/miniconda3/lib/python3.11/site-packages/trl/trainer/ppo_trainer.py:1313: UserWarning: KL divergence is starting to become negative: -2.53 - this might be a precursor for failed training. sometimes this happens because the generation kwargs are not correctly set. Please make sure that the generation kwargs are set correctly, or review your training hyperparameters.\n",
      "  warnings.warn(\n",
      "Setting `pad_token_id` to `eos_token_id`:None for open-end generation.\n"
     ]
    },
    {
     "name": "stdout",
     "output_type": "stream",
     "text": [
      "Prompt: [INST] 46 es igual a [/INST]\n",
      "Respuesta: [INST] 46 es igual a [/INST] 46 es 46 es 46 [INST] 46\n",
      "Recompensa: -37\n",
      "Prompt: [INST] 49 es igual a [/INST]\n",
      "Respuesta: [INST] 49 es igual a [/INST] 50 51 52 53 54 55 54 54 55\n",
      "Recompensa: -40\n"
     ]
    },
    {
     "name": "stderr",
     "output_type": "stream",
     "text": [
      "Setting `pad_token_id` to `eos_token_id`:None for open-end generation.\n",
      "/home/aurora/miniconda3/lib/python3.11/site-packages/trl/trainer/ppo_trainer.py:1313: UserWarning: KL divergence is starting to become negative: -19.76 - this might be a precursor for failed training. sometimes this happens because the generation kwargs are not correctly set. Please make sure that the generation kwargs are set correctly, or review your training hyperparameters.\n",
      "  warnings.warn(\n",
      "Setting `pad_token_id` to `eos_token_id`:None for open-end generation.\n"
     ]
    },
    {
     "name": "stdout",
     "output_type": "stream",
     "text": [
      "Prompt: [INST] 10 es igual a [/INST]\n",
      "Respuesta: [INST] 10 es igual a [/INST] [/INST] [/INST] [/INST]\n",
      "Recompensa: -1\n",
      "Prompt: [INST] 13 es igual a [/INST]\n",
      "Respuesta: [INST] 13 es igual a [/INST] 13 13 13 13 13 13 13 13 13\n",
      "Recompensa: -4\n"
     ]
    },
    {
     "name": "stderr",
     "output_type": "stream",
     "text": [
      "Setting `pad_token_id` to `eos_token_id`:None for open-end generation.\n",
      "/home/aurora/miniconda3/lib/python3.11/site-packages/trl/trainer/ppo_trainer.py:1313: UserWarning: KL divergence is starting to become negative: -6.41 - this might be a precursor for failed training. sometimes this happens because the generation kwargs are not correctly set. Please make sure that the generation kwargs are set correctly, or review your training hyperparameters.\n",
      "  warnings.warn(\n",
      "Setting `pad_token_id` to `eos_token_id`:None for open-end generation.\n"
     ]
    },
    {
     "name": "stdout",
     "output_type": "stream",
     "text": [
      "Prompt: [INST] 16 es igual a [/INST]\n",
      "Respuesta: [INST] 16 es igual a [/INST] 16 igual a [/INST] 16 ig\n",
      "Recompensa: -7\n",
      "Prompt: [INST] 19 es igual a [/INST]\n",
      "Respuesta: [INST] 19 es igual a [/INST] 19 19 19 19 19 19 19 19 19\n",
      "Recompensa: -10\n"
     ]
    },
    {
     "name": "stderr",
     "output_type": "stream",
     "text": [
      "Setting `pad_token_id` to `eos_token_id`:None for open-end generation.\n",
      "Setting `pad_token_id` to `eos_token_id`:None for open-end generation.\n"
     ]
    },
    {
     "name": "stdout",
     "output_type": "stream",
     "text": [
      "Prompt: [INST] 22 es igual a [/INST]\n",
      "Respuesta: [INST] 22 es igual a [/INST] 22:22:22 [/INSTALL_\n",
      "Recompensa: -13\n"
     ]
    },
    {
     "name": "stderr",
     "output_type": "stream",
     "text": [
      "/home/aurora/miniconda3/lib/python3.11/site-packages/trl/trainer/ppo_trainer.py:1313: UserWarning: KL divergence is starting to become negative: -8.57 - this might be a precursor for failed training. sometimes this happens because the generation kwargs are not correctly set. Please make sure that the generation kwargs are set correctly, or review your training hyperparameters.\n",
      "  warnings.warn(\n",
      "Setting `pad_token_id` to `eos_token_id`:None for open-end generation.\n"
     ]
    },
    {
     "name": "stdout",
     "output_type": "stream",
     "text": [
      "Prompt: [INST] 25 es igual a [/INST]\n",
      "Respuesta: [INST] 25 es igual a [/INST] 25 es igual a [/INST] 25\n",
      "Recompensa: -16\n"
     ]
    },
    {
     "name": "stderr",
     "output_type": "stream",
     "text": [
      "/home/aurora/miniconda3/lib/python3.11/site-packages/trl/trainer/ppo_trainer.py:1313: UserWarning: KL divergence is starting to become negative: -10.21 - this might be a precursor for failed training. sometimes this happens because the generation kwargs are not correctly set. Please make sure that the generation kwargs are set correctly, or review your training hyperparameters.\n",
      "  warnings.warn(\n",
      "Setting `pad_token_id` to `eos_token_id`:None for open-end generation.\n"
     ]
    },
    {
     "name": "stdout",
     "output_type": "stream",
     "text": [
      "Prompt: [INST] 28 es igual a [/INST]\n",
      "Respuesta: [INST] 28 es igual a [/INST] [INST] [SKIP] [SK\n",
      "Recompensa: -19\n"
     ]
    },
    {
     "name": "stderr",
     "output_type": "stream",
     "text": [
      "/home/aurora/miniconda3/lib/python3.11/site-packages/trl/trainer/ppo_trainer.py:1313: UserWarning: KL divergence is starting to become negative: -7.14 - this might be a precursor for failed training. sometimes this happens because the generation kwargs are not correctly set. Please make sure that the generation kwargs are set correctly, or review your training hyperparameters.\n",
      "  warnings.warn(\n",
      "Setting `pad_token_id` to `eos_token_id`:None for open-end generation.\n"
     ]
    },
    {
     "name": "stdout",
     "output_type": "stream",
     "text": [
      "Prompt: [INST] 31 es igual a [/INST]\n",
      "Respuesta: [INST] 31 es igual a [/INST] 31 es a [/INST] 31 es [/\n",
      "Recompensa: -22\n"
     ]
    },
    {
     "name": "stderr",
     "output_type": "stream",
     "text": [
      "Setting `pad_token_id` to `eos_token_id`:None for open-end generation.\n"
     ]
    },
    {
     "name": "stdout",
     "output_type": "stream",
     "text": [
      "Prompt: [INST] 34 es igual a [/INST]\n",
      "Respuesta: [INST] 34 es igual a [/INST][INSTALL]]: igual,INST\n",
      "Recompensa: -25\n",
      "Prompt: [INST] 37 es igual a [/INST]\n",
      "Respuesta: [INST] 37 es igual a [/INST] a [/INST] a [/INST] [/\n",
      "Recompensa: -28\n"
     ]
    },
    {
     "name": "stderr",
     "output_type": "stream",
     "text": [
      "/home/aurora/miniconda3/lib/python3.11/site-packages/trl/trainer/ppo_trainer.py:1313: UserWarning: KL divergence is starting to become negative: -12.16 - this might be a precursor for failed training. sometimes this happens because the generation kwargs are not correctly set. Please make sure that the generation kwargs are set correctly, or review your training hyperparameters.\n",
      "  warnings.warn(\n",
      "Setting `pad_token_id` to `eos_token_id`:None for open-end generation.\n",
      "Setting `pad_token_id` to `eos_token_id`:None for open-end generation.\n"
     ]
    },
    {
     "name": "stdout",
     "output_type": "stream",
     "text": [
      "Prompt: [INST] 40 es igual a [/INST]\n",
      "Respuesta: [INST] 40 es igual a [/INST] [40] 40 40] 20 20 20\n",
      "Recompensa: -31\n",
      "Prompt: [INST] 43 es igual a [/INST]\n",
      "Respuesta: [INST] 43 es igual a [/INST] 43 es\n",
      "\n",
      "[INST] 43 es\n",
      "Recompensa: -34\n"
     ]
    },
    {
     "name": "stderr",
     "output_type": "stream",
     "text": [
      "/home/aurora/miniconda3/lib/python3.11/site-packages/trl/trainer/ppo_trainer.py:1313: UserWarning: KL divergence is starting to become negative: -14.52 - this might be a precursor for failed training. sometimes this happens because the generation kwargs are not correctly set. Please make sure that the generation kwargs are set correctly, or review your training hyperparameters.\n",
      "  warnings.warn(\n",
      "Setting `pad_token_id` to `eos_token_id`:None for open-end generation.\n",
      "Setting `pad_token_id` to `eos_token_id`:None for open-end generation.\n"
     ]
    },
    {
     "name": "stdout",
     "output_type": "stream",
     "text": [
      "Prompt: [INST] 46 es igual a [/INST]\n",
      "Respuesta: [INST] 46 es igual a [/INST] [19:22:22] [19\n",
      "Recompensa: -37\n"
     ]
    },
    {
     "name": "stderr",
     "output_type": "stream",
     "text": [
      "/home/aurora/miniconda3/lib/python3.11/site-packages/trl/trainer/ppo_trainer.py:1313: UserWarning: KL divergence is starting to become negative: -16.99 - this might be a precursor for failed training. sometimes this happens because the generation kwargs are not correctly set. Please make sure that the generation kwargs are set correctly, or review your training hyperparameters.\n",
      "  warnings.warn(\n",
      "Setting `pad_token_id` to `eos_token_id`:None for open-end generation.\n"
     ]
    },
    {
     "name": "stdout",
     "output_type": "stream",
     "text": [
      "Prompt: [INST] 49 es igual a [/INST]\n",
      "Respuesta: [INST] 49 es igual a [/INST] 49 es [/INST] 49 es igual\n",
      "Recompensa: -40\n"
     ]
    },
    {
     "name": "stderr",
     "output_type": "stream",
     "text": [
      "Setting `pad_token_id` to `eos_token_id`:None for open-end generation.\n"
     ]
    },
    {
     "name": "stdout",
     "output_type": "stream",
     "text": [
      "Prompt: [INST] 10 es igual a [/INST]\n",
      "Respuesta: [INST] 10 es igual a [/INST] 10 10 10 10 10 10 10 10 10\n",
      "Recompensa: -1\n"
     ]
    },
    {
     "name": "stderr",
     "output_type": "stream",
     "text": [
      "/home/aurora/miniconda3/lib/python3.11/site-packages/trl/trainer/ppo_trainer.py:1313: UserWarning: KL divergence is starting to become negative: -17.98 - this might be a precursor for failed training. sometimes this happens because the generation kwargs are not correctly set. Please make sure that the generation kwargs are set correctly, or review your training hyperparameters.\n",
      "  warnings.warn(\n",
      "Setting `pad_token_id` to `eos_token_id`:None for open-end generation.\n"
     ]
    },
    {
     "name": "stdout",
     "output_type": "stream",
     "text": [
      "Prompt: [INST] 13 es igual a [/INST]\n",
      "Respuesta: [INST] 13 es igual a [/INST] 13 igual a [/INST] 13 ig\n",
      "Recompensa: -4\n"
     ]
    },
    {
     "name": "stderr",
     "output_type": "stream",
     "text": [
      "/home/aurora/miniconda3/lib/python3.11/site-packages/trl/trainer/ppo_trainer.py:1313: UserWarning: KL divergence is starting to become negative: -11.22 - this might be a precursor for failed training. sometimes this happens because the generation kwargs are not correctly set. Please make sure that the generation kwargs are set correctly, or review your training hyperparameters.\n",
      "  warnings.warn(\n",
      "Setting `pad_token_id` to `eos_token_id`:None for open-end generation.\n"
     ]
    },
    {
     "name": "stdout",
     "output_type": "stream",
     "text": [
      "Prompt: [INST] 16 es igual a [/INST]\n",
      "Respuesta: [INST] 16 es igual a [/INST] 16 es igual a a 16 es ig\n",
      "Recompensa: -7\n",
      "Prompt: [INST] 19 es igual a [/INST]\n",
      "Respuesta: [INST] 19 es igual a [/INST] 19 español a [/INST]:\n",
      "Recompensa: -10\n"
     ]
    },
    {
     "name": "stderr",
     "output_type": "stream",
     "text": [
      "/home/aurora/miniconda3/lib/python3.11/site-packages/trl/trainer/ppo_trainer.py:1313: UserWarning: KL divergence is starting to become negative: -6.77 - this might be a precursor for failed training. sometimes this happens because the generation kwargs are not correctly set. Please make sure that the generation kwargs are set correctly, or review your training hyperparameters.\n",
      "  warnings.warn(\n",
      "Setting `pad_token_id` to `eos_token_id`:None for open-end generation.\n",
      "Setting `pad_token_id` to `eos_token_id`:None for open-end generation.\n"
     ]
    },
    {
     "name": "stdout",
     "output_type": "stream",
     "text": [
      "Prompt: [INST] 22 es igual a [/INST]\n",
      "Respuesta: [INST] 22 es igual a [/INST] 22 [INST] 22 [INSTINSTINST\n",
      "Recompensa: -13\n",
      "Prompt: [INST] 25 es igual a [/INST]\n",
      "Respuesta: [INST] 25 es igual a [/INST] 25 es igual a [/INST] 25\n",
      "Recompensa: -16\n"
     ]
    },
    {
     "name": "stderr",
     "output_type": "stream",
     "text": [
      "/home/aurora/miniconda3/lib/python3.11/site-packages/trl/trainer/ppo_trainer.py:1313: UserWarning: KL divergence is starting to become negative: -12.50 - this might be a precursor for failed training. sometimes this happens because the generation kwargs are not correctly set. Please make sure that the generation kwargs are set correctly, or review your training hyperparameters.\n",
      "  warnings.warn(\n",
      "Setting `pad_token_id` to `eos_token_id`:None for open-end generation.\n",
      "Setting `pad_token_id` to `eos_token_id`:None for open-end generation.\n"
     ]
    },
    {
     "name": "stdout",
     "output_type": "stream",
     "text": [
      "Prompt: [INST] 28 es igual a [/INST]\n",
      "Respuesta: [INST] 28 es igual a [/INST] 28 es e [INSTALL_INSTALL\n",
      "Recompensa: -19\n",
      "Prompt: [INST] 31 es igual a [/INST]\n",
      "Respuesta: [INST] 31 es igual a [/INST] a [/INST] a [/INST] a\n",
      "Recompensa: -22\n"
     ]
    },
    {
     "name": "stderr",
     "output_type": "stream",
     "text": [
      "/home/aurora/miniconda3/lib/python3.11/site-packages/trl/trainer/ppo_trainer.py:1313: UserWarning: KL divergence is starting to become negative: -17.10 - this might be a precursor for failed training. sometimes this happens because the generation kwargs are not correctly set. Please make sure that the generation kwargs are set correctly, or review your training hyperparameters.\n",
      "  warnings.warn(\n",
      "Setting `pad_token_id` to `eos_token_id`:None for open-end generation.\n",
      "/home/aurora/miniconda3/lib/python3.11/site-packages/trl/trainer/ppo_trainer.py:1313: UserWarning: KL divergence is starting to become negative: -5.61 - this might be a precursor for failed training. sometimes this happens because the generation kwargs are not correctly set. Please make sure that the generation kwargs are set correctly, or review your training hyperparameters.\n",
      "  warnings.warn(\n",
      "Setting `pad_token_id` to `eos_token_id`:None for open-end generation.\n"
     ]
    },
    {
     "name": "stdout",
     "output_type": "stream",
     "text": [
      "Prompt: [INST] 34 es igual a [/INST]\n",
      "Respuesta: [INST] 34 es igual a [/INST] 34 es igualual a 34 es ig\n",
      "Recompensa: -25\n",
      "Prompt: [INST] 37 es igual a [/INST]\n",
      "Respuesta: [INST] 37 es igual a [/INST] 38 es igual a [1919a\n",
      "Recompensa: -28\n"
     ]
    },
    {
     "name": "stderr",
     "output_type": "stream",
     "text": [
      "/home/aurora/miniconda3/lib/python3.11/site-packages/trl/trainer/ppo_trainer.py:1313: UserWarning: KL divergence is starting to become negative: -3.15 - this might be a precursor for failed training. sometimes this happens because the generation kwargs are not correctly set. Please make sure that the generation kwargs are set correctly, or review your training hyperparameters.\n",
      "  warnings.warn(\n",
      "Setting `pad_token_id` to `eos_token_id`:None for open-end generation.\n",
      "/home/aurora/miniconda3/lib/python3.11/site-packages/trl/trainer/ppo_trainer.py:1313: UserWarning: KL divergence is starting to become negative: -3.74 - this might be a precursor for failed training. sometimes this happens because the generation kwargs are not correctly set. Please make sure that the generation kwargs are set correctly, or review your training hyperparameters.\n",
      "  warnings.warn(\n",
      "Setting `pad_token_id` to `eos_token_id`:None for open-end generation.\n"
     ]
    },
    {
     "name": "stdout",
     "output_type": "stream",
     "text": [
      "Prompt: [INST] 40 es igual a [/INST]\n",
      "Respuesta: [INST] 40 es igual a [/INST] 40 [/INST] 40 [/INST] 40\n",
      "Recompensa: -31\n",
      "Prompt: [INST] 43 es igual a [/INST]\n",
      "Respuesta: [INST] 43 es igual a [/INST] [/u [/u] [/u [/]\n",
      "Recompensa: -34\n"
     ]
    },
    {
     "name": "stderr",
     "output_type": "stream",
     "text": [
      "Setting `pad_token_id` to `eos_token_id`:None for open-end generation.\n",
      "/home/aurora/miniconda3/lib/python3.11/site-packages/trl/trainer/ppo_trainer.py:1313: UserWarning: KL divergence is starting to become negative: -9.53 - this might be a precursor for failed training. sometimes this happens because the generation kwargs are not correctly set. Please make sure that the generation kwargs are set correctly, or review your training hyperparameters.\n",
      "  warnings.warn(\n",
      "Setting `pad_token_id` to `eos_token_id`:None for open-end generation.\n"
     ]
    },
    {
     "name": "stdout",
     "output_type": "stream",
     "text": [
      "Prompt: [INST] 46 es igual a [/INST]\n",
      "Respuesta: [INST] 46 es igual a [/INST] 46 es igual [INST] 46 es\n",
      "Recompensa: -37\n",
      "Prompt: [INST] 49 es igual a [/INST]\n",
      "Respuesta: [INST] 49 es igual a [/INST]/[INST]/[INST]/\n",
      "Recompensa: -40\n"
     ]
    },
    {
     "name": "stderr",
     "output_type": "stream",
     "text": [
      "Setting `pad_token_id` to `eos_token_id`:None for open-end generation.\n",
      "/home/aurora/miniconda3/lib/python3.11/site-packages/trl/trainer/ppo_trainer.py:1313: UserWarning: KL divergence is starting to become negative: -7.41 - this might be a precursor for failed training. sometimes this happens because the generation kwargs are not correctly set. Please make sure that the generation kwargs are set correctly, or review your training hyperparameters.\n",
      "  warnings.warn(\n",
      "Setting `pad_token_id` to `eos_token_id`:None for open-end generation.\n"
     ]
    },
    {
     "name": "stdout",
     "output_type": "stream",
     "text": [
      "Prompt: [INST] 10 es igual a [/INST]\n",
      "Respuesta: [INST] 10 es igual a [/INST] 10 10 iguala [/INST] 10\n",
      "Recompensa: -1\n",
      "Prompt: [INST] 13 es igual a [/INST]\n",
      "Respuesta: [INST] 13 es igual a [/INST] 13 13 13 13 13 13 13 13 13\n",
      "Recompensa: -4\n"
     ]
    },
    {
     "name": "stderr",
     "output_type": "stream",
     "text": [
      "Setting `pad_token_id` to `eos_token_id`:None for open-end generation.\n",
      "Setting `pad_token_id` to `eos_token_id`:None for open-end generation.\n"
     ]
    },
    {
     "name": "stdout",
     "output_type": "stream",
     "text": [
      "Prompt: [INST] 16 es igual a [/INST]\n",
      "Respuesta: [INST] 16 es igual a [/INST] 16 igual a [/INST 16 es [/\n",
      "Recompensa: -7\n",
      "Prompt: [INST] 19 es igual a [/INST]\n",
      "Respuesta: [INST] 19 es igual a [/INST] 19 es [/INST]).\n",
      "\n",
      "19 19\n",
      "Recompensa: -10\n"
     ]
    },
    {
     "name": "stderr",
     "output_type": "stream",
     "text": [
      "Setting `pad_token_id` to `eos_token_id`:None for open-end generation.\n",
      "Setting `pad_token_id` to `eos_token_id`:None for open-end generation.\n"
     ]
    },
    {
     "name": "stdout",
     "output_type": "stream",
     "text": [
      "Prompt: [INST] 22 es igual a [/INST]\n",
      "Respuesta: [INST] 22 es igual a [/INST] [/INST]:] [/INSTIG] [/\n",
      "Recompensa: -13\n",
      "Prompt: [INST] 25 es igual a [/INST]\n",
      "Respuesta: [INST] 25 es igual a [/INST] 25 igual a [/ 25 25 25 25\n",
      "Recompensa: -16\n"
     ]
    },
    {
     "name": "stderr",
     "output_type": "stream",
     "text": [
      "Setting `pad_token_id` to `eos_token_id`:None for open-end generation.\n",
      "Setting `pad_token_id` to `eos_token_id`:None for open-end generation.\n"
     ]
    },
    {
     "name": "stdout",
     "output_type": "stream",
     "text": [
      "Prompt: [INST] 28 es igual a [/INST]\n",
      "Respuesta: [INST] 28 es igual a [/INST] 28 esa 28 esa 28 28 28\n",
      "Recompensa: -19\n",
      "Prompt: [INST] 31 es igual a [/INST]\n",
      "Respuesta: [INST] 31 es igual a [/INST] 31 es [/INST] 31 [/INST]\n",
      "Recompensa: -22\n"
     ]
    },
    {
     "name": "stderr",
     "output_type": "stream",
     "text": [
      "/home/aurora/miniconda3/lib/python3.11/site-packages/trl/trainer/ppo_trainer.py:1313: UserWarning: KL divergence is starting to become negative: -7.00 - this might be a precursor for failed training. sometimes this happens because the generation kwargs are not correctly set. Please make sure that the generation kwargs are set correctly, or review your training hyperparameters.\n",
      "  warnings.warn(\n",
      "Setting `pad_token_id` to `eos_token_id`:None for open-end generation.\n",
      "/home/aurora/miniconda3/lib/python3.11/site-packages/trl/trainer/ppo_trainer.py:1313: UserWarning: KL divergence is starting to become negative: -19.09 - this might be a precursor for failed training. sometimes this happens because the generation kwargs are not correctly set. Please make sure that the generation kwargs are set correctly, or review your training hyperparameters.\n",
      "  warnings.warn(\n",
      "Setting `pad_token_id` to `eos_token_id`:None for open-end generation.\n"
     ]
    },
    {
     "name": "stdout",
     "output_type": "stream",
     "text": [
      "Prompt: [INST] 34 es igual a [/INST]\n",
      "Respuesta: [INST] 34 es igual a [/INST] es igual a [/ES] 34 es\n",
      "Recompensa: -25\n",
      "Prompt: [INST] 37 es igual a [/INST]\n",
      "Respuesta: [INST] 37 es igual a [/INST] 37 es igual a [/INSTAG]\n",
      "Recompensa: -28\n"
     ]
    },
    {
     "name": "stderr",
     "output_type": "stream",
     "text": [
      "/home/aurora/miniconda3/lib/python3.11/site-packages/trl/trainer/ppo_trainer.py:1313: UserWarning: KL divergence is starting to become negative: -8.03 - this might be a precursor for failed training. sometimes this happens because the generation kwargs are not correctly set. Please make sure that the generation kwargs are set correctly, or review your training hyperparameters.\n",
      "  warnings.warn(\n",
      "Setting `pad_token_id` to `eos_token_id`:None for open-end generation.\n",
      "/home/aurora/miniconda3/lib/python3.11/site-packages/trl/trainer/ppo_trainer.py:1313: UserWarning: KL divergence is starting to become negative: -15.12 - this might be a precursor for failed training. sometimes this happens because the generation kwargs are not correctly set. Please make sure that the generation kwargs are set correctly, or review your training hyperparameters.\n",
      "  warnings.warn(\n",
      "Setting `pad_token_id` to `eos_token_id`:None for open-end generation.\n"
     ]
    },
    {
     "name": "stdout",
     "output_type": "stream",
     "text": [
      "Prompt: [INST] 40 es igual a [/INST]\n",
      "Respuesta: [INST] 40 es igual a [/INST] 40 es iguala [/INST] 40\n",
      "Recompensa: -31\n",
      "Prompt: [INST] 43 es igual a [/INST]\n",
      "Respuesta: [INST] 43 es igual a [/INST]] 43 43 43 igual [/INST]:\n",
      "Recompensa: -34\n"
     ]
    },
    {
     "name": "stderr",
     "output_type": "stream",
     "text": [
      "Setting `pad_token_id` to `eos_token_id`:None for open-end generation.\n",
      "Setting `pad_token_id` to `eos_token_id`:None for open-end generation.\n"
     ]
    },
    {
     "name": "stdout",
     "output_type": "stream",
     "text": [
      "Prompt: [INST] 46 es igual a [/INST]\n",
      "Respuesta: [INST] 46 es igual a [/INST]]: [INST] 46 es[/inst]\n",
      "Recompensa: -37\n",
      "Prompt: [INST] 49 es igual a [/INST]\n",
      "Respuesta: [INST] 49 es igual a [/INST] 49 es [/INST]) 49 49 49 49\n",
      "Recompensa: -40\n"
     ]
    },
    {
     "name": "stderr",
     "output_type": "stream",
     "text": [
      "Setting `pad_token_id` to `eos_token_id`:None for open-end generation.\n",
      "Setting `pad_token_id` to `eos_token_id`:None for open-end generation.\n"
     ]
    },
    {
     "name": "stdout",
     "output_type": "stream",
     "text": [
      "Prompt: [INST] 10 es igual a [/INST]\n",
      "Respuesta: [INST] 10 es igual a [/INST] 10 10 es 10 es 10 10 10 10\n",
      "Recompensa: -1\n",
      "Prompt: [INST] 13 es igual a [/INST]\n",
      "Respuesta: [INST] 13 es igual a [/INST] 13 13 es 13 13 13 13 13 13\n",
      "Recompensa: -4\n"
     ]
    },
    {
     "name": "stderr",
     "output_type": "stream",
     "text": [
      "Setting `pad_token_id` to `eos_token_id`:None for open-end generation.\n",
      "/home/aurora/miniconda3/lib/python3.11/site-packages/trl/trainer/ppo_trainer.py:1313: UserWarning: KL divergence is starting to become negative: -4.73 - this might be a precursor for failed training. sometimes this happens because the generation kwargs are not correctly set. Please make sure that the generation kwargs are set correctly, or review your training hyperparameters.\n",
      "  warnings.warn(\n",
      "Setting `pad_token_id` to `eos_token_id`:None for open-end generation.\n"
     ]
    },
    {
     "name": "stdout",
     "output_type": "stream",
     "text": [
      "Prompt: [INST] 16 es igual a [/INST]\n",
      "Respuesta: [INST] 16 es igual a [/INST] 17 igual a [/INST]-INST\n",
      "Recompensa: -7\n",
      "Prompt: [INST] 19 es igual a [/INST]\n",
      "Respuesta: [INST] 19 es igual a [/INST] 19 es igual [/INST 19 ] 19\n",
      "Recompensa: -10\n"
     ]
    },
    {
     "name": "stderr",
     "output_type": "stream",
     "text": [
      "Setting `pad_token_id` to `eos_token_id`:None for open-end generation.\n",
      "/home/aurora/miniconda3/lib/python3.11/site-packages/trl/trainer/ppo_trainer.py:1313: UserWarning: KL divergence is starting to become negative: -2.39 - this might be a precursor for failed training. sometimes this happens because the generation kwargs are not correctly set. Please make sure that the generation kwargs are set correctly, or review your training hyperparameters.\n",
      "  warnings.warn(\n",
      "Setting `pad_token_id` to `eos_token_id`:None for open-end generation.\n"
     ]
    },
    {
     "name": "stdout",
     "output_type": "stream",
     "text": [
      "Prompt: [INST] 22 es igual a [/INST]\n",
      "Respuesta: [INST] 22 es igual a [/INST] 22 22 22 [/INST] 22 22 [/\n",
      "Recompensa: -13\n",
      "Prompt: [INST] 25 es igual a [/INST]\n",
      "Respuesta: [INST] 25 es igual a [/INST] 25 igual a [/INST]:INST 25\n",
      "Recompensa: -16\n"
     ]
    },
    {
     "name": "stderr",
     "output_type": "stream",
     "text": [
      "Setting `pad_token_id` to `eos_token_id`:None for open-end generation.\n",
      "/home/aurora/miniconda3/lib/python3.11/site-packages/trl/trainer/ppo_trainer.py:1313: UserWarning: KL divergence is starting to become negative: -7.30 - this might be a precursor for failed training. sometimes this happens because the generation kwargs are not correctly set. Please make sure that the generation kwargs are set correctly, or review your training hyperparameters.\n",
      "  warnings.warn(\n",
      "Setting `pad_token_id` to `eos_token_id`:None for open-end generation.\n"
     ]
    },
    {
     "name": "stdout",
     "output_type": "stream",
     "text": [
      "Prompt: [INST] 28 es igual a [/INST]\n",
      "Respuesta: [INST] 28 es igual a [/INST] a, [INST] a, [INST\n",
      "Recompensa: -19\n",
      "Prompt: [INST] 31 es igual a [/INST]\n",
      "Respuesta: [INST] 31 es igual a [/INST] 31 e iguala a a 01 01\n",
      "Recompensa: -22\n"
     ]
    },
    {
     "name": "stderr",
     "output_type": "stream",
     "text": [
      "Setting `pad_token_id` to `eos_token_id`:None for open-end generation.\n",
      "/home/aurora/miniconda3/lib/python3.11/site-packages/trl/trainer/ppo_trainer.py:1313: UserWarning: KL divergence is starting to become negative: -7.02 - this might be a precursor for failed training. sometimes this happens because the generation kwargs are not correctly set. Please make sure that the generation kwargs are set correctly, or review your training hyperparameters.\n",
      "  warnings.warn(\n",
      "Setting `pad_token_id` to `eos_token_id`:None for open-end generation.\n"
     ]
    },
    {
     "name": "stdout",
     "output_type": "stream",
     "text": [
      "Prompt: [INST] 34 es igual a [/INST]\n",
      "Respuesta: [INST] 34 es igual a [/INST] 34 34 a [/INST] a [/INST\n",
      "Recompensa: -25\n",
      "Prompt: [INST] 37 es igual a [/INST]\n",
      "Respuesta: [INST] 37 es igual a [/INST] 37 es, igual a [/INST]\n",
      "Recompensa: -28\n"
     ]
    },
    {
     "name": "stderr",
     "output_type": "stream",
     "text": [
      "/home/aurora/miniconda3/lib/python3.11/site-packages/trl/trainer/ppo_trainer.py:1313: UserWarning: KL divergence is starting to become negative: -9.47 - this might be a precursor for failed training. sometimes this happens because the generation kwargs are not correctly set. Please make sure that the generation kwargs are set correctly, or review your training hyperparameters.\n",
      "  warnings.warn(\n",
      "Setting `pad_token_id` to `eos_token_id`:None for open-end generation.\n",
      "Setting `pad_token_id` to `eos_token_id`:None for open-end generation.\n"
     ]
    },
    {
     "name": "stdout",
     "output_type": "stream",
     "text": [
      "Prompt: [INST] 40 es igual a [/INST]\n",
      "Respuesta: [INST] 40 es igual a [/INST] 40 es [/INSTINST]);\n",
      "\n",
      "\n",
      "\n",
      "Recompensa: -31\n",
      "Prompt: [INST] 43 es igual a [/INST]\n",
      "Respuesta: [INST] 43 es igual a [/INST] 44 ef fd 14 04 04 00\n",
      "Recompensa: -34\n"
     ]
    },
    {
     "name": "stderr",
     "output_type": "stream",
     "text": [
      "Setting `pad_token_id` to `eos_token_id`:None for open-end generation.\n",
      "/home/aurora/miniconda3/lib/python3.11/site-packages/trl/trainer/ppo_trainer.py:1313: UserWarning: KL divergence is starting to become negative: -14.06 - this might be a precursor for failed training. sometimes this happens because the generation kwargs are not correctly set. Please make sure that the generation kwargs are set correctly, or review your training hyperparameters.\n",
      "  warnings.warn(\n",
      "Setting `pad_token_id` to `eos_token_id`:None for open-end generation.\n"
     ]
    },
    {
     "name": "stdout",
     "output_type": "stream",
     "text": [
      "Prompt: [INST] 46 es igual a [/INST]\n",
      "Respuesta: [INST] 46 es igual a [/INST] 47 es es f [/INST] 48 es\n",
      "Recompensa: -37\n",
      "Prompt: [INST] 49 es igual a [/INST]\n",
      "Respuesta: [INST] 49 es igual a [/INST] 49 es [/INST] 49 es a [/\n",
      "Recompensa: -40\n"
     ]
    },
    {
     "name": "stderr",
     "output_type": "stream",
     "text": [
      "/home/aurora/miniconda3/lib/python3.11/site-packages/trl/trainer/ppo_trainer.py:1313: UserWarning: KL divergence is starting to become negative: -14.65 - this might be a precursor for failed training. sometimes this happens because the generation kwargs are not correctly set. Please make sure that the generation kwargs are set correctly, or review your training hyperparameters.\n",
      "  warnings.warn(\n",
      "Setting `pad_token_id` to `eos_token_id`:None for open-end generation.\n",
      "/home/aurora/miniconda3/lib/python3.11/site-packages/trl/trainer/ppo_trainer.py:1313: UserWarning: KL divergence is starting to become negative: -20.73 - this might be a precursor for failed training. sometimes this happens because the generation kwargs are not correctly set. Please make sure that the generation kwargs are set correctly, or review your training hyperparameters.\n",
      "  warnings.warn(\n",
      "Setting `pad_token_id` to `eos_token_id`:None for open-end generation.\n"
     ]
    },
    {
     "name": "stdout",
     "output_type": "stream",
     "text": [
      "Prompt: [INST] 10 es igual a [/INST]\n",
      "Respuesta: [INST] 10 es igual a [/INST] [/INST] 10 igual a [/INST\n",
      "Recompensa: -1\n",
      "Prompt: [INST] 13 es igual a [/INST]\n",
      "Respuesta: [INST] 13 es igual a [/INST] 13 es 13 es 13 13 13 13 13\n",
      "Recompensa: -4\n"
     ]
    },
    {
     "name": "stderr",
     "output_type": "stream",
     "text": [
      "Setting `pad_token_id` to `eos_token_id`:None for open-end generation.\n",
      "/home/aurora/miniconda3/lib/python3.11/site-packages/trl/trainer/ppo_trainer.py:1313: UserWarning: KL divergence is starting to become negative: -14.42 - this might be a precursor for failed training. sometimes this happens because the generation kwargs are not correctly set. Please make sure that the generation kwargs are set correctly, or review your training hyperparameters.\n",
      "  warnings.warn(\n",
      "Setting `pad_token_id` to `eos_token_id`:None for open-end generation.\n"
     ]
    },
    {
     "name": "stdout",
     "output_type": "stream",
     "text": [
      "Prompt: [INST] 16 es igual a [/INST]\n",
      "Respuesta: [INST] 16 es igual a [/INST] 16 iguala [/INST] 16 ig\n",
      "Recompensa: -7\n",
      "Prompt: [INST] 19 es igual a [/INST]\n",
      "Respuesta: [INST] 19 es igual a [/INST](INST)[/INST) 19 19 es\n",
      "Recompensa: -10\n"
     ]
    },
    {
     "name": "stderr",
     "output_type": "stream",
     "text": [
      "/home/aurora/miniconda3/lib/python3.11/site-packages/trl/trainer/ppo_trainer.py:1313: UserWarning: KL divergence is starting to become negative: -5.59 - this might be a precursor for failed training. sometimes this happens because the generation kwargs are not correctly set. Please make sure that the generation kwargs are set correctly, or review your training hyperparameters.\n",
      "  warnings.warn(\n",
      "Setting `pad_token_id` to `eos_token_id`:None for open-end generation.\n",
      "Setting `pad_token_id` to `eos_token_id`:None for open-end generation.\n"
     ]
    },
    {
     "name": "stdout",
     "output_type": "stream",
     "text": [
      "Prompt: [INST] 22 es igual a [/INST]\n",
      "Respuesta: [INST] 22 es igual a [/INST] 22 esi [/INST]:[INSTINST\n",
      "Recompensa: -13\n",
      "Prompt: [INST] 25 es igual a [/INST]\n",
      "Respuesta: [INST] 25 es igual a [/INST] 25 ig aINST 25 ig aINST 25\n",
      "Recompensa: -16\n"
     ]
    },
    {
     "name": "stderr",
     "output_type": "stream",
     "text": [
      "/home/aurora/miniconda3/lib/python3.11/site-packages/trl/trainer/ppo_trainer.py:1313: UserWarning: KL divergence is starting to become negative: -6.59 - this might be a precursor for failed training. sometimes this happens because the generation kwargs are not correctly set. Please make sure that the generation kwargs are set correctly, or review your training hyperparameters.\n",
      "  warnings.warn(\n",
      "Setting `pad_token_id` to `eos_token_id`:None for open-end generation.\n",
      "Setting `pad_token_id` to `eos_token_id`:None for open-end generation.\n"
     ]
    },
    {
     "name": "stdout",
     "output_type": "stream",
     "text": [
      "Prompt: [INST] 28 es igual a [/INST]\n",
      "Respuesta: [INST] 28 es igual a [/INST] 28 ] 28 28 28 28 28 28 28\n",
      "Recompensa: -19\n",
      "Prompt: [INST] 31 es igual a [/INST]\n",
      "Respuesta: [INST] 31 es igual a [/INST]].\n",
      "\n",
      "[INST.add(INST\n",
      "Recompensa: -22\n"
     ]
    },
    {
     "name": "stderr",
     "output_type": "stream",
     "text": [
      "Setting `pad_token_id` to `eos_token_id`:None for open-end generation.\n",
      "Setting `pad_token_id` to `eos_token_id`:None for open-end generation.\n"
     ]
    },
    {
     "name": "stdout",
     "output_type": "stream",
     "text": [
      "Prompt: [INST] 34 es igual a [/INST]\n",
      "Respuesta: [INST] 34 es igual a [/INST] [/INST]: 34 es igualual [/\n",
      "Recompensa: -25\n",
      "Prompt: [INST] 37 es igual a [/INST]\n",
      "Respuesta: [INST] 37 es igual a [/INST]); igual[INST:INST:INST\n",
      "Recompensa: -28\n"
     ]
    },
    {
     "name": "stderr",
     "output_type": "stream",
     "text": [
      "Setting `pad_token_id` to `eos_token_id`:None for open-end generation.\n",
      "Setting `pad_token_id` to `eos_token_id`:None for open-end generation.\n"
     ]
    },
    {
     "name": "stdout",
     "output_type": "stream",
     "text": [
      "Prompt: [INST] 40 es igual a [/INST]\n",
      "Respuesta: [INST] 40 es igual a [/INST] [/INST]] [/INST[/INST]\n",
      "Recompensa: -31\n",
      "Prompt: [INST] 43 es igual a [/INST]\n",
      "Respuesta: [INST] 43 es igual a [/INST] [E] [E[E] [\n",
      "Recompensa: -34\n"
     ]
    },
    {
     "name": "stderr",
     "output_type": "stream",
     "text": [
      "Setting `pad_token_id` to `eos_token_id`:None for open-end generation.\n",
      "Setting `pad_token_id` to `eos_token_id`:None for open-end generation.\n"
     ]
    },
    {
     "name": "stdout",
     "output_type": "stream",
     "text": [
      "Prompt: [INST] 46 es igual a [/INST]\n",
      "Respuesta: [INST] 46 es igual a [/INST]+b [/INST]+b [/INST\n",
      "Recompensa: -37\n",
      "Prompt: [INST] 49 es igual a [/INST]\n",
      "Respuesta: [INST] 49 es igual a [/INST] 49 espa a [/ESPID]\n",
      "Recompensa: -40\n"
     ]
    },
    {
     "name": "stderr",
     "output_type": "stream",
     "text": [
      "/home/aurora/miniconda3/lib/python3.11/site-packages/trl/trainer/ppo_trainer.py:1313: UserWarning: KL divergence is starting to become negative: -4.06 - this might be a precursor for failed training. sometimes this happens because the generation kwargs are not correctly set. Please make sure that the generation kwargs are set correctly, or review your training hyperparameters.\n",
      "  warnings.warn(\n",
      "Setting `pad_token_id` to `eos_token_id`:None for open-end generation.\n",
      "/home/aurora/miniconda3/lib/python3.11/site-packages/trl/trainer/ppo_trainer.py:1313: UserWarning: KL divergence is starting to become negative: -7.04 - this might be a precursor for failed training. sometimes this happens because the generation kwargs are not correctly set. Please make sure that the generation kwargs are set correctly, or review your training hyperparameters.\n",
      "  warnings.warn(\n",
      "Setting `pad_token_id` to `eos_token_id`:None for open-end generation.\n"
     ]
    },
    {
     "name": "stdout",
     "output_type": "stream",
     "text": [
      "Prompt: [INST] 10 es igual a [/INST]\n",
      "Respuesta: [INST] 10 es igual a [/INST] 10 igual a [/INST 10 igual\n",
      "Recompensa: -1\n",
      "Prompt: [INST] 13 es igual a [/INST]\n",
      "Respuesta: [INST] 13 es igual a [/INST] 13 es igual [/INST] 13 13\n",
      "Recompensa: -4\n"
     ]
    },
    {
     "name": "stderr",
     "output_type": "stream",
     "text": [
      "/home/aurora/miniconda3/lib/python3.11/site-packages/trl/trainer/ppo_trainer.py:1313: UserWarning: KL divergence is starting to become negative: -11.94 - this might be a precursor for failed training. sometimes this happens because the generation kwargs are not correctly set. Please make sure that the generation kwargs are set correctly, or review your training hyperparameters.\n",
      "  warnings.warn(\n",
      "Setting `pad_token_id` to `eos_token_id`:None for open-end generation.\n",
      "Setting `pad_token_id` to `eos_token_id`:None for open-end generation.\n"
     ]
    },
    {
     "name": "stdout",
     "output_type": "stream",
     "text": [
      "Prompt: [INST] 16 es igual a [/INST]\n",
      "Respuesta: [INST] 16 es igual a [/INST] 16 igual [/16] 16 igual\n",
      "Recompensa: -7\n",
      "Prompt: [INST] 19 es igual a [/INST]\n",
      "Respuesta: [INST] 19 es igual a [/INST] 19 19:02:23 19 es ig\n",
      "Recompensa: -10\n"
     ]
    },
    {
     "name": "stderr",
     "output_type": "stream",
     "text": [
      "Setting `pad_token_id` to `eos_token_id`:None for open-end generation.\n",
      "/home/aurora/miniconda3/lib/python3.11/site-packages/trl/trainer/ppo_trainer.py:1313: UserWarning: KL divergence is starting to become negative: -9.23 - this might be a precursor for failed training. sometimes this happens because the generation kwargs are not correctly set. Please make sure that the generation kwargs are set correctly, or review your training hyperparameters.\n",
      "  warnings.warn(\n",
      "Setting `pad_token_id` to `eos_token_id`:None for open-end generation.\n"
     ]
    },
    {
     "name": "stdout",
     "output_type": "stream",
     "text": [
      "Prompt: [INST] 22 es igual a [/INST]\n",
      "Respuesta: [INST] 22 es igual a [/INST] 22 igual a [/INST]) 22 ig\n",
      "Recompensa: -13\n",
      "Prompt: [INST] 25 es igual a [/INST]\n",
      "Respuesta: [INST] 25 es igual a [/INST] 25 igual 25 igual 25 igual\n",
      "Recompensa: -16\n"
     ]
    },
    {
     "name": "stderr",
     "output_type": "stream",
     "text": [
      "/home/aurora/miniconda3/lib/python3.11/site-packages/trl/trainer/ppo_trainer.py:1313: UserWarning: KL divergence is starting to become negative: -6.78 - this might be a precursor for failed training. sometimes this happens because the generation kwargs are not correctly set. Please make sure that the generation kwargs are set correctly, or review your training hyperparameters.\n",
      "  warnings.warn(\n",
      "Setting `pad_token_id` to `eos_token_id`:None for open-end generation.\n",
      "Setting `pad_token_id` to `eos_token_id`:None for open-end generation.\n"
     ]
    },
    {
     "name": "stdout",
     "output_type": "stream",
     "text": [
      "Prompt: [INST] 28 es igual a [/INST]\n",
      "Respuesta: [INST] 28 es igual a [/INST] 28 28 [28] 28 28 28 [\n",
      "Recompensa: -19\n",
      "Prompt: [INST] 31 es igual a [/INST]\n",
      "Respuesta: [INST] 31 es igual a [/INST] for [INST]:ef;ef;ef\n",
      "Recompensa: -22\n"
     ]
    },
    {
     "name": "stderr",
     "output_type": "stream",
     "text": [
      "/home/aurora/miniconda3/lib/python3.11/site-packages/trl/trainer/ppo_trainer.py:1313: UserWarning: KL divergence is starting to become negative: -5.32 - this might be a precursor for failed training. sometimes this happens because the generation kwargs are not correctly set. Please make sure that the generation kwargs are set correctly, or review your training hyperparameters.\n",
      "  warnings.warn(\n",
      "Setting `pad_token_id` to `eos_token_id`:None for open-end generation.\n",
      "Setting `pad_token_id` to `eos_token_id`:None for open-end generation.\n"
     ]
    },
    {
     "name": "stdout",
     "output_type": "stream",
     "text": [
      "Prompt: [INST] 34 es igual a [/INST]\n",
      "Respuesta: [INST] 34 es igual a [/INST]]:]:]:]:]:]:]:]:]:\n",
      "Recompensa: -25\n",
      "Prompt: [INST] 37 es igual a [/INST]\n",
      "Respuesta: [INST] 37 es igual a [/INST] 37 igual a [/INST] 37 ig\n",
      "Recompensa: -28\n"
     ]
    },
    {
     "name": "stderr",
     "output_type": "stream",
     "text": [
      "/home/aurora/miniconda3/lib/python3.11/site-packages/trl/trainer/ppo_trainer.py:1313: UserWarning: KL divergence is starting to become negative: -16.83 - this might be a precursor for failed training. sometimes this happens because the generation kwargs are not correctly set. Please make sure that the generation kwargs are set correctly, or review your training hyperparameters.\n",
      "  warnings.warn(\n",
      "Setting `pad_token_id` to `eos_token_id`:None for open-end generation.\n",
      "Setting `pad_token_id` to `eos_token_id`:None for open-end generation.\n"
     ]
    },
    {
     "name": "stdout",
     "output_type": "stream",
     "text": [
      "Prompt: [INST] 40 es igual a [/INST]\n",
      "Respuesta: [INST] 40 es igual a [/INST][INSTINSTINST]+20 20 20\n",
      "Recompensa: -31\n"
     ]
    },
    {
     "name": "stderr",
     "output_type": "stream",
     "text": [
      "Setting `pad_token_id` to `eos_token_id`:None for open-end generation.\n"
     ]
    },
    {
     "name": "stdout",
     "output_type": "stream",
     "text": [
      "Prompt: [INST] 43 es igual a [/INST]\n",
      "Respuesta: [INST] 43 es igual a [/INST] 43 13:13) 13-13 16\n",
      "Recompensa: -34\n",
      "Prompt: [INST] 46 es igual a [/INST]\n",
      "Respuesta: [INST] 46 es igual a [/INST] 46] 46 46 46\") 46 46 46\n",
      "Recompensa: -37\n"
     ]
    },
    {
     "name": "stderr",
     "output_type": "stream",
     "text": [
      "Setting `pad_token_id` to `eos_token_id`:None for open-end generation.\n",
      "Setting `pad_token_id` to `eos_token_id`:None for open-end generation.\n"
     ]
    },
    {
     "name": "stdout",
     "output_type": "stream",
     "text": [
      "Prompt: [INST] 49 es igual a [/INST]\n",
      "Respuesta: [INST] 49 es igual a [/INST] [INST] 49 49 iguan a 49\n",
      "Recompensa: -40\n",
      "Prompt: [INST] 10 es igual a [/INST]\n",
      "Respuesta: [INST] 10 es igual a [/INST] 10 igual ig [/INST 10]) [/\n",
      "Recompensa: -1\n"
     ]
    },
    {
     "name": "stderr",
     "output_type": "stream",
     "text": [
      "Setting `pad_token_id` to `eos_token_id`:None for open-end generation.\n",
      "/home/aurora/miniconda3/lib/python3.11/site-packages/trl/trainer/ppo_trainer.py:1313: UserWarning: KL divergence is starting to become negative: -4.67 - this might be a precursor for failed training. sometimes this happens because the generation kwargs are not correctly set. Please make sure that the generation kwargs are set correctly, or review your training hyperparameters.\n",
      "  warnings.warn(\n",
      "Setting `pad_token_id` to `eos_token_id`:None for open-end generation.\n"
     ]
    },
    {
     "name": "stdout",
     "output_type": "stream",
     "text": [
      "Prompt: [INST] 13 es igual a [/INST]\n",
      "Respuesta: [INST] 13 es igual a [/INST] 13 13 13 13 13 13 13 13 13\n",
      "Recompensa: -4\n",
      "Prompt: [INST] 16 es igual a [/INST]\n",
      "Respuesta: [INST] 16 es igual a [/INST] 16 igual [/INST]) [/INST 16\n",
      "Recompensa: -7\n"
     ]
    },
    {
     "name": "stderr",
     "output_type": "stream",
     "text": [
      "Setting `pad_token_id` to `eos_token_id`:None for open-end generation.\n",
      "/home/aurora/miniconda3/lib/python3.11/site-packages/trl/trainer/ppo_trainer.py:1313: UserWarning: KL divergence is starting to become negative: -6.98 - this might be a precursor for failed training. sometimes this happens because the generation kwargs are not correctly set. Please make sure that the generation kwargs are set correctly, or review your training hyperparameters.\n",
      "  warnings.warn(\n",
      "Setting `pad_token_id` to `eos_token_id`:None for open-end generation.\n"
     ]
    },
    {
     "name": "stdout",
     "output_type": "stream",
     "text": [
      "Prompt: [INST] 19 es igual a [/INST]\n",
      "Respuesta: [INST] 19 es igual a [/INST] 19 igual a [/INST 19 esual\n",
      "Recompensa: -10\n",
      "Prompt: [INST] 22 es igual a [/INST]\n",
      "Respuesta: [INST] 22 es igual a [/INST] 22 iguals [/INST]) 22 ig\n",
      "Recompensa: -13\n"
     ]
    },
    {
     "name": "stderr",
     "output_type": "stream",
     "text": [
      "/home/aurora/miniconda3/lib/python3.11/site-packages/trl/trainer/ppo_trainer.py:1313: UserWarning: KL divergence is starting to become negative: -11.99 - this might be a precursor for failed training. sometimes this happens because the generation kwargs are not correctly set. Please make sure that the generation kwargs are set correctly, or review your training hyperparameters.\n",
      "  warnings.warn(\n",
      "Setting `pad_token_id` to `eos_token_id`:None for open-end generation.\n",
      "Setting `pad_token_id` to `eos_token_id`:None for open-end generation.\n"
     ]
    },
    {
     "name": "stdout",
     "output_type": "stream",
     "text": [
      "Prompt: [INST] 25 es igual a [/INST]\n",
      "Respuesta: [INST] 25 es igual a [/INST] 25 25 25 esb 25 25 25 25\n",
      "Recompensa: -16\n",
      "Prompt: [INST] 28 es igual a [/INST]\n",
      "Respuesta: [INST] 28 es igual a [/INST] 22 es igual [/INST] 22\n",
      "\n",
      "Recompensa: -19\n"
     ]
    },
    {
     "name": "stderr",
     "output_type": "stream",
     "text": [
      "/home/aurora/miniconda3/lib/python3.11/site-packages/trl/trainer/ppo_trainer.py:1313: UserWarning: KL divergence is starting to become negative: -4.69 - this might be a precursor for failed training. sometimes this happens because the generation kwargs are not correctly set. Please make sure that the generation kwargs are set correctly, or review your training hyperparameters.\n",
      "  warnings.warn(\n",
      "Setting `pad_token_id` to `eos_token_id`:None for open-end generation.\n",
      "Setting `pad_token_id` to `eos_token_id`:None for open-end generation.\n"
     ]
    },
    {
     "name": "stdout",
     "output_type": "stream",
     "text": [
      "Prompt: [INST] 31 es igual a [/INST]\n",
      "Respuesta: [INST] 31 es igual a [/INST][s][NO OUT]];\n",
      "\n",
      "Recompensa: -22\n",
      "Prompt: [INST] 34 es igual a [/INST]\n",
      "Respuesta: [INST] 34 es igual a [/INST] [/INST]: [/INST] 34 es)\"\n",
      "Recompensa: -25\n"
     ]
    },
    {
     "name": "stderr",
     "output_type": "stream",
     "text": [
      "Setting `pad_token_id` to `eos_token_id`:None for open-end generation.\n",
      "Setting `pad_token_id` to `eos_token_id`:None for open-end generation.\n"
     ]
    },
    {
     "name": "stdout",
     "output_type": "stream",
     "text": [
      "Prompt: [INST] 37 es igual a [/INST]\n",
      "Respuesta: [INST] 37 es igual a [/INST] 37 37 37 37 a a a]) {\n",
      "Recompensa: -28\n",
      "Prompt: [INST] 40 es igual a [/INST]\n",
      "Respuesta: [INST] 40 es igual a [/INST] [/INST]:[INSTINSTINSTINSTINST\n",
      "Recompensa: -31\n"
     ]
    },
    {
     "name": "stderr",
     "output_type": "stream",
     "text": [
      "Setting `pad_token_id` to `eos_token_id`:None for open-end generation.\n",
      "Setting `pad_token_id` to `eos_token_id`:None for open-end generation.\n"
     ]
    },
    {
     "name": "stdout",
     "output_type": "stream",
     "text": [
      "Prompt: [INST] 43 es igual a [/INST]\n",
      "Respuesta: [INST] 43 es igual a [/INST] 43 es ig [/INST 43 43\n",
      "\n",
      "\n",
      "Recompensa: -34\n",
      "Prompt: [INST] 46 es igual a [/INST]\n",
      "Respuesta: [INST] 46 es igual a [/INST] 46 es igual a [/INST] 46\n",
      "Recompensa: -37\n"
     ]
    },
    {
     "name": "stderr",
     "output_type": "stream",
     "text": [
      "/home/aurora/miniconda3/lib/python3.11/site-packages/trl/trainer/ppo_trainer.py:1313: UserWarning: KL divergence is starting to become negative: -48.15 - this might be a precursor for failed training. sometimes this happens because the generation kwargs are not correctly set. Please make sure that the generation kwargs are set correctly, or review your training hyperparameters.\n",
      "  warnings.warn(\n",
      "Setting `pad_token_id` to `eos_token_id`:None for open-end generation.\n",
      "/home/aurora/miniconda3/lib/python3.11/site-packages/trl/trainer/ppo_trainer.py:1313: UserWarning: KL divergence is starting to become negative: -11.82 - this might be a precursor for failed training. sometimes this happens because the generation kwargs are not correctly set. Please make sure that the generation kwargs are set correctly, or review your training hyperparameters.\n",
      "  warnings.warn(\n",
      "Setting `pad_token_id` to `eos_token_id`:None for open-end generation.\n"
     ]
    },
    {
     "name": "stdout",
     "output_type": "stream",
     "text": [
      "Prompt: [INST] 49 es igual a [/INST]\n",
      "Respuesta: [INST] 49 es igual a [/INST] 49 es ig[/INST].\n",
      "\n",
      "Now\n",
      "Recompensa: -40\n",
      "Prompt: [INST] 10 es igual a [/INST]\n",
      "Respuesta: [INST] 10 es igual a [/INST] 10\n",
      "\n",
      "10\n",
      "\n",
      "\n",
      "10\n",
      "\n",
      "Recompensa: -1\n"
     ]
    },
    {
     "name": "stderr",
     "output_type": "stream",
     "text": [
      "/home/aurora/miniconda3/lib/python3.11/site-packages/trl/trainer/ppo_trainer.py:1313: UserWarning: KL divergence is starting to become negative: -14.47 - this might be a precursor for failed training. sometimes this happens because the generation kwargs are not correctly set. Please make sure that the generation kwargs are set correctly, or review your training hyperparameters.\n",
      "  warnings.warn(\n",
      "Setting `pad_token_id` to `eos_token_id`:None for open-end generation.\n",
      "/home/aurora/miniconda3/lib/python3.11/site-packages/trl/trainer/ppo_trainer.py:1313: UserWarning: KL divergence is starting to become negative: -10.25 - this might be a precursor for failed training. sometimes this happens because the generation kwargs are not correctly set. Please make sure that the generation kwargs are set correctly, or review your training hyperparameters.\n",
      "  warnings.warn(\n",
      "Setting `pad_token_id` to `eos_token_id`:None for open-end generation.\n"
     ]
    },
    {
     "name": "stdout",
     "output_type": "stream",
     "text": [
      "Prompt: [INST] 13 es igual a [/INST]\n",
      "Respuesta: [INST] 13 es igual a [/INST] 13 13 13 13 13 13 13 13 13\n",
      "Recompensa: -4\n",
      "Prompt: [INST] 16 es igual a [/INST]\n",
      "Respuesta: [INST] 16 es igual a [/INST] 16 16 16 16 16 16 [/INST 16\n",
      "Recompensa: -7\n"
     ]
    },
    {
     "name": "stderr",
     "output_type": "stream",
     "text": [
      "Setting `pad_token_id` to `eos_token_id`:None for open-end generation.\n",
      "/home/aurora/miniconda3/lib/python3.11/site-packages/trl/trainer/ppo_trainer.py:1313: UserWarning: KL divergence is starting to become negative: -5.92 - this might be a precursor for failed training. sometimes this happens because the generation kwargs are not correctly set. Please make sure that the generation kwargs are set correctly, or review your training hyperparameters.\n",
      "  warnings.warn(\n",
      "Setting `pad_token_id` to `eos_token_id`:None for open-end generation.\n"
     ]
    },
    {
     "name": "stdout",
     "output_type": "stream",
     "text": [
      "Prompt: [INST] 19 es igual a [/INST]\n",
      "Respuesta: [INST] 19 es igual a [/INST] 19 19 [/INST]- [/INST]\n",
      "Recompensa: -10\n",
      "Prompt: [INST] 22 es igual a [/INST]\n",
      "Respuesta: [INST] 22 es igual a [/INST]\n",
      "\n",
      "\n",
      "22 es [/INST]\n",
      "\n",
      "Recompensa: -13\n"
     ]
    },
    {
     "name": "stderr",
     "output_type": "stream",
     "text": [
      "/home/aurora/miniconda3/lib/python3.11/site-packages/trl/trainer/ppo_trainer.py:1313: UserWarning: KL divergence is starting to become negative: -4.84 - this might be a precursor for failed training. sometimes this happens because the generation kwargs are not correctly set. Please make sure that the generation kwargs are set correctly, or review your training hyperparameters.\n",
      "  warnings.warn(\n",
      "Setting `pad_token_id` to `eos_token_id`:None for open-end generation.\n",
      "Setting `pad_token_id` to `eos_token_id`:None for open-end generation.\n"
     ]
    },
    {
     "name": "stdout",
     "output_type": "stream",
     "text": [
      "Prompt: [INST] 25 es igual a [/INST]\n",
      "Respuesta: [INST] 25 es igual a [/INST] 25 es, 25 es, 25) 25\n",
      "Recompensa: -16\n",
      "Prompt: [INST] 28 es igual a [/INST]\n",
      "Respuesta: [INST] 28 es igual a [/INST]]: [sighsighs [a\n",
      "Recompensa: -19\n"
     ]
    },
    {
     "name": "stderr",
     "output_type": "stream",
     "text": [
      "Setting `pad_token_id` to `eos_token_id`:None for open-end generation.\n",
      "Setting `pad_token_id` to `eos_token_id`:None for open-end generation.\n"
     ]
    },
    {
     "name": "stdout",
     "output_type": "stream",
     "text": [
      "Prompt: [INST] 31 es igual a [/INST]\n",
      "Respuesta: [INST] 31 es igual a [/INST] 31 fe [/INST 31 fe [/INST])\n",
      "Recompensa: -22\n",
      "Prompt: [INST] 34 es igual a [/INST]\n",
      "Respuesta: [INST] 34 es igual a [/INST] 34 igual [/INST] 34 igual\n",
      "Recompensa: -25\n"
     ]
    },
    {
     "name": "stderr",
     "output_type": "stream",
     "text": [
      "/home/aurora/miniconda3/lib/python3.11/site-packages/trl/trainer/ppo_trainer.py:1313: UserWarning: KL divergence is starting to become negative: -44.46 - this might be a precursor for failed training. sometimes this happens because the generation kwargs are not correctly set. Please make sure that the generation kwargs are set correctly, or review your training hyperparameters.\n",
      "  warnings.warn(\n",
      "Setting `pad_token_id` to `eos_token_id`:None for open-end generation.\n",
      "Setting `pad_token_id` to `eos_token_id`:None for open-end generation.\n"
     ]
    },
    {
     "name": "stdout",
     "output_type": "stream",
     "text": [
      "Prompt: [INST] 37 es igual a [/INST]\n",
      "Respuesta: [INST] 37 es igual a [/INST] [/INST [/INSTINST [/INST [/INST\n",
      "Recompensa: -28\n",
      "Prompt: [INST] 40 es igual a [/INST]\n",
      "Respuesta: [INST] 40 es igual a [/INST] [/INST 20 es [/INST 20]) [/\n",
      "Recompensa: -31\n"
     ]
    },
    {
     "name": "stderr",
     "output_type": "stream",
     "text": [
      "Setting `pad_token_id` to `eos_token_id`:None for open-end generation.\n",
      "/home/aurora/miniconda3/lib/python3.11/site-packages/trl/trainer/ppo_trainer.py:1313: UserWarning: KL divergence is starting to become negative: -2.38 - this might be a precursor for failed training. sometimes this happens because the generation kwargs are not correctly set. Please make sure that the generation kwargs are set correctly, or review your training hyperparameters.\n",
      "  warnings.warn(\n",
      "Setting `pad_token_id` to `eos_token_id`:None for open-end generation.\n"
     ]
    },
    {
     "name": "stdout",
     "output_type": "stream",
     "text": [
      "Prompt: [INST] 43 es igual a [/INST]\n",
      "Respuesta: [INST] 43 es igual a [/INST] 43 43\n",
      "\n",
      "INSTECTION]\n",
      "\n",
      "\n",
      "Recompensa: -34\n",
      "Prompt: [INST] 46 es igual a [/INST]\n",
      "Respuesta: [INST] 46 es igual a [/INST] 46 es iguala-a-a\n",
      "Recompensa: -37\n"
     ]
    },
    {
     "name": "stderr",
     "output_type": "stream",
     "text": [
      "/home/aurora/miniconda3/lib/python3.11/site-packages/trl/trainer/ppo_trainer.py:1313: UserWarning: KL divergence is starting to become negative: -54.30 - this might be a precursor for failed training. sometimes this happens because the generation kwargs are not correctly set. Please make sure that the generation kwargs are set correctly, or review your training hyperparameters.\n",
      "  warnings.warn(\n",
      "Setting `pad_token_id` to `eos_token_id`:None for open-end generation.\n",
      "/home/aurora/miniconda3/lib/python3.11/site-packages/trl/trainer/ppo_trainer.py:1313: UserWarning: KL divergence is starting to become negative: -11.40 - this might be a precursor for failed training. sometimes this happens because the generation kwargs are not correctly set. Please make sure that the generation kwargs are set correctly, or review your training hyperparameters.\n",
      "  warnings.warn(\n",
      "Setting `pad_token_id` to `eos_token_id`:None for open-end generation.\n"
     ]
    },
    {
     "name": "stdout",
     "output_type": "stream",
     "text": [
      "Prompt: [INST] 49 es igual a [/INST]\n",
      "Respuesta: [INST] 49 es igual a [/INST]\", \"subclass\":null,\"name\":\n",
      "Recompensa: -40\n",
      "Prompt: [INST] 10 es igual a [/INST]\n",
      "Respuesta: [INST] 10 es igual a [/INST] 10 a [/INST 10 [/INST 10 ],\n",
      "Recompensa: -1\n"
     ]
    },
    {
     "name": "stderr",
     "output_type": "stream",
     "text": [
      "/home/aurora/miniconda3/lib/python3.11/site-packages/trl/trainer/ppo_trainer.py:1313: UserWarning: KL divergence is starting to become negative: -6.35 - this might be a precursor for failed training. sometimes this happens because the generation kwargs are not correctly set. Please make sure that the generation kwargs are set correctly, or review your training hyperparameters.\n",
      "  warnings.warn(\n",
      "Setting `pad_token_id` to `eos_token_id`:None for open-end generation.\n",
      "Setting `pad_token_id` to `eos_token_id`:None for open-end generation.\n"
     ]
    },
    {
     "name": "stdout",
     "output_type": "stream",
     "text": [
      "Prompt: [INST] 13 es igual a [/INST]\n",
      "Respuesta: [INST] 13 es igual a [/INST] 13 [/ 13 13 13 13 13 13 13\n",
      "Recompensa: -4\n",
      "Prompt: [INST] 16 es igual a [/INST]\n",
      "Respuesta: [INST] 16 es igual a [/INST] 16 igual [/INST [/INST] 16\n",
      "Recompensa: -7\n"
     ]
    },
    {
     "name": "stderr",
     "output_type": "stream",
     "text": [
      "/home/aurora/miniconda3/lib/python3.11/site-packages/trl/trainer/ppo_trainer.py:1313: UserWarning: KL divergence is starting to become negative: -6.64 - this might be a precursor for failed training. sometimes this happens because the generation kwargs are not correctly set. Please make sure that the generation kwargs are set correctly, or review your training hyperparameters.\n",
      "  warnings.warn(\n",
      "Setting `pad_token_id` to `eos_token_id`:None for open-end generation.\n",
      "/home/aurora/miniconda3/lib/python3.11/site-packages/trl/trainer/ppo_trainer.py:1313: UserWarning: KL divergence is starting to become negative: -6.10 - this might be a precursor for failed training. sometimes this happens because the generation kwargs are not correctly set. Please make sure that the generation kwargs are set correctly, or review your training hyperparameters.\n",
      "  warnings.warn(\n",
      "Setting `pad_token_id` to `eos_token_id`:None for open-end generation.\n"
     ]
    },
    {
     "name": "stdout",
     "output_type": "stream",
     "text": [
      "Prompt: [INST] 19 es igual a [/INST]\n",
      "Respuesta: [INST] 19 es igual a [/INST] 19 es igual [/INST 19 es [/\n",
      "Recompensa: -10\n",
      "Prompt: [INST] 22 es igual a [/INST]\n",
      "Respuesta: [INST] 22 es igual a [/INST] 22:22:22:22:22\n",
      "Recompensa: -13\n"
     ]
    },
    {
     "name": "stderr",
     "output_type": "stream",
     "text": [
      "/home/aurora/miniconda3/lib/python3.11/site-packages/trl/trainer/ppo_trainer.py:1313: UserWarning: KL divergence is starting to become negative: -16.51 - this might be a precursor for failed training. sometimes this happens because the generation kwargs are not correctly set. Please make sure that the generation kwargs are set correctly, or review your training hyperparameters.\n",
      "  warnings.warn(\n",
      "Setting `pad_token_id` to `eos_token_id`:None for open-end generation.\n",
      "/home/aurora/miniconda3/lib/python3.11/site-packages/trl/trainer/ppo_trainer.py:1313: UserWarning: KL divergence is starting to become negative: -3.50 - this might be a precursor for failed training. sometimes this happens because the generation kwargs are not correctly set. Please make sure that the generation kwargs are set correctly, or review your training hyperparameters.\n",
      "  warnings.warn(\n",
      "Setting `pad_token_id` to `eos_token_id`:None for open-end generation.\n"
     ]
    },
    {
     "name": "stdout",
     "output_type": "stream",
     "text": [
      "Prompt: [INST] 25 es igual a [/INST]\n",
      "Respuesta: [INST] 25 es igual a [/INST] 25 es, 25 25 es]).\n",
      "\n",
      "\n",
      "Recompensa: -16\n",
      "Prompt: [INST] 28 es igual a [/INST]\n",
      "Respuesta: [INST] 28 es igual a [/INST] 28 def 28 28 28 28 28 [INST\n",
      "Recompensa: -19\n"
     ]
    },
    {
     "name": "stderr",
     "output_type": "stream",
     "text": [
      "Setting `pad_token_id` to `eos_token_id`:None for open-end generation.\n",
      "Setting `pad_token_id` to `eos_token_id`:None for open-end generation.\n"
     ]
    },
    {
     "name": "stdout",
     "output_type": "stream",
     "text": [
      "Prompt: [INST] 31 es igual a [/INST]\n",
      "Respuesta: [INST] 31 es igual a [/INST]\".INST 31 es a [/INST 31 es\n",
      "Recompensa: -22\n",
      "Prompt: [INST] 34 es igual a [/INST]\n",
      "Respuesta: [INST] 34 es igual a [/INST] 34 es iguala [/INST 34 es\n",
      "Recompensa: -25\n"
     ]
    },
    {
     "name": "stderr",
     "output_type": "stream",
     "text": [
      "/home/aurora/miniconda3/lib/python3.11/site-packages/trl/trainer/ppo_trainer.py:1313: UserWarning: KL divergence is starting to become negative: -27.83 - this might be a precursor for failed training. sometimes this happens because the generation kwargs are not correctly set. Please make sure that the generation kwargs are set correctly, or review your training hyperparameters.\n",
      "  warnings.warn(\n",
      "Setting `pad_token_id` to `eos_token_id`:None for open-end generation.\n",
      "/home/aurora/miniconda3/lib/python3.11/site-packages/trl/trainer/ppo_trainer.py:1313: UserWarning: KL divergence is starting to become negative: -42.17 - this might be a precursor for failed training. sometimes this happens because the generation kwargs are not correctly set. Please make sure that the generation kwargs are set correctly, or review your training hyperparameters.\n",
      "  warnings.warn(\n",
      "Setting `pad_token_id` to `eos_token_id`:None for open-end generation.\n"
     ]
    },
    {
     "name": "stdout",
     "output_type": "stream",
     "text": [
      "Prompt: [INST] 37 es igual a [/INST]\n",
      "Respuesta: [INST] 37 es igual a [/INST] 37 es igual a [/INST] 37\n",
      "Recompensa: -28\n",
      "Prompt: [INST] 40 es igual a [/INST]\n",
      "Respuesta: [INST] 40 es igual a [/INST] 40 es igual [/INST]). [/INST\n",
      "Recompensa: -31\n"
     ]
    },
    {
     "name": "stderr",
     "output_type": "stream",
     "text": [
      "/home/aurora/miniconda3/lib/python3.11/site-packages/trl/trainer/ppo_trainer.py:1313: UserWarning: KL divergence is starting to become negative: -15.03 - this might be a precursor for failed training. sometimes this happens because the generation kwargs are not correctly set. Please make sure that the generation kwargs are set correctly, or review your training hyperparameters.\n",
      "  warnings.warn(\n",
      "Setting `pad_token_id` to `eos_token_id`:None for open-end generation.\n",
      "/home/aurora/miniconda3/lib/python3.11/site-packages/trl/trainer/ppo_trainer.py:1313: UserWarning: KL divergence is starting to become negative: -17.59 - this might be a precursor for failed training. sometimes this happens because the generation kwargs are not correctly set. Please make sure that the generation kwargs are set correctly, or review your training hyperparameters.\n",
      "  warnings.warn(\n",
      "Setting `pad_token_id` to `eos_token_id`:None for open-end generation.\n"
     ]
    },
    {
     "name": "stdout",
     "output_type": "stream",
     "text": [
      "Prompt: [INST] 43 es igual a [/INST]\n",
      "Respuesta: [INST] 43 es igual a [/INST] 43 es igual a 03 03 ]])\n",
      "Recompensa: -34\n",
      "Prompt: [INST] 46 es igual a [/INST]\n",
      "Respuesta: [INST] 46 es igual a [/INST]/[INST]:[/INST] 46 es\n",
      "Recompensa: -37\n"
     ]
    },
    {
     "name": "stderr",
     "output_type": "stream",
     "text": [
      "Setting `pad_token_id` to `eos_token_id`:None for open-end generation.\n",
      "/home/aurora/miniconda3/lib/python3.11/site-packages/trl/trainer/ppo_trainer.py:1313: UserWarning: KL divergence is starting to become negative: -18.12 - this might be a precursor for failed training. sometimes this happens because the generation kwargs are not correctly set. Please make sure that the generation kwargs are set correctly, or review your training hyperparameters.\n",
      "  warnings.warn(\n",
      "Setting `pad_token_id` to `eos_token_id`:None for open-end generation.\n"
     ]
    },
    {
     "name": "stdout",
     "output_type": "stream",
     "text": [
      "Prompt: [INST] 49 es igual a [/INST]\n",
      "Respuesta: [INST] 49 es igual a [/INST] 49 es igual 49 es ig]).\n",
      "\n",
      "Recompensa: -40\n",
      "Prompt: [INST] 10 es igual a [/INST]\n",
      "Respuesta: [INST] 10 es igual a [/INST] 10 es ig [INST 10 ig [/ 10\n",
      "Recompensa: -1\n"
     ]
    },
    {
     "name": "stderr",
     "output_type": "stream",
     "text": [
      "/home/aurora/miniconda3/lib/python3.11/site-packages/trl/trainer/ppo_trainer.py:1313: UserWarning: KL divergence is starting to become negative: -2.48 - this might be a precursor for failed training. sometimes this happens because the generation kwargs are not correctly set. Please make sure that the generation kwargs are set correctly, or review your training hyperparameters.\n",
      "  warnings.warn(\n",
      "Setting `pad_token_id` to `eos_token_id`:None for open-end generation.\n",
      "/home/aurora/miniconda3/lib/python3.11/site-packages/trl/trainer/ppo_trainer.py:1313: UserWarning: KL divergence is starting to become negative: -11.16 - this might be a precursor for failed training. sometimes this happens because the generation kwargs are not correctly set. Please make sure that the generation kwargs are set correctly, or review your training hyperparameters.\n",
      "  warnings.warn(\n",
      "Setting `pad_token_id` to `eos_token_id`:None for open-end generation.\n"
     ]
    },
    {
     "name": "stdout",
     "output_type": "stream",
     "text": [
      "Prompt: [INST] 13 es igual a [/INST]\n",
      "Respuesta: [INST] 13 es igual a [/INST] 13 esa 13 es 13 13 13 13\n",
      "Recompensa: -4\n",
      "Prompt: [INST] 16 es igual a [/INST]\n",
      "Respuesta: [INST] 16 es igual a [/INST] [/INST [/16-16-16-\n",
      "Recompensa: -7\n"
     ]
    },
    {
     "name": "stderr",
     "output_type": "stream",
     "text": [
      "Setting `pad_token_id` to `eos_token_id`:None for open-end generation.\n",
      "/home/aurora/miniconda3/lib/python3.11/site-packages/trl/trainer/ppo_trainer.py:1313: UserWarning: KL divergence is starting to become negative: -14.13 - this might be a precursor for failed training. sometimes this happens because the generation kwargs are not correctly set. Please make sure that the generation kwargs are set correctly, or review your training hyperparameters.\n",
      "  warnings.warn(\n",
      "Setting `pad_token_id` to `eos_token_id`:None for open-end generation.\n"
     ]
    },
    {
     "name": "stdout",
     "output_type": "stream",
     "text": [
      "Prompt: [INST] 19 es igual a [/INST]\n",
      "Respuesta: [INST] 19 es igual a [/INST] 19 es igual 19 19 19 19 19\n",
      "Recompensa: -10\n",
      "Prompt: [INST] 22 es igual a [/INST]\n",
      "Respuesta: [INST] 22 es igual a [/INST] [/INST]: [INSTINSTINSTINSTINST\n",
      "Recompensa: -13\n"
     ]
    },
    {
     "name": "stderr",
     "output_type": "stream",
     "text": [
      "Setting `pad_token_id` to `eos_token_id`:None for open-end generation.\n",
      "Setting `pad_token_id` to `eos_token_id`:None for open-end generation.\n"
     ]
    },
    {
     "name": "stdout",
     "output_type": "stream",
     "text": [
      "Prompt: [INST] 25 es igual a [/INST]\n",
      "Respuesta: [INST] 25 es igual a [/INST] 25 ig of ig of ig [/INST 25\n",
      "Recompensa: -16\n",
      "Prompt: [INST] 28 es igual a [/INST]\n",
      "Respuesta: [INST] 28 es igual a [/INST] 28 13.0 .0l e /\n",
      "Recompensa: -19\n"
     ]
    },
    {
     "name": "stderr",
     "output_type": "stream",
     "text": [
      "Setting `pad_token_id` to `eos_token_id`:None for open-end generation.\n",
      "Setting `pad_token_id` to `eos_token_id`:None for open-end generation.\n"
     ]
    },
    {
     "name": "stdout",
     "output_type": "stream",
     "text": [
      "Prompt: [INST] 31 es igual a [/INST]\n",
      "Respuesta: [INST] 31 es igual a [/INST] 31 igf ig. [/INST] 31\n",
      "Recompensa: -22\n",
      "Prompt: [INST] 34 es igual a [/INST]\n",
      "Respuesta: [INST] 34 es igual a [/INST] 34 es ig 34 ig [/INST 34 es\n",
      "Recompensa: -25\n"
     ]
    },
    {
     "name": "stderr",
     "output_type": "stream",
     "text": [
      "Setting `pad_token_id` to `eos_token_id`:None for open-end generation.\n",
      "/home/aurora/miniconda3/lib/python3.11/site-packages/trl/trainer/ppo_trainer.py:1313: UserWarning: KL divergence is starting to become negative: -8.96 - this might be a precursor for failed training. sometimes this happens because the generation kwargs are not correctly set. Please make sure that the generation kwargs are set correctly, or review your training hyperparameters.\n",
      "  warnings.warn(\n",
      "Setting `pad_token_id` to `eos_token_id`:None for open-end generation.\n"
     ]
    },
    {
     "name": "stdout",
     "output_type": "stream",
     "text": [
      "Prompt: [INST] 37 es igual a [/INST]\n",
      "Respuesta: [INST] 37 es igual a [/INST] 37 37 igual a] [INST 37\n",
      "Recompensa: -28\n",
      "Prompt: [INST] 40 es igual a [/INST]\n",
      "Respuesta: [INST] 40 es igual a [/INST] 40 es igual 20 ig [/INST 40\n",
      "Recompensa: -31\n"
     ]
    },
    {
     "name": "stderr",
     "output_type": "stream",
     "text": [
      "/home/aurora/miniconda3/lib/python3.11/site-packages/trl/trainer/ppo_trainer.py:1313: UserWarning: KL divergence is starting to become negative: -14.39 - this might be a precursor for failed training. sometimes this happens because the generation kwargs are not correctly set. Please make sure that the generation kwargs are set correctly, or review your training hyperparameters.\n",
      "  warnings.warn(\n",
      "Setting `pad_token_id` to `eos_token_id`:None for open-end generation.\n",
      "Setting `pad_token_id` to `eos_token_id`:None for open-end generation.\n"
     ]
    },
    {
     "name": "stdout",
     "output_type": "stream",
     "text": [
      "Prompt: [INST] 43 es igual a [/INST]\n",
      "Respuesta: [INST] 43 es igual a [/INST] a, [/INST 43 [a-Z\n",
      "Recompensa: -34\n",
      "Prompt: [INST] 46 es igual a [/INST]\n",
      "Respuesta: [INST] 46 es igual a [/INST] 46 es igual a. 65 1 1\n",
      "Recompensa: -37\n"
     ]
    },
    {
     "name": "stderr",
     "output_type": "stream",
     "text": [
      "/home/aurora/miniconda3/lib/python3.11/site-packages/trl/trainer/ppo_trainer.py:1313: UserWarning: KL divergence is starting to become negative: -36.54 - this might be a precursor for failed training. sometimes this happens because the generation kwargs are not correctly set. Please make sure that the generation kwargs are set correctly, or review your training hyperparameters.\n",
      "  warnings.warn(\n",
      "Setting `pad_token_id` to `eos_token_id`:None for open-end generation.\n",
      "Setting `pad_token_id` to `eos_token_id`:None for open-end generation.\n"
     ]
    },
    {
     "name": "stdout",
     "output_type": "stream",
     "text": [
      "Prompt: [INST] 49 es igual a [/INST]\n",
      "Respuesta: [INST] 49 es igual a [/INST] 49 es ig. [/INST 49 es.\n",
      "Recompensa: -40\n",
      "Prompt: [INST] 10 es igual a [/INST]\n",
      "Respuesta: [INST] 10 es igual a [/INST] 10 es [/INST 10 igual [/INST\n",
      "Recompensa: -1\n"
     ]
    },
    {
     "name": "stderr",
     "output_type": "stream",
     "text": [
      "/home/aurora/miniconda3/lib/python3.11/site-packages/trl/trainer/ppo_trainer.py:1313: UserWarning: KL divergence is starting to become negative: -23.68 - this might be a precursor for failed training. sometimes this happens because the generation kwargs are not correctly set. Please make sure that the generation kwargs are set correctly, or review your training hyperparameters.\n",
      "  warnings.warn(\n",
      "Setting `pad_token_id` to `eos_token_id`:None for open-end generation.\n",
      "/home/aurora/miniconda3/lib/python3.11/site-packages/trl/trainer/ppo_trainer.py:1313: UserWarning: KL divergence is starting to become negative: -14.25 - this might be a precursor for failed training. sometimes this happens because the generation kwargs are not correctly set. Please make sure that the generation kwargs are set correctly, or review your training hyperparameters.\n",
      "  warnings.warn(\n",
      "Setting `pad_token_id` to `eos_token_id`:None for open-end generation.\n"
     ]
    },
    {
     "name": "stdout",
     "output_type": "stream",
     "text": [
      "Prompt: [INST] 13 es igual a [/INST]\n",
      "Respuesta: [INST] 13 es igual a [/INST] [/INST][/INST [/INST]\n",
      "\n",
      "\n",
      "Recompensa: -4\n",
      "Prompt: [INST] 16 es igual a [/INST]\n",
      "Respuesta: [INST] 16 es igual a [/INST] 16 [INST 16 [/INST] [/INST\n",
      "Recompensa: -7\n"
     ]
    },
    {
     "name": "stderr",
     "output_type": "stream",
     "text": [
      "Setting `pad_token_id` to `eos_token_id`:None for open-end generation.\n",
      "/home/aurora/miniconda3/lib/python3.11/site-packages/trl/trainer/ppo_trainer.py:1313: UserWarning: KL divergence is starting to become negative: -10.92 - this might be a precursor for failed training. sometimes this happens because the generation kwargs are not correctly set. Please make sure that the generation kwargs are set correctly, or review your training hyperparameters.\n",
      "  warnings.warn(\n",
      "Setting `pad_token_id` to `eos_token_id`:None for open-end generation.\n"
     ]
    },
    {
     "name": "stdout",
     "output_type": "stream",
     "text": [
      "Prompt: [INST] 19 es igual a [/INST]\n",
      "Respuesta: [INST] 19 es igual a [/INST] 19 es nf.\" 19 es.\" 19\n",
      "Recompensa: -10\n",
      "Prompt: [INST] 22 es igual a [/INST]\n",
      "Respuesta: [INST] 22 es igual a [/INST]\");\n",
      "\n",
      "if (INST != null )\n",
      "Recompensa: -13\n"
     ]
    },
    {
     "name": "stderr",
     "output_type": "stream",
     "text": [
      "Setting `pad_token_id` to `eos_token_id`:None for open-end generation.\n",
      "Setting `pad_token_id` to `eos_token_id`:None for open-end generation.\n"
     ]
    },
    {
     "name": "stdout",
     "output_type": "stream",
     "text": [
      "Prompt: [INST] 25 es igual a [/INST]\n",
      "Respuesta: [INST] 25 es igual a [/INST][INST]25] [/INST]) 25\n",
      "Recompensa: -16\n",
      "Prompt: [INST] 28 es igual a [/INST]\n",
      "Respuesta: [INST] 28 es igual a [/INST] 28 igual [/INST]) 28\n",
      "\n",
      "\n",
      "Recompensa: -19\n"
     ]
    },
    {
     "name": "stderr",
     "output_type": "stream",
     "text": [
      "/home/aurora/miniconda3/lib/python3.11/site-packages/trl/trainer/ppo_trainer.py:1313: UserWarning: KL divergence is starting to become negative: -3.14 - this might be a precursor for failed training. sometimes this happens because the generation kwargs are not correctly set. Please make sure that the generation kwargs are set correctly, or review your training hyperparameters.\n",
      "  warnings.warn(\n",
      "Setting `pad_token_id` to `eos_token_id`:None for open-end generation.\n",
      "Setting `pad_token_id` to `eos_token_id`:None for open-end generation.\n"
     ]
    },
    {
     "name": "stdout",
     "output_type": "stream",
     "text": [
      "Prompt: [INST] 31 es igual a [/INST]\n",
      "Respuesta: [INST] 31 es igual a [/INST] 31[/INST] 31[/INST]) [/\n",
      "Recompensa: -22\n",
      "Prompt: [INST] 34 es igual a [/INST]\n",
      "Respuesta: [INST] 34 es igual a [/INST] 34 es igual a [/ igualINST\n",
      "Recompensa: -25\n"
     ]
    },
    {
     "name": "stderr",
     "output_type": "stream",
     "text": [
      "/home/aurora/miniconda3/lib/python3.11/site-packages/trl/trainer/ppo_trainer.py:1313: UserWarning: KL divergence is starting to become negative: -43.19 - this might be a precursor for failed training. sometimes this happens because the generation kwargs are not correctly set. Please make sure that the generation kwargs are set correctly, or review your training hyperparameters.\n",
      "  warnings.warn(\n",
      "Setting `pad_token_id` to `eos_token_id`:None for open-end generation.\n",
      "/home/aurora/miniconda3/lib/python3.11/site-packages/trl/trainer/ppo_trainer.py:1313: UserWarning: KL divergence is starting to become negative: -21.42 - this might be a precursor for failed training. sometimes this happens because the generation kwargs are not correctly set. Please make sure that the generation kwargs are set correctly, or review your training hyperparameters.\n",
      "  warnings.warn(\n",
      "Setting `pad_token_id` to `eos_token_id`:None for open-end generation.\n"
     ]
    },
    {
     "name": "stdout",
     "output_type": "stream",
     "text": [
      "Prompt: [INST] 37 es igual a [/INST]\n",
      "Respuesta: [INST] 37 es igual a [/INST] 37 es igual [/INSTINSTINST]\n",
      "Recompensa: -28\n",
      "Prompt: [INST] 40 es igual a [/INST]\n",
      "Respuesta: [INST] 40 es igual a [/INST] 40 igf [/INST]) 40 ig])\n",
      "Recompensa: -31\n"
     ]
    },
    {
     "name": "stderr",
     "output_type": "stream",
     "text": [
      "Setting `pad_token_id` to `eos_token_id`:None for open-end generation.\n",
      "/home/aurora/miniconda3/lib/python3.11/site-packages/trl/trainer/ppo_trainer.py:1313: UserWarning: KL divergence is starting to become negative: -15.23 - this might be a precursor for failed training. sometimes this happens because the generation kwargs are not correctly set. Please make sure that the generation kwargs are set correctly, or review your training hyperparameters.\n",
      "  warnings.warn(\n",
      "Setting `pad_token_id` to `eos_token_id`:None for open-end generation.\n"
     ]
    },
    {
     "name": "stdout",
     "output_type": "stream",
     "text": [
      "Prompt: [INST] 43 es igual a [/INST]\n",
      "Respuesta: [INST] 43 es igual a [/INST] 43 a [/INSTINST]: [/INSTINST\n",
      "Recompensa: -34\n",
      "Prompt: [INST] 46 es igual a [/INST]\n",
      "Respuesta: [INST] 46 es igual a [/INST] a).\n",
      "\n",
      "The following is a list\n",
      "Recompensa: -37\n"
     ]
    },
    {
     "name": "stderr",
     "output_type": "stream",
     "text": [
      "/home/aurora/miniconda3/lib/python3.11/site-packages/trl/trainer/ppo_trainer.py:1313: UserWarning: KL divergence is starting to become negative: -8.07 - this might be a precursor for failed training. sometimes this happens because the generation kwargs are not correctly set. Please make sure that the generation kwargs are set correctly, or review your training hyperparameters.\n",
      "  warnings.warn(\n",
      "Setting `pad_token_id` to `eos_token_id`:None for open-end generation.\n",
      "Setting `pad_token_id` to `eos_token_id`:None for open-end generation.\n"
     ]
    },
    {
     "name": "stdout",
     "output_type": "stream",
     "text": [
      "Prompt: [INST] 49 es igual a [/INST]\n",
      "Respuesta: [INST] 49 es igual a [/INST] iglf a[/INST]).\n",
      "\n",
      "[\n",
      "Recompensa: -40\n",
      "Prompt: [INST] 10 es igual a [/INST]\n",
      "Respuesta: [INST] 10 es igual a [/INST] 10 igual [/INST 10 [/INST 10\n",
      "Recompensa: -1\n"
     ]
    },
    {
     "name": "stderr",
     "output_type": "stream",
     "text": [
      "/home/aurora/miniconda3/lib/python3.11/site-packages/trl/trainer/ppo_trainer.py:1313: UserWarning: KL divergence is starting to become negative: -9.78 - this might be a precursor for failed training. sometimes this happens because the generation kwargs are not correctly set. Please make sure that the generation kwargs are set correctly, or review your training hyperparameters.\n",
      "  warnings.warn(\n",
      "Setting `pad_token_id` to `eos_token_id`:None for open-end generation.\n",
      "/home/aurora/miniconda3/lib/python3.11/site-packages/trl/trainer/ppo_trainer.py:1313: UserWarning: KL divergence is starting to become negative: -20.47 - this might be a precursor for failed training. sometimes this happens because the generation kwargs are not correctly set. Please make sure that the generation kwargs are set correctly, or review your training hyperparameters.\n",
      "  warnings.warn(\n",
      "Setting `pad_token_id` to `eos_token_id`:None for open-end generation.\n"
     ]
    },
    {
     "name": "stdout",
     "output_type": "stream",
     "text": [
      "Prompt: [INST] 13 es igual a [/INST]\n",
      "Respuesta: [INST] 13 es igual a [/INST] [/INST] [/INST/ [/INST/\n",
      "Recompensa: -4\n",
      "Prompt: [INST] 16 es igual a [/INST]\n",
      "Respuesta: [INST] 16 es igual a [/INST] 16:10 e God send him to save\n",
      "Recompensa: -7\n"
     ]
    },
    {
     "name": "stderr",
     "output_type": "stream",
     "text": [
      "/home/aurora/miniconda3/lib/python3.11/site-packages/trl/trainer/ppo_trainer.py:1313: UserWarning: KL divergence is starting to become negative: -14.45 - this might be a precursor for failed training. sometimes this happens because the generation kwargs are not correctly set. Please make sure that the generation kwargs are set correctly, or review your training hyperparameters.\n",
      "  warnings.warn(\n",
      "Setting `pad_token_id` to `eos_token_id`:None for open-end generation.\n",
      "/home/aurora/miniconda3/lib/python3.11/site-packages/trl/trainer/ppo_trainer.py:1313: UserWarning: KL divergence is starting to become negative: -10.89 - this might be a precursor for failed training. sometimes this happens because the generation kwargs are not correctly set. Please make sure that the generation kwargs are set correctly, or review your training hyperparameters.\n",
      "  warnings.warn(\n",
      "Setting `pad_token_id` to `eos_token_id`:None for open-end generation.\n"
     ]
    },
    {
     "name": "stdout",
     "output_type": "stream",
     "text": [
      "Prompt: [INST] 19 es igual a [/INST]\n",
      "Respuesta: [INST] 19 es igual a [/INST] 19 19 17 17 17 17 17 17 17\n",
      "Recompensa: -10\n",
      "Prompt: [INST] 22 es igual a [/INST]\n",
      "Respuesta: [INST] 22 es igual a [/INST] 13 fr, fr, fr, 1 fr\n",
      "Recompensa: -13\n"
     ]
    },
    {
     "name": "stderr",
     "output_type": "stream",
     "text": [
      "/home/aurora/miniconda3/lib/python3.11/site-packages/trl/trainer/ppo_trainer.py:1313: UserWarning: KL divergence is starting to become negative: -2.89 - this might be a precursor for failed training. sometimes this happens because the generation kwargs are not correctly set. Please make sure that the generation kwargs are set correctly, or review your training hyperparameters.\n",
      "  warnings.warn(\n",
      "Setting `pad_token_id` to `eos_token_id`:None for open-end generation.\n",
      "/home/aurora/miniconda3/lib/python3.11/site-packages/trl/trainer/ppo_trainer.py:1313: UserWarning: KL divergence is starting to become negative: -21.64 - this might be a precursor for failed training. sometimes this happens because the generation kwargs are not correctly set. Please make sure that the generation kwargs are set correctly, or review your training hyperparameters.\n",
      "  warnings.warn(\n",
      "Setting `pad_token_id` to `eos_token_id`:None for open-end generation.\n"
     ]
    },
    {
     "name": "stdout",
     "output_type": "stream",
     "text": [
      "Prompt: [INST] 25 es igual a [/INST]\n",
      "Respuesta: [INST] 25 es igual a [/INST] 25 es igual [/INSTINSTINSTINST\n",
      "Recompensa: -16\n",
      "Prompt: [INST] 28 es igual a [/INST]\n",
      "Respuesta: [INST] 28 es igual a [/INST]]) 28 28 28 28 28 28 28 28\n",
      "Recompensa: -19\n"
     ]
    },
    {
     "name": "stderr",
     "output_type": "stream",
     "text": [
      "Setting `pad_token_id` to `eos_token_id`:None for open-end generation.\n",
      "Setting `pad_token_id` to `eos_token_id`:None for open-end generation.\n"
     ]
    },
    {
     "name": "stdout",
     "output_type": "stream",
     "text": [
      "Prompt: [INST] 31 es igual a [/INST]\n",
      "Respuesta: [INST] 31 es igual a [/INST] 31 es igl. Sig. Sig.\n",
      "Recompensa: -22\n",
      "Prompt: [INST] 34 es igual a [/INST]\n",
      "Respuesta: [INST] 34 es igual a [/INST] 34 [/INST]. 34 34). [/INST\n",
      "Recompensa: -25\n"
     ]
    },
    {
     "name": "stderr",
     "output_type": "stream",
     "text": [
      "Setting `pad_token_id` to `eos_token_id`:None for open-end generation.\n",
      "/home/aurora/miniconda3/lib/python3.11/site-packages/trl/trainer/ppo_trainer.py:1313: UserWarning: KL divergence is starting to become negative: -18.67 - this might be a precursor for failed training. sometimes this happens because the generation kwargs are not correctly set. Please make sure that the generation kwargs are set correctly, or review your training hyperparameters.\n",
      "  warnings.warn(\n",
      "Setting `pad_token_id` to `eos_token_id`:None for open-end generation.\n"
     ]
    },
    {
     "name": "stdout",
     "output_type": "stream",
     "text": [
      "Prompt: [INST] 37 es igual a [/INST]\n",
      "Respuesta: [INST] 37 es igual a [/INST] [/INST 37 es [/INST 37 es [/\n",
      "Recompensa: -28\n",
      "Prompt: [INST] 40 es igual a [/INST]\n",
      "Respuesta: [INST] 40 es igual a [/INST] [INSTINSTINSTINSTINSTINSTINSTINST\n",
      "Recompensa: -31\n"
     ]
    },
    {
     "name": "stderr",
     "output_type": "stream",
     "text": [
      "/home/aurora/miniconda3/lib/python3.11/site-packages/trl/trainer/ppo_trainer.py:1313: UserWarning: KL divergence is starting to become negative: -85.80 - this might be a precursor for failed training. sometimes this happens because the generation kwargs are not correctly set. Please make sure that the generation kwargs are set correctly, or review your training hyperparameters.\n",
      "  warnings.warn(\n",
      "Setting `pad_token_id` to `eos_token_id`:None for open-end generation.\n",
      "/home/aurora/miniconda3/lib/python3.11/site-packages/trl/trainer/ppo_trainer.py:1313: UserWarning: KL divergence is starting to become negative: -8.17 - this might be a precursor for failed training. sometimes this happens because the generation kwargs are not correctly set. Please make sure that the generation kwargs are set correctly, or review your training hyperparameters.\n",
      "  warnings.warn(\n",
      "Setting `pad_token_id` to `eos_token_id`:None for open-end generation.\n"
     ]
    },
    {
     "name": "stdout",
     "output_type": "stream",
     "text": [
      "Prompt: [INST] 43 es igual a [/INST]\n",
      "Respuesta: [INST] 43 es igual a [/INST] [/INST] [/U]) [/U]\n",
      "Recompensa: -34\n",
      "Prompt: [INST] 46 es igual a [/INST]\n",
      "Respuesta: [INST] 46 es igual a [/INST] a se se se se se se se se\n",
      "Recompensa: -37\n"
     ]
    },
    {
     "name": "stderr",
     "output_type": "stream",
     "text": [
      "/home/aurora/miniconda3/lib/python3.11/site-packages/trl/trainer/ppo_trainer.py:1313: UserWarning: KL divergence is starting to become negative: -47.72 - this might be a precursor for failed training. sometimes this happens because the generation kwargs are not correctly set. Please make sure that the generation kwargs are set correctly, or review your training hyperparameters.\n",
      "  warnings.warn(\n",
      "Setting `pad_token_id` to `eos_token_id`:None for open-end generation.\n",
      "Setting `pad_token_id` to `eos_token_id`:None for open-end generation.\n"
     ]
    },
    {
     "name": "stdout",
     "output_type": "stream",
     "text": [
      "Prompt: [INST] 49 es igual a [/INST]\n",
      "Respuesta: [INST] 49 es igual a [/INST] 49 ig ig ig. 49 ig ig ig\n",
      "Recompensa: -40\n",
      "Prompt: [INST] 10 es igual a [/INST]\n",
      "Respuesta: [INST] 10 es igual a [/INST] [/INST] [/INST]) [/INST]\n",
      "Recompensa: -1\n"
     ]
    },
    {
     "name": "stderr",
     "output_type": "stream",
     "text": [
      "/home/aurora/miniconda3/lib/python3.11/site-packages/trl/trainer/ppo_trainer.py:1313: UserWarning: KL divergence is starting to become negative: -28.18 - this might be a precursor for failed training. sometimes this happens because the generation kwargs are not correctly set. Please make sure that the generation kwargs are set correctly, or review your training hyperparameters.\n",
      "  warnings.warn(\n",
      "Setting `pad_token_id` to `eos_token_id`:None for open-end generation.\n",
      "/home/aurora/miniconda3/lib/python3.11/site-packages/trl/trainer/ppo_trainer.py:1313: UserWarning: KL divergence is starting to become negative: -69.36 - this might be a precursor for failed training. sometimes this happens because the generation kwargs are not correctly set. Please make sure that the generation kwargs are set correctly, or review your training hyperparameters.\n",
      "  warnings.warn(\n",
      "Setting `pad_token_id` to `eos_token_id`:None for open-end generation.\n"
     ]
    },
    {
     "name": "stdout",
     "output_type": "stream",
     "text": [
      "Prompt: [INST] 13 es igual a [/INST]\n",
      "Respuesta: [INST] 13 es igual a [/INST] 13 es igal igal igal ig\n",
      "Recompensa: -4\n",
      "Prompt: [INST] 16 es igual a [/INST]\n",
      "Respuesta: [INST] 16 es igual a [/INST] ; if ( ! ( igil ( es\n",
      "Recompensa: -7\n"
     ]
    },
    {
     "name": "stderr",
     "output_type": "stream",
     "text": [
      "/home/aurora/miniconda3/lib/python3.11/site-packages/trl/trainer/ppo_trainer.py:1313: UserWarning: KL divergence is starting to become negative: -17.82 - this might be a precursor for failed training. sometimes this happens because the generation kwargs are not correctly set. Please make sure that the generation kwargs are set correctly, or review your training hyperparameters.\n",
      "  warnings.warn(\n",
      "Setting `pad_token_id` to `eos_token_id`:None for open-end generation.\n",
      "/home/aurora/miniconda3/lib/python3.11/site-packages/trl/trainer/ppo_trainer.py:1313: UserWarning: KL divergence is starting to become negative: -6.08 - this might be a precursor for failed training. sometimes this happens because the generation kwargs are not correctly set. Please make sure that the generation kwargs are set correctly, or review your training hyperparameters.\n",
      "  warnings.warn(\n",
      "Setting `pad_token_id` to `eos_token_id`:None for open-end generation.\n"
     ]
    },
    {
     "name": "stdout",
     "output_type": "stream",
     "text": [
      "Prompt: [INST] 19 es igual a [/INST]\n",
      "Respuesta: [INST] 19 es igual a [/INST] 19 igl 19 19 19 19 19 19\n",
      "Recompensa: -10\n",
      "Prompt: [INST] 22 es igual a [/INST]\n",
      "Respuesta: [INST] 22 es igual a [/INST] 22\n",
      "\n",
      "[INST 22\n",
      "\n",
      "[\n",
      "Recompensa: -13\n"
     ]
    },
    {
     "name": "stderr",
     "output_type": "stream",
     "text": [
      "Setting `pad_token_id` to `eos_token_id`:None for open-end generation.\n",
      "/home/aurora/miniconda3/lib/python3.11/site-packages/trl/trainer/ppo_trainer.py:1313: UserWarning: KL divergence is starting to become negative: -39.97 - this might be a precursor for failed training. sometimes this happens because the generation kwargs are not correctly set. Please make sure that the generation kwargs are set correctly, or review your training hyperparameters.\n",
      "  warnings.warn(\n",
      "Setting `pad_token_id` to `eos_token_id`:None for open-end generation.\n"
     ]
    },
    {
     "name": "stdout",
     "output_type": "stream",
     "text": [
      "Prompt: [INST] 25 es igual a [/INST]\n",
      "Respuesta: [INST] 25 es igual a [/INST] 25 es igreg es igregreg ig\n",
      "Recompensa: -16\n",
      "Prompt: [INST] 28 es igual a [/INST]\n",
      "Respuesta: [INST] 28 es igual a [/INST] 28 igual [/INST 28 esi-\n",
      "Recompensa: -19\n"
     ]
    },
    {
     "name": "stderr",
     "output_type": "stream",
     "text": [
      "/home/aurora/miniconda3/lib/python3.11/site-packages/trl/trainer/ppo_trainer.py:1313: UserWarning: KL divergence is starting to become negative: -25.13 - this might be a precursor for failed training. sometimes this happens because the generation kwargs are not correctly set. Please make sure that the generation kwargs are set correctly, or review your training hyperparameters.\n",
      "  warnings.warn(\n",
      "Setting `pad_token_id` to `eos_token_id`:None for open-end generation.\n",
      "/home/aurora/miniconda3/lib/python3.11/site-packages/trl/trainer/ppo_trainer.py:1313: UserWarning: KL divergence is starting to become negative: -19.88 - this might be a precursor for failed training. sometimes this happens because the generation kwargs are not correctly set. Please make sure that the generation kwargs are set correctly, or review your training hyperparameters.\n",
      "  warnings.warn(\n",
      "Setting `pad_token_id` to `eos_token_id`:None for open-end generation.\n"
     ]
    },
    {
     "name": "stdout",
     "output_type": "stream",
     "text": [
      "Prompt: [INST] 31 es igual a [/INST]\n",
      "Respuesta: [INST] 31 es igual a [/INST] 01 01 01 01 01 01 01 01 01\n",
      "Recompensa: -22\n",
      "Prompt: [INST] 34 es igual a [/INST]\n",
      "Respuesta: [INST] 34 es igual a [/INST] [/INST])?ls=ls\", \"\n",
      "Recompensa: -25\n"
     ]
    },
    {
     "name": "stderr",
     "output_type": "stream",
     "text": [
      "Setting `pad_token_id` to `eos_token_id`:None for open-end generation.\n",
      "/home/aurora/miniconda3/lib/python3.11/site-packages/trl/trainer/ppo_trainer.py:1313: UserWarning: KL divergence is starting to become negative: -36.18 - this might be a precursor for failed training. sometimes this happens because the generation kwargs are not correctly set. Please make sure that the generation kwargs are set correctly, or review your training hyperparameters.\n",
      "  warnings.warn(\n",
      "Setting `pad_token_id` to `eos_token_id`:None for open-end generation.\n"
     ]
    },
    {
     "name": "stdout",
     "output_type": "stream",
     "text": [
      "Prompt: [INST] 37 es igual a [/INST]\n",
      "Respuesta: [INST] 37 es igual a [/INST] 37 es es igual a [/INST 37\n",
      "Recompensa: -28\n",
      "Prompt: [INST] 40 es igual a [/INST]\n",
      "Respuesta: [INST] 40 es igual a [/INST]];\"};\" 20:20 20 20\n",
      "Recompensa: -31\n"
     ]
    },
    {
     "name": "stderr",
     "output_type": "stream",
     "text": [
      "Setting `pad_token_id` to `eos_token_id`:None for open-end generation.\n",
      "Setting `pad_token_id` to `eos_token_id`:None for open-end generation.\n"
     ]
    },
    {
     "name": "stdout",
     "output_type": "stream",
     "text": [
      "Prompt: [INST] 43 es igual a [/INST]\n",
      "Respuesta: [INST] 43 es igual a [/INST]/home/upgrade/home/up\n",
      "Recompensa: -34\n",
      "Prompt: [INST] 46 es igual a [/INST]\n",
      "Respuesta: [INST] 46 es igual a [/INST] 46 es igual [/INST] 46 es\n",
      "Recompensa: -37\n"
     ]
    },
    {
     "name": "stderr",
     "output_type": "stream",
     "text": [
      "/home/aurora/miniconda3/lib/python3.11/site-packages/trl/trainer/ppo_trainer.py:1313: UserWarning: KL divergence is starting to become negative: -39.01 - this might be a precursor for failed training. sometimes this happens because the generation kwargs are not correctly set. Please make sure that the generation kwargs are set correctly, or review your training hyperparameters.\n",
      "  warnings.warn(\n",
      "Setting `pad_token_id` to `eos_token_id`:None for open-end generation.\n",
      "/home/aurora/miniconda3/lib/python3.11/site-packages/trl/trainer/ppo_trainer.py:1313: UserWarning: KL divergence is starting to become negative: -12.58 - this might be a precursor for failed training. sometimes this happens because the generation kwargs are not correctly set. Please make sure that the generation kwargs are set correctly, or review your training hyperparameters.\n",
      "  warnings.warn(\n",
      "Setting `pad_token_id` to `eos_token_id`:None for open-end generation.\n"
     ]
    },
    {
     "name": "stdout",
     "output_type": "stream",
     "text": [
      "Prompt: [INST] 49 es igual a [/INST]\n",
      "Respuesta: [INST] 49 es igual a [/INST] ? iglong ? iglong ? iglong\n",
      "Recompensa: -40\n",
      "Prompt: [INST] 10 es igual a [/INST]\n",
      "Respuesta: [INST] 10 es igual a [/INST] 10\n",
      "\n",
      "10 #define USE_SM\n",
      "Recompensa: -1\n"
     ]
    },
    {
     "name": "stderr",
     "output_type": "stream",
     "text": [
      "/home/aurora/miniconda3/lib/python3.11/site-packages/trl/trainer/ppo_trainer.py:1313: UserWarning: KL divergence is starting to become negative: -21.91 - this might be a precursor for failed training. sometimes this happens because the generation kwargs are not correctly set. Please make sure that the generation kwargs are set correctly, or review your training hyperparameters.\n",
      "  warnings.warn(\n",
      "Setting `pad_token_id` to `eos_token_id`:None for open-end generation.\n",
      "/home/aurora/miniconda3/lib/python3.11/site-packages/trl/trainer/ppo_trainer.py:1313: UserWarning: KL divergence is starting to become negative: -13.75 - this might be a precursor for failed training. sometimes this happens because the generation kwargs are not correctly set. Please make sure that the generation kwargs are set correctly, or review your training hyperparameters.\n",
      "  warnings.warn(\n",
      "Setting `pad_token_id` to `eos_token_id`:None for open-end generation.\n"
     ]
    },
    {
     "name": "stdout",
     "output_type": "stream",
     "text": [
      "Prompt: [INST] 13 es igual a [/INST]\n",
      "Respuesta: [INST] 13 es igual a [/INST] 13 13 13 13 13 13 13 13 13\n",
      "Recompensa: -4\n",
      "Prompt: [INST] 16 es igual a [/INST]\n",
      "Respuesta: [INST] 16 es igual a [/INST] 16\n",
      "\n",
      "16\n",
      "\n",
      "16\n",
      "\n",
      "\n",
      "Recompensa: -7\n"
     ]
    },
    {
     "name": "stderr",
     "output_type": "stream",
     "text": [
      "Setting `pad_token_id` to `eos_token_id`:None for open-end generation.\n",
      "/home/aurora/miniconda3/lib/python3.11/site-packages/trl/trainer/ppo_trainer.py:1313: UserWarning: KL divergence is starting to become negative: -2.84 - this might be a precursor for failed training. sometimes this happens because the generation kwargs are not correctly set. Please make sure that the generation kwargs are set correctly, or review your training hyperparameters.\n",
      "  warnings.warn(\n",
      "Setting `pad_token_id` to `eos_token_id`:None for open-end generation.\n"
     ]
    },
    {
     "name": "stdout",
     "output_type": "stream",
     "text": [
      "Prompt: [INST] 19 es igual a [/INST]\n",
      "Respuesta: [INST] 19 es igual a [/INST] 19 es igual [/INST 19 es [/\n",
      "Recompensa: -10\n",
      "Prompt: [INST] 22 es igual a [/INST]\n",
      "Respuesta: [INST] 22 es igual a [/INST] 22 es [/INST]); 2E] [/\n",
      "Recompensa: -13\n"
     ]
    },
    {
     "name": "stderr",
     "output_type": "stream",
     "text": [
      "/home/aurora/miniconda3/lib/python3.11/site-packages/trl/trainer/ppo_trainer.py:1313: UserWarning: KL divergence is starting to become negative: -13.91 - this might be a precursor for failed training. sometimes this happens because the generation kwargs are not correctly set. Please make sure that the generation kwargs are set correctly, or review your training hyperparameters.\n",
      "  warnings.warn(\n",
      "Setting `pad_token_id` to `eos_token_id`:None for open-end generation.\n",
      "/home/aurora/miniconda3/lib/python3.11/site-packages/trl/trainer/ppo_trainer.py:1313: UserWarning: KL divergence is starting to become negative: -3.62 - this might be a precursor for failed training. sometimes this happens because the generation kwargs are not correctly set. Please make sure that the generation kwargs are set correctly, or review your training hyperparameters.\n",
      "  warnings.warn(\n",
      "Setting `pad_token_id` to `eos_token_id`:None for open-end generation.\n"
     ]
    },
    {
     "name": "stdout",
     "output_type": "stream",
     "text": [
      "Prompt: [INST] 25 es igual a [/INST]\n",
      "Respuesta: [INST] 25 es igual a [/INST] 25 es [/INST 25 fr 25 es 25\n",
      "Recompensa: -16\n",
      "Prompt: [INST] 28 es igual a [/INST]\n",
      "Respuesta: [INST] 28 es igual a [/INST] 28 es [/INST]); [/INST] 28\n",
      "Recompensa: -19\n"
     ]
    },
    {
     "name": "stderr",
     "output_type": "stream",
     "text": [
      "/home/aurora/miniconda3/lib/python3.11/site-packages/trl/trainer/ppo_trainer.py:1313: UserWarning: KL divergence is starting to become negative: -5.51 - this might be a precursor for failed training. sometimes this happens because the generation kwargs are not correctly set. Please make sure that the generation kwargs are set correctly, or review your training hyperparameters.\n",
      "  warnings.warn(\n",
      "Setting `pad_token_id` to `eos_token_id`:None for open-end generation.\n",
      "/home/aurora/miniconda3/lib/python3.11/site-packages/trl/trainer/ppo_trainer.py:1313: UserWarning: KL divergence is starting to become negative: -33.40 - this might be a precursor for failed training. sometimes this happens because the generation kwargs are not correctly set. Please make sure that the generation kwargs are set correctly, or review your training hyperparameters.\n",
      "  warnings.warn(\n",
      "Setting `pad_token_id` to `eos_token_id`:None for open-end generation.\n"
     ]
    },
    {
     "name": "stdout",
     "output_type": "stream",
     "text": [
      "Prompt: [INST] 31 es igual a [/INST]\n",
      "Respuesta: [INST] 31 es igual a [/INST] 31 es igual a [/INST 31 ig\n",
      "Recompensa: -22\n"
     ]
    },
    {
     "name": "stderr",
     "output_type": "stream",
     "text": [
      "Setting `pad_token_id` to `eos_token_id`:None for open-end generation.\n"
     ]
    },
    {
     "name": "stdout",
     "output_type": "stream",
     "text": [
      "Prompt: [INST] 34 es igual a [/INST]\n",
      "Respuesta: [INST] 34 es igual a [/INST] /ES/au/OULAME?\n",
      "Recompensa: -25\n"
     ]
    },
    {
     "name": "stderr",
     "output_type": "stream",
     "text": [
      "Setting `pad_token_id` to `eos_token_id`:None for open-end generation.\n"
     ]
    },
    {
     "name": "stdout",
     "output_type": "stream",
     "text": [
      "Prompt: [INST] 37 es igual a [/INST]\n",
      "Respuesta: [INST] 37 es igual a [/INST]]];\n",
      "if (INST_IsSpell\n",
      "Recompensa: -28\n"
     ]
    },
    {
     "name": "stderr",
     "output_type": "stream",
     "text": [
      "Setting `pad_token_id` to `eos_token_id`:None for open-end generation.\n"
     ]
    },
    {
     "name": "stdout",
     "output_type": "stream",
     "text": [
      "Prompt: [INST] 40 es igual a [/INST]\n",
      "Respuesta: [INST] 40 es igual a [/INST]];[/INST]) [/INST]);\n",
      "\n",
      "\n",
      "Recompensa: -31\n",
      "Prompt: [INST] 43 es igual a [/INST]\n",
      "Respuesta: [INST] 43 es igual a [/INST] gs3 eo17 ee17\n",
      "Recompensa: -34\n"
     ]
    },
    {
     "name": "stderr",
     "output_type": "stream",
     "text": [
      "Setting `pad_token_id` to `eos_token_id`:None for open-end generation.\n",
      "/home/aurora/miniconda3/lib/python3.11/site-packages/trl/trainer/ppo_trainer.py:1313: UserWarning: KL divergence is starting to become negative: -23.69 - this might be a precursor for failed training. sometimes this happens because the generation kwargs are not correctly set. Please make sure that the generation kwargs are set correctly, or review your training hyperparameters.\n",
      "  warnings.warn(\n",
      "Setting `pad_token_id` to `eos_token_id`:None for open-end generation.\n"
     ]
    },
    {
     "name": "stdout",
     "output_type": "stream",
     "text": [
      "Prompt: [INST] 46 es igual a [/INST]\n",
      "Respuesta: [INST] 46 es igual a [/INST] 46] 46) es igual[/INST\n",
      "Recompensa: -37\n",
      "Prompt: [INST] 49 es igual a [/INST]\n",
      "Respuesta: [INST] 49 es igual a [/INST] 49 es.N 49-N.N\n",
      "Recompensa: -40\n"
     ]
    },
    {
     "name": "stderr",
     "output_type": "stream",
     "text": [
      "Setting `pad_token_id` to `eos_token_id`:None for open-end generation.\n",
      "/home/aurora/miniconda3/lib/python3.11/site-packages/trl/trainer/ppo_trainer.py:1313: UserWarning: KL divergence is starting to become negative: -37.34 - this might be a precursor for failed training. sometimes this happens because the generation kwargs are not correctly set. Please make sure that the generation kwargs are set correctly, or review your training hyperparameters.\n",
      "  warnings.warn(\n",
      "Setting `pad_token_id` to `eos_token_id`:None for open-end generation.\n"
     ]
    },
    {
     "name": "stdout",
     "output_type": "stream",
     "text": [
      "Prompt: [INST] 10 es igual a [/INST]\n",
      "Respuesta: [INST] 10 es igual a [/INST] 10 eng [/INST10] 10 eng [/\n",
      "Recompensa: -1\n"
     ]
    },
    {
     "name": "stderr",
     "output_type": "stream",
     "text": [
      "/home/aurora/miniconda3/lib/python3.11/site-packages/trl/trainer/ppo_trainer.py:1313: UserWarning: KL divergence is starting to become negative: -26.88 - this might be a precursor for failed training. sometimes this happens because the generation kwargs are not correctly set. Please make sure that the generation kwargs are set correctly, or review your training hyperparameters.\n",
      "  warnings.warn(\n",
      "Setting `pad_token_id` to `eos_token_id`:None for open-end generation.\n"
     ]
    },
    {
     "name": "stdout",
     "output_type": "stream",
     "text": [
      "Prompt: [INST] 13 es igual a [/INST]\n",
      "Respuesta: [INST] 13 es igual a [/INST] [/INST 13 iguala 12 ig.\n",
      "Recompensa: -4\n"
     ]
    },
    {
     "name": "stderr",
     "output_type": "stream",
     "text": [
      "/home/aurora/miniconda3/lib/python3.11/site-packages/trl/trainer/ppo_trainer.py:1313: UserWarning: KL divergence is starting to become negative: -13.53 - this might be a precursor for failed training. sometimes this happens because the generation kwargs are not correctly set. Please make sure that the generation kwargs are set correctly, or review your training hyperparameters.\n",
      "  warnings.warn(\n",
      "Setting `pad_token_id` to `eos_token_id`:None for open-end generation.\n"
     ]
    },
    {
     "name": "stdout",
     "output_type": "stream",
     "text": [
      "Prompt: [INST] 16 es igual a [/INST]\n",
      "Respuesta: [INST] 16 es igual a [/INST] 16 igual [/INST 16 igbl [/\n",
      "Recompensa: -7\n"
     ]
    },
    {
     "name": "stderr",
     "output_type": "stream",
     "text": [
      "/home/aurora/miniconda3/lib/python3.11/site-packages/trl/trainer/ppo_trainer.py:1313: UserWarning: KL divergence is starting to become negative: -14.31 - this might be a precursor for failed training. sometimes this happens because the generation kwargs are not correctly set. Please make sure that the generation kwargs are set correctly, or review your training hyperparameters.\n",
      "  warnings.warn(\n",
      "Setting `pad_token_id` to `eos_token_id`:None for open-end generation.\n"
     ]
    },
    {
     "name": "stdout",
     "output_type": "stream",
     "text": [
      "Prompt: [INST] 19 es igual a [/INST]\n",
      "Respuesta: [INST] 19 es igual a [/INST] 19 es ig ig 19 es ig ig ig\n",
      "Recompensa: -10\n",
      "Prompt: [INST] 22 es igual a [/INST]\n",
      "Respuesta: [INST] 22 es igual a [/INST] b [/INST]\n",
      "\n",
      "Exe 1\n",
      "Recompensa: -13\n"
     ]
    },
    {
     "name": "stderr",
     "output_type": "stream",
     "text": [
      "/home/aurora/miniconda3/lib/python3.11/site-packages/trl/trainer/ppo_trainer.py:1313: UserWarning: KL divergence is starting to become negative: -10.05 - this might be a precursor for failed training. sometimes this happens because the generation kwargs are not correctly set. Please make sure that the generation kwargs are set correctly, or review your training hyperparameters.\n",
      "  warnings.warn(\n",
      "Setting `pad_token_id` to `eos_token_id`:None for open-end generation.\n",
      "/home/aurora/miniconda3/lib/python3.11/site-packages/trl/trainer/ppo_trainer.py:1313: UserWarning: KL divergence is starting to become negative: -32.44 - this might be a precursor for failed training. sometimes this happens because the generation kwargs are not correctly set. Please make sure that the generation kwargs are set correctly, or review your training hyperparameters.\n",
      "  warnings.warn(\n",
      "Setting `pad_token_id` to `eos_token_id`:None for open-end generation.\n"
     ]
    },
    {
     "name": "stdout",
     "output_type": "stream",
     "text": [
      "Prompt: [INST] 25 es igual a [/INST]\n",
      "Respuesta: [INST] 25 es igual a [/INST] 25 es ig a [/INST 25 es [/\n",
      "Recompensa: -16\n"
     ]
    },
    {
     "name": "stderr",
     "output_type": "stream",
     "text": [
      "/home/aurora/miniconda3/lib/python3.11/site-packages/trl/trainer/ppo_trainer.py:1313: UserWarning: KL divergence is starting to become negative: -12.86 - this might be a precursor for failed training. sometimes this happens because the generation kwargs are not correctly set. Please make sure that the generation kwargs are set correctly, or review your training hyperparameters.\n",
      "  warnings.warn(\n",
      "Setting `pad_token_id` to `eos_token_id`:None for open-end generation.\n"
     ]
    },
    {
     "name": "stdout",
     "output_type": "stream",
     "text": [
      "Prompt: [INST] 28 es igual a [/INST]\n",
      "Respuesta: [INST] 28 es igual a [/INST] 28 es, ig, ig, ig,\n",
      "Recompensa: -19\n",
      "Prompt: [INST] 31 es igual a [/INST]\n",
      "Respuesta: [INST] 31 es igual a [/INST] 31 es es 31 es 31 31 es 31\n",
      "Recompensa: -22\n"
     ]
    },
    {
     "name": "stderr",
     "output_type": "stream",
     "text": [
      "/home/aurora/miniconda3/lib/python3.11/site-packages/trl/trainer/ppo_trainer.py:1313: UserWarning: KL divergence is starting to become negative: -29.50 - this might be a precursor for failed training. sometimes this happens because the generation kwargs are not correctly set. Please make sure that the generation kwargs are set correctly, or review your training hyperparameters.\n",
      "  warnings.warn(\n",
      "Setting `pad_token_id` to `eos_token_id`:None for open-end generation.\n",
      "/home/aurora/miniconda3/lib/python3.11/site-packages/trl/trainer/ppo_trainer.py:1313: UserWarning: KL divergence is starting to become negative: -16.15 - this might be a precursor for failed training. sometimes this happens because the generation kwargs are not correctly set. Please make sure that the generation kwargs are set correctly, or review your training hyperparameters.\n",
      "  warnings.warn(\n",
      "Setting `pad_token_id` to `eos_token_id`:None for open-end generation.\n"
     ]
    },
    {
     "name": "stdout",
     "output_type": "stream",
     "text": [
      "Prompt: [INST] 34 es igual a [/INST]\n",
      "Respuesta: [INST] 34 es igual a [/INST] 34 ig.ls 34 es ig. ig\n",
      "Recompensa: -25\n",
      "Prompt: [INST] 37 es igual a [/INST]\n",
      "Respuesta: [INST] 37 es igual a [/INST]/[INST,INST]/both]\n",
      "Recompensa: -28\n"
     ]
    },
    {
     "name": "stderr",
     "output_type": "stream",
     "text": [
      "Setting `pad_token_id` to `eos_token_id`:None for open-end generation.\n",
      "/home/aurora/miniconda3/lib/python3.11/site-packages/trl/trainer/ppo_trainer.py:1313: UserWarning: KL divergence is starting to become negative: -30.75 - this might be a precursor for failed training. sometimes this happens because the generation kwargs are not correctly set. Please make sure that the generation kwargs are set correctly, or review your training hyperparameters.\n",
      "  warnings.warn(\n",
      "Setting `pad_token_id` to `eos_token_id`:None for open-end generation.\n"
     ]
    },
    {
     "name": "stdout",
     "output_type": "stream",
     "text": [
      "Prompt: [INST] 40 es igual a [/INST]\n",
      "Respuesta: [INST] 40 es igual a [/INST] [ 40 ], igual ], igual ],\n",
      "Recompensa: -31\n",
      "Prompt: [INST] 43 es igual a [/INST]\n",
      "Respuesta: [INST] 43 es igual a [/INST]do 03 03 03 03 03 03 03 03\n",
      "Recompensa: -34\n"
     ]
    },
    {
     "name": "stderr",
     "output_type": "stream",
     "text": [
      "/home/aurora/miniconda3/lib/python3.11/site-packages/trl/trainer/ppo_trainer.py:1313: UserWarning: KL divergence is starting to become negative: -14.89 - this might be a precursor for failed training. sometimes this happens because the generation kwargs are not correctly set. Please make sure that the generation kwargs are set correctly, or review your training hyperparameters.\n",
      "  warnings.warn(\n",
      "Setting `pad_token_id` to `eos_token_id`:None for open-end generation.\n",
      "Setting `pad_token_id` to `eos_token_id`:None for open-end generation.\n"
     ]
    },
    {
     "name": "stdout",
     "output_type": "stream",
     "text": [
      "Prompt: [INST] 46 es igual a [/INST]\n",
      "Respuesta: [INST] 46 es igual a [/INST]\n",
      "\n",
      "(INST,E) ? es\n",
      "Recompensa: -37\n",
      "Prompt: [INST] 49 es igual a [/INST]\n",
      "Respuesta: [INST] 49 es igual a [/INST] [/])] 49 es\"? 49 49 49\n",
      "Recompensa: -40\n"
     ]
    },
    {
     "name": "stderr",
     "output_type": "stream",
     "text": [
      "Setting `pad_token_id` to `eos_token_id`:None for open-end generation.\n",
      "/home/aurora/miniconda3/lib/python3.11/site-packages/trl/trainer/ppo_trainer.py:1313: UserWarning: KL divergence is starting to become negative: -10.03 - this might be a precursor for failed training. sometimes this happens because the generation kwargs are not correctly set. Please make sure that the generation kwargs are set correctly, or review your training hyperparameters.\n",
      "  warnings.warn(\n",
      "Setting `pad_token_id` to `eos_token_id`:None for open-end generation.\n"
     ]
    },
    {
     "name": "stdout",
     "output_type": "stream",
     "text": [
      "Prompt: [INST] 10 es igual a [/INST]\n",
      "Respuesta: [INST] 10 es igual a [/INST] 10 igora [/INST10ES),10\n",
      "Recompensa: -1\n",
      "Prompt: [INST] 13 es igual a [/INST]\n",
      "Respuesta: [INST] 13 es igual a [/INST] 13 es a [/INST 13 es) [/\n",
      "Recompensa: -4\n"
     ]
    },
    {
     "name": "stderr",
     "output_type": "stream",
     "text": [
      "/home/aurora/miniconda3/lib/python3.11/site-packages/trl/trainer/ppo_trainer.py:1313: UserWarning: KL divergence is starting to become negative: -26.47 - this might be a precursor for failed training. sometimes this happens because the generation kwargs are not correctly set. Please make sure that the generation kwargs are set correctly, or review your training hyperparameters.\n",
      "  warnings.warn(\n",
      "Setting `pad_token_id` to `eos_token_id`:None for open-end generation.\n",
      "/home/aurora/miniconda3/lib/python3.11/site-packages/trl/trainer/ppo_trainer.py:1313: UserWarning: KL divergence is starting to become negative: -30.55 - this might be a precursor for failed training. sometimes this happens because the generation kwargs are not correctly set. Please make sure that the generation kwargs are set correctly, or review your training hyperparameters.\n",
      "  warnings.warn(\n",
      "Setting `pad_token_id` to `eos_token_id`:None for open-end generation.\n"
     ]
    },
    {
     "name": "stdout",
     "output_type": "stream",
     "text": [
      "Prompt: [INST] 16 es igual a [/INST]\n",
      "Respuesta: [INST] 16 es igual a [/INST] es 16 16 16 16 16 16) 16\n",
      "Recompensa: -7\n",
      "Prompt: [INST] 19 es igual a [/INST]\n",
      "Respuesta: [INST] 19 es igual a [/INST] 19 / 19 / 19 / 19 / 19\n",
      "Recompensa: -10\n"
     ]
    },
    {
     "name": "stderr",
     "output_type": "stream",
     "text": [
      "/home/aurora/miniconda3/lib/python3.11/site-packages/trl/trainer/ppo_trainer.py:1313: UserWarning: KL divergence is starting to become negative: -15.33 - this might be a precursor for failed training. sometimes this happens because the generation kwargs are not correctly set. Please make sure that the generation kwargs are set correctly, or review your training hyperparameters.\n",
      "  warnings.warn(\n",
      "Setting `pad_token_id` to `eos_token_id`:None for open-end generation.\n",
      "/home/aurora/miniconda3/lib/python3.11/site-packages/trl/trainer/ppo_trainer.py:1313: UserWarning: KL divergence is starting to become negative: -4.20 - this might be a precursor for failed training. sometimes this happens because the generation kwargs are not correctly set. Please make sure that the generation kwargs are set correctly, or review your training hyperparameters.\n",
      "  warnings.warn(\n",
      "Setting `pad_token_id` to `eos_token_id`:None for open-end generation.\n"
     ]
    },
    {
     "name": "stdout",
     "output_type": "stream",
     "text": [
      "Prompt: [INST] 22 es igual a [/INST]\n",
      "Respuesta: [INST] 22 es igual a [/INST] 22\n",
      "\n",
      "22\n",
      "\n",
      "22\n",
      "[\n",
      "Recompensa: -13\n",
      "Prompt: [INST] 25 es igual a [/INST]\n",
      "Respuesta: [INST] 25 es igual a [/INST] [/INST 25 Febru].\n",
      "\n",
      "25\n",
      "Recompensa: -16\n"
     ]
    },
    {
     "name": "stderr",
     "output_type": "stream",
     "text": [
      "Setting `pad_token_id` to `eos_token_id`:None for open-end generation.\n",
      "Setting `pad_token_id` to `eos_token_id`:None for open-end generation.\n"
     ]
    },
    {
     "name": "stdout",
     "output_type": "stream",
     "text": [
      "Prompt: [INST] 28 es igual a [/INST]\n",
      "Respuesta: [INST] 28 es igual a [/INST] 28 / 28 28 fr 28\n",
      "\n",
      "28\n",
      "Recompensa: -19\n",
      "Prompt: [INST] 31 es igual a [/INST]\n",
      "Respuesta: [INST] 31 es igual a [/INST] 31 es igual a.addend(\n",
      "Recompensa: -22\n"
     ]
    },
    {
     "name": "stderr",
     "output_type": "stream",
     "text": [
      "/home/aurora/miniconda3/lib/python3.11/site-packages/trl/trainer/ppo_trainer.py:1313: UserWarning: KL divergence is starting to become negative: -21.25 - this might be a precursor for failed training. sometimes this happens because the generation kwargs are not correctly set. Please make sure that the generation kwargs are set correctly, or review your training hyperparameters.\n",
      "  warnings.warn(\n",
      "Setting `pad_token_id` to `eos_token_id`:None for open-end generation.\n",
      "Setting `pad_token_id` to `eos_token_id`:None for open-end generation.\n"
     ]
    },
    {
     "name": "stdout",
     "output_type": "stream",
     "text": [
      "Prompt: [INST] 34 es igual a [/INST]\n",
      "Respuesta: [INST] 34 es igual a [/INST]\n",
      "\n",
      "34. 34. 34. 34\n",
      "Recompensa: -25\n",
      "Prompt: [INST] 37 es igual a [/INST]\n",
      "Respuesta: [INST] 37 es igual a [/INST] 37 es ig, 37 es, a,\n",
      "Recompensa: -28\n"
     ]
    },
    {
     "name": "stderr",
     "output_type": "stream",
     "text": [
      "/home/aurora/miniconda3/lib/python3.11/site-packages/trl/trainer/ppo_trainer.py:1313: UserWarning: KL divergence is starting to become negative: -6.62 - this might be a precursor for failed training. sometimes this happens because the generation kwargs are not correctly set. Please make sure that the generation kwargs are set correctly, or review your training hyperparameters.\n",
      "  warnings.warn(\n",
      "Setting `pad_token_id` to `eos_token_id`:None for open-end generation.\n",
      "Setting `pad_token_id` to `eos_token_id`:None for open-end generation.\n"
     ]
    },
    {
     "name": "stdout",
     "output_type": "stream",
     "text": [
      "Prompt: [INST] 40 es igual a [/INST]\n",
      "Respuesta: [INST] 40 es igual a [/INST]\".\n",
      "\n",
      "The second line reads:\n",
      "\n",
      "Recompensa: -31\n",
      "Prompt: [INST] 43 es igual a [/INST]\n",
      "Respuesta: [INST] 43 es igual a [/INST] 43 es [/t es ig 73 es [/\n",
      "Recompensa: -34\n"
     ]
    },
    {
     "name": "stderr",
     "output_type": "stream",
     "text": [
      "/home/aurora/miniconda3/lib/python3.11/site-packages/trl/trainer/ppo_trainer.py:1313: UserWarning: KL divergence is starting to become negative: -18.30 - this might be a precursor for failed training. sometimes this happens because the generation kwargs are not correctly set. Please make sure that the generation kwargs are set correctly, or review your training hyperparameters.\n",
      "  warnings.warn(\n",
      "Setting `pad_token_id` to `eos_token_id`:None for open-end generation.\n",
      "Setting `pad_token_id` to `eos_token_id`:None for open-end generation.\n"
     ]
    },
    {
     "name": "stdout",
     "output_type": "stream",
     "text": [
      "Prompt: [INST] 46 es igual a [/INST]\n",
      "Respuesta: [INST] 46 es igual a [/INST]?[46 es ig. [/INST]\n",
      "Recompensa: -37\n",
      "Prompt: [INST] 49 es igual a [/INST]\n",
      "Respuesta: [INST] 49 es igual a [/INST] 49 igsa\").[/inst] [/INST\n",
      "Recompensa: -40\n"
     ]
    },
    {
     "name": "stderr",
     "output_type": "stream",
     "text": [
      "/home/aurora/miniconda3/lib/python3.11/site-packages/trl/trainer/ppo_trainer.py:1313: UserWarning: KL divergence is starting to become negative: -13.25 - this might be a precursor for failed training. sometimes this happens because the generation kwargs are not correctly set. Please make sure that the generation kwargs are set correctly, or review your training hyperparameters.\n",
      "  warnings.warn(\n",
      "Setting `pad_token_id` to `eos_token_id`:None for open-end generation.\n",
      "/home/aurora/miniconda3/lib/python3.11/site-packages/trl/trainer/ppo_trainer.py:1313: UserWarning: KL divergence is starting to become negative: -23.09 - this might be a precursor for failed training. sometimes this happens because the generation kwargs are not correctly set. Please make sure that the generation kwargs are set correctly, or review your training hyperparameters.\n",
      "  warnings.warn(\n",
      "Setting `pad_token_id` to `eos_token_id`:None for open-end generation.\n"
     ]
    },
    {
     "name": "stdout",
     "output_type": "stream",
     "text": [
      "Prompt: [INST] 10 es igual a [/INST]\n",
      "Respuesta: [INST] 10 es igual a [/INST] 10\n",
      "\n",
      "\n",
      "10\n",
      "10\n",
      "10\n",
      "Recompensa: -1\n",
      "Prompt: [INST] 13 es igual a [/INST]\n",
      "Respuesta: [INST] 13 es igual a [/INST] 13 13 ig [/INST 13 ig [/ [/\n",
      "Recompensa: -4\n"
     ]
    },
    {
     "name": "stderr",
     "output_type": "stream",
     "text": [
      "/home/aurora/miniconda3/lib/python3.11/site-packages/trl/trainer/ppo_trainer.py:1313: UserWarning: KL divergence is starting to become negative: -4.99 - this might be a precursor for failed training. sometimes this happens because the generation kwargs are not correctly set. Please make sure that the generation kwargs are set correctly, or review your training hyperparameters.\n",
      "  warnings.warn(\n",
      "Setting `pad_token_id` to `eos_token_id`:None for open-end generation.\n",
      "/home/aurora/miniconda3/lib/python3.11/site-packages/trl/trainer/ppo_trainer.py:1313: UserWarning: KL divergence is starting to become negative: -54.39 - this might be a precursor for failed training. sometimes this happens because the generation kwargs are not correctly set. Please make sure that the generation kwargs are set correctly, or review your training hyperparameters.\n",
      "  warnings.warn(\n",
      "Setting `pad_token_id` to `eos_token_id`:None for open-end generation.\n"
     ]
    },
    {
     "name": "stdout",
     "output_type": "stream",
     "text": [
      "Prompt: [INST] 16 es igual a [/INST]\n",
      "Respuesta: [INST] 16 es igual a [/INST] 16 es igual igau 16 es ig\n",
      "Recompensa: -7\n",
      "Prompt: [INST] 19 es igual a [/INST]\n",
      "Respuesta: [INST] 19 es igual a [/INST] 19 fr att att att (struct ING\n",
      "Recompensa: -10\n"
     ]
    },
    {
     "name": "stderr",
     "output_type": "stream",
     "text": [
      "/home/aurora/miniconda3/lib/python3.11/site-packages/trl/trainer/ppo_trainer.py:1313: UserWarning: KL divergence is starting to become negative: -27.71 - this might be a precursor for failed training. sometimes this happens because the generation kwargs are not correctly set. Please make sure that the generation kwargs are set correctly, or review your training hyperparameters.\n",
      "  warnings.warn(\n",
      "Setting `pad_token_id` to `eos_token_id`:None for open-end generation.\n",
      "/home/aurora/miniconda3/lib/python3.11/site-packages/trl/trainer/ppo_trainer.py:1313: UserWarning: KL divergence is starting to become negative: -24.84 - this might be a precursor for failed training. sometimes this happens because the generation kwargs are not correctly set. Please make sure that the generation kwargs are set correctly, or review your training hyperparameters.\n",
      "  warnings.warn(\n",
      "Setting `pad_token_id` to `eos_token_id`:None for open-end generation.\n"
     ]
    },
    {
     "name": "stdout",
     "output_type": "stream",
     "text": [
      "Prompt: [INST] 22 es igual a [/INST]\n",
      "Respuesta: [INST] 22 es igual a [/INST] 23 es fr 22es fr 22\n",
      "\n",
      "\n",
      "Recompensa: -13\n",
      "Prompt: [INST] 25 es igual a [/INST]\n",
      "Respuesta: [INST] 25 es igual a [/INST] 25 es igau 25 es igau 25\n",
      "Recompensa: -16\n"
     ]
    },
    {
     "name": "stderr",
     "output_type": "stream",
     "text": [
      "/home/aurora/miniconda3/lib/python3.11/site-packages/trl/trainer/ppo_trainer.py:1313: UserWarning: KL divergence is starting to become negative: -30.31 - this might be a precursor for failed training. sometimes this happens because the generation kwargs are not correctly set. Please make sure that the generation kwargs are set correctly, or review your training hyperparameters.\n",
      "  warnings.warn(\n",
      "Setting `pad_token_id` to `eos_token_id`:None for open-end generation.\n",
      "Setting `pad_token_id` to `eos_token_id`:None for open-end generation.\n"
     ]
    },
    {
     "name": "stdout",
     "output_type": "stream",
     "text": [
      "Prompt: [INST] 28 es igual a [/INST]\n",
      "Respuesta: [INST] 28 es igual a [/INST] 28 es ig] 28 mod heart done\n",
      "\n",
      "Recompensa: -19\n",
      "Prompt: [INST] 31 es igual a [/INST]\n",
      "Respuesta: [INST] 31 es igual a [/INST] 1.L 1.N]) 1.\n",
      "Recompensa: -22\n"
     ]
    },
    {
     "name": "stderr",
     "output_type": "stream",
     "text": [
      "Setting `pad_token_id` to `eos_token_id`:None for open-end generation.\n",
      "Setting `pad_token_id` to `eos_token_id`:None for open-end generation.\n"
     ]
    },
    {
     "name": "stdout",
     "output_type": "stream",
     "text": [
      "Prompt: [INST] 34 es igual a [/INST]\n",
      "Respuesta: [INST] 34 es igual a [/INST] 34 ig)? 34 es ig? 34 ig\n",
      "Recompensa: -25\n",
      "Prompt: [INST] 37 es igual a [/INST]\n",
      "Respuesta: [INST] 37 es igual a [/INST]?/INST?/INST??/\n",
      "Recompensa: -28\n"
     ]
    },
    {
     "name": "stderr",
     "output_type": "stream",
     "text": [
      "Setting `pad_token_id` to `eos_token_id`:None for open-end generation.\n",
      "/home/aurora/miniconda3/lib/python3.11/site-packages/trl/trainer/ppo_trainer.py:1313: UserWarning: KL divergence is starting to become negative: -2.41 - this might be a precursor for failed training. sometimes this happens because the generation kwargs are not correctly set. Please make sure that the generation kwargs are set correctly, or review your training hyperparameters.\n",
      "  warnings.warn(\n",
      "Setting `pad_token_id` to `eos_token_id`:None for open-end generation.\n"
     ]
    },
    {
     "name": "stdout",
     "output_type": "stream",
     "text": [
      "Prompt: [INST] 40 es igual a [/INST]\n",
      "Respuesta: [INST] 40 es igual a [/INST] [N],], [/INST 10[/N\n",
      "Recompensa: -31\n",
      "Prompt: [INST] 43 es igual a [/INST]\n",
      "Respuesta: [INST] 43 es igual a [/INST] 03 03 WSB - 03 03 03 03\n",
      "Recompensa: -34\n"
     ]
    },
    {
     "name": "stderr",
     "output_type": "stream",
     "text": [
      "Setting `pad_token_id` to `eos_token_id`:None for open-end generation.\n",
      "Setting `pad_token_id` to `eos_token_id`:None for open-end generation.\n"
     ]
    },
    {
     "name": "stdout",
     "output_type": "stream",
     "text": [
      "Prompt: [INST] 46 es igual a [/INST]\n",
      "Respuesta: [INST] 46 es igual a [/INST] 46 es nf 1Es 1N e\n",
      "Recompensa: -37\n",
      "Prompt: [INST] 49 es igual a [/INST]\n",
      "Respuesta: [INST] 49 es igual a [/INST] 49 es / igual 49 es / 49\n",
      "Recompensa: -40\n"
     ]
    },
    {
     "name": "stderr",
     "output_type": "stream",
     "text": [
      "/home/aurora/miniconda3/lib/python3.11/site-packages/trl/trainer/ppo_trainer.py:1313: UserWarning: KL divergence is starting to become negative: -37.37 - this might be a precursor for failed training. sometimes this happens because the generation kwargs are not correctly set. Please make sure that the generation kwargs are set correctly, or review your training hyperparameters.\n",
      "  warnings.warn(\n",
      "Setting `pad_token_id` to `eos_token_id`:None for open-end generation.\n",
      "/home/aurora/miniconda3/lib/python3.11/site-packages/trl/trainer/ppo_trainer.py:1313: UserWarning: KL divergence is starting to become negative: -67.94 - this might be a precursor for failed training. sometimes this happens because the generation kwargs are not correctly set. Please make sure that the generation kwargs are set correctly, or review your training hyperparameters.\n",
      "  warnings.warn(\n",
      "Setting `pad_token_id` to `eos_token_id`:None for open-end generation.\n"
     ]
    },
    {
     "name": "stdout",
     "output_type": "stream",
     "text": [
      "Prompt: [INST] 10 es igual a [/INST]\n",
      "Respuesta: [INST] 10 es igual a [/INST] 10 es ig [/ [/ [/ [/ ]) 10\n",
      "Recompensa: -1\n",
      "Prompt: [INST] 13 es igual a [/INST]\n",
      "Respuesta: [INST] 13 es igual a [/INST] 13 es igual [/13 13 es [/\n",
      "Recompensa: -4\n"
     ]
    },
    {
     "name": "stderr",
     "output_type": "stream",
     "text": [
      "/home/aurora/miniconda3/lib/python3.11/site-packages/trl/trainer/ppo_trainer.py:1313: UserWarning: KL divergence is starting to become negative: -30.84 - this might be a precursor for failed training. sometimes this happens because the generation kwargs are not correctly set. Please make sure that the generation kwargs are set correctly, or review your training hyperparameters.\n",
      "  warnings.warn(\n",
      "Setting `pad_token_id` to `eos_token_id`:None for open-end generation.\n",
      "/home/aurora/miniconda3/lib/python3.11/site-packages/trl/trainer/ppo_trainer.py:1313: UserWarning: KL divergence is starting to become negative: -23.16 - this might be a precursor for failed training. sometimes this happens because the generation kwargs are not correctly set. Please make sure that the generation kwargs are set correctly, or review your training hyperparameters.\n",
      "  warnings.warn(\n",
      "Setting `pad_token_id` to `eos_token_id`:None for open-end generation.\n"
     ]
    },
    {
     "name": "stdout",
     "output_type": "stream",
     "text": [
      "Prompt: [INST] 16 es igual a [/INST]\n",
      "Respuesta: [INST] 16 es igual a [/INST] ], 16 es, 16 es, 16 es\n",
      "Recompensa: -7\n",
      "Prompt: [INST] 19 es igual a [/INST]\n",
      "Respuesta: [INST] 19 es igual a [/INST]?:[==]):[=[/INST\n",
      "Recompensa: -10\n"
     ]
    },
    {
     "name": "stderr",
     "output_type": "stream",
     "text": [
      "/home/aurora/miniconda3/lib/python3.11/site-packages/trl/trainer/ppo_trainer.py:1313: UserWarning: KL divergence is starting to become negative: -20.00 - this might be a precursor for failed training. sometimes this happens because the generation kwargs are not correctly set. Please make sure that the generation kwargs are set correctly, or review your training hyperparameters.\n",
      "  warnings.warn(\n",
      "Setting `pad_token_id` to `eos_token_id`:None for open-end generation.\n",
      "/home/aurora/miniconda3/lib/python3.11/site-packages/trl/trainer/ppo_trainer.py:1313: UserWarning: KL divergence is starting to become negative: -31.58 - this might be a precursor for failed training. sometimes this happens because the generation kwargs are not correctly set. Please make sure that the generation kwargs are set correctly, or review your training hyperparameters.\n",
      "  warnings.warn(\n",
      "Setting `pad_token_id` to `eos_token_id`:None for open-end generation.\n"
     ]
    },
    {
     "name": "stdout",
     "output_type": "stream",
     "text": [
      "Prompt: [INST] 22 es igual a [/INST]\n",
      "Respuesta: [INST] 22 es igual a [/INST] 22 esgo /INST 22 22 esgo\n",
      "Recompensa: -13\n",
      "Prompt: [INST] 25 es igual a [/INST]\n",
      "Respuesta: [INST] 25 es igual a [/INST] [/INST 25]) 25 igual\n",
      "\n",
      "\n",
      "Recompensa: -16\n"
     ]
    },
    {
     "name": "stderr",
     "output_type": "stream",
     "text": [
      "/home/aurora/miniconda3/lib/python3.11/site-packages/trl/trainer/ppo_trainer.py:1313: UserWarning: KL divergence is starting to become negative: -17.28 - this might be a precursor for failed training. sometimes this happens because the generation kwargs are not correctly set. Please make sure that the generation kwargs are set correctly, or review your training hyperparameters.\n",
      "  warnings.warn(\n",
      "Setting `pad_token_id` to `eos_token_id`:None for open-end generation.\n",
      "/home/aurora/miniconda3/lib/python3.11/site-packages/trl/trainer/ppo_trainer.py:1313: UserWarning: KL divergence is starting to become negative: -17.49 - this might be a precursor for failed training. sometimes this happens because the generation kwargs are not correctly set. Please make sure that the generation kwargs are set correctly, or review your training hyperparameters.\n",
      "  warnings.warn(\n",
      "Setting `pad_token_id` to `eos_token_id`:None for open-end generation.\n"
     ]
    },
    {
     "name": "stdout",
     "output_type": "stream",
     "text": [
      "Prompt: [INST] 28 es igual a [/INST]\n",
      "Respuesta: [INST] 28 es igual a [/INST] 28\n",
      "\n",
      "28 es igual a 28\n",
      "Recompensa: -19\n",
      "Prompt: [INST] 31 es igual a [/INST]\n",
      "Respuesta: [INST] 31 es igual a [/INST] throughout.household.house.house.\n",
      "Recompensa: -22\n"
     ]
    },
    {
     "name": "stderr",
     "output_type": "stream",
     "text": [
      "Setting `pad_token_id` to `eos_token_id`:None for open-end generation.\n",
      "/home/aurora/miniconda3/lib/python3.11/site-packages/trl/trainer/ppo_trainer.py:1313: UserWarning: KL divergence is starting to become negative: -11.31 - this might be a precursor for failed training. sometimes this happens because the generation kwargs are not correctly set. Please make sure that the generation kwargs are set correctly, or review your training hyperparameters.\n",
      "  warnings.warn(\n",
      "Setting `pad_token_id` to `eos_token_id`:None for open-end generation.\n"
     ]
    },
    {
     "name": "stdout",
     "output_type": "stream",
     "text": [
      "Prompt: [INST] 34 es igual a [/INST]\n",
      "Respuesta: [INST] 34 es igual a [/INST] 34 ig ig ig 34 ig ig 06.\n",
      "Recompensa: -25\n",
      "Prompt: [INST] 37 es igual a [/INST]\n",
      "Respuesta: [INST] 37 es igual a [/INST] 37\n",
      "\n",
      "S] 38 es bu 17\n",
      "Recompensa: -28\n"
     ]
    },
    {
     "name": "stderr",
     "output_type": "stream",
     "text": [
      "Setting `pad_token_id` to `eos_token_id`:None for open-end generation.\n",
      "/home/aurora/miniconda3/lib/python3.11/site-packages/trl/trainer/ppo_trainer.py:1313: UserWarning: KL divergence is starting to become negative: -37.88 - this might be a precursor for failed training. sometimes this happens because the generation kwargs are not correctly set. Please make sure that the generation kwargs are set correctly, or review your training hyperparameters.\n",
      "  warnings.warn(\n",
      "Setting `pad_token_id` to `eos_token_id`:None for open-end generation.\n"
     ]
    },
    {
     "name": "stdout",
     "output_type": "stream",
     "text": [
      "Prompt: [INST] 40 es igual a [/INST]\n",
      "Respuesta: [INST] 40 es igual a [/INST]{} iguala{da} [/\n",
      "Recompensa: -31\n",
      "Prompt: [INST] 43 es igual a [/INST]\n",
      "Respuesta: [INST] 43 es igual a [/INST] a? a [/decksignsetsign\n",
      "Recompensa: -34\n"
     ]
    },
    {
     "name": "stderr",
     "output_type": "stream",
     "text": [
      "Setting `pad_token_id` to `eos_token_id`:None for open-end generation.\n",
      "/home/aurora/miniconda3/lib/python3.11/site-packages/trl/trainer/ppo_trainer.py:1313: UserWarning: KL divergence is starting to become negative: -12.41 - this might be a precursor for failed training. sometimes this happens because the generation kwargs are not correctly set. Please make sure that the generation kwargs are set correctly, or review your training hyperparameters.\n",
      "  warnings.warn(\n",
      "Setting `pad_token_id` to `eos_token_id`:None for open-end generation.\n"
     ]
    },
    {
     "name": "stdout",
     "output_type": "stream",
     "text": [
      "Prompt: [INST] 46 es igual a [/INST]\n",
      "Respuesta: [INST] 46 es igual a [/INST]/[INST/]/]/]:\n",
      "Recompensa: -37\n",
      "Prompt: [INST] 49 es igual a [/INST]\n",
      "Respuesta: [INST] 49 es igual a [/INST] es iguy iguy iguy es ig\n",
      "Recompensa: -40\n"
     ]
    },
    {
     "name": "stderr",
     "output_type": "stream",
     "text": [
      "/home/aurora/miniconda3/lib/python3.11/site-packages/trl/trainer/ppo_trainer.py:1313: UserWarning: KL divergence is starting to become negative: -44.03 - this might be a precursor for failed training. sometimes this happens because the generation kwargs are not correctly set. Please make sure that the generation kwargs are set correctly, or review your training hyperparameters.\n",
      "  warnings.warn(\n",
      "Setting `pad_token_id` to `eos_token_id`:None for open-end generation.\n",
      "/home/aurora/miniconda3/lib/python3.11/site-packages/trl/trainer/ppo_trainer.py:1313: UserWarning: KL divergence is starting to become negative: -27.02 - this might be a precursor for failed training. sometimes this happens because the generation kwargs are not correctly set. Please make sure that the generation kwargs are set correctly, or review your training hyperparameters.\n",
      "  warnings.warn(\n",
      "Setting `pad_token_id` to `eos_token_id`:None for open-end generation.\n"
     ]
    },
    {
     "name": "stdout",
     "output_type": "stream",
     "text": [
      "Prompt: [INST] 10 es igual a [/INST]\n",
      "Respuesta: [INST] 10 es igual a [/INST] [/INST]);\n",
      "\n",
      "if (!(10\n",
      "Recompensa: -1\n",
      "Prompt: [INST] 13 es igual a [/INST]\n",
      "Respuesta: [INST] 13 es igual a [/INST] [/INST13]); [/INST13] 13\n",
      "Recompensa: -4\n"
     ]
    },
    {
     "name": "stderr",
     "output_type": "stream",
     "text": [
      "Setting `pad_token_id` to `eos_token_id`:None for open-end generation.\n",
      "/home/aurora/miniconda3/lib/python3.11/site-packages/trl/trainer/ppo_trainer.py:1313: UserWarning: KL divergence is starting to become negative: -33.62 - this might be a precursor for failed training. sometimes this happens because the generation kwargs are not correctly set. Please make sure that the generation kwargs are set correctly, or review your training hyperparameters.\n",
      "  warnings.warn(\n",
      "Setting `pad_token_id` to `eos_token_id`:None for open-end generation.\n"
     ]
    },
    {
     "name": "stdout",
     "output_type": "stream",
     "text": [
      "Prompt: [INST] 16 es igual a [/INST]\n",
      "Respuesta: [INST] 16 es igual a [/INST] 16 igual [/INST 16\n",
      "\n",
      "This\n",
      "Recompensa: -7\n",
      "Prompt: [INST] 19 es igual a [/INST]\n",
      "Respuesta: [INST] 19 es igual a [/INST] 19 eshi a [/INST][19s\n",
      "Recompensa: -10\n"
     ]
    },
    {
     "name": "stderr",
     "output_type": "stream",
     "text": [
      "/home/aurora/miniconda3/lib/python3.11/site-packages/trl/trainer/ppo_trainer.py:1313: UserWarning: KL divergence is starting to become negative: -33.02 - this might be a precursor for failed training. sometimes this happens because the generation kwargs are not correctly set. Please make sure that the generation kwargs are set correctly, or review your training hyperparameters.\n",
      "  warnings.warn(\n",
      "Setting `pad_token_id` to `eos_token_id`:None for open-end generation.\n",
      "Setting `pad_token_id` to `eos_token_id`:None for open-end generation.\n"
     ]
    },
    {
     "name": "stdout",
     "output_type": "stream",
     "text": [
      "Prompt: [INST] 22 es igual a [/INST]\n",
      "Respuesta: [INST] 22 es igual a [/INST]\n",
      "\n",
      "[lbw][ldw][\n",
      "Recompensa: -13\n",
      "Prompt: [INST] 25 es igual a [/INST]\n",
      "Respuesta: [INST] 25 es igual a [/INST] [25 igual 25 igual [/INST\n",
      "Recompensa: -16\n"
     ]
    },
    {
     "name": "stderr",
     "output_type": "stream",
     "text": [
      "/home/aurora/miniconda3/lib/python3.11/site-packages/trl/trainer/ppo_trainer.py:1313: UserWarning: KL divergence is starting to become negative: -49.03 - this might be a precursor for failed training. sometimes this happens because the generation kwargs are not correctly set. Please make sure that the generation kwargs are set correctly, or review your training hyperparameters.\n",
      "  warnings.warn(\n",
      "Setting `pad_token_id` to `eos_token_id`:None for open-end generation.\n",
      "/home/aurora/miniconda3/lib/python3.11/site-packages/trl/trainer/ppo_trainer.py:1313: UserWarning: KL divergence is starting to become negative: -3.06 - this might be a precursor for failed training. sometimes this happens because the generation kwargs are not correctly set. Please make sure that the generation kwargs are set correctly, or review your training hyperparameters.\n",
      "  warnings.warn(\n",
      "Setting `pad_token_id` to `eos_token_id`:None for open-end generation.\n"
     ]
    },
    {
     "name": "stdout",
     "output_type": "stream",
     "text": [
      "Prompt: [INST] 28 es igual a [/INST]\n",
      "Respuesta: [INST] 28 es igual a [/INST] 28\n",
      "DESCRIPTION] 1\n",
      "DESCRIPTION\n",
      "Recompensa: -19\n",
      "Prompt: [INST] 31 es igual a [/INST]\n",
      "Respuesta: [INST] 31 es igual a [/INST]\n",
      "\n",
      "Mike was set to be set to\n",
      "Recompensa: -22\n"
     ]
    },
    {
     "name": "stderr",
     "output_type": "stream",
     "text": [
      "Setting `pad_token_id` to `eos_token_id`:None for open-end generation.\n",
      "/home/aurora/miniconda3/lib/python3.11/site-packages/trl/trainer/ppo_trainer.py:1313: UserWarning: KL divergence is starting to become negative: -14.50 - this might be a precursor for failed training. sometimes this happens because the generation kwargs are not correctly set. Please make sure that the generation kwargs are set correctly, or review your training hyperparameters.\n",
      "  warnings.warn(\n",
      "Setting `pad_token_id` to `eos_token_id`:None for open-end generation.\n"
     ]
    },
    {
     "name": "stdout",
     "output_type": "stream",
     "text": [
      "Prompt: [INST] 34 es igual a [/INST]\n",
      "Respuesta: [INST] 34 es igual a [/INST]?&&Es&&=&Es\n",
      "Recompensa: -25\n",
      "Prompt: [INST] 37 es igual a [/INST]\n",
      "Respuesta: [INST] 37 es igual a [/INST]];[/DW]();\"}],INSTSTE\n",
      "Recompensa: -28\n"
     ]
    },
    {
     "name": "stderr",
     "output_type": "stream",
     "text": [
      "Setting `pad_token_id` to `eos_token_id`:None for open-end generation.\n",
      "/home/aurora/miniconda3/lib/python3.11/site-packages/trl/trainer/ppo_trainer.py:1313: UserWarning: KL divergence is starting to become negative: -22.98 - this might be a precursor for failed training. sometimes this happens because the generation kwargs are not correctly set. Please make sure that the generation kwargs are set correctly, or review your training hyperparameters.\n",
      "  warnings.warn(\n",
      "Setting `pad_token_id` to `eos_token_id`:None for open-end generation.\n"
     ]
    },
    {
     "name": "stdout",
     "output_type": "stream",
     "text": [
      "Prompt: [INST] 40 es igual a [/INST]\n",
      "Respuesta: [INST] 40 es igual a [/INST] 41 feeb feeb feeb 40 fe\n",
      "Recompensa: -31\n",
      "Prompt: [INST] 43 es igual a [/INST]\n",
      "Respuesta: [INST] 43 es igual a [/INST]{43}s}.add(33)\n",
      "Recompensa: -34\n"
     ]
    },
    {
     "name": "stderr",
     "output_type": "stream",
     "text": [
      "/home/aurora/miniconda3/lib/python3.11/site-packages/trl/trainer/ppo_trainer.py:1313: UserWarning: KL divergence is starting to become negative: -2.06 - this might be a precursor for failed training. sometimes this happens because the generation kwargs are not correctly set. Please make sure that the generation kwargs are set correctly, or review your training hyperparameters.\n",
      "  warnings.warn(\n",
      "Setting `pad_token_id` to `eos_token_id`:None for open-end generation.\n",
      "/home/aurora/miniconda3/lib/python3.11/site-packages/trl/trainer/ppo_trainer.py:1313: UserWarning: KL divergence is starting to become negative: -19.27 - this might be a precursor for failed training. sometimes this happens because the generation kwargs are not correctly set. Please make sure that the generation kwargs are set correctly, or review your training hyperparameters.\n",
      "  warnings.warn(\n",
      "Setting `pad_token_id` to `eos_token_id`:None for open-end generation.\n"
     ]
    },
    {
     "name": "stdout",
     "output_type": "stream",
     "text": [
      "Prompt: [INST] 46 es igual a [/INST]\n",
      "Respuesta: [INST] 46 es igual a [/INST]E [/INST],E [/INST]E\n",
      "Recompensa: -37\n",
      "Prompt: [INST] 49 es igual a [/INST]\n",
      "Respuesta: [INST] 49 es igual a [/INST]?ls?ls?ls?ls?\n",
      "Recompensa: -40\n"
     ]
    },
    {
     "name": "stderr",
     "output_type": "stream",
     "text": [
      "Setting `pad_token_id` to `eos_token_id`:None for open-end generation.\n",
      "/home/aurora/miniconda3/lib/python3.11/site-packages/trl/trainer/ppo_trainer.py:1313: UserWarning: KL divergence is starting to become negative: -33.20 - this might be a precursor for failed training. sometimes this happens because the generation kwargs are not correctly set. Please make sure that the generation kwargs are set correctly, or review your training hyperparameters.\n",
      "  warnings.warn(\n",
      "Setting `pad_token_id` to `eos_token_id`:None for open-end generation.\n"
     ]
    },
    {
     "name": "stdout",
     "output_type": "stream",
     "text": [
      "Prompt: [INST] 10 es igual a [/INST]\n",
      "Respuesta: [INST] 10 es igual a [/INST]\n",
      "\n",
      "10 10\n",
      "\n",
      "\n",
      "10 \"\n",
      "Recompensa: -1\n",
      "Prompt: [INST] 13 es igual a [/INST]\n",
      "Respuesta: [INST] 13 es igual a [/INST] [/INST, [/INST, [/FOR]);\n",
      "Recompensa: -4\n"
     ]
    },
    {
     "name": "stderr",
     "output_type": "stream",
     "text": [
      "/home/aurora/miniconda3/lib/python3.11/site-packages/trl/trainer/ppo_trainer.py:1313: UserWarning: KL divergence is starting to become negative: -19.64 - this might be a precursor for failed training. sometimes this happens because the generation kwargs are not correctly set. Please make sure that the generation kwargs are set correctly, or review your training hyperparameters.\n",
      "  warnings.warn(\n",
      "Setting `pad_token_id` to `eos_token_id`:None for open-end generation.\n",
      "/home/aurora/miniconda3/lib/python3.11/site-packages/trl/trainer/ppo_trainer.py:1313: UserWarning: KL divergence is starting to become negative: -39.64 - this might be a precursor for failed training. sometimes this happens because the generation kwargs are not correctly set. Please make sure that the generation kwargs are set correctly, or review your training hyperparameters.\n",
      "  warnings.warn(\n",
      "Setting `pad_token_id` to `eos_token_id`:None for open-end generation.\n"
     ]
    },
    {
     "name": "stdout",
     "output_type": "stream",
     "text": [
      "Prompt: [INST] 16 es igual a [/INST]\n",
      "Respuesta: [INST] 16 es igual a [/INST] 16 ig16 [/INST] 16 ig16\n",
      "Recompensa: -7\n",
      "Prompt: [INST] 19 es igual a [/INST]\n",
      "Respuesta: [INST] 19 es igual a [/INST] 19 es igensior a [/ES 19\n",
      "Recompensa: -10\n"
     ]
    },
    {
     "name": "stderr",
     "output_type": "stream",
     "text": [
      "/home/aurora/miniconda3/lib/python3.11/site-packages/trl/trainer/ppo_trainer.py:1313: UserWarning: KL divergence is starting to become negative: -13.03 - this might be a precursor for failed training. sometimes this happens because the generation kwargs are not correctly set. Please make sure that the generation kwargs are set correctly, or review your training hyperparameters.\n",
      "  warnings.warn(\n",
      "Setting `pad_token_id` to `eos_token_id`:None for open-end generation.\n",
      "/home/aurora/miniconda3/lib/python3.11/site-packages/trl/trainer/ppo_trainer.py:1313: UserWarning: KL divergence is starting to become negative: -53.56 - this might be a precursor for failed training. sometimes this happens because the generation kwargs are not correctly set. Please make sure that the generation kwargs are set correctly, or review your training hyperparameters.\n",
      "  warnings.warn(\n",
      "Setting `pad_token_id` to `eos_token_id`:None for open-end generation.\n"
     ]
    },
    {
     "name": "stdout",
     "output_type": "stream",
     "text": [
      "Prompt: [INST] 22 es igual a [/INST]\n",
      "Respuesta: [INST] 22 es igual a [/INST] 22 es igual [/INST]); [/E\n",
      "Recompensa: -13\n",
      "Prompt: [INST] 25 es igual a [/INST]\n",
      "Respuesta: [INST] 25 es igual a [/INST] 25 25 25 25\n",
      "25 25 igual\n",
      "Recompensa: -16\n"
     ]
    },
    {
     "name": "stderr",
     "output_type": "stream",
     "text": [
      "/home/aurora/miniconda3/lib/python3.11/site-packages/trl/trainer/ppo_trainer.py:1313: UserWarning: KL divergence is starting to become negative: -28.24 - this might be a precursor for failed training. sometimes this happens because the generation kwargs are not correctly set. Please make sure that the generation kwargs are set correctly, or review your training hyperparameters.\n",
      "  warnings.warn(\n",
      "Setting `pad_token_id` to `eos_token_id`:None for open-end generation.\n",
      "/home/aurora/miniconda3/lib/python3.11/site-packages/trl/trainer/ppo_trainer.py:1313: UserWarning: KL divergence is starting to become negative: -17.35 - this might be a precursor for failed training. sometimes this happens because the generation kwargs are not correctly set. Please make sure that the generation kwargs are set correctly, or review your training hyperparameters.\n",
      "  warnings.warn(\n",
      "Setting `pad_token_id` to `eos_token_id`:None for open-end generation.\n"
     ]
    },
    {
     "name": "stdout",
     "output_type": "stream",
     "text": [
      "Prompt: [INST] 28 es igual a [/INST]\n",
      "Respuesta: [INST] 28 es igual a [/INST] [INST 28 es] 28\n",
      "\n",
      "INST\n",
      "Recompensa: -19\n",
      "Prompt: [INST] 31 es igual a [/INST]\n",
      "Respuesta: [INST] 31 es igual a [/INST] 31 es igual [/INST])\n",
      "\n",
      "\n",
      "Recompensa: -22\n"
     ]
    },
    {
     "name": "stderr",
     "output_type": "stream",
     "text": [
      "/home/aurora/miniconda3/lib/python3.11/site-packages/trl/trainer/ppo_trainer.py:1313: UserWarning: KL divergence is starting to become negative: -47.51 - this might be a precursor for failed training. sometimes this happens because the generation kwargs are not correctly set. Please make sure that the generation kwargs are set correctly, or review your training hyperparameters.\n",
      "  warnings.warn(\n",
      "Setting `pad_token_id` to `eos_token_id`:None for open-end generation.\n",
      "Setting `pad_token_id` to `eos_token_id`:None for open-end generation.\n"
     ]
    },
    {
     "name": "stdout",
     "output_type": "stream",
     "text": [
      "Prompt: [INST] 34 es igual a [/INST]\n",
      "Respuesta: [INST] 34 es igual a [/INST] 34\n",
      "FIR] 34 ig a [/INST\n",
      "Recompensa: -25\n",
      "Prompt: [INST] 37 es igual a [/INST]\n",
      "Respuesta: [INST] 37 es igual a [/INST] a , ending . CB 1 CB 1 1\n",
      "Recompensa: -28\n"
     ]
    },
    {
     "name": "stderr",
     "output_type": "stream",
     "text": [
      "/home/aurora/miniconda3/lib/python3.11/site-packages/trl/trainer/ppo_trainer.py:1313: UserWarning: KL divergence is starting to become negative: -23.04 - this might be a precursor for failed training. sometimes this happens because the generation kwargs are not correctly set. Please make sure that the generation kwargs are set correctly, or review your training hyperparameters.\n",
      "  warnings.warn(\n",
      "Setting `pad_token_id` to `eos_token_id`:None for open-end generation.\n",
      "Setting `pad_token_id` to `eos_token_id`:None for open-end generation.\n"
     ]
    },
    {
     "name": "stdout",
     "output_type": "stream",
     "text": [
      "Prompt: [INST] 40 es igual a [/INST]\n",
      "Respuesta: [INST] 40 es igual a [/INST] ? es] 40 20 es igue a\n",
      "Recompensa: -31\n",
      "Prompt: [INST] 43 es igual a [/INST]\n",
      "Respuesta: [INST] 43 es igual a [/INST] 43 a gra? [/INST], a gra\n",
      "Recompensa: -34\n"
     ]
    },
    {
     "name": "stderr",
     "output_type": "stream",
     "text": [
      "/home/aurora/miniconda3/lib/python3.11/site-packages/trl/trainer/ppo_trainer.py:1313: UserWarning: KL divergence is starting to become negative: -21.54 - this might be a precursor for failed training. sometimes this happens because the generation kwargs are not correctly set. Please make sure that the generation kwargs are set correctly, or review your training hyperparameters.\n",
      "  warnings.warn(\n",
      "Setting `pad_token_id` to `eos_token_id`:None for open-end generation.\n",
      "Setting `pad_token_id` to `eos_token_id`:None for open-end generation.\n"
     ]
    },
    {
     "name": "stdout",
     "output_type": "stream",
     "text": [
      "Prompt: [INST] 46 es igual a [/INST]\n",
      "Respuesta: [INST] 46 es igual a [/INST] == 02 02 02\n",
      "\n",
      "\n",
      "Modified\n",
      "Recompensa: -37\n",
      "Prompt: [INST] 49 es igual a [/INST]\n",
      "Respuesta: [INST] 49 es igual a [/INST] [slf DESK] ([addS\n",
      "Recompensa: -40\n"
     ]
    },
    {
     "name": "stderr",
     "output_type": "stream",
     "text": [
      "/home/aurora/miniconda3/lib/python3.11/site-packages/trl/trainer/ppo_trainer.py:1313: UserWarning: KL divergence is starting to become negative: -10.64 - this might be a precursor for failed training. sometimes this happens because the generation kwargs are not correctly set. Please make sure that the generation kwargs are set correctly, or review your training hyperparameters.\n",
      "  warnings.warn(\n",
      "Setting `pad_token_id` to `eos_token_id`:None for open-end generation.\n",
      "/home/aurora/miniconda3/lib/python3.11/site-packages/trl/trainer/ppo_trainer.py:1313: UserWarning: KL divergence is starting to become negative: -78.32 - this might be a precursor for failed training. sometimes this happens because the generation kwargs are not correctly set. Please make sure that the generation kwargs are set correctly, or review your training hyperparameters.\n",
      "  warnings.warn(\n",
      "Setting `pad_token_id` to `eos_token_id`:None for open-end generation.\n"
     ]
    },
    {
     "name": "stdout",
     "output_type": "stream",
     "text": [
      "Prompt: [INST] 10 es igual a [/INST]\n",
      "Respuesta: [INST] 10 es igual a [/INST]\n",
      "\n",
      "INST 10 igual 10 igual\n",
      "Recompensa: -1\n",
      "Prompt: [INST] 13 es igual a [/INST]\n",
      "Respuesta: [INST] 13 es igual a [/INST] igual iguid [/ igual ig [/\n",
      "Recompensa: -4\n"
     ]
    },
    {
     "name": "stderr",
     "output_type": "stream",
     "text": [
      "/home/aurora/miniconda3/lib/python3.11/site-packages/trl/trainer/ppo_trainer.py:1313: UserWarning: KL divergence is starting to become negative: -82.66 - this might be a precursor for failed training. sometimes this happens because the generation kwargs are not correctly set. Please make sure that the generation kwargs are set correctly, or review your training hyperparameters.\n",
      "  warnings.warn(\n",
      "Setting `pad_token_id` to `eos_token_id`:None for open-end generation.\n",
      "/home/aurora/miniconda3/lib/python3.11/site-packages/trl/trainer/ppo_trainer.py:1313: UserWarning: KL divergence is starting to become negative: -39.68 - this might be a precursor for failed training. sometimes this happens because the generation kwargs are not correctly set. Please make sure that the generation kwargs are set correctly, or review your training hyperparameters.\n",
      "  warnings.warn(\n",
      "Setting `pad_token_id` to `eos_token_id`:None for open-end generation.\n"
     ]
    },
    {
     "name": "stdout",
     "output_type": "stream",
     "text": [
      "Prompt: [INST] 16 es igual a [/INST]\n",
      "Respuesta: [INST] 16 es igual a [/INST] 16 16\n",
      "\n",
      "16 igual 16 ig\n",
      "Recompensa: -7\n",
      "Prompt: [INST] 19 es igual a [/INST]\n",
      "Respuesta: [INST] 19 es igual a [/INST] [/19] [/19 igual for him\n",
      "Recompensa: -10\n"
     ]
    },
    {
     "name": "stderr",
     "output_type": "stream",
     "text": [
      "/home/aurora/miniconda3/lib/python3.11/site-packages/trl/trainer/ppo_trainer.py:1313: UserWarning: KL divergence is starting to become negative: -26.71 - this might be a precursor for failed training. sometimes this happens because the generation kwargs are not correctly set. Please make sure that the generation kwargs are set correctly, or review your training hyperparameters.\n",
      "  warnings.warn(\n",
      "Setting `pad_token_id` to `eos_token_id`:None for open-end generation.\n",
      "/home/aurora/miniconda3/lib/python3.11/site-packages/trl/trainer/ppo_trainer.py:1313: UserWarning: KL divergence is starting to become negative: -36.77 - this might be a precursor for failed training. sometimes this happens because the generation kwargs are not correctly set. Please make sure that the generation kwargs are set correctly, or review your training hyperparameters.\n",
      "  warnings.warn(\n",
      "Setting `pad_token_id` to `eos_token_id`:None for open-end generation.\n"
     ]
    },
    {
     "name": "stdout",
     "output_type": "stream",
     "text": [
      "Prompt: [INST] 22 es igual a [/INST]\n",
      "Respuesta: [INST] 22 es igual a [/INST] 22 es igau 22 es iglf]\n",
      "Recompensa: -13\n",
      "Prompt: [INST] 25 es igual a [/INST]\n",
      "Respuesta: [INST] 25 es igual a [/INST] 25\n",
      "\n",
      "\" 25\n",
      "\n",
      "\"IF\n",
      "Recompensa: -16\n"
     ]
    },
    {
     "name": "stderr",
     "output_type": "stream",
     "text": [
      "/home/aurora/miniconda3/lib/python3.11/site-packages/trl/trainer/ppo_trainer.py:1313: UserWarning: KL divergence is starting to become negative: -4.88 - this might be a precursor for failed training. sometimes this happens because the generation kwargs are not correctly set. Please make sure that the generation kwargs are set correctly, or review your training hyperparameters.\n",
      "  warnings.warn(\n",
      "Setting `pad_token_id` to `eos_token_id`:None for open-end generation.\n",
      "/home/aurora/miniconda3/lib/python3.11/site-packages/trl/trainer/ppo_trainer.py:1313: UserWarning: KL divergence is starting to become negative: -57.10 - this might be a precursor for failed training. sometimes this happens because the generation kwargs are not correctly set. Please make sure that the generation kwargs are set correctly, or review your training hyperparameters.\n",
      "  warnings.warn(\n",
      "Setting `pad_token_id` to `eos_token_id`:None for open-end generation.\n"
     ]
    },
    {
     "name": "stdout",
     "output_type": "stream",
     "text": [
      "Prompt: [INST] 28 es igual a [/INST]\n",
      "Respuesta: [INST] 28 es igual a [/INST] 28 28 igual a [/INST 28 [/\n",
      "Recompensa: -19\n",
      "Prompt: [INST] 31 es igual a [/INST]\n",
      "Respuesta: [INST] 31 es igual a [/INST]\n",
      "\n",
      "NOVNOVN} N\n",
      "Recompensa: -22\n"
     ]
    },
    {
     "name": "stderr",
     "output_type": "stream",
     "text": [
      "/home/aurora/miniconda3/lib/python3.11/site-packages/trl/trainer/ppo_trainer.py:1313: UserWarning: KL divergence is starting to become negative: -36.56 - this might be a precursor for failed training. sometimes this happens because the generation kwargs are not correctly set. Please make sure that the generation kwargs are set correctly, or review your training hyperparameters.\n",
      "  warnings.warn(\n",
      "Setting `pad_token_id` to `eos_token_id`:None for open-end generation.\n",
      "/home/aurora/miniconda3/lib/python3.11/site-packages/trl/trainer/ppo_trainer.py:1313: UserWarning: KL divergence is starting to become negative: -15.81 - this might be a precursor for failed training. sometimes this happens because the generation kwargs are not correctly set. Please make sure that the generation kwargs are set correctly, or review your training hyperparameters.\n",
      "  warnings.warn(\n",
      "Setting `pad_token_id` to `eos_token_id`:None for open-end generation.\n"
     ]
    },
    {
     "name": "stdout",
     "output_type": "stream",
     "text": [
      "Prompt: [INST] 34 es igual a [/INST]\n",
      "Respuesta: [INST] 34 es igual a [/INST] 34 es igual a?).\n",
      "\n",
      "35\n",
      "Recompensa: -25\n",
      "Prompt: [INST] 37 es igual a [/INST]\n",
      "Respuesta: [INST] 37 es igual a [/INST] 37 es ig [/INST 37]] 37\n",
      "Recompensa: -28\n"
     ]
    },
    {
     "name": "stderr",
     "output_type": "stream",
     "text": [
      "/home/aurora/miniconda3/lib/python3.11/site-packages/trl/trainer/ppo_trainer.py:1313: UserWarning: KL divergence is starting to become negative: -23.94 - this might be a precursor for failed training. sometimes this happens because the generation kwargs are not correctly set. Please make sure that the generation kwargs are set correctly, or review your training hyperparameters.\n",
      "  warnings.warn(\n",
      "Setting `pad_token_id` to `eos_token_id`:None for open-end generation.\n",
      "/home/aurora/miniconda3/lib/python3.11/site-packages/trl/trainer/ppo_trainer.py:1313: UserWarning: KL divergence is starting to become negative: -40.42 - this might be a precursor for failed training. sometimes this happens because the generation kwargs are not correctly set. Please make sure that the generation kwargs are set correctly, or review your training hyperparameters.\n",
      "  warnings.warn(\n",
      "Setting `pad_token_id` to `eos_token_id`:None for open-end generation.\n"
     ]
    },
    {
     "name": "stdout",
     "output_type": "stream",
     "text": [
      "Prompt: [INST] 40 es igual a [/INST]\n",
      "Respuesta: [INST] 40 es igual a [/INST] ig [/INST ig]). ig [[/INST\n",
      "Recompensa: -31\n"
     ]
    },
    {
     "name": "stderr",
     "output_type": "stream",
     "text": [
      "/home/aurora/miniconda3/lib/python3.11/site-packages/trl/trainer/ppo_trainer.py:1313: UserWarning: KL divergence is starting to become negative: -35.35 - this might be a precursor for failed training. sometimes this happens because the generation kwargs are not correctly set. Please make sure that the generation kwargs are set correctly, or review your training hyperparameters.\n",
      "  warnings.warn(\n",
      "Setting `pad_token_id` to `eos_token_id`:None for open-end generation.\n"
     ]
    },
    {
     "name": "stdout",
     "output_type": "stream",
     "text": [
      "Prompt: [INST] 43 es igual a [/INST]\n",
      "Respuesta: [INST] 43 es igual a [/INST]\".{} igual a }){}{\n",
      "Recompensa: -34\n",
      "Prompt: [INST] 46 es igual a [/INST]\n",
      "Respuesta: [INST] 46 es igual a [/INST] 46 es ig)?\n",
      "\n",
      "\n",
      "{-\n",
      "Recompensa: -37\n"
     ]
    },
    {
     "name": "stderr",
     "output_type": "stream",
     "text": [
      "Setting `pad_token_id` to `eos_token_id`:None for open-end generation.\n",
      "/home/aurora/miniconda3/lib/python3.11/site-packages/trl/trainer/ppo_trainer.py:1313: UserWarning: KL divergence is starting to become negative: -21.49 - this might be a precursor for failed training. sometimes this happens because the generation kwargs are not correctly set. Please make sure that the generation kwargs are set correctly, or review your training hyperparameters.\n",
      "  warnings.warn(\n",
      "Setting `pad_token_id` to `eos_token_id`:None for open-end generation.\n"
     ]
    },
    {
     "name": "stdout",
     "output_type": "stream",
     "text": [
      "Prompt: [INST] 49 es igual a [/INST]\n",
      "Respuesta: [INST] 49 es igual a [/INST] 49 e igual [/INST?E\"]\n",
      "Recompensa: -40\n",
      "Prompt: [INST] 10 es igual a [/INST]\n",
      "Respuesta: [INST] 10 es igual a [/INST]\n",
      "\n",
      "NO\n",
      "\n",
      "NO\n",
      "NO\n",
      "\n",
      "Recompensa: -1\n"
     ]
    },
    {
     "name": "stderr",
     "output_type": "stream",
     "text": [
      "/home/aurora/miniconda3/lib/python3.11/site-packages/trl/trainer/ppo_trainer.py:1313: UserWarning: KL divergence is starting to become negative: -27.56 - this might be a precursor for failed training. sometimes this happens because the generation kwargs are not correctly set. Please make sure that the generation kwargs are set correctly, or review your training hyperparameters.\n",
      "  warnings.warn(\n",
      "Setting `pad_token_id` to `eos_token_id`:None for open-end generation.\n",
      "/home/aurora/miniconda3/lib/python3.11/site-packages/trl/trainer/ppo_trainer.py:1313: UserWarning: KL divergence is starting to become negative: -3.82 - this might be a precursor for failed training. sometimes this happens because the generation kwargs are not correctly set. Please make sure that the generation kwargs are set correctly, or review your training hyperparameters.\n",
      "  warnings.warn(\n",
      "Setting `pad_token_id` to `eos_token_id`:None for open-end generation.\n"
     ]
    },
    {
     "name": "stdout",
     "output_type": "stream",
     "text": [
      "Prompt: [INST] 13 es igual a [/INST]\n",
      "Respuesta: [INST] 13 es igual a [/INST] 13\n",
      "13 es es ig ig] 13\n",
      "Recompensa: -4\n",
      "Prompt: [INST] 16 es igual a [/INST]\n",
      "Respuesta: [INST] 16 es igual a [/INST]]; ig [/inst] ig = ig.\n",
      "Recompensa: -7\n"
     ]
    },
    {
     "name": "stderr",
     "output_type": "stream",
     "text": [
      "/home/aurora/miniconda3/lib/python3.11/site-packages/trl/trainer/ppo_trainer.py:1313: UserWarning: KL divergence is starting to become negative: -32.23 - this might be a precursor for failed training. sometimes this happens because the generation kwargs are not correctly set. Please make sure that the generation kwargs are set correctly, or review your training hyperparameters.\n",
      "  warnings.warn(\n",
      "Setting `pad_token_id` to `eos_token_id`:None for open-end generation.\n",
      "/home/aurora/miniconda3/lib/python3.11/site-packages/trl/trainer/ppo_trainer.py:1313: UserWarning: KL divergence is starting to become negative: -12.38 - this might be a precursor for failed training. sometimes this happens because the generation kwargs are not correctly set. Please make sure that the generation kwargs are set correctly, or review your training hyperparameters.\n",
      "  warnings.warn(\n",
      "Setting `pad_token_id` to `eos_token_id`:None for open-end generation.\n"
     ]
    },
    {
     "name": "stdout",
     "output_type": "stream",
     "text": [
      "Prompt: [INST] 19 es igual a [/INST]\n",
      "Respuesta: [INST] 19 es igual a [/INST]\n",
      "augustus-august{aug\n",
      "Recompensa: -10\n",
      "Prompt: [INST] 22 es igual a [/INST]\n",
      "Respuesta: [INST] 22 es igual a [/INST] modifies the modifies the mod2_\n",
      "Recompensa: -13\n"
     ]
    },
    {
     "name": "stderr",
     "output_type": "stream",
     "text": [
      "/home/aurora/miniconda3/lib/python3.11/site-packages/trl/trainer/ppo_trainer.py:1313: UserWarning: KL divergence is starting to become negative: -34.69 - this might be a precursor for failed training. sometimes this happens because the generation kwargs are not correctly set. Please make sure that the generation kwargs are set correctly, or review your training hyperparameters.\n",
      "  warnings.warn(\n",
      "Setting `pad_token_id` to `eos_token_id`:None for open-end generation.\n",
      "Setting `pad_token_id` to `eos_token_id`:None for open-end generation.\n"
     ]
    },
    {
     "name": "stdout",
     "output_type": "stream",
     "text": [
      "Prompt: [INST] 25 es igual a [/INST]\n",
      "Respuesta: [INST] 25 es igual a [/INST]][INST] RyanB 25 fe fe mod\n",
      "Recompensa: -16\n"
     ]
    },
    {
     "name": "stderr",
     "output_type": "stream",
     "text": [
      "Setting `pad_token_id` to `eos_token_id`:None for open-end generation.\n"
     ]
    },
    {
     "name": "stdout",
     "output_type": "stream",
     "text": [
      "Prompt: [INST] 28 es igual a [/INST]\n",
      "Respuesta: [INST] 28 es igual a [/INST]+ 28 igl a? 28 down ig\n",
      "Recompensa: -19\n",
      "Prompt: [INST] 31 es igual a [/INST]\n",
      "Respuesta: [INST] 31 es igual a [/INST] 31 Es],\"],],],],],],\n",
      "Recompensa: -22\n"
     ]
    },
    {
     "name": "stderr",
     "output_type": "stream",
     "text": [
      "/home/aurora/miniconda3/lib/python3.11/site-packages/trl/trainer/ppo_trainer.py:1313: UserWarning: KL divergence is starting to become negative: -28.25 - this might be a precursor for failed training. sometimes this happens because the generation kwargs are not correctly set. Please make sure that the generation kwargs are set correctly, or review your training hyperparameters.\n",
      "  warnings.warn(\n",
      "Setting `pad_token_id` to `eos_token_id`:None for open-end generation.\n",
      "/home/aurora/miniconda3/lib/python3.11/site-packages/trl/trainer/ppo_trainer.py:1313: UserWarning: KL divergence is starting to become negative: -13.05 - this might be a precursor for failed training. sometimes this happens because the generation kwargs are not correctly set. Please make sure that the generation kwargs are set correctly, or review your training hyperparameters.\n",
      "  warnings.warn(\n",
      "Setting `pad_token_id` to `eos_token_id`:None for open-end generation.\n"
     ]
    },
    {
     "name": "stdout",
     "output_type": "stream",
     "text": [
      "Prompt: [INST] 34 es igual a [/INST]\n",
      "Respuesta: [INST] 34 es igual a [/INST] 34 igl / igl / a.\n",
      "Recompensa: -25\n"
     ]
    },
    {
     "name": "stderr",
     "output_type": "stream",
     "text": [
      "Setting `pad_token_id` to `eos_token_id`:None for open-end generation.\n"
     ]
    },
    {
     "name": "stdout",
     "output_type": "stream",
     "text": [
      "Prompt: [INST] 37 es igual a [/INST]\n",
      "Respuesta: [INST] 37 es igual a [/INST]\"? 37 es. 37 es?=?\n",
      "Recompensa: -28\n"
     ]
    },
    {
     "name": "stderr",
     "output_type": "stream",
     "text": [
      "/home/aurora/miniconda3/lib/python3.11/site-packages/trl/trainer/ppo_trainer.py:1313: UserWarning: KL divergence is starting to become negative: -62.72 - this might be a precursor for failed training. sometimes this happens because the generation kwargs are not correctly set. Please make sure that the generation kwargs are set correctly, or review your training hyperparameters.\n",
      "  warnings.warn(\n",
      "Setting `pad_token_id` to `eos_token_id`:None for open-end generation.\n"
     ]
    },
    {
     "name": "stdout",
     "output_type": "stream",
     "text": [
      "Prompt: [INST] 40 es igual a [/INST]\n",
      "Respuesta: [INST] 40 es igual a [/INST]#INSTINSTINSTINST1, [/INST\n",
      "Recompensa: -31\n"
     ]
    },
    {
     "name": "stderr",
     "output_type": "stream",
     "text": [
      "/home/aurora/miniconda3/lib/python3.11/site-packages/trl/trainer/ppo_trainer.py:1313: UserWarning: KL divergence is starting to become negative: -16.55 - this might be a precursor for failed training. sometimes this happens because the generation kwargs are not correctly set. Please make sure that the generation kwargs are set correctly, or review your training hyperparameters.\n",
      "  warnings.warn(\n",
      "Setting `pad_token_id` to `eos_token_id`:None for open-end generation.\n"
     ]
    },
    {
     "name": "stdout",
     "output_type": "stream",
     "text": [
      "Prompt: [INST] 43 es igual a [/INST]\n",
      "Respuesta: [INST] 43 es igual a [/INST]/][INST]?[/INSTINST\n",
      "Recompensa: -34\n"
     ]
    },
    {
     "name": "stderr",
     "output_type": "stream",
     "text": [
      "Setting `pad_token_id` to `eos_token_id`:None for open-end generation.\n"
     ]
    },
    {
     "name": "stdout",
     "output_type": "stream",
     "text": [
      "Prompt: [INST] 46 es igual a [/INST]\n",
      "Respuesta: [INST] 46 es igual a [/INST] [ 46 esa 66 ] [ 49 ]\n",
      "Recompensa: -37\n"
     ]
    },
    {
     "name": "stderr",
     "output_type": "stream",
     "text": [
      "/home/aurora/miniconda3/lib/python3.11/site-packages/trl/trainer/ppo_trainer.py:1313: UserWarning: KL divergence is starting to become negative: -9.07 - this might be a precursor for failed training. sometimes this happens because the generation kwargs are not correctly set. Please make sure that the generation kwargs are set correctly, or review your training hyperparameters.\n",
      "  warnings.warn(\n",
      "Setting `pad_token_id` to `eos_token_id`:None for open-end generation.\n"
     ]
    },
    {
     "name": "stdout",
     "output_type": "stream",
     "text": [
      "Prompt: [INST] 49 es igual a [/INST]\n",
      "Respuesta: [INST] 49 es igual a [/INST] 49 es ig lý es. 49\n",
      "Recompensa: -40\n",
      "Prompt: [INST] 10 es igual a [/INST]\n",
      "Respuesta: [INST] 10 es igual a [/INST]INST]\n",
      "10-12-addun\n",
      "Recompensa: -1\n"
     ]
    },
    {
     "name": "stderr",
     "output_type": "stream",
     "text": [
      "/home/aurora/miniconda3/lib/python3.11/site-packages/trl/trainer/ppo_trainer.py:1313: UserWarning: KL divergence is starting to become negative: -56.45 - this might be a precursor for failed training. sometimes this happens because the generation kwargs are not correctly set. Please make sure that the generation kwargs are set correctly, or review your training hyperparameters.\n",
      "  warnings.warn(\n",
      "Setting `pad_token_id` to `eos_token_id`:None for open-end generation.\n",
      "/home/aurora/miniconda3/lib/python3.11/site-packages/trl/trainer/ppo_trainer.py:1313: UserWarning: KL divergence is starting to become negative: -33.28 - this might be a precursor for failed training. sometimes this happens because the generation kwargs are not correctly set. Please make sure that the generation kwargs are set correctly, or review your training hyperparameters.\n",
      "  warnings.warn(\n",
      "Setting `pad_token_id` to `eos_token_id`:None for open-end generation.\n"
     ]
    },
    {
     "name": "stdout",
     "output_type": "stream",
     "text": [
      "Prompt: [INST] 13 es igual a [/INST]\n",
      "Respuesta: [INST] 13 es igual a [/INST] es sonic sonic sonic sonic [/INST]\n",
      "\n",
      "Recompensa: -4\n"
     ]
    },
    {
     "name": "stderr",
     "output_type": "stream",
     "text": [
      "/home/aurora/miniconda3/lib/python3.11/site-packages/trl/trainer/ppo_trainer.py:1313: UserWarning: KL divergence is starting to become negative: -59.04 - this might be a precursor for failed training. sometimes this happens because the generation kwargs are not correctly set. Please make sure that the generation kwargs are set correctly, or review your training hyperparameters.\n",
      "  warnings.warn(\n",
      "Setting `pad_token_id` to `eos_token_id`:None for open-end generation.\n"
     ]
    },
    {
     "name": "stdout",
     "output_type": "stream",
     "text": [
      "Prompt: [INST] 16 es igual a [/INST]\n",
      "Respuesta: [INST] 16 es igual a [/INST] 16 igual [/INST], 16 igual\n",
      "Recompensa: -7\n"
     ]
    },
    {
     "name": "stderr",
     "output_type": "stream",
     "text": [
      "/home/aurora/miniconda3/lib/python3.11/site-packages/trl/trainer/ppo_trainer.py:1313: UserWarning: KL divergence is starting to become negative: -23.22 - this might be a precursor for failed training. sometimes this happens because the generation kwargs are not correctly set. Please make sure that the generation kwargs are set correctly, or review your training hyperparameters.\n",
      "  warnings.warn(\n",
      "Setting `pad_token_id` to `eos_token_id`:None for open-end generation.\n"
     ]
    },
    {
     "name": "stdout",
     "output_type": "stream",
     "text": [
      "Prompt: [INST] 19 es igual a [/INST]\n",
      "Respuesta: [INST] 19 es igual a [/INST]{}?[FEATURE][?]?:\n",
      "Recompensa: -10\n",
      "Prompt: [INST] 22 es igual a [/INST]\n",
      "Respuesta: [INST] 22 es igual a [/INST] 22 eseb [/ eseb es [/ es\n",
      "Recompensa: -13\n"
     ]
    },
    {
     "name": "stderr",
     "output_type": "stream",
     "text": [
      "/home/aurora/miniconda3/lib/python3.11/site-packages/trl/trainer/ppo_trainer.py:1313: UserWarning: KL divergence is starting to become negative: -45.32 - this might be a precursor for failed training. sometimes this happens because the generation kwargs are not correctly set. Please make sure that the generation kwargs are set correctly, or review your training hyperparameters.\n",
      "  warnings.warn(\n",
      "Setting `pad_token_id` to `eos_token_id`:None for open-end generation.\n",
      "/home/aurora/miniconda3/lib/python3.11/site-packages/trl/trainer/ppo_trainer.py:1313: UserWarning: KL divergence is starting to become negative: -12.06 - this might be a precursor for failed training. sometimes this happens because the generation kwargs are not correctly set. Please make sure that the generation kwargs are set correctly, or review your training hyperparameters.\n",
      "  warnings.warn(\n",
      "Setting `pad_token_id` to `eos_token_id`:None for open-end generation.\n"
     ]
    },
    {
     "name": "stdout",
     "output_type": "stream",
     "text": [
      "Prompt: [INST] 25 es igual a [/INST]\n",
      "Respuesta: [INST] 25 es igual a [/INST].E.AR.ogg.25.\n",
      "Recompensa: -16\n",
      "Prompt: [INST] 28 es igual a [/INST]\n",
      "Respuesta: [INST] 28 es igual a [/INST] 28 es \"[ES[DES[E]\n",
      "Recompensa: -19\n"
     ]
    },
    {
     "name": "stderr",
     "output_type": "stream",
     "text": [
      "/home/aurora/miniconda3/lib/python3.11/site-packages/trl/trainer/ppo_trainer.py:1313: UserWarning: KL divergence is starting to become negative: -27.46 - this might be a precursor for failed training. sometimes this happens because the generation kwargs are not correctly set. Please make sure that the generation kwargs are set correctly, or review your training hyperparameters.\n",
      "  warnings.warn(\n",
      "Setting `pad_token_id` to `eos_token_id`:None for open-end generation.\n",
      "/home/aurora/miniconda3/lib/python3.11/site-packages/trl/trainer/ppo_trainer.py:1313: UserWarning: KL divergence is starting to become negative: -8.86 - this might be a precursor for failed training. sometimes this happens because the generation kwargs are not correctly set. Please make sure that the generation kwargs are set correctly, or review your training hyperparameters.\n",
      "  warnings.warn(\n",
      "Setting `pad_token_id` to `eos_token_id`:None for open-end generation.\n"
     ]
    },
    {
     "name": "stdout",
     "output_type": "stream",
     "text": [
      "Prompt: [INST] 31 es igual a [/INST]\n",
      "Respuesta: [INST] 31 es igual a [/INST]\n",
      "\n",
      "with 01 es igbl a\n",
      "\n",
      "Recompensa: -22\n",
      "Prompt: [INST] 34 es igual a [/INST]\n",
      "Respuesta: [INST] 34 es igual a [/INST] 34. iba?\" 34\" 34 ig\n",
      "Recompensa: -25\n"
     ]
    },
    {
     "name": "stderr",
     "output_type": "stream",
     "text": [
      "/home/aurora/miniconda3/lib/python3.11/site-packages/trl/trainer/ppo_trainer.py:1313: UserWarning: KL divergence is starting to become negative: -14.24 - this might be a precursor for failed training. sometimes this happens because the generation kwargs are not correctly set. Please make sure that the generation kwargs are set correctly, or review your training hyperparameters.\n",
      "  warnings.warn(\n",
      "Setting `pad_token_id` to `eos_token_id`:None for open-end generation.\n",
      "/home/aurora/miniconda3/lib/python3.11/site-packages/trl/trainer/ppo_trainer.py:1313: UserWarning: KL divergence is starting to become negative: -10.16 - this might be a precursor for failed training. sometimes this happens because the generation kwargs are not correctly set. Please make sure that the generation kwargs are set correctly, or review your training hyperparameters.\n",
      "  warnings.warn(\n",
      "Setting `pad_token_id` to `eos_token_id`:None for open-end generation.\n"
     ]
    },
    {
     "name": "stdout",
     "output_type": "stream",
     "text": [
      "Prompt: [INST] 37 es igual a [/INST]\n",
      "Respuesta: [INST] 37 es igual a [/INST] 37 for ignum a [/lsau a\n",
      "Recompensa: -28\n"
     ]
    },
    {
     "name": "stderr",
     "output_type": "stream",
     "text": [
      "/home/aurora/miniconda3/lib/python3.11/site-packages/trl/trainer/ppo_trainer.py:1313: UserWarning: KL divergence is starting to become negative: -25.83 - this might be a precursor for failed training. sometimes this happens because the generation kwargs are not correctly set. Please make sure that the generation kwargs are set correctly, or review your training hyperparameters.\n",
      "  warnings.warn(\n",
      "Setting `pad_token_id` to `eos_token_id`:None for open-end generation.\n"
     ]
    },
    {
     "name": "stdout",
     "output_type": "stream",
     "text": [
      "Prompt: [INST] 40 es igual a [/INST]\n",
      "Respuesta: [INST] 40 es igual a [/INST] a[/ESL a)[/ES]\n",
      "Recompensa: -31\n",
      "Prompt: [INST] 43 es igual a [/INST]\n",
      "Respuesta: [INST] 43 es igual a [/INST] 54 bron\" a? xl? x\n",
      "Recompensa: -34\n"
     ]
    },
    {
     "name": "stderr",
     "output_type": "stream",
     "text": [
      "/home/aurora/miniconda3/lib/python3.11/site-packages/trl/trainer/ppo_trainer.py:1313: UserWarning: KL divergence is starting to become negative: -13.37 - this might be a precursor for failed training. sometimes this happens because the generation kwargs are not correctly set. Please make sure that the generation kwargs are set correctly, or review your training hyperparameters.\n",
      "  warnings.warn(\n",
      "Setting `pad_token_id` to `eos_token_id`:None for open-end generation.\n",
      "Setting `pad_token_id` to `eos_token_id`:None for open-end generation.\n"
     ]
    },
    {
     "name": "stdout",
     "output_type": "stream",
     "text": [
      "Prompt: [INST] 46 es igual a [/INST]\n",
      "Respuesta: [INST] 46 es igual a [/INST]&& for US back]\n",
      "\n",
      "Circ\n",
      "Recompensa: -37\n"
     ]
    },
    {
     "name": "stderr",
     "output_type": "stream",
     "text": [
      "/home/aurora/miniconda3/lib/python3.11/site-packages/trl/trainer/ppo_trainer.py:1313: UserWarning: KL divergence is starting to become negative: -9.42 - this might be a precursor for failed training. sometimes this happens because the generation kwargs are not correctly set. Please make sure that the generation kwargs are set correctly, or review your training hyperparameters.\n",
      "  warnings.warn(\n",
      "Setting `pad_token_id` to `eos_token_id`:None for open-end generation.\n"
     ]
    },
    {
     "name": "stdout",
     "output_type": "stream",
     "text": [
      "Prompt: [INST] 49 es igual a [/INST]\n",
      "Respuesta: [INST] 49 es igual a [/INST] 49 [INST] 49 /] 49 es\n",
      "Recompensa: -40\n"
     ]
    },
    {
     "name": "stderr",
     "output_type": "stream",
     "text": [
      "/home/aurora/miniconda3/lib/python3.11/site-packages/trl/trainer/ppo_trainer.py:1313: UserWarning: KL divergence is starting to become negative: -105.49 - this might be a precursor for failed training. sometimes this happens because the generation kwargs are not correctly set. Please make sure that the generation kwargs are set correctly, or review your training hyperparameters.\n",
      "  warnings.warn(\n",
      "Setting `pad_token_id` to `eos_token_id`:None for open-end generation.\n"
     ]
    },
    {
     "name": "stdout",
     "output_type": "stream",
     "text": [
      "Prompt: [INST] 10 es igual a [/INST]\n",
      "Respuesta: [INST] 10 es igual a [/INST]10 igual a [/10]); igual\n",
      "Recompensa: -1\n"
     ]
    },
    {
     "name": "stderr",
     "output_type": "stream",
     "text": [
      "/home/aurora/miniconda3/lib/python3.11/site-packages/trl/trainer/ppo_trainer.py:1313: UserWarning: KL divergence is starting to become negative: -34.68 - this might be a precursor for failed training. sometimes this happens because the generation kwargs are not correctly set. Please make sure that the generation kwargs are set correctly, or review your training hyperparameters.\n",
      "  warnings.warn(\n",
      "Setting `pad_token_id` to `eos_token_id`:None for open-end generation.\n"
     ]
    },
    {
     "name": "stdout",
     "output_type": "stream",
     "text": [
      "Prompt: [INST] 13 es igual a [/INST]\n",
      "Respuesta: [INST] 13 es igual a [/INST] -> sig num lb [] 13 es igual\n",
      "Recompensa: -4\n"
     ]
    },
    {
     "name": "stderr",
     "output_type": "stream",
     "text": [
      "/home/aurora/miniconda3/lib/python3.11/site-packages/trl/trainer/ppo_trainer.py:1313: UserWarning: KL divergence is starting to become negative: -39.46 - this might be a precursor for failed training. sometimes this happens because the generation kwargs are not correctly set. Please make sure that the generation kwargs are set correctly, or review your training hyperparameters.\n",
      "  warnings.warn(\n",
      "Setting `pad_token_id` to `eos_token_id`:None for open-end generation.\n"
     ]
    },
    {
     "name": "stdout",
     "output_type": "stream",
     "text": [
      "Prompt: [INST] 16 es igual a [/INST]\n",
      "Respuesta: [INST] 16 es igual a [/INST] 16 es ig, ig, ig, [/\n",
      "Recompensa: -7\n"
     ]
    },
    {
     "name": "stderr",
     "output_type": "stream",
     "text": [
      "/home/aurora/miniconda3/lib/python3.11/site-packages/trl/trainer/ppo_trainer.py:1313: UserWarning: KL divergence is starting to become negative: -70.29 - this might be a precursor for failed training. sometimes this happens because the generation kwargs are not correctly set. Please make sure that the generation kwargs are set correctly, or review your training hyperparameters.\n",
      "  warnings.warn(\n",
      "Setting `pad_token_id` to `eos_token_id`:None for open-end generation.\n"
     ]
    },
    {
     "name": "stdout",
     "output_type": "stream",
     "text": [
      "Prompt: [INST] 19 es igual a [/INST]\n",
      "Respuesta: [INST] 19 es igual a [/INST] en en en en en en en en en\n",
      "Recompensa: -10\n"
     ]
    },
    {
     "name": "stderr",
     "output_type": "stream",
     "text": [
      "/home/aurora/miniconda3/lib/python3.11/site-packages/trl/trainer/ppo_trainer.py:1313: UserWarning: KL divergence is starting to become negative: -36.40 - this might be a precursor for failed training. sometimes this happens because the generation kwargs are not correctly set. Please make sure that the generation kwargs are set correctly, or review your training hyperparameters.\n",
      "  warnings.warn(\n",
      "Setting `pad_token_id` to `eos_token_id`:None for open-end generation.\n"
     ]
    },
    {
     "name": "stdout",
     "output_type": "stream",
     "text": [
      "Prompt: [INST] 22 es igual a [/INST]\n",
      "Respuesta: [INST] 22 es igual a [/INST] [/INST\", 2 [/INST]);\n",
      "\n",
      "\n",
      "Recompensa: -13\n"
     ]
    },
    {
     "name": "stderr",
     "output_type": "stream",
     "text": [
      "/home/aurora/miniconda3/lib/python3.11/site-packages/trl/trainer/ppo_trainer.py:1313: UserWarning: KL divergence is starting to become negative: -36.19 - this might be a precursor for failed training. sometimes this happens because the generation kwargs are not correctly set. Please make sure that the generation kwargs are set correctly, or review your training hyperparameters.\n",
      "  warnings.warn(\n",
      "Setting `pad_token_id` to `eos_token_id`:None for open-end generation.\n"
     ]
    },
    {
     "name": "stdout",
     "output_type": "stream",
     "text": [
      "Prompt: [INST] 25 es igual a [/INST]\n",
      "Respuesta: [INST] 25 es igual a [/INST] block igual 25 es [/INST]].\n",
      "Recompensa: -16\n"
     ]
    },
    {
     "name": "stderr",
     "output_type": "stream",
     "text": [
      "/home/aurora/miniconda3/lib/python3.11/site-packages/trl/trainer/ppo_trainer.py:1313: UserWarning: KL divergence is starting to become negative: -13.70 - this might be a precursor for failed training. sometimes this happens because the generation kwargs are not correctly set. Please make sure that the generation kwargs are set correctly, or review your training hyperparameters.\n",
      "  warnings.warn(\n",
      "Setting `pad_token_id` to `eos_token_id`:None for open-end generation.\n"
     ]
    },
    {
     "name": "stdout",
     "output_type": "stream",
     "text": [
      "Prompt: [INST] 28 es igual a [/INST]\n",
      "Respuesta: [INST] 28 es igual a [/INST] bur.\n",
      "\n",
      "RESURRECTED]\n",
      "Recompensa: -19\n"
     ]
    },
    {
     "name": "stderr",
     "output_type": "stream",
     "text": [
      "/home/aurora/miniconda3/lib/python3.11/site-packages/trl/trainer/ppo_trainer.py:1313: UserWarning: KL divergence is starting to become negative: -11.52 - this might be a precursor for failed training. sometimes this happens because the generation kwargs are not correctly set. Please make sure that the generation kwargs are set correctly, or review your training hyperparameters.\n",
      "  warnings.warn(\n",
      "Setting `pad_token_id` to `eos_token_id`:None for open-end generation.\n"
     ]
    },
    {
     "name": "stdout",
     "output_type": "stream",
     "text": [
      "Prompt: [INST] 31 es igual a [/INST]\n",
      "Respuesta: [INST] 31 es igual a [/INST] 01 deg] 01 deg] 01 deg\"?\n",
      "Recompensa: -22\n"
     ]
    },
    {
     "name": "stderr",
     "output_type": "stream",
     "text": [
      "Setting `pad_token_id` to `eos_token_id`:None for open-end generation.\n"
     ]
    },
    {
     "name": "stdout",
     "output_type": "stream",
     "text": [
      "Prompt: [INST] 34 es igual a [/INST]\n",
      "Respuesta: [INST] 34 es igual a [/INST] a] 34 igau a 34 igau\n",
      "Recompensa: -25\n"
     ]
    },
    {
     "name": "stderr",
     "output_type": "stream",
     "text": [
      "/home/aurora/miniconda3/lib/python3.11/site-packages/trl/trainer/ppo_trainer.py:1313: UserWarning: KL divergence is starting to become negative: -30.23 - this might be a precursor for failed training. sometimes this happens because the generation kwargs are not correctly set. Please make sure that the generation kwargs are set correctly, or review your training hyperparameters.\n",
      "  warnings.warn(\n",
      "Setting `pad_token_id` to `eos_token_id`:None for open-end generation.\n"
     ]
    },
    {
     "name": "stdout",
     "output_type": "stream",
     "text": [
      "Prompt: [INST] 37 es igual a [/INST]\n",
      "Respuesta: [INST] 37 es igual a [/INST] [100] [/INST] [101]\n",
      "Recompensa: -28\n"
     ]
    },
    {
     "name": "stderr",
     "output_type": "stream",
     "text": [
      "/home/aurora/miniconda3/lib/python3.11/site-packages/trl/trainer/ppo_trainer.py:1313: UserWarning: KL divergence is starting to become negative: -26.68 - this might be a precursor for failed training. sometimes this happens because the generation kwargs are not correctly set. Please make sure that the generation kwargs are set correctly, or review your training hyperparameters.\n",
      "  warnings.warn(\n",
      "Setting `pad_token_id` to `eos_token_id`:None for open-end generation.\n"
     ]
    },
    {
     "name": "stdout",
     "output_type": "stream",
     "text": [
      "Prompt: [INST] 40 es igual a [/INST]\n",
      "Respuesta: [INST] 40 es igual a [/INST]-\n",
      "-\n",
      "-\n",
      "- kn.)\n",
      "Recompensa: -31\n"
     ]
    },
    {
     "name": "stderr",
     "output_type": "stream",
     "text": [
      "/home/aurora/miniconda3/lib/python3.11/site-packages/trl/trainer/ppo_trainer.py:1313: UserWarning: KL divergence is starting to become negative: -20.75 - this might be a precursor for failed training. sometimes this happens because the generation kwargs are not correctly set. Please make sure that the generation kwargs are set correctly, or review your training hyperparameters.\n",
      "  warnings.warn(\n",
      "Setting `pad_token_id` to `eos_token_id`:None for open-end generation.\n"
     ]
    },
    {
     "name": "stdout",
     "output_type": "stream",
     "text": [
      "Prompt: [INST] 43 es igual a [/INST]\n",
      "Respuesta: [INST] 43 es igual a [/INST] b [/ES]\" [/INST] [/]\n",
      "Recompensa: -34\n"
     ]
    },
    {
     "name": "stderr",
     "output_type": "stream",
     "text": [
      "Setting `pad_token_id` to `eos_token_id`:None for open-end generation.\n"
     ]
    },
    {
     "name": "stdout",
     "output_type": "stream",
     "text": [
      "Prompt: [INST] 46 es igual a [/INST]\n",
      "Respuesta: [INST] 46 es igual a [/INST]/gob]/gob[gob]gob\n",
      "Recompensa: -37\n"
     ]
    },
    {
     "name": "stderr",
     "output_type": "stream",
     "text": [
      "/home/aurora/miniconda3/lib/python3.11/site-packages/trl/trainer/ppo_trainer.py:1313: UserWarning: KL divergence is starting to become negative: -40.11 - this might be a precursor for failed training. sometimes this happens because the generation kwargs are not correctly set. Please make sure that the generation kwargs are set correctly, or review your training hyperparameters.\n",
      "  warnings.warn(\n",
      "Setting `pad_token_id` to `eos_token_id`:None for open-end generation.\n"
     ]
    },
    {
     "name": "stdout",
     "output_type": "stream",
     "text": [
      "Prompt: [INST] 49 es igual a [/INST]\n",
      "Respuesta: [INST] 49 es igual a [/INST] a dest 49 49 49 49.t 49\n",
      "Recompensa: -40\n"
     ]
    },
    {
     "name": "stderr",
     "output_type": "stream",
     "text": [
      "/home/aurora/miniconda3/lib/python3.11/site-packages/trl/trainer/ppo_trainer.py:1313: UserWarning: KL divergence is starting to become negative: -63.36 - this might be a precursor for failed training. sometimes this happens because the generation kwargs are not correctly set. Please make sure that the generation kwargs are set correctly, or review your training hyperparameters.\n",
      "  warnings.warn(\n",
      "Setting `pad_token_id` to `eos_token_id`:None for open-end generation.\n"
     ]
    },
    {
     "name": "stdout",
     "output_type": "stream",
     "text": [
      "Prompt: [INST] 10 es igual a [/INST]\n",
      "Respuesta: [INST] 10 es igual a [/INST]\n",
      "\n",
      "10 igual\n",
      "\n",
      "10 ig\n",
      "Recompensa: -1\n"
     ]
    },
    {
     "name": "stderr",
     "output_type": "stream",
     "text": [
      "/home/aurora/miniconda3/lib/python3.11/site-packages/trl/trainer/ppo_trainer.py:1313: UserWarning: KL divergence is starting to become negative: -58.72 - this might be a precursor for failed training. sometimes this happens because the generation kwargs are not correctly set. Please make sure that the generation kwargs are set correctly, or review your training hyperparameters.\n",
      "  warnings.warn(\n",
      "Setting `pad_token_id` to `eos_token_id`:None for open-end generation.\n"
     ]
    },
    {
     "name": "stdout",
     "output_type": "stream",
     "text": [
      "Prompt: [INST] 13 es igual a [/INST]\n",
      "Respuesta: [INST] 13 es igual a [/INST] heavenly igual [/ES] 13 es ig\n",
      "Recompensa: -4\n",
      "Prompt: [INST] 16 es igual a [/INST]\n",
      "Respuesta: [INST] 16 es igual a [/INST]16 es [/INST16 es [/INST16\n",
      "Recompensa: -7\n"
     ]
    },
    {
     "name": "stderr",
     "output_type": "stream",
     "text": [
      "/home/aurora/miniconda3/lib/python3.11/site-packages/trl/trainer/ppo_trainer.py:1313: UserWarning: KL divergence is starting to become negative: -35.54 - this might be a precursor for failed training. sometimes this happens because the generation kwargs are not correctly set. Please make sure that the generation kwargs are set correctly, or review your training hyperparameters.\n",
      "  warnings.warn(\n",
      "Setting `pad_token_id` to `eos_token_id`:None for open-end generation.\n",
      "/home/aurora/miniconda3/lib/python3.11/site-packages/trl/trainer/ppo_trainer.py:1313: UserWarning: KL divergence is starting to become negative: -14.74 - this might be a precursor for failed training. sometimes this happens because the generation kwargs are not correctly set. Please make sure that the generation kwargs are set correctly, or review your training hyperparameters.\n",
      "  warnings.warn(\n",
      "Setting `pad_token_id` to `eos_token_id`:None for open-end generation.\n"
     ]
    },
    {
     "name": "stdout",
     "output_type": "stream",
     "text": [
      "Prompt: [INST] 19 es igual a [/INST]\n",
      "Respuesta: [INST] 19 es igual a [/INST]{INST}INST{19 ig}.19\n",
      "Recompensa: -10\n"
     ]
    },
    {
     "name": "stderr",
     "output_type": "stream",
     "text": [
      "/home/aurora/miniconda3/lib/python3.11/site-packages/trl/trainer/ppo_trainer.py:1313: UserWarning: KL divergence is starting to become negative: -35.72 - this might be a precursor for failed training. sometimes this happens because the generation kwargs are not correctly set. Please make sure that the generation kwargs are set correctly, or review your training hyperparameters.\n",
      "  warnings.warn(\n",
      "Setting `pad_token_id` to `eos_token_id`:None for open-end generation.\n"
     ]
    },
    {
     "name": "stdout",
     "output_type": "stream",
     "text": [
      "Prompt: [INST] 22 es igual a [/INST]\n",
      "Respuesta: [INST] 22 es igual a [/INST]\n",
      "\n",
      "\"\n",
      "\" [/tw]\n",
      "\n",
      "Recompensa: -13\n"
     ]
    },
    {
     "name": "stderr",
     "output_type": "stream",
     "text": [
      "/home/aurora/miniconda3/lib/python3.11/site-packages/trl/trainer/ppo_trainer.py:1313: UserWarning: KL divergence is starting to become negative: -42.76 - this might be a precursor for failed training. sometimes this happens because the generation kwargs are not correctly set. Please make sure that the generation kwargs are set correctly, or review your training hyperparameters.\n",
      "  warnings.warn(\n",
      "Setting `pad_token_id` to `eos_token_id`:None for open-end generation.\n"
     ]
    },
    {
     "name": "stdout",
     "output_type": "stream",
     "text": [
      "Prompt: [INST] 25 es igual a [/INST]\n",
      "Respuesta: [INST] 25 es igual a [/INST] INST{1,INST2,INST1\n",
      "Recompensa: -16\n"
     ]
    },
    {
     "name": "stderr",
     "output_type": "stream",
     "text": [
      "/home/aurora/miniconda3/lib/python3.11/site-packages/trl/trainer/ppo_trainer.py:1313: UserWarning: KL divergence is starting to become negative: -35.24 - this might be a precursor for failed training. sometimes this happens because the generation kwargs are not correctly set. Please make sure that the generation kwargs are set correctly, or review your training hyperparameters.\n",
      "  warnings.warn(\n",
      "Setting `pad_token_id` to `eos_token_id`:None for open-end generation.\n"
     ]
    },
    {
     "name": "stdout",
     "output_type": "stream",
     "text": [
      "Prompt: [INST] 28 es igual a [/INST]\n",
      "Respuesta: [INST] 28 es igual a [/INST]\n",
      "\n",
      "29 es es igual a es\n",
      "Recompensa: -19\n"
     ]
    },
    {
     "name": "stderr",
     "output_type": "stream",
     "text": [
      "/home/aurora/miniconda3/lib/python3.11/site-packages/trl/trainer/ppo_trainer.py:1313: UserWarning: KL divergence is starting to become negative: -23.67 - this might be a precursor for failed training. sometimes this happens because the generation kwargs are not correctly set. Please make sure that the generation kwargs are set correctly, or review your training hyperparameters.\n",
      "  warnings.warn(\n",
      "Setting `pad_token_id` to `eos_token_id`:None for open-end generation.\n"
     ]
    },
    {
     "name": "stdout",
     "output_type": "stream",
     "text": [
      "Prompt: [INST] 31 es igual a [/INST]\n",
      "Respuesta: [INST] 31 es igual a [/INST],,,,, 31 es a b\n",
      "Recompensa: -22\n"
     ]
    },
    {
     "name": "stderr",
     "output_type": "stream",
     "text": [
      "Setting `pad_token_id` to `eos_token_id`:None for open-end generation.\n"
     ]
    },
    {
     "name": "stdout",
     "output_type": "stream",
     "text": [
      "Prompt: [INST] 34 es igual a [/INST]\n",
      "Respuesta: [INST] 34 es igual a [/INST] 34 es igau]\n",
      "\n",
      "Thomas+\n",
      "Recompensa: -25\n",
      "Prompt: [INST] 37 es igual a [/INST]\n",
      "Respuesta: [INST] 37 es igual a [/INST] 37 Dr Dr Dr[Drk] Dr\n",
      "Recompensa: -28\n"
     ]
    },
    {
     "name": "stderr",
     "output_type": "stream",
     "text": [
      "/home/aurora/miniconda3/lib/python3.11/site-packages/trl/trainer/ppo_trainer.py:1313: UserWarning: KL divergence is starting to become negative: -13.71 - this might be a precursor for failed training. sometimes this happens because the generation kwargs are not correctly set. Please make sure that the generation kwargs are set correctly, or review your training hyperparameters.\n",
      "  warnings.warn(\n",
      "Setting `pad_token_id` to `eos_token_id`:None for open-end generation.\n",
      "/home/aurora/miniconda3/lib/python3.11/site-packages/trl/trainer/ppo_trainer.py:1313: UserWarning: KL divergence is starting to become negative: -61.17 - this might be a precursor for failed training. sometimes this happens because the generation kwargs are not correctly set. Please make sure that the generation kwargs are set correctly, or review your training hyperparameters.\n",
      "  warnings.warn(\n",
      "Setting `pad_token_id` to `eos_token_id`:None for open-end generation.\n"
     ]
    },
    {
     "name": "stdout",
     "output_type": "stream",
     "text": [
      "Prompt: [INST] 40 es igual a [/INST]\n",
      "Respuesta: [INST] 40 es igual a [/INST] 40 es, igual [/INST] 41\n",
      "Recompensa: -31\n",
      "Prompt: [INST] 43 es igual a [/INST]\n",
      "Respuesta: [INST] 43 es igual a [/INST]\n",
      "\n",
      "\"\n",
      "\" 01-EE-\n",
      "Recompensa: -34\n"
     ]
    },
    {
     "name": "stderr",
     "output_type": "stream",
     "text": [
      "Setting `pad_token_id` to `eos_token_id`:None for open-end generation.\n",
      "/home/aurora/miniconda3/lib/python3.11/site-packages/trl/trainer/ppo_trainer.py:1313: UserWarning: KL divergence is starting to become negative: -16.77 - this might be a precursor for failed training. sometimes this happens because the generation kwargs are not correctly set. Please make sure that the generation kwargs are set correctly, or review your training hyperparameters.\n",
      "  warnings.warn(\n",
      "Setting `pad_token_id` to `eos_token_id`:None for open-end generation.\n"
     ]
    },
    {
     "name": "stdout",
     "output_type": "stream",
     "text": [
      "Prompt: [INST] 46 es igual a [/INST]\n",
      "Respuesta: [INST] 46 es igual a [/INST] - 1 esib + es\n",
      "\n",
      "(\n",
      "Recompensa: -37\n",
      "Prompt: [INST] 49 es igual a [/INST]\n",
      "Respuesta: [INST] 49 es igual a [/INST] [/should[/should] 49 49\n",
      "\n",
      "\n",
      "Recompensa: -40\n"
     ]
    },
    {
     "name": "stderr",
     "output_type": "stream",
     "text": [
      "Setting `pad_token_id` to `eos_token_id`:None for open-end generation.\n",
      "/home/aurora/miniconda3/lib/python3.11/site-packages/trl/trainer/ppo_trainer.py:1313: UserWarning: KL divergence is starting to become negative: -50.89 - this might be a precursor for failed training. sometimes this happens because the generation kwargs are not correctly set. Please make sure that the generation kwargs are set correctly, or review your training hyperparameters.\n",
      "  warnings.warn(\n",
      "Setting `pad_token_id` to `eos_token_id`:None for open-end generation.\n"
     ]
    },
    {
     "name": "stdout",
     "output_type": "stream",
     "text": [
      "Prompt: [INST] 10 es igual a [/INST]\n",
      "Respuesta: [INST] 10 es igual a [/INST]\n",
      "\n",
      "[INST]\n",
      "\n",
      "\"NOW\n",
      "Recompensa: -1\n",
      "Prompt: [INST] 13 es igual a [/INST]\n",
      "Respuesta: [INST] 13 es igual a [/INST] 13 irn fr\n",
      "\n",
      "L said in\n",
      "Recompensa: -4\n"
     ]
    },
    {
     "name": "stderr",
     "output_type": "stream",
     "text": [
      "/home/aurora/miniconda3/lib/python3.11/site-packages/trl/trainer/ppo_trainer.py:1313: UserWarning: KL divergence is starting to become negative: -31.41 - this might be a precursor for failed training. sometimes this happens because the generation kwargs are not correctly set. Please make sure that the generation kwargs are set correctly, or review your training hyperparameters.\n",
      "  warnings.warn(\n",
      "Setting `pad_token_id` to `eos_token_id`:None for open-end generation.\n",
      "/home/aurora/miniconda3/lib/python3.11/site-packages/trl/trainer/ppo_trainer.py:1313: UserWarning: KL divergence is starting to become negative: -20.27 - this might be a precursor for failed training. sometimes this happens because the generation kwargs are not correctly set. Please make sure that the generation kwargs are set correctly, or review your training hyperparameters.\n",
      "  warnings.warn(\n",
      "Setting `pad_token_id` to `eos_token_id`:None for open-end generation.\n"
     ]
    },
    {
     "name": "stdout",
     "output_type": "stream",
     "text": [
      "Prompt: [INST] 16 es igual a [/INST]\n",
      "Respuesta: [INST] 16 es igual a [/INST] & ig16 ig17 es\n",
      "\n",
      "l\n",
      "Recompensa: -7\n",
      "Prompt: [INST] 19 es igual a [/INST]\n",
      "Respuesta: [INST] 19 es igual a [/INST] void func func func{19 es igual\n",
      "Recompensa: -10\n"
     ]
    },
    {
     "name": "stderr",
     "output_type": "stream",
     "text": [
      "/home/aurora/miniconda3/lib/python3.11/site-packages/trl/trainer/ppo_trainer.py:1313: UserWarning: KL divergence is starting to become negative: -31.90 - this might be a precursor for failed training. sometimes this happens because the generation kwargs are not correctly set. Please make sure that the generation kwargs are set correctly, or review your training hyperparameters.\n",
      "  warnings.warn(\n",
      "Setting `pad_token_id` to `eos_token_id`:None for open-end generation.\n",
      "/home/aurora/miniconda3/lib/python3.11/site-packages/trl/trainer/ppo_trainer.py:1313: UserWarning: KL divergence is starting to become negative: -4.39 - this might be a precursor for failed training. sometimes this happens because the generation kwargs are not correctly set. Please make sure that the generation kwargs are set correctly, or review your training hyperparameters.\n",
      "  warnings.warn(\n",
      "Setting `pad_token_id` to `eos_token_id`:None for open-end generation.\n"
     ]
    },
    {
     "name": "stdout",
     "output_type": "stream",
     "text": [
      "Prompt: [INST] 22 es igual a [/INST]\n",
      "Respuesta: [INST] 22 es igual a [/INST][Cu] [/JoinJoinElb]\n",
      "Recompensa: -13\n",
      "Prompt: [INST] 25 es igual a [/INST]\n",
      "Respuesta: [INST] 25 es igual a [/INST]? 25 ir 25 gig nic a != 25\n",
      "Recompensa: -16\n"
     ]
    },
    {
     "name": "stderr",
     "output_type": "stream",
     "text": [
      "/home/aurora/miniconda3/lib/python3.11/site-packages/trl/trainer/ppo_trainer.py:1313: UserWarning: KL divergence is starting to become negative: -18.59 - this might be a precursor for failed training. sometimes this happens because the generation kwargs are not correctly set. Please make sure that the generation kwargs are set correctly, or review your training hyperparameters.\n",
      "  warnings.warn(\n",
      "Setting `pad_token_id` to `eos_token_id`:None for open-end generation.\n",
      "/home/aurora/miniconda3/lib/python3.11/site-packages/trl/trainer/ppo_trainer.py:1313: UserWarning: KL divergence is starting to become negative: -27.40 - this might be a precursor for failed training. sometimes this happens because the generation kwargs are not correctly set. Please make sure that the generation kwargs are set correctly, or review your training hyperparameters.\n",
      "  warnings.warn(\n",
      "Setting `pad_token_id` to `eos_token_id`:None for open-end generation.\n"
     ]
    },
    {
     "name": "stdout",
     "output_type": "stream",
     "text": [
      "Prompt: [INST] 28 es igual a [/INST]\n",
      "Respuesta: [INST] 28 es igual a [/INST] 28) 28 ser 28 28\n",
      "Jeremiah\n",
      "Recompensa: -19\n",
      "Prompt: [INST] 31 es igual a [/INST]\n",
      "Respuesta: [INST] 31 es igual a [/INST]? [01AES]?]?\n",
      "Recompensa: -22\n"
     ]
    },
    {
     "name": "stderr",
     "output_type": "stream",
     "text": [
      "/home/aurora/miniconda3/lib/python3.11/site-packages/trl/trainer/ppo_trainer.py:1313: UserWarning: KL divergence is starting to become negative: -7.21 - this might be a precursor for failed training. sometimes this happens because the generation kwargs are not correctly set. Please make sure that the generation kwargs are set correctly, or review your training hyperparameters.\n",
      "  warnings.warn(\n",
      "Setting `pad_token_id` to `eos_token_id`:None for open-end generation.\n",
      "/home/aurora/miniconda3/lib/python3.11/site-packages/trl/trainer/ppo_trainer.py:1313: UserWarning: KL divergence is starting to become negative: -25.49 - this might be a precursor for failed training. sometimes this happens because the generation kwargs are not correctly set. Please make sure that the generation kwargs are set correctly, or review your training hyperparameters.\n",
      "  warnings.warn(\n",
      "Setting `pad_token_id` to `eos_token_id`:None for open-end generation.\n"
     ]
    },
    {
     "name": "stdout",
     "output_type": "stream",
     "text": [
      "Prompt: [INST] 34 es igual a [/INST]\n",
      "Respuesta: [INST] 34 es igual a [/INST] 34 igual] 34 a\n",
      "\n",
      "35\n",
      "Recompensa: -25\n",
      "Prompt: [INST] 37 es igual a [/INST]\n",
      "Respuesta: [INST] 37 es igual a [/INST] [ 37 / ig ] [/ [ ] ]\n",
      "Recompensa: -28\n"
     ]
    },
    {
     "name": "stderr",
     "output_type": "stream",
     "text": [
      "/home/aurora/miniconda3/lib/python3.11/site-packages/trl/trainer/ppo_trainer.py:1313: UserWarning: KL divergence is starting to become negative: -24.89 - this might be a precursor for failed training. sometimes this happens because the generation kwargs are not correctly set. Please make sure that the generation kwargs are set correctly, or review your training hyperparameters.\n",
      "  warnings.warn(\n",
      "Setting `pad_token_id` to `eos_token_id`:None for open-end generation.\n",
      "/home/aurora/miniconda3/lib/python3.11/site-packages/trl/trainer/ppo_trainer.py:1313: UserWarning: KL divergence is starting to become negative: -6.80 - this might be a precursor for failed training. sometimes this happens because the generation kwargs are not correctly set. Please make sure that the generation kwargs are set correctly, or review your training hyperparameters.\n",
      "  warnings.warn(\n",
      "Setting `pad_token_id` to `eos_token_id`:None for open-end generation.\n"
     ]
    },
    {
     "name": "stdout",
     "output_type": "stream",
     "text": [
      "Prompt: [INST] 40 es igual a [/INST]\n",
      "Respuesta: [INST] 40 es igual a [/INST]:E\"]\"Replacement,\"{\n",
      "Recompensa: -31\n",
      "Prompt: [INST] 43 es igual a [/INST]\n",
      "Respuesta: [INST] 43 es igual a [/INST] [/INST] [/NUT 43 43 Now\n",
      "Recompensa: -34\n"
     ]
    },
    {
     "name": "stderr",
     "output_type": "stream",
     "text": [
      "/home/aurora/miniconda3/lib/python3.11/site-packages/trl/trainer/ppo_trainer.py:1313: UserWarning: KL divergence is starting to become negative: -27.69 - this might be a precursor for failed training. sometimes this happens because the generation kwargs are not correctly set. Please make sure that the generation kwargs are set correctly, or review your training hyperparameters.\n",
      "  warnings.warn(\n",
      "Setting `pad_token_id` to `eos_token_id`:None for open-end generation.\n",
      "Setting `pad_token_id` to `eos_token_id`:None for open-end generation.\n"
     ]
    },
    {
     "name": "stdout",
     "output_type": "stream",
     "text": [
      "Prompt: [INST] 46 es igual a [/INST]\n",
      "Respuesta: [INST] 46 es igual a [/INST]{E]{-{E}-\n",
      "Recompensa: -37\n",
      "Prompt: [INST] 49 es igual a [/INST]\n",
      "Respuesta: [INST] 49 es igual a [/INST]fellows\", acc:lu 49 es ig\n",
      "Recompensa: -40\n"
     ]
    },
    {
     "name": "stderr",
     "output_type": "stream",
     "text": [
      "/home/aurora/miniconda3/lib/python3.11/site-packages/trl/trainer/ppo_trainer.py:1313: UserWarning: KL divergence is starting to become negative: -14.77 - this might be a precursor for failed training. sometimes this happens because the generation kwargs are not correctly set. Please make sure that the generation kwargs are set correctly, or review your training hyperparameters.\n",
      "  warnings.warn(\n",
      "Setting `pad_token_id` to `eos_token_id`:None for open-end generation.\n",
      "/home/aurora/miniconda3/lib/python3.11/site-packages/trl/trainer/ppo_trainer.py:1313: UserWarning: KL divergence is starting to become negative: -62.13 - this might be a precursor for failed training. sometimes this happens because the generation kwargs are not correctly set. Please make sure that the generation kwargs are set correctly, or review your training hyperparameters.\n",
      "  warnings.warn(\n",
      "Setting `pad_token_id` to `eos_token_id`:None for open-end generation.\n"
     ]
    },
    {
     "name": "stdout",
     "output_type": "stream",
     "text": [
      "Prompt: [INST] 10 es igual a [/INST]\n",
      "Respuesta: [INST] 10 es igual a [/INST]?]; ig.10.N 10 es\n",
      "Recompensa: -1\n",
      "Prompt: [INST] 13 es igual a [/INST]\n",
      "Respuesta: [INST] 13 es igual a [/INST]13]); ig1 ig1; ig1\n",
      "Recompensa: -4\n"
     ]
    },
    {
     "name": "stderr",
     "output_type": "stream",
     "text": [
      "/home/aurora/miniconda3/lib/python3.11/site-packages/trl/trainer/ppo_trainer.py:1313: UserWarning: KL divergence is starting to become negative: -28.52 - this might be a precursor for failed training. sometimes this happens because the generation kwargs are not correctly set. Please make sure that the generation kwargs are set correctly, or review your training hyperparameters.\n",
      "  warnings.warn(\n",
      "Setting `pad_token_id` to `eos_token_id`:None for open-end generation.\n",
      "Setting `pad_token_id` to `eos_token_id`:None for open-end generation.\n"
     ]
    },
    {
     "name": "stdout",
     "output_type": "stream",
     "text": [
      "Prompt: [INST] 16 es igual a [/INST]\n",
      "Respuesta: [INST] 16 es igual a [/INST]16 est1616)16 def [/16\n",
      "Recompensa: -7\n",
      "Prompt: [INST] 19 es igual a [/INST]\n",
      "Respuesta: [INST] 19 es igual a [/INST] 19 es ig a [/INST19-19\n",
      "Recompensa: -10\n"
     ]
    },
    {
     "name": "stderr",
     "output_type": "stream",
     "text": [
      "/home/aurora/miniconda3/lib/python3.11/site-packages/trl/trainer/ppo_trainer.py:1313: UserWarning: KL divergence is starting to become negative: -46.19 - this might be a precursor for failed training. sometimes this happens because the generation kwargs are not correctly set. Please make sure that the generation kwargs are set correctly, or review your training hyperparameters.\n",
      "  warnings.warn(\n",
      "Setting `pad_token_id` to `eos_token_id`:None for open-end generation.\n",
      "/home/aurora/miniconda3/lib/python3.11/site-packages/trl/trainer/ppo_trainer.py:1313: UserWarning: KL divergence is starting to become negative: -23.29 - this might be a precursor for failed training. sometimes this happens because the generation kwargs are not correctly set. Please make sure that the generation kwargs are set correctly, or review your training hyperparameters.\n",
      "  warnings.warn(\n",
      "Setting `pad_token_id` to `eos_token_id`:None for open-end generation.\n"
     ]
    },
    {
     "name": "stdout",
     "output_type": "stream",
     "text": [
      "Prompt: [INST] 22 es igual a [/INST]\n",
      "Respuesta: [INST] 22 es igual a [/INST] {FIRW}{FIRW}]\n",
      "Recompensa: -13\n"
     ]
    },
    {
     "name": "stderr",
     "output_type": "stream",
     "text": [
      "/home/aurora/miniconda3/lib/python3.11/site-packages/trl/trainer/ppo_trainer.py:1313: UserWarning: KL divergence is starting to become negative: -36.91 - this might be a precursor for failed training. sometimes this happens because the generation kwargs are not correctly set. Please make sure that the generation kwargs are set correctly, or review your training hyperparameters.\n",
      "  warnings.warn(\n",
      "Setting `pad_token_id` to `eos_token_id`:None for open-end generation.\n"
     ]
    },
    {
     "name": "stdout",
     "output_type": "stream",
     "text": [
      "Prompt: [INST] 25 es igual a [/INST]\n",
      "Respuesta: [INST] 25 es igual a [/INST]_none_none_none_fur [\n",
      "Recompensa: -16\n"
     ]
    },
    {
     "name": "stderr",
     "output_type": "stream",
     "text": [
      "/home/aurora/miniconda3/lib/python3.11/site-packages/trl/trainer/ppo_trainer.py:1313: UserWarning: KL divergence is starting to become negative: -4.14 - this might be a precursor for failed training. sometimes this happens because the generation kwargs are not correctly set. Please make sure that the generation kwargs are set correctly, or review your training hyperparameters.\n",
      "  warnings.warn(\n",
      "Setting `pad_token_id` to `eos_token_id`:None for open-end generation.\n"
     ]
    },
    {
     "name": "stdout",
     "output_type": "stream",
     "text": [
      "Prompt: [INST] 28 es igual a [/INST]\n",
      "Respuesta: [INST] 28 es igual a [/INST][28]][{pb}]: 28\n",
      "Recompensa: -19\n",
      "Prompt: [INST] 31 es igual a [/INST]\n",
      "Respuesta: [INST] 31 es igual a [/INST]{INST:INST}] 31 es?\"\n",
      "Recompensa: -22\n"
     ]
    },
    {
     "name": "stderr",
     "output_type": "stream",
     "text": [
      "/home/aurora/miniconda3/lib/python3.11/site-packages/trl/trainer/ppo_trainer.py:1313: UserWarning: KL divergence is starting to become negative: -39.53 - this might be a precursor for failed training. sometimes this happens because the generation kwargs are not correctly set. Please make sure that the generation kwargs are set correctly, or review your training hyperparameters.\n",
      "  warnings.warn(\n",
      "Setting `pad_token_id` to `eos_token_id`:None for open-end generation.\n",
      "/home/aurora/miniconda3/lib/python3.11/site-packages/trl/trainer/ppo_trainer.py:1313: UserWarning: KL divergence is starting to become negative: -23.48 - this might be a precursor for failed training. sometimes this happens because the generation kwargs are not correctly set. Please make sure that the generation kwargs are set correctly, or review your training hyperparameters.\n",
      "  warnings.warn(\n",
      "Setting `pad_token_id` to `eos_token_id`:None for open-end generation.\n"
     ]
    },
    {
     "name": "stdout",
     "output_type": "stream",
     "text": [
      "Prompt: [INST] 34 es igual a [/INST]\n",
      "Respuesta: [INST] 34 es igual a [/INST]]{}{l}[INST][ ig\n",
      "Recompensa: -25\n",
      "Prompt: [INST] 37 es igual a [/INST]\n",
      "Respuesta: [INST] 37 es igual a [/INST] 37 es? - 38 /________________________________??\n",
      "Recompensa: -28\n"
     ]
    },
    {
     "name": "stderr",
     "output_type": "stream",
     "text": [
      "/home/aurora/miniconda3/lib/python3.11/site-packages/trl/trainer/ppo_trainer.py:1313: UserWarning: KL divergence is starting to become negative: -8.29 - this might be a precursor for failed training. sometimes this happens because the generation kwargs are not correctly set. Please make sure that the generation kwargs are set correctly, or review your training hyperparameters.\n",
      "  warnings.warn(\n",
      "Setting `pad_token_id` to `eos_token_id`:None for open-end generation.\n",
      "/home/aurora/miniconda3/lib/python3.11/site-packages/trl/trainer/ppo_trainer.py:1313: UserWarning: KL divergence is starting to become negative: -24.95 - this might be a precursor for failed training. sometimes this happens because the generation kwargs are not correctly set. Please make sure that the generation kwargs are set correctly, or review your training hyperparameters.\n",
      "  warnings.warn(\n",
      "Setting `pad_token_id` to `eos_token_id`:None for open-end generation.\n"
     ]
    },
    {
     "name": "stdout",
     "output_type": "stream",
     "text": [
      "Prompt: [INST] 40 es igual a [/INST]\n",
      "Respuesta: [INST] 40 es igual a [/INST] == trebore?hsteguard:(\n",
      "Recompensa: -31\n",
      "Prompt: [INST] 43 es igual a [/INST]\n",
      "Respuesta: [INST] 43 es igual a [/INST]] 43 igual? ig? ig?\n",
      "Recompensa: -34\n"
     ]
    },
    {
     "name": "stderr",
     "output_type": "stream",
     "text": [
      "/home/aurora/miniconda3/lib/python3.11/site-packages/trl/trainer/ppo_trainer.py:1313: UserWarning: KL divergence is starting to become negative: -38.83 - this might be a precursor for failed training. sometimes this happens because the generation kwargs are not correctly set. Please make sure that the generation kwargs are set correctly, or review your training hyperparameters.\n",
      "  warnings.warn(\n",
      "Setting `pad_token_id` to `eos_token_id`:None for open-end generation.\n",
      "Setting `pad_token_id` to `eos_token_id`:None for open-end generation.\n"
     ]
    },
    {
     "name": "stdout",
     "output_type": "stream",
     "text": [
      "Prompt: [INST] 46 es igual a [/INST]\n",
      "Respuesta: [INST] 46 es igual a [/INST]INST] { 1-to-lk\n",
      "Recompensa: -37\n"
     ]
    },
    {
     "name": "stderr",
     "output_type": "stream",
     "text": [
      "/home/aurora/miniconda3/lib/python3.11/site-packages/trl/trainer/ppo_trainer.py:1313: UserWarning: KL divergence is starting to become negative: -66.49 - this might be a precursor for failed training. sometimes this happens because the generation kwargs are not correctly set. Please make sure that the generation kwargs are set correctly, or review your training hyperparameters.\n",
      "  warnings.warn(\n",
      "Setting `pad_token_id` to `eos_token_id`:None for open-end generation.\n"
     ]
    },
    {
     "name": "stdout",
     "output_type": "stream",
     "text": [
      "Prompt: [INST] 49 es igual a [/INST]\n",
      "Respuesta: [INST] 49 es igual a [/INST] [/INST] 49 igual igual[/\n",
      "Recompensa: -40\n"
     ]
    },
    {
     "name": "stderr",
     "output_type": "stream",
     "text": [
      "/home/aurora/miniconda3/lib/python3.11/site-packages/trl/trainer/ppo_trainer.py:1313: UserWarning: KL divergence is starting to become negative: -22.26 - this might be a precursor for failed training. sometimes this happens because the generation kwargs are not correctly set. Please make sure that the generation kwargs are set correctly, or review your training hyperparameters.\n",
      "  warnings.warn(\n",
      "Setting `pad_token_id` to `eos_token_id`:None for open-end generation.\n"
     ]
    },
    {
     "name": "stdout",
     "output_type": "stream",
     "text": [
      "Prompt: [INST] 10 es igual a [/INST]\n",
      "Respuesta: [INST] 10 es igual a [/INST]\n",
      "\n",
      "resolve10\n",
      "\n",
      "\n",
      ");\n",
      "Recompensa: -1\n",
      "Prompt: [INST] 13 es igual a [/INST]\n",
      "Respuesta: [INST] 13 es igual a [/INST] sig [/INSTه sig]) 13 mod mod\n",
      "Recompensa: -4\n"
     ]
    },
    {
     "name": "stderr",
     "output_type": "stream",
     "text": [
      "/home/aurora/miniconda3/lib/python3.11/site-packages/trl/trainer/ppo_trainer.py:1313: UserWarning: KL divergence is starting to become negative: -7.09 - this might be a precursor for failed training. sometimes this happens because the generation kwargs are not correctly set. Please make sure that the generation kwargs are set correctly, or review your training hyperparameters.\n",
      "  warnings.warn(\n",
      "Setting `pad_token_id` to `eos_token_id`:None for open-end generation.\n",
      "/home/aurora/miniconda3/lib/python3.11/site-packages/trl/trainer/ppo_trainer.py:1313: UserWarning: KL divergence is starting to become negative: -15.54 - this might be a precursor for failed training. sometimes this happens because the generation kwargs are not correctly set. Please make sure that the generation kwargs are set correctly, or review your training hyperparameters.\n",
      "  warnings.warn(\n",
      "Setting `pad_token_id` to `eos_token_id`:None for open-end generation.\n"
     ]
    },
    {
     "name": "stdout",
     "output_type": "stream",
     "text": [
      "Prompt: [INST] 16 es igual a [/INST]\n",
      "Respuesta: [INST] 16 es igual a [/INST]16 const Feb=\"INST\"16 Feb=\"\n",
      "Recompensa: -7\n"
     ]
    },
    {
     "name": "stderr",
     "output_type": "stream",
     "text": [
      "/home/aurora/miniconda3/lib/python3.11/site-packages/trl/trainer/ppo_trainer.py:1313: UserWarning: KL divergence is starting to become negative: -72.07 - this might be a precursor for failed training. sometimes this happens because the generation kwargs are not correctly set. Please make sure that the generation kwargs are set correctly, or review your training hyperparameters.\n",
      "  warnings.warn(\n",
      "Setting `pad_token_id` to `eos_token_id`:None for open-end generation.\n"
     ]
    },
    {
     "name": "stdout",
     "output_type": "stream",
     "text": [
      "Prompt: [INST] 19 es igual a [/INST]\n",
      "Respuesta: [INST] 19 es igual a [/INST] [/INST 19 es igual a [/INST\n",
      "Recompensa: -10\n"
     ]
    },
    {
     "name": "stderr",
     "output_type": "stream",
     "text": [
      "/home/aurora/miniconda3/lib/python3.11/site-packages/trl/trainer/ppo_trainer.py:1313: UserWarning: KL divergence is starting to become negative: -58.86 - this might be a precursor for failed training. sometimes this happens because the generation kwargs are not correctly set. Please make sure that the generation kwargs are set correctly, or review your training hyperparameters.\n",
      "  warnings.warn(\n",
      "Setting `pad_token_id` to `eos_token_id`:None for open-end generation.\n"
     ]
    },
    {
     "name": "stdout",
     "output_type": "stream",
     "text": [
      "Prompt: [INST] 22 es igual a [/INST]\n",
      "Respuesta: [INST] 22 es igual a [/INST], 2 , 2 , 2 , 2 ])\n",
      "Recompensa: -13\n"
     ]
    },
    {
     "name": "stderr",
     "output_type": "stream",
     "text": [
      "/home/aurora/miniconda3/lib/python3.11/site-packages/trl/trainer/ppo_trainer.py:1313: UserWarning: KL divergence is starting to become negative: -79.96 - this might be a precursor for failed training. sometimes this happens because the generation kwargs are not correctly set. Please make sure that the generation kwargs are set correctly, or review your training hyperparameters.\n",
      "  warnings.warn(\n",
      "Setting `pad_token_id` to `eos_token_id`:None for open-end generation.\n"
     ]
    },
    {
     "name": "stdout",
     "output_type": "stream",
     "text": [
      "Prompt: [INST] 25 es igual a [/INST]\n",
      "Respuesta: [INST] 25 es igual a [/INST] 25 es [/INST] [/25 num 25\n",
      "Recompensa: -16\n"
     ]
    },
    {
     "name": "stderr",
     "output_type": "stream",
     "text": [
      "/home/aurora/miniconda3/lib/python3.11/site-packages/trl/trainer/ppo_trainer.py:1313: UserWarning: KL divergence is starting to become negative: -45.33 - this might be a precursor for failed training. sometimes this happens because the generation kwargs are not correctly set. Please make sure that the generation kwargs are set correctly, or review your training hyperparameters.\n",
      "  warnings.warn(\n",
      "Setting `pad_token_id` to `eos_token_id`:None for open-end generation.\n"
     ]
    },
    {
     "name": "stdout",
     "output_type": "stream",
     "text": [
      "Prompt: [INST] 28 es igual a [/INST]\n",
      "Respuesta: [INST] 28 es igual a [/INST] es es\n",
      "\n",
      "Topic: 2 es es\n",
      "Recompensa: -19\n",
      "Prompt: [INST] 31 es igual a [/INST]\n",
      "Respuesta: [INST] 31 es igual a [/INST]*[INST]N]N[/INST\n",
      "Recompensa: -22\n"
     ]
    },
    {
     "name": "stderr",
     "output_type": "stream",
     "text": [
      "/home/aurora/miniconda3/lib/python3.11/site-packages/trl/trainer/ppo_trainer.py:1313: UserWarning: KL divergence is starting to become negative: -20.02 - this might be a precursor for failed training. sometimes this happens because the generation kwargs are not correctly set. Please make sure that the generation kwargs are set correctly, or review your training hyperparameters.\n",
      "  warnings.warn(\n",
      "Setting `pad_token_id` to `eos_token_id`:None for open-end generation.\n",
      "/home/aurora/miniconda3/lib/python3.11/site-packages/trl/trainer/ppo_trainer.py:1313: UserWarning: KL divergence is starting to become negative: -60.88 - this might be a precursor for failed training. sometimes this happens because the generation kwargs are not correctly set. Please make sure that the generation kwargs are set correctly, or review your training hyperparameters.\n",
      "  warnings.warn(\n",
      "Setting `pad_token_id` to `eos_token_id`:None for open-end generation.\n"
     ]
    },
    {
     "name": "stdout",
     "output_type": "stream",
     "text": [
      "Prompt: [INST] 34 es igual a [/INST]\n",
      "Respuesta: [INST] 34 es igual a [/INST] 35 b [/\"] A [/\" A [/\n",
      "Recompensa: -25\n"
     ]
    },
    {
     "name": "stderr",
     "output_type": "stream",
     "text": [
      "/home/aurora/miniconda3/lib/python3.11/site-packages/trl/trainer/ppo_trainer.py:1313: UserWarning: KL divergence is starting to become negative: -14.19 - this might be a precursor for failed training. sometimes this happens because the generation kwargs are not correctly set. Please make sure that the generation kwargs are set correctly, or review your training hyperparameters.\n",
      "  warnings.warn(\n",
      "Setting `pad_token_id` to `eos_token_id`:None for open-end generation.\n"
     ]
    },
    {
     "name": "stdout",
     "output_type": "stream",
     "text": [
      "Prompt: [INST] 37 es igual a [/INST]\n",
      "Respuesta: [INST] 37 es igual a [/INST]]/forests\", [STE], NO\n",
      "Recompensa: -28\n",
      "Prompt: [INST] 40 es igual a [/INST]\n",
      "Respuesta: [INST] 40 es igual a [/INST] 20\n",
      "\" 20]];\n",
      "\n",
      "20\n",
      "Recompensa: -31\n"
     ]
    },
    {
     "name": "stderr",
     "output_type": "stream",
     "text": [
      "Setting `pad_token_id` to `eos_token_id`:None for open-end generation.\n",
      "Setting `pad_token_id` to `eos_token_id`:None for open-end generation.\n"
     ]
    },
    {
     "name": "stdout",
     "output_type": "stream",
     "text": [
      "Prompt: [INST] 43 es igual a [/INST]\n",
      "Respuesta: [INST] 43 es igual a [/INST]] a, [/INST]], [\n",
      "Recompensa: -34\n",
      "Prompt: [INST] 46 es igual a [/INST]\n",
      "Respuesta: [INST] 46 es igual a [/INST] 47 es\n",
      "\n",
      "48 01 02\n",
      "\n",
      "\n",
      "Recompensa: -37\n"
     ]
    },
    {
     "name": "stderr",
     "output_type": "stream",
     "text": [
      "/home/aurora/miniconda3/lib/python3.11/site-packages/trl/trainer/ppo_trainer.py:1313: UserWarning: KL divergence is starting to become negative: -22.86 - this might be a precursor for failed training. sometimes this happens because the generation kwargs are not correctly set. Please make sure that the generation kwargs are set correctly, or review your training hyperparameters.\n",
      "  warnings.warn(\n",
      "Setting `pad_token_id` to `eos_token_id`:None for open-end generation.\n",
      "Setting `pad_token_id` to `eos_token_id`:None for open-end generation.\n"
     ]
    },
    {
     "name": "stdout",
     "output_type": "stream",
     "text": [
      "Prompt: [INST] 49 es igual a [/INST]\n",
      "Respuesta: [INST] 49 es igual a [/INST]:INST?['INST]'['tw\n",
      "Recompensa: -40\n",
      "Prompt: [INST] 10 es igual a [/INST]\n",
      "Respuesta: [INST] 10 es igual a [/INST] {E in igilo.l igilo\n",
      "Recompensa: -1\n"
     ]
    },
    {
     "name": "stderr",
     "output_type": "stream",
     "text": [
      "/home/aurora/miniconda3/lib/python3.11/site-packages/trl/trainer/ppo_trainer.py:1313: UserWarning: KL divergence is starting to become negative: -62.94 - this might be a precursor for failed training. sometimes this happens because the generation kwargs are not correctly set. Please make sure that the generation kwargs are set correctly, or review your training hyperparameters.\n",
      "  warnings.warn(\n",
      "Setting `pad_token_id` to `eos_token_id`:None for open-end generation.\n",
      "/home/aurora/miniconda3/lib/python3.11/site-packages/trl/trainer/ppo_trainer.py:1313: UserWarning: KL divergence is starting to become negative: -15.31 - this might be a precursor for failed training. sometimes this happens because the generation kwargs are not correctly set. Please make sure that the generation kwargs are set correctly, or review your training hyperparameters.\n",
      "  warnings.warn(\n",
      "Setting `pad_token_id` to `eos_token_id`:None for open-end generation.\n"
     ]
    },
    {
     "name": "stdout",
     "output_type": "stream",
     "text": [
      "Prompt: [INST] 13 es igual a [/INST]\n",
      "Respuesta: [INST] 13 es igual a [/INST]13 [/INST]13]13]13\n",
      "Recompensa: -4\n",
      "Prompt: [INST] 16 es igual a [/INST]\n",
      "Respuesta: [INST] 16 es igual a [/INST]?-INST{INST}-INST{\n",
      "Recompensa: -7\n"
     ]
    },
    {
     "name": "stderr",
     "output_type": "stream",
     "text": [
      "/home/aurora/miniconda3/lib/python3.11/site-packages/trl/trainer/ppo_trainer.py:1313: UserWarning: KL divergence is starting to become negative: -27.84 - this might be a precursor for failed training. sometimes this happens because the generation kwargs are not correctly set. Please make sure that the generation kwargs are set correctly, or review your training hyperparameters.\n",
      "  warnings.warn(\n",
      "Setting `pad_token_id` to `eos_token_id`:None for open-end generation.\n",
      "/home/aurora/miniconda3/lib/python3.11/site-packages/trl/trainer/ppo_trainer.py:1313: UserWarning: KL divergence is starting to become negative: -13.76 - this might be a precursor for failed training. sometimes this happens because the generation kwargs are not correctly set. Please make sure that the generation kwargs are set correctly, or review your training hyperparameters.\n",
      "  warnings.warn(\n",
      "Setting `pad_token_id` to `eos_token_id`:None for open-end generation.\n"
     ]
    },
    {
     "name": "stdout",
     "output_type": "stream",
     "text": [
      "Prompt: [INST] 19 es igual a [/INST]\n",
      "Respuesta: [INST] 19 es igual a [/INST] 21 es igfell [/NORLVERSIGHT\n",
      "Recompensa: -10\n",
      "Prompt: [INST] 22 es igual a [/INST]\n",
      "Respuesta: [INST] 22 es igual a [/INST][{}\\]{2[/]{\n",
      "Recompensa: -13\n"
     ]
    },
    {
     "name": "stderr",
     "output_type": "stream",
     "text": [
      "/home/aurora/miniconda3/lib/python3.11/site-packages/trl/trainer/ppo_trainer.py:1313: UserWarning: KL divergence is starting to become negative: -22.48 - this might be a precursor for failed training. sometimes this happens because the generation kwargs are not correctly set. Please make sure that the generation kwargs are set correctly, or review your training hyperparameters.\n",
      "  warnings.warn(\n",
      "Setting `pad_token_id` to `eos_token_id`:None for open-end generation.\n",
      "/home/aurora/miniconda3/lib/python3.11/site-packages/trl/trainer/ppo_trainer.py:1313: UserWarning: KL divergence is starting to become negative: -62.48 - this might be a precursor for failed training. sometimes this happens because the generation kwargs are not correctly set. Please make sure that the generation kwargs are set correctly, or review your training hyperparameters.\n",
      "  warnings.warn(\n",
      "Setting `pad_token_id` to `eos_token_id`:None for open-end generation.\n"
     ]
    },
    {
     "name": "stdout",
     "output_type": "stream",
     "text": [
      "Prompt: [INST] 25 es igual a [/INST]\n",
      "Respuesta: [INST] 25 es igual a [/INST] 2015: New Escaped World Order 08:\n",
      "Recompensa: -16\n",
      "Prompt: [INST] 28 es igual a [/INST]\n",
      "Respuesta: [INST] 28 es igual a [/INST]\", \"N\", 2, DE\"] 01\n",
      "Recompensa: -19\n"
     ]
    },
    {
     "name": "stderr",
     "output_type": "stream",
     "text": [
      "/home/aurora/miniconda3/lib/python3.11/site-packages/trl/trainer/ppo_trainer.py:1313: UserWarning: KL divergence is starting to become negative: -21.55 - this might be a precursor for failed training. sometimes this happens because the generation kwargs are not correctly set. Please make sure that the generation kwargs are set correctly, or review your training hyperparameters.\n",
      "  warnings.warn(\n",
      "Setting `pad_token_id` to `eos_token_id`:None for open-end generation.\n",
      "/home/aurora/miniconda3/lib/python3.11/site-packages/trl/trainer/ppo_trainer.py:1313: UserWarning: KL divergence is starting to become negative: -44.42 - this might be a precursor for failed training. sometimes this happens because the generation kwargs are not correctly set. Please make sure that the generation kwargs are set correctly, or review your training hyperparameters.\n",
      "  warnings.warn(\n",
      "Setting `pad_token_id` to `eos_token_id`:None for open-end generation.\n"
     ]
    },
    {
     "name": "stdout",
     "output_type": "stream",
     "text": [
      "Prompt: [INST] 31 es igual a [/INST]\n",
      "Respuesta: [INST] 31 es igual a [/INST] 01 01)\",]\",(INST),\"\",\n",
      "Recompensa: -22\n",
      "Prompt: [INST] 34 es igual a [/INST]\n",
      "Respuesta: [INST] 34 es igual a [/INST] b[/INST]\n",
      "\n",
      "none] day\n",
      "Recompensa: -25\n"
     ]
    },
    {
     "name": "stderr",
     "output_type": "stream",
     "text": [
      "/home/aurora/miniconda3/lib/python3.11/site-packages/trl/trainer/ppo_trainer.py:1313: UserWarning: KL divergence is starting to become negative: -31.73 - this might be a precursor for failed training. sometimes this happens because the generation kwargs are not correctly set. Please make sure that the generation kwargs are set correctly, or review your training hyperparameters.\n",
      "  warnings.warn(\n",
      "Setting `pad_token_id` to `eos_token_id`:None for open-end generation.\n",
      "/home/aurora/miniconda3/lib/python3.11/site-packages/trl/trainer/ppo_trainer.py:1313: UserWarning: KL divergence is starting to become negative: -29.72 - this might be a precursor for failed training. sometimes this happens because the generation kwargs are not correctly set. Please make sure that the generation kwargs are set correctly, or review your training hyperparameters.\n",
      "  warnings.warn(\n",
      "Setting `pad_token_id` to `eos_token_id`:None for open-end generation.\n"
     ]
    },
    {
     "name": "stdout",
     "output_type": "stream",
     "text": [
      "Prompt: [INST] 37 es igual a [/INST]\n",
      "Respuesta: [INST] 37 es igual a [/INST] a? no? no? [MK]\n",
      "Recompensa: -28\n",
      "Prompt: [INST] 40 es igual a [/INST]\n",
      "Respuesta: [INST] 40 es igual a [/INST]? 40?]??\n",
      "\n",
      "40\n",
      "Recompensa: -31\n"
     ]
    },
    {
     "name": "stderr",
     "output_type": "stream",
     "text": [
      "Setting `pad_token_id` to `eos_token_id`:None for open-end generation.\n",
      "/home/aurora/miniconda3/lib/python3.11/site-packages/trl/trainer/ppo_trainer.py:1313: UserWarning: KL divergence is starting to become negative: -20.12 - this might be a precursor for failed training. sometimes this happens because the generation kwargs are not correctly set. Please make sure that the generation kwargs are set correctly, or review your training hyperparameters.\n",
      "  warnings.warn(\n",
      "Setting `pad_token_id` to `eos_token_id`:None for open-end generation.\n"
     ]
    },
    {
     "name": "stdout",
     "output_type": "stream",
     "text": [
      "Prompt: [INST] 43 es igual a [/INST]\n",
      "Respuesta: [INST] 43 es igual a [/INST] mod]\" modifies him]\" mod_name\n",
      "Recompensa: -34\n",
      "Prompt: [INST] 46 es igual a [/INST]\n",
      "Respuesta: [INST] 46 es igual a [/INST] 46 es ig] 46 a-]?\n",
      "Recompensa: -37\n"
     ]
    },
    {
     "name": "stderr",
     "output_type": "stream",
     "text": [
      "Setting `pad_token_id` to `eos_token_id`:None for open-end generation.\n",
      "/home/aurora/miniconda3/lib/python3.11/site-packages/trl/trainer/ppo_trainer.py:1313: UserWarning: KL divergence is starting to become negative: -22.77 - this might be a precursor for failed training. sometimes this happens because the generation kwargs are not correctly set. Please make sure that the generation kwargs are set correctly, or review your training hyperparameters.\n",
      "  warnings.warn(\n",
      "Setting `pad_token_id` to `eos_token_id`:None for open-end generation.\n"
     ]
    },
    {
     "name": "stdout",
     "output_type": "stream",
     "text": [
      "Prompt: [INST] 49 es igual a [/INST]\n",
      "Respuesta: [INST] 49 es igual a [/INST]-faster-of-first-of\n",
      "Recompensa: -40\n",
      "Prompt: [INST] 10 es igual a [/INST]\n",
      "Respuesta: [INST] 10 es igual a [/INST] 10 [/INST]\n",
      "\n",
      "10 [/]\n",
      "Recompensa: -1\n"
     ]
    },
    {
     "name": "stderr",
     "output_type": "stream",
     "text": [
      "/home/aurora/miniconda3/lib/python3.11/site-packages/trl/trainer/ppo_trainer.py:1313: UserWarning: KL divergence is starting to become negative: -67.72 - this might be a precursor for failed training. sometimes this happens because the generation kwargs are not correctly set. Please make sure that the generation kwargs are set correctly, or review your training hyperparameters.\n",
      "  warnings.warn(\n",
      "Setting `pad_token_id` to `eos_token_id`:None for open-end generation.\n",
      "/home/aurora/miniconda3/lib/python3.11/site-packages/trl/trainer/ppo_trainer.py:1313: UserWarning: KL divergence is starting to become negative: -42.85 - this might be a precursor for failed training. sometimes this happens because the generation kwargs are not correctly set. Please make sure that the generation kwargs are set correctly, or review your training hyperparameters.\n",
      "  warnings.warn(\n",
      "Setting `pad_token_id` to `eos_token_id`:None for open-end generation.\n"
     ]
    },
    {
     "name": "stdout",
     "output_type": "stream",
     "text": [
      "Prompt: [INST] 13 es igual a [/INST]\n",
      "Respuesta: [INST] 13 es igual a [/INST] [/13] 13 [/INST_INST]);\n",
      "Recompensa: -4\n",
      "Prompt: [INST] 16 es igual a [/INST]\n",
      "Respuesta: [INST] 16 es igual a [/INST]&&&&10_N[/INST\n",
      "Recompensa: -7\n"
     ]
    },
    {
     "name": "stderr",
     "output_type": "stream",
     "text": [
      "/home/aurora/miniconda3/lib/python3.11/site-packages/trl/trainer/ppo_trainer.py:1313: UserWarning: KL divergence is starting to become negative: -19.80 - this might be a precursor for failed training. sometimes this happens because the generation kwargs are not correctly set. Please make sure that the generation kwargs are set correctly, or review your training hyperparameters.\n",
      "  warnings.warn(\n",
      "Setting `pad_token_id` to `eos_token_id`:None for open-end generation.\n",
      "/home/aurora/miniconda3/lib/python3.11/site-packages/trl/trainer/ppo_trainer.py:1313: UserWarning: KL divergence is starting to become negative: -35.86 - this might be a precursor for failed training. sometimes this happens because the generation kwargs are not correctly set. Please make sure that the generation kwargs are set correctly, or review your training hyperparameters.\n",
      "  warnings.warn(\n",
      "Setting `pad_token_id` to `eos_token_id`:None for open-end generation.\n"
     ]
    },
    {
     "name": "stdout",
     "output_type": "stream",
     "text": [
      "Prompt: [INST] 19 es igual a [/INST]\n",
      "Respuesta: [INST] 19 es igual a [/INST] 19 es NORTHNORTH 19 esN\n",
      "Recompensa: -10\n",
      "Prompt: [INST] 22 es igual a [/INST]\n",
      "Respuesta: [INST] 22 es igual a [/INST]/home/i1″]\\N\n",
      "Recompensa: -13\n"
     ]
    },
    {
     "name": "stderr",
     "output_type": "stream",
     "text": [
      "/home/aurora/miniconda3/lib/python3.11/site-packages/trl/trainer/ppo_trainer.py:1313: UserWarning: KL divergence is starting to become negative: -26.04 - this might be a precursor for failed training. sometimes this happens because the generation kwargs are not correctly set. Please make sure that the generation kwargs are set correctly, or review your training hyperparameters.\n",
      "  warnings.warn(\n",
      "Setting `pad_token_id` to `eos_token_id`:None for open-end generation.\n",
      "/home/aurora/miniconda3/lib/python3.11/site-packages/trl/trainer/ppo_trainer.py:1313: UserWarning: KL divergence is starting to become negative: -46.90 - this might be a precursor for failed training. sometimes this happens because the generation kwargs are not correctly set. Please make sure that the generation kwargs are set correctly, or review your training hyperparameters.\n",
      "  warnings.warn(\n",
      "Setting `pad_token_id` to `eos_token_id`:None for open-end generation.\n"
     ]
    },
    {
     "name": "stdout",
     "output_type": "stream",
     "text": [
      "Prompt: [INST] 25 es igual a [/INST]\n",
      "Respuesta: [INST] 25 es igual a [/INST]\n",
      "\n",
      "to 25 esugur a [/\n",
      "Recompensa: -16\n",
      "Prompt: [INST] 28 es igual a [/INST]\n",
      "Respuesta: [INST] 28 es igual a [/INST] 28 es\", 28]];\n",
      "\n",
      "for\n",
      "Recompensa: -19\n"
     ]
    },
    {
     "name": "stderr",
     "output_type": "stream",
     "text": [
      "/home/aurora/miniconda3/lib/python3.11/site-packages/trl/trainer/ppo_trainer.py:1313: UserWarning: KL divergence is starting to become negative: -20.83 - this might be a precursor for failed training. sometimes this happens because the generation kwargs are not correctly set. Please make sure that the generation kwargs are set correctly, or review your training hyperparameters.\n",
      "  warnings.warn(\n",
      "Setting `pad_token_id` to `eos_token_id`:None for open-end generation.\n",
      "/home/aurora/miniconda3/lib/python3.11/site-packages/trl/trainer/ppo_trainer.py:1313: UserWarning: KL divergence is starting to become negative: -38.45 - this might be a precursor for failed training. sometimes this happens because the generation kwargs are not correctly set. Please make sure that the generation kwargs are set correctly, or review your training hyperparameters.\n",
      "  warnings.warn(\n",
      "Setting `pad_token_id` to `eos_token_id`:None for open-end generation.\n"
     ]
    },
    {
     "name": "stdout",
     "output_type": "stream",
     "text": [
      "Prompt: [INST] 31 es igual a [/INST]\n",
      "Respuesta: [INST] 31 es igual a [/INST] LA 01 L 31 LB 31\n",
      "\n",
      "L\n",
      "Recompensa: -22\n",
      "Prompt: [INST] 34 es igual a [/INST]\n",
      "Respuesta: [INST] 34 es igual a [/INST] 34 es ig]bas] ig] b\n",
      "Recompensa: -25\n"
     ]
    },
    {
     "name": "stderr",
     "output_type": "stream",
     "text": [
      "Setting `pad_token_id` to `eos_token_id`:None for open-end generation.\n",
      "/home/aurora/miniconda3/lib/python3.11/site-packages/trl/trainer/ppo_trainer.py:1313: UserWarning: KL divergence is starting to become negative: -37.12 - this might be a precursor for failed training. sometimes this happens because the generation kwargs are not correctly set. Please make sure that the generation kwargs are set correctly, or review your training hyperparameters.\n",
      "  warnings.warn(\n",
      "Setting `pad_token_id` to `eos_token_id`:None for open-end generation.\n"
     ]
    },
    {
     "name": "stdout",
     "output_type": "stream",
     "text": [
      "Prompt: [INST] 37 es igual a [/INST]\n",
      "Respuesta: [INST] 37 es igual a [/INST] [] Jan 01 00:04:03 sr\n",
      "Recompensa: -28\n",
      "Prompt: [INST] 40 es igual a [/INST]\n",
      "Respuesta: [INST] 40 es igual a [/INST]?ld?[/-E]? [/\n",
      "Recompensa: -31\n"
     ]
    },
    {
     "name": "stderr",
     "output_type": "stream",
     "text": [
      "Setting `pad_token_id` to `eos_token_id`:None for open-end generation.\n",
      "/home/aurora/miniconda3/lib/python3.11/site-packages/trl/trainer/ppo_trainer.py:1313: UserWarning: KL divergence is starting to become negative: -12.98 - this might be a precursor for failed training. sometimes this happens because the generation kwargs are not correctly set. Please make sure that the generation kwargs are set correctly, or review your training hyperparameters.\n",
      "  warnings.warn(\n",
      "Setting `pad_token_id` to `eos_token_id`:None for open-end generation.\n"
     ]
    },
    {
     "name": "stdout",
     "output_type": "stream",
     "text": [
      "Prompt: [INST] 43 es igual a [/INST]\n",
      "Respuesta: [INST] 43 es igual a [/INST] [/INST]], [/INST]]]\n",
      "Recompensa: -34\n"
     ]
    },
    {
     "name": "stderr",
     "output_type": "stream",
     "text": [
      "/home/aurora/miniconda3/lib/python3.11/site-packages/trl/trainer/ppo_trainer.py:1313: UserWarning: KL divergence is starting to become negative: -34.98 - this might be a precursor for failed training. sometimes this happens because the generation kwargs are not correctly set. Please make sure that the generation kwargs are set correctly, or review your training hyperparameters.\n",
      "  warnings.warn(\n",
      "Setting `pad_token_id` to `eos_token_id`:None for open-end generation.\n"
     ]
    },
    {
     "name": "stdout",
     "output_type": "stream",
     "text": [
      "Prompt: [INST] 46 es igual a [/INST]\n",
      "Respuesta: [INST] 46 es igual a [/INST] 46 es ig a [/INST 46\") [/\n",
      "Recompensa: -37\n"
     ]
    },
    {
     "name": "stderr",
     "output_type": "stream",
     "text": [
      "/home/aurora/miniconda3/lib/python3.11/site-packages/trl/trainer/ppo_trainer.py:1313: UserWarning: KL divergence is starting to become negative: -33.91 - this might be a precursor for failed training. sometimes this happens because the generation kwargs are not correctly set. Please make sure that the generation kwargs are set correctly, or review your training hyperparameters.\n",
      "  warnings.warn(\n",
      "Setting `pad_token_id` to `eos_token_id`:None for open-end generation.\n"
     ]
    },
    {
     "name": "stdout",
     "output_type": "stream",
     "text": [
      "Prompt: [INST] 49 es igual a [/INST]\n",
      "Respuesta: [INST] 49 es igual a [/INST] {EVERYL a}{E ig\n",
      "Recompensa: -40\n"
     ]
    },
    {
     "name": "stderr",
     "output_type": "stream",
     "text": [
      "/home/aurora/miniconda3/lib/python3.11/site-packages/trl/trainer/ppo_trainer.py:1313: UserWarning: KL divergence is starting to become negative: -66.08 - this might be a precursor for failed training. sometimes this happens because the generation kwargs are not correctly set. Please make sure that the generation kwargs are set correctly, or review your training hyperparameters.\n",
      "  warnings.warn(\n",
      "Setting `pad_token_id` to `eos_token_id`:None for open-end generation.\n"
     ]
    },
    {
     "name": "stdout",
     "output_type": "stream",
     "text": [
      "Prompt: [INST] 10 es igual a [/INST]\n",
      "Respuesta: [INST] 10 es igual a [/INST], igual es10,\n",
      "\n",
      "INST\n",
      "Recompensa: -1\n"
     ]
    },
    {
     "name": "stderr",
     "output_type": "stream",
     "text": [
      "/home/aurora/miniconda3/lib/python3.11/site-packages/trl/trainer/ppo_trainer.py:1313: UserWarning: KL divergence is starting to become negative: -50.68 - this might be a precursor for failed training. sometimes this happens because the generation kwargs are not correctly set. Please make sure that the generation kwargs are set correctly, or review your training hyperparameters.\n",
      "  warnings.warn(\n",
      "Setting `pad_token_id` to `eos_token_id`:None for open-end generation.\n"
     ]
    },
    {
     "name": "stdout",
     "output_type": "stream",
     "text": [
      "Prompt: [INST] 13 es igual a [/INST]\n",
      "Respuesta: [INST] 13 es igual a [/INST] 13 es.)\n",
      "\n",
      "\n",
      "13 esse\n",
      "Recompensa: -4\n",
      "Prompt: [INST] 16 es igual a [/INST]\n",
      "Respuesta: [INST] 16 es igual a [/INST]\n",
      "\n",
      "JoinKingdom16 Join |UT\n",
      "Recompensa: -7\n"
     ]
    },
    {
     "name": "stderr",
     "output_type": "stream",
     "text": [
      "/home/aurora/miniconda3/lib/python3.11/site-packages/trl/trainer/ppo_trainer.py:1313: UserWarning: KL divergence is starting to become negative: -16.26 - this might be a precursor for failed training. sometimes this happens because the generation kwargs are not correctly set. Please make sure that the generation kwargs are set correctly, or review your training hyperparameters.\n",
      "  warnings.warn(\n",
      "Setting `pad_token_id` to `eos_token_id`:None for open-end generation.\n",
      "/home/aurora/miniconda3/lib/python3.11/site-packages/trl/trainer/ppo_trainer.py:1313: UserWarning: KL divergence is starting to become negative: -30.51 - this might be a precursor for failed training. sometimes this happens because the generation kwargs are not correctly set. Please make sure that the generation kwargs are set correctly, or review your training hyperparameters.\n",
      "  warnings.warn(\n",
      "Setting `pad_token_id` to `eos_token_id`:None for open-end generation.\n"
     ]
    },
    {
     "name": "stdout",
     "output_type": "stream",
     "text": [
      "Prompt: [INST] 19 es igual a [/INST]\n",
      "Respuesta: [INST] 19 es igual a [/INST], first creased, first creased,\n",
      "Recompensa: -10\n"
     ]
    },
    {
     "name": "stderr",
     "output_type": "stream",
     "text": [
      "/home/aurora/miniconda3/lib/python3.11/site-packages/trl/trainer/ppo_trainer.py:1313: UserWarning: KL divergence is starting to become negative: -17.74 - this might be a precursor for failed training. sometimes this happens because the generation kwargs are not correctly set. Please make sure that the generation kwargs are set correctly, or review your training hyperparameters.\n",
      "  warnings.warn(\n",
      "Setting `pad_token_id` to `eos_token_id`:None for open-end generation.\n"
     ]
    },
    {
     "name": "stdout",
     "output_type": "stream",
     "text": [
      "Prompt: [INST] 22 es igual a [/INST]\n",
      "Respuesta: [INST] 22 es igual a [/INST] [-1,]set]EQ[/\n",
      "Recompensa: -13\n",
      "Prompt: [INST] 25 es igual a [/INST]\n",
      "Respuesta: [INST] 25 es igual a [/INST] 25 25] 25] 25 igual a\n",
      "Recompensa: -16\n"
     ]
    },
    {
     "name": "stderr",
     "output_type": "stream",
     "text": [
      "/home/aurora/miniconda3/lib/python3.11/site-packages/trl/trainer/ppo_trainer.py:1313: UserWarning: KL divergence is starting to become negative: -47.07 - this might be a precursor for failed training. sometimes this happens because the generation kwargs are not correctly set. Please make sure that the generation kwargs are set correctly, or review your training hyperparameters.\n",
      "  warnings.warn(\n",
      "Setting `pad_token_id` to `eos_token_id`:None for open-end generation.\n",
      "/home/aurora/miniconda3/lib/python3.11/site-packages/trl/trainer/ppo_trainer.py:1313: UserWarning: KL divergence is starting to become negative: -28.71 - this might be a precursor for failed training. sometimes this happens because the generation kwargs are not correctly set. Please make sure that the generation kwargs are set correctly, or review your training hyperparameters.\n",
      "  warnings.warn(\n",
      "Setting `pad_token_id` to `eos_token_id`:None for open-end generation.\n"
     ]
    },
    {
     "name": "stdout",
     "output_type": "stream",
     "text": [
      "Prompt: [INST] 28 es igual a [/INST]\n",
      "Respuesta: [INST] 28 es igual a [/INST] 28 Aug]\n",
      "\n",
      "28 Aug, 2017\n",
      "Recompensa: -19\n",
      "Prompt: [INST] 31 es igual a [/INST]\n",
      "Respuesta: [INST] 31 es igual a [/INST] 31 ?INST]? 01 es?INST\n",
      "Recompensa: -22\n"
     ]
    },
    {
     "name": "stderr",
     "output_type": "stream",
     "text": [
      "Setting `pad_token_id` to `eos_token_id`:None for open-end generation.\n",
      "/home/aurora/miniconda3/lib/python3.11/site-packages/trl/trainer/ppo_trainer.py:1313: UserWarning: KL divergence is starting to become negative: -32.42 - this might be a precursor for failed training. sometimes this happens because the generation kwargs are not correctly set. Please make sure that the generation kwargs are set correctly, or review your training hyperparameters.\n",
      "  warnings.warn(\n",
      "Setting `pad_token_id` to `eos_token_id`:None for open-end generation.\n"
     ]
    },
    {
     "name": "stdout",
     "output_type": "stream",
     "text": [
      "Prompt: [INST] 34 es igual a [/INST]\n",
      "Respuesta: [INST] 34 es igual a [/INST] 34 es [/INST] 34 [/adds\n",
      "Recompensa: -25\n"
     ]
    },
    {
     "name": "stderr",
     "output_type": "stream",
     "text": [
      "/home/aurora/miniconda3/lib/python3.11/site-packages/trl/trainer/ppo_trainer.py:1313: UserWarning: KL divergence is starting to become negative: -17.89 - this might be a precursor for failed training. sometimes this happens because the generation kwargs are not correctly set. Please make sure that the generation kwargs are set correctly, or review your training hyperparameters.\n",
      "  warnings.warn(\n",
      "Setting `pad_token_id` to `eos_token_id`:None for open-end generation.\n"
     ]
    },
    {
     "name": "stdout",
     "output_type": "stream",
     "text": [
      "Prompt: [INST] 37 es igual a [/INST]\n",
      "Respuesta: [INST] 37 es igual a [/INST]\"?: 37 es igual a?=\n",
      "Recompensa: -28\n"
     ]
    },
    {
     "name": "stderr",
     "output_type": "stream",
     "text": [
      "/home/aurora/miniconda3/lib/python3.11/site-packages/trl/trainer/ppo_trainer.py:1313: UserWarning: KL divergence is starting to become negative: -29.08 - this might be a precursor for failed training. sometimes this happens because the generation kwargs are not correctly set. Please make sure that the generation kwargs are set correctly, or review your training hyperparameters.\n",
      "  warnings.warn(\n",
      "Setting `pad_token_id` to `eos_token_id`:None for open-end generation.\n"
     ]
    },
    {
     "name": "stdout",
     "output_type": "stream",
     "text": [
      "Prompt: [INST] 40 es igual a [/INST]\n",
      "Respuesta: [INST] 40 es igual a [/INST]\n",
      "\n",
      "+\n",
      "\n",
      "+ /\n",
      "\n",
      "\n",
      "Recompensa: -31\n",
      "Prompt: [INST] 43 es igual a [/INST]\n",
      "Respuesta: [INST] 43 es igual a [/INST][\"];] ig];] ig? ig\n",
      "Recompensa: -34\n"
     ]
    },
    {
     "name": "stderr",
     "output_type": "stream",
     "text": [
      "Setting `pad_token_id` to `eos_token_id`:None for open-end generation.\n",
      "/home/aurora/miniconda3/lib/python3.11/site-packages/trl/trainer/ppo_trainer.py:1313: UserWarning: KL divergence is starting to become negative: -13.09 - this might be a precursor for failed training. sometimes this happens because the generation kwargs are not correctly set. Please make sure that the generation kwargs are set correctly, or review your training hyperparameters.\n",
      "  warnings.warn(\n",
      "Setting `pad_token_id` to `eos_token_id`:None for open-end generation.\n"
     ]
    },
    {
     "name": "stdout",
     "output_type": "stream",
     "text": [
      "Prompt: [INST] 46 es igual a [/INST]\n",
      "Respuesta: [INST] 46 es igual a [/INST] bdh es: es]: 1 es es\n",
      "Recompensa: -37\n"
     ]
    },
    {
     "name": "stderr",
     "output_type": "stream",
     "text": [
      "/home/aurora/miniconda3/lib/python3.11/site-packages/trl/trainer/ppo_trainer.py:1313: UserWarning: KL divergence is starting to become negative: -6.45 - this might be a precursor for failed training. sometimes this happens because the generation kwargs are not correctly set. Please make sure that the generation kwargs are set correctly, or review your training hyperparameters.\n",
      "  warnings.warn(\n",
      "Setting `pad_token_id` to `eos_token_id`:None for open-end generation.\n"
     ]
    },
    {
     "name": "stdout",
     "output_type": "stream",
     "text": [
      "Prompt: [INST] 49 es igual a [/INST]\n",
      "Respuesta: [INST] 49 es igual a [/INST] [/INST]] [/ [/INST][INST\n",
      "Recompensa: -40\n"
     ]
    },
    {
     "name": "stderr",
     "output_type": "stream",
     "text": [
      "/home/aurora/miniconda3/lib/python3.11/site-packages/trl/trainer/ppo_trainer.py:1313: UserWarning: KL divergence is starting to become negative: -10.90 - this might be a precursor for failed training. sometimes this happens because the generation kwargs are not correctly set. Please make sure that the generation kwargs are set correctly, or review your training hyperparameters.\n",
      "  warnings.warn(\n",
      "Setting `pad_token_id` to `eos_token_id`:None for open-end generation.\n"
     ]
    },
    {
     "name": "stdout",
     "output_type": "stream",
     "text": [
      "Prompt: [INST] 10 es igual a [/INST]\n",
      "Respuesta: [INST] 10 es igual a [/INST] );\n",
      "\\ 10\n",
      "\\INST\n",
      "\\\n",
      "Recompensa: -1\n"
     ]
    },
    {
     "name": "stderr",
     "output_type": "stream",
     "text": [
      "/home/aurora/miniconda3/lib/python3.11/site-packages/trl/trainer/ppo_trainer.py:1313: UserWarning: KL divergence is starting to become negative: -46.47 - this might be a precursor for failed training. sometimes this happens because the generation kwargs are not correctly set. Please make sure that the generation kwargs are set correctly, or review your training hyperparameters.\n",
      "  warnings.warn(\n",
      "Setting `pad_token_id` to `eos_token_id`:None for open-end generation.\n"
     ]
    },
    {
     "name": "stdout",
     "output_type": "stream",
     "text": [
      "Prompt: [INST] 13 es igual a [/INST]\n",
      "Respuesta: [INST] 13 es igual a [/INST] 13 inficio a /INST will abizz\n",
      "Recompensa: -4\n"
     ]
    },
    {
     "name": "stderr",
     "output_type": "stream",
     "text": [
      "/home/aurora/miniconda3/lib/python3.11/site-packages/trl/trainer/ppo_trainer.py:1313: UserWarning: KL divergence is starting to become negative: -33.90 - this might be a precursor for failed training. sometimes this happens because the generation kwargs are not correctly set. Please make sure that the generation kwargs are set correctly, or review your training hyperparameters.\n",
      "  warnings.warn(\n",
      "Setting `pad_token_id` to `eos_token_id`:None for open-end generation.\n"
     ]
    },
    {
     "name": "stdout",
     "output_type": "stream",
     "text": [
      "Prompt: [INST] 16 es igual a [/INST]\n",
      "Respuesta: [INST] 16 es igual a [/INST] 16 [/FORMAT] 16}] 16\n",
      "Recompensa: -7\n"
     ]
    },
    {
     "name": "stderr",
     "output_type": "stream",
     "text": [
      "/home/aurora/miniconda3/lib/python3.11/site-packages/trl/trainer/ppo_trainer.py:1313: UserWarning: KL divergence is starting to become negative: -19.71 - this might be a precursor for failed training. sometimes this happens because the generation kwargs are not correctly set. Please make sure that the generation kwargs are set correctly, or review your training hyperparameters.\n",
      "  warnings.warn(\n",
      "Setting `pad_token_id` to `eos_token_id`:None for open-end generation.\n"
     ]
    },
    {
     "name": "stdout",
     "output_type": "stream",
     "text": [
      "Prompt: [INST] 19 es igual a [/INST]\n",
      "Respuesta: [INST] 19 es igual a [/INST] nick, ~ - /? [@]\n",
      "Recompensa: -10\n"
     ]
    },
    {
     "name": "stderr",
     "output_type": "stream",
     "text": [
      "/home/aurora/miniconda3/lib/python3.11/site-packages/trl/trainer/ppo_trainer.py:1313: UserWarning: KL divergence is starting to become negative: -24.18 - this might be a precursor for failed training. sometimes this happens because the generation kwargs are not correctly set. Please make sure that the generation kwargs are set correctly, or review your training hyperparameters.\n",
      "  warnings.warn(\n",
      "Setting `pad_token_id` to `eos_token_id`:None for open-end generation.\n"
     ]
    },
    {
     "name": "stdout",
     "output_type": "stream",
     "text": [
      "Prompt: [INST] 22 es igual a [/INST]\n",
      "Respuesta: [INST] 22 es igual a [/INST][+]);[/]]:[/[/[\n",
      "Recompensa: -13\n"
     ]
    },
    {
     "name": "stderr",
     "output_type": "stream",
     "text": [
      "/home/aurora/miniconda3/lib/python3.11/site-packages/trl/trainer/ppo_trainer.py:1313: UserWarning: KL divergence is starting to become negative: -16.69 - this might be a precursor for failed training. sometimes this happens because the generation kwargs are not correctly set. Please make sure that the generation kwargs are set correctly, or review your training hyperparameters.\n",
      "  warnings.warn(\n",
      "Setting `pad_token_id` to `eos_token_id`:None for open-end generation.\n"
     ]
    },
    {
     "name": "stdout",
     "output_type": "stream",
     "text": [
      "Prompt: [INST] 25 es igual a [/INST]\n",
      "Respuesta: [INST] 25 es igual a [/INST]--[IF] &[/INST]-\n",
      "Recompensa: -16\n",
      "Prompt: [INST] 28 es igual a [/INST]\n",
      "Respuesta: [INST] 28 es igual a [/INST] 28 es ig] 28] Feb]\n",
      "\n",
      "Recompensa: -19\n"
     ]
    },
    {
     "name": "stderr",
     "output_type": "stream",
     "text": [
      "Setting `pad_token_id` to `eos_token_id`:None for open-end generation.\n",
      "/home/aurora/miniconda3/lib/python3.11/site-packages/trl/trainer/ppo_trainer.py:1313: UserWarning: KL divergence is starting to become negative: -67.03 - this might be a precursor for failed training. sometimes this happens because the generation kwargs are not correctly set. Please make sure that the generation kwargs are set correctly, or review your training hyperparameters.\n",
      "  warnings.warn(\n",
      "Setting `pad_token_id` to `eos_token_id`:None for open-end generation.\n"
     ]
    },
    {
     "name": "stdout",
     "output_type": "stream",
     "text": [
      "Prompt: [INST] 31 es igual a [/INST]\n",
      "Respuesta: [INST] 31 es igual a [/INST] 01 NEAR GAA++++++ 01 NE\n",
      "Recompensa: -22\n",
      "Prompt: [INST] 34 es igual a [/INST]\n",
      "Respuesta: [INST] 34 es igual a [/INST] 34 ex-DES] 34 es igils\n",
      "Recompensa: -25\n"
     ]
    },
    {
     "name": "stderr",
     "output_type": "stream",
     "text": [
      "/home/aurora/miniconda3/lib/python3.11/site-packages/trl/trainer/ppo_trainer.py:1313: UserWarning: KL divergence is starting to become negative: -39.58 - this might be a precursor for failed training. sometimes this happens because the generation kwargs are not correctly set. Please make sure that the generation kwargs are set correctly, or review your training hyperparameters.\n",
      "  warnings.warn(\n",
      "Setting `pad_token_id` to `eos_token_id`:None for open-end generation.\n",
      "Setting `pad_token_id` to `eos_token_id`:None for open-end generation.\n"
     ]
    },
    {
     "name": "stdout",
     "output_type": "stream",
     "text": [
      "Prompt: [INST] 37 es igual a [/INST]\n",
      "Respuesta: [INST] 37 es igual a [/INST] b] [/ES] 37 es]?\n",
      "Recompensa: -28\n",
      "Prompt: [INST] 40 es igual a [/INST]\n",
      "Respuesta: [INST] 40 es igual a [/INST]]; 40 es igual [/ES]); 41\n",
      "Recompensa: -31\n"
     ]
    },
    {
     "name": "stderr",
     "output_type": "stream",
     "text": [
      "/home/aurora/miniconda3/lib/python3.11/site-packages/trl/trainer/ppo_trainer.py:1313: UserWarning: KL divergence is starting to become negative: -31.78 - this might be a precursor for failed training. sometimes this happens because the generation kwargs are not correctly set. Please make sure that the generation kwargs are set correctly, or review your training hyperparameters.\n",
      "  warnings.warn(\n",
      "Setting `pad_token_id` to `eos_token_id`:None for open-end generation.\n",
      "Setting `pad_token_id` to `eos_token_id`:None for open-end generation.\n"
     ]
    },
    {
     "name": "stdout",
     "output_type": "stream",
     "text": [
      "Prompt: [INST] 43 es igual a [/INST]\n",
      "Respuesta: [INST] 43 es igual a [/INST]] [/af] 43 es?\n",
      "te\n",
      "Recompensa: -34\n"
     ]
    },
    {
     "name": "stderr",
     "output_type": "stream",
     "text": [
      "Setting `pad_token_id` to `eos_token_id`:None for open-end generation.\n"
     ]
    },
    {
     "name": "stdout",
     "output_type": "stream",
     "text": [
      "Prompt: [INST] 46 es igual a [/INST]\n",
      "Respuesta: [INST] 46 es igual a [/INST] 49 es?]) 51\n",
      "\n",
      "Topics:\n",
      "Recompensa: -37\n"
     ]
    },
    {
     "name": "stderr",
     "output_type": "stream",
     "text": [
      "/home/aurora/miniconda3/lib/python3.11/site-packages/trl/trainer/ppo_trainer.py:1313: UserWarning: KL divergence is starting to become negative: -17.58 - this might be a precursor for failed training. sometimes this happens because the generation kwargs are not correctly set. Please make sure that the generation kwargs are set correctly, or review your training hyperparameters.\n",
      "  warnings.warn(\n",
      "Setting `pad_token_id` to `eos_token_id`:None for open-end generation.\n"
     ]
    },
    {
     "name": "stdout",
     "output_type": "stream",
     "text": [
      "Prompt: [INST] 49 es igual a [/INST]\n",
      "Respuesta: [INST] 49 es igual a [/INST]\n",
      "\n",
      "INST[/INST]\n",
      "\n",
      "\n",
      "\n",
      "Recompensa: -40\n"
     ]
    },
    {
     "name": "stderr",
     "output_type": "stream",
     "text": [
      "Setting `pad_token_id` to `eos_token_id`:None for open-end generation.\n"
     ]
    },
    {
     "name": "stdout",
     "output_type": "stream",
     "text": [
      "Prompt: [INST] 10 es igual a [/INST]\n",
      "Respuesta: [INST] 10 es igual a [/INST]\n",
      "\n",
      "this],\"NOW],\"NOW],\"NOW\n",
      "Recompensa: -1\n",
      "Prompt: [INST] 13 es igual a [/INST]\n",
      "Respuesta: [INST] 13 es igual a [/INST] voc voc voc]; voc voc voc; →\n",
      "Recompensa: -4\n"
     ]
    },
    {
     "name": "stderr",
     "output_type": "stream",
     "text": [
      "/home/aurora/miniconda3/lib/python3.11/site-packages/trl/trainer/ppo_trainer.py:1313: UserWarning: KL divergence is starting to become negative: -32.13 - this might be a precursor for failed training. sometimes this happens because the generation kwargs are not correctly set. Please make sure that the generation kwargs are set correctly, or review your training hyperparameters.\n",
      "  warnings.warn(\n",
      "Setting `pad_token_id` to `eos_token_id`:None for open-end generation.\n",
      "/home/aurora/miniconda3/lib/python3.11/site-packages/trl/trainer/ppo_trainer.py:1313: UserWarning: KL divergence is starting to become negative: -26.77 - this might be a precursor for failed training. sometimes this happens because the generation kwargs are not correctly set. Please make sure that the generation kwargs are set correctly, or review your training hyperparameters.\n",
      "  warnings.warn(\n",
      "Setting `pad_token_id` to `eos_token_id`:None for open-end generation.\n"
     ]
    },
    {
     "name": "stdout",
     "output_type": "stream",
     "text": [
      "Prompt: [INST] 16 es igual a [/INST]\n",
      "Respuesta: [INST] 16 es igual a [/INST]&IG&INSTlands&lf&OF\n",
      "Recompensa: -7\n",
      "Prompt: [INST] 19 es igual a [/INST]\n",
      "Respuesta: [INST] 19 es igual a [/INST] [/INST] OP /FIRST /FIR\n",
      "Recompensa: -10\n"
     ]
    },
    {
     "name": "stderr",
     "output_type": "stream",
     "text": [
      "/home/aurora/miniconda3/lib/python3.11/site-packages/trl/trainer/ppo_trainer.py:1313: UserWarning: KL divergence is starting to become negative: -48.57 - this might be a precursor for failed training. sometimes this happens because the generation kwargs are not correctly set. Please make sure that the generation kwargs are set correctly, or review your training hyperparameters.\n",
      "  warnings.warn(\n",
      "Setting `pad_token_id` to `eos_token_id`:None for open-end generation.\n",
      "/home/aurora/miniconda3/lib/python3.11/site-packages/trl/trainer/ppo_trainer.py:1313: UserWarning: KL divergence is starting to become negative: -63.78 - this might be a precursor for failed training. sometimes this happens because the generation kwargs are not correctly set. Please make sure that the generation kwargs are set correctly, or review your training hyperparameters.\n",
      "  warnings.warn(\n",
      "Setting `pad_token_id` to `eos_token_id`:None for open-end generation.\n"
     ]
    },
    {
     "name": "stdout",
     "output_type": "stream",
     "text": [
      "Prompt: [INST] 22 es igual a [/INST]\n",
      "Respuesta: [INST] 22 es igual a [/INST] 22 moot igoberoberoberoberober [/\n",
      "Recompensa: -13\n",
      "Prompt: [INST] 25 es igual a [/INST]\n",
      "Respuesta: [INST] 25 es igual a [/INST] 25 mod 25 NOR AM 25 mod mod mod\n",
      "Recompensa: -16\n"
     ]
    },
    {
     "name": "stderr",
     "output_type": "stream",
     "text": [
      "/home/aurora/miniconda3/lib/python3.11/site-packages/trl/trainer/ppo_trainer.py:1313: UserWarning: KL divergence is starting to become negative: -67.99 - this might be a precursor for failed training. sometimes this happens because the generation kwargs are not correctly set. Please make sure that the generation kwargs are set correctly, or review your training hyperparameters.\n",
      "  warnings.warn(\n",
      "Setting `pad_token_id` to `eos_token_id`:None for open-end generation.\n",
      "/home/aurora/miniconda3/lib/python3.11/site-packages/trl/trainer/ppo_trainer.py:1313: UserWarning: KL divergence is starting to become negative: -83.01 - this might be a precursor for failed training. sometimes this happens because the generation kwargs are not correctly set. Please make sure that the generation kwargs are set correctly, or review your training hyperparameters.\n",
      "  warnings.warn(\n",
      "Setting `pad_token_id` to `eos_token_id`:None for open-end generation.\n"
     ]
    },
    {
     "name": "stdout",
     "output_type": "stream",
     "text": [
      "Prompt: [INST] 28 es igual a [/INST]\n",
      "Respuesta: [INST] 28 es igual a [/INST] 28 es\n",
      "28 es\n",
      "28 es ig\n",
      "Recompensa: -19\n",
      "Prompt: [INST] 31 es igual a [/INST]\n",
      "Respuesta: [INST] 31 es igual a [/INST] 01 fr iglv [/INST] 01 01\n",
      "Recompensa: -22\n"
     ]
    },
    {
     "name": "stderr",
     "output_type": "stream",
     "text": [
      "/home/aurora/miniconda3/lib/python3.11/site-packages/trl/trainer/ppo_trainer.py:1313: UserWarning: KL divergence is starting to become negative: -37.10 - this might be a precursor for failed training. sometimes this happens because the generation kwargs are not correctly set. Please make sure that the generation kwargs are set correctly, or review your training hyperparameters.\n",
      "  warnings.warn(\n",
      "Setting `pad_token_id` to `eos_token_id`:None for open-end generation.\n",
      "/home/aurora/miniconda3/lib/python3.11/site-packages/trl/trainer/ppo_trainer.py:1313: UserWarning: KL divergence is starting to become negative: -49.58 - this might be a precursor for failed training. sometimes this happens because the generation kwargs are not correctly set. Please make sure that the generation kwargs are set correctly, or review your training hyperparameters.\n",
      "  warnings.warn(\n",
      "Setting `pad_token_id` to `eos_token_id`:None for open-end generation.\n"
     ]
    },
    {
     "name": "stdout",
     "output_type": "stream",
     "text": [
      "Prompt: [INST] 34 es igual a [/INST]\n",
      "Respuesta: [INST] 34 es igual a [/INST] 34 esall ig:nobie esbl\n",
      "Recompensa: -25\n",
      "Prompt: [INST] 37 es igual a [/INST]\n",
      "Respuesta: [INST] 37 es igual a [/INST] [/body] [guard])\n",
      "\n",
      "guard\n",
      "Recompensa: -28\n"
     ]
    },
    {
     "name": "stderr",
     "output_type": "stream",
     "text": [
      "/home/aurora/miniconda3/lib/python3.11/site-packages/trl/trainer/ppo_trainer.py:1313: UserWarning: KL divergence is starting to become negative: -23.39 - this might be a precursor for failed training. sometimes this happens because the generation kwargs are not correctly set. Please make sure that the generation kwargs are set correctly, or review your training hyperparameters.\n",
      "  warnings.warn(\n",
      "Setting `pad_token_id` to `eos_token_id`:None for open-end generation.\n",
      "Setting `pad_token_id` to `eos_token_id`:None for open-end generation.\n"
     ]
    },
    {
     "name": "stdout",
     "output_type": "stream",
     "text": [
      "Prompt: [INST] 40 es igual a [/INST]\n",
      "Respuesta: [INST] 40 es igual a [/INST]?=?=?=] [INST\n",
      "Recompensa: -31\n",
      "Prompt: [INST] 43 es igual a [/INST]\n",
      "Respuesta: [INST] 43 es igual a [/INST] 43 es ig-s-man-man\n",
      "Recompensa: -34\n"
     ]
    },
    {
     "name": "stderr",
     "output_type": "stream",
     "text": [
      "Setting `pad_token_id` to `eos_token_id`:None for open-end generation.\n",
      "/home/aurora/miniconda3/lib/python3.11/site-packages/trl/trainer/ppo_trainer.py:1313: UserWarning: KL divergence is starting to become negative: -26.46 - this might be a precursor for failed training. sometimes this happens because the generation kwargs are not correctly set. Please make sure that the generation kwargs are set correctly, or review your training hyperparameters.\n",
      "  warnings.warn(\n",
      "Setting `pad_token_id` to `eos_token_id`:None for open-end generation.\n"
     ]
    },
    {
     "name": "stdout",
     "output_type": "stream",
     "text": [
      "Prompt: [INST] 46 es igual a [/INST]\n",
      "Respuesta: [INST] 46 es igual a [/INST] [/\n",
      "\n",
      "midget ] DE LE ig\n",
      "Recompensa: -37\n",
      "Prompt: [INST] 49 es igual a [/INST]\n",
      "Respuesta: [INST] 49 es igual a [/INST] 49 num-w num- Lew] 49\n",
      "Recompensa: -40\n"
     ]
    },
    {
     "name": "stderr",
     "output_type": "stream",
     "text": [
      "/home/aurora/miniconda3/lib/python3.11/site-packages/trl/trainer/ppo_trainer.py:1313: UserWarning: KL divergence is starting to become negative: -10.32 - this might be a precursor for failed training. sometimes this happens because the generation kwargs are not correctly set. Please make sure that the generation kwargs are set correctly, or review your training hyperparameters.\n",
      "  warnings.warn(\n",
      "Setting `pad_token_id` to `eos_token_id`:None for open-end generation.\n",
      "/home/aurora/miniconda3/lib/python3.11/site-packages/trl/trainer/ppo_trainer.py:1313: UserWarning: KL divergence is starting to become negative: -66.09 - this might be a precursor for failed training. sometimes this happens because the generation kwargs are not correctly set. Please make sure that the generation kwargs are set correctly, or review your training hyperparameters.\n",
      "  warnings.warn(\n",
      "Setting `pad_token_id` to `eos_token_id`:None for open-end generation.\n"
     ]
    },
    {
     "name": "stdout",
     "output_type": "stream",
     "text": [
      "Prompt: [INST] 10 es igual a [/INST]\n",
      "Respuesta: [INST] 10 es igual a [/INST] 10 es [/FORINST]); 10\n",
      "10\n",
      "Recompensa: -1\n",
      "Prompt: [INST] 13 es igual a [/INST]\n",
      "Respuesta: [INST] 13 es igual a [/INST],INST,,-INST,INST]INST\n",
      "Recompensa: -4\n"
     ]
    },
    {
     "name": "stderr",
     "output_type": "stream",
     "text": [
      "/home/aurora/miniconda3/lib/python3.11/site-packages/trl/trainer/ppo_trainer.py:1313: UserWarning: KL divergence is starting to become negative: -22.27 - this might be a precursor for failed training. sometimes this happens because the generation kwargs are not correctly set. Please make sure that the generation kwargs are set correctly, or review your training hyperparameters.\n",
      "  warnings.warn(\n",
      "Setting `pad_token_id` to `eos_token_id`:None for open-end generation.\n",
      "/home/aurora/miniconda3/lib/python3.11/site-packages/trl/trainer/ppo_trainer.py:1313: UserWarning: KL divergence is starting to become negative: -37.33 - this might be a precursor for failed training. sometimes this happens because the generation kwargs are not correctly set. Please make sure that the generation kwargs are set correctly, or review your training hyperparameters.\n",
      "  warnings.warn(\n",
      "Setting `pad_token_id` to `eos_token_id`:None for open-end generation.\n"
     ]
    },
    {
     "name": "stdout",
     "output_type": "stream",
     "text": [
      "Prompt: [INST] 16 es igual a [/INST]\n",
      "Respuesta: [INST] 16 es igual a [/INST] |INST| |\n",
      "\n",
      "INST|ld\n",
      "Recompensa: -7\n",
      "Prompt: [INST] 19 es igual a [/INST]\n",
      "Respuesta: [INST] 19 es igual a [/INST] ? igyo es igyo subs / sep\n",
      "Recompensa: -10\n"
     ]
    },
    {
     "name": "stderr",
     "output_type": "stream",
     "text": [
      "/home/aurora/miniconda3/lib/python3.11/site-packages/trl/trainer/ppo_trainer.py:1313: UserWarning: KL divergence is starting to become negative: -61.97 - this might be a precursor for failed training. sometimes this happens because the generation kwargs are not correctly set. Please make sure that the generation kwargs are set correctly, or review your training hyperparameters.\n",
      "  warnings.warn(\n",
      "Setting `pad_token_id` to `eos_token_id`:None for open-end generation.\n",
      "/home/aurora/miniconda3/lib/python3.11/site-packages/trl/trainer/ppo_trainer.py:1313: UserWarning: KL divergence is starting to become negative: -14.67 - this might be a precursor for failed training. sometimes this happens because the generation kwargs are not correctly set. Please make sure that the generation kwargs are set correctly, or review your training hyperparameters.\n",
      "  warnings.warn(\n",
      "Setting `pad_token_id` to `eos_token_id`:None for open-end generation.\n"
     ]
    },
    {
     "name": "stdout",
     "output_type": "stream",
     "text": [
      "Prompt: [INST] 22 es igual a [/INST]\n",
      "Respuesta: [INST] 22 es igual a [/INST][\"http://[OC]\"]]N\n",
      "Recompensa: -13\n",
      "Prompt: [INST] 25 es igual a [/INST]\n",
      "Respuesta: [INST] 25 es igual a [/INST]\n",
      "\n",
      "[L]\n",
      "\n",
      "NOR]\n",
      "Recompensa: -16\n"
     ]
    },
    {
     "name": "stderr",
     "output_type": "stream",
     "text": [
      "Setting `pad_token_id` to `eos_token_id`:None for open-end generation.\n",
      "/home/aurora/miniconda3/lib/python3.11/site-packages/trl/trainer/ppo_trainer.py:1313: UserWarning: KL divergence is starting to become negative: -39.36 - this might be a precursor for failed training. sometimes this happens because the generation kwargs are not correctly set. Please make sure that the generation kwargs are set correctly, or review your training hyperparameters.\n",
      "  warnings.warn(\n",
      "Setting `pad_token_id` to `eos_token_id`:None for open-end generation.\n"
     ]
    },
    {
     "name": "stdout",
     "output_type": "stream",
     "text": [
      "Prompt: [INST] 28 es igual a [/INST]\n",
      "Respuesta: [INST] 28 es igual a [/INST] 28 es igual a?\n",
      "\n",
      "29\n",
      "Recompensa: -19\n",
      "Prompt: [INST] 31 es igual a [/INST]\n",
      "Respuesta: [INST] 31 es igual a [/INST] 31] [/INST]]] 31 n\n",
      "Recompensa: -22\n"
     ]
    },
    {
     "name": "stderr",
     "output_type": "stream",
     "text": [
      "/home/aurora/miniconda3/lib/python3.11/site-packages/trl/trainer/ppo_trainer.py:1313: UserWarning: KL divergence is starting to become negative: -16.38 - this might be a precursor for failed training. sometimes this happens because the generation kwargs are not correctly set. Please make sure that the generation kwargs are set correctly, or review your training hyperparameters.\n",
      "  warnings.warn(\n",
      "Setting `pad_token_id` to `eos_token_id`:None for open-end generation.\n",
      "/home/aurora/miniconda3/lib/python3.11/site-packages/trl/trainer/ppo_trainer.py:1313: UserWarning: KL divergence is starting to become negative: -36.97 - this might be a precursor for failed training. sometimes this happens because the generation kwargs are not correctly set. Please make sure that the generation kwargs are set correctly, or review your training hyperparameters.\n",
      "  warnings.warn(\n",
      "Setting `pad_token_id` to `eos_token_id`:None for open-end generation.\n"
     ]
    },
    {
     "name": "stdout",
     "output_type": "stream",
     "text": [
      "Prompt: [INST] 34 es igual a [/INST]\n",
      "Respuesta: [INST] 34 es igual a [/INST]]: ig ig igual\n",
      "<br>\n",
      "Recompensa: -25\n",
      "Prompt: [INST] 37 es igual a [/INST]\n",
      "Respuesta: [INST] 37 es igual a [/INST] quiet for eres]? != ab=\"\n",
      "Recompensa: -28\n"
     ]
    },
    {
     "name": "stderr",
     "output_type": "stream",
     "text": [
      "Setting `pad_token_id` to `eos_token_id`:None for open-end generation.\n",
      "/home/aurora/miniconda3/lib/python3.11/site-packages/trl/trainer/ppo_trainer.py:1313: UserWarning: KL divergence is starting to become negative: -15.70 - this might be a precursor for failed training. sometimes this happens because the generation kwargs are not correctly set. Please make sure that the generation kwargs are set correctly, or review your training hyperparameters.\n",
      "  warnings.warn(\n",
      "Setting `pad_token_id` to `eos_token_id`:None for open-end generation.\n"
     ]
    },
    {
     "name": "stdout",
     "output_type": "stream",
     "text": [
      "Prompt: [INST] 40 es igual a [/INST]\n",
      "Respuesta: [INST] 40 es igual a [/INST] 40 ig [/ 40\n",
      "\n",
      "then ig gif\n",
      "Recompensa: -31\n",
      "Prompt: [INST] 43 es igual a [/INST]\n",
      "Respuesta: [INST] 43 es igual a [/INST]?INST] 43 es ig??l\n",
      "Recompensa: -34\n"
     ]
    },
    {
     "name": "stderr",
     "output_type": "stream",
     "text": [
      "Setting `pad_token_id` to `eos_token_id`:None for open-end generation.\n",
      "/home/aurora/miniconda3/lib/python3.11/site-packages/trl/trainer/ppo_trainer.py:1313: UserWarning: KL divergence is starting to become negative: -55.65 - this might be a precursor for failed training. sometimes this happens because the generation kwargs are not correctly set. Please make sure that the generation kwargs are set correctly, or review your training hyperparameters.\n",
      "  warnings.warn(\n",
      "Setting `pad_token_id` to `eos_token_id`:None for open-end generation.\n"
     ]
    },
    {
     "name": "stdout",
     "output_type": "stream",
     "text": [
      "Prompt: [INST] 46 es igual a [/INST]\n",
      "Respuesta: [INST] 46 es igual a [/INST] INVERSE KE KEINES Feb 13\n",
      "Recompensa: -37\n",
      "Prompt: [INST] 49 es igual a [/INST]\n",
      "Respuesta: [INST] 49 es igual a [/INST] 49\n",
      "Recompensa: -40\n"
     ]
    },
    {
     "name": "stderr",
     "output_type": "stream",
     "text": [
      "Setting `pad_token_id` to `eos_token_id`:None for open-end generation.\n",
      "/home/aurora/miniconda3/lib/python3.11/site-packages/trl/trainer/ppo_trainer.py:1313: UserWarning: KL divergence is starting to become negative: -26.22 - this might be a precursor for failed training. sometimes this happens because the generation kwargs are not correctly set. Please make sure that the generation kwargs are set correctly, or review your training hyperparameters.\n",
      "  warnings.warn(\n",
      "Setting `pad_token_id` to `eos_token_id`:None for open-end generation.\n"
     ]
    },
    {
     "name": "stdout",
     "output_type": "stream",
     "text": [
      "Prompt: [INST] 10 es igual a [/INST]\n",
      "Respuesta: [INST] 10 es igual a [/INST] [/]\n",
      "Recompensa: -1\n",
      "Prompt: [INST] 13 es igual a [/INST]\n",
      "Respuesta: [INST] 13 es igual a [/INST] void es ig [/INST] ig [/ ig\n",
      "Recompensa: -4\n"
     ]
    },
    {
     "name": "stderr",
     "output_type": "stream",
     "text": [
      "/home/aurora/miniconda3/lib/python3.11/site-packages/trl/trainer/ppo_trainer.py:1313: UserWarning: KL divergence is starting to become negative: -68.82 - this might be a precursor for failed training. sometimes this happens because the generation kwargs are not correctly set. Please make sure that the generation kwargs are set correctly, or review your training hyperparameters.\n",
      "  warnings.warn(\n",
      "Setting `pad_token_id` to `eos_token_id`:None for open-end generation.\n",
      "/home/aurora/miniconda3/lib/python3.11/site-packages/trl/trainer/ppo_trainer.py:1313: UserWarning: KL divergence is starting to become negative: -87.13 - this might be a precursor for failed training. sometimes this happens because the generation kwargs are not correctly set. Please make sure that the generation kwargs are set correctly, or review your training hyperparameters.\n",
      "  warnings.warn(\n",
      "Setting `pad_token_id` to `eos_token_id`:None for open-end generation.\n"
     ]
    },
    {
     "name": "stdout",
     "output_type": "stream",
     "text": [
      "Prompt: [INST] 16 es igual a [/INST]\n",
      "Respuesta: [INST] 16 es igual a [/INST] Feb 12\n",
      "\n",
      "Feb 12 03 . .\n",
      "Recompensa: -7\n",
      "Prompt: [INST] 19 es igual a [/INST]\n",
      "Respuesta: [INST] 19 es igual a [/INST] ig}. n ig]: ig]. eng]:\n",
      "Recompensa: -10\n"
     ]
    },
    {
     "name": "stderr",
     "output_type": "stream",
     "text": [
      "/home/aurora/miniconda3/lib/python3.11/site-packages/trl/trainer/ppo_trainer.py:1313: UserWarning: KL divergence is starting to become negative: -6.02 - this might be a precursor for failed training. sometimes this happens because the generation kwargs are not correctly set. Please make sure that the generation kwargs are set correctly, or review your training hyperparameters.\n",
      "  warnings.warn(\n",
      "Setting `pad_token_id` to `eos_token_id`:None for open-end generation.\n",
      "/home/aurora/miniconda3/lib/python3.11/site-packages/trl/trainer/ppo_trainer.py:1313: UserWarning: KL divergence is starting to become negative: -31.93 - this might be a precursor for failed training. sometimes this happens because the generation kwargs are not correctly set. Please make sure that the generation kwargs are set correctly, or review your training hyperparameters.\n",
      "  warnings.warn(\n",
      "Setting `pad_token_id` to `eos_token_id`:None for open-end generation.\n"
     ]
    },
    {
     "name": "stdout",
     "output_type": "stream",
     "text": [
      "Prompt: [INST] 22 es igual a [/INST]\n",
      "Respuesta: [INST] 22 es igual a [/INST]])\"] [2]])?)\"\n",
      "Recompensa: -13\n"
     ]
    },
    {
     "name": "stderr",
     "output_type": "stream",
     "text": [
      "/home/aurora/miniconda3/lib/python3.11/site-packages/trl/trainer/ppo_trainer.py:1313: UserWarning: KL divergence is starting to become negative: -24.19 - this might be a precursor for failed training. sometimes this happens because the generation kwargs are not correctly set. Please make sure that the generation kwargs are set correctly, or review your training hyperparameters.\n",
      "  warnings.warn(\n",
      "Setting `pad_token_id` to `eos_token_id`:None for open-end generation.\n"
     ]
    },
    {
     "name": "stdout",
     "output_type": "stream",
     "text": [
      "Prompt: [INST] 25 es igual a [/INST]\n",
      "Respuesta: [INST] 25 es igual a [/INST]]:NORL OUT\n",
      "\n",
      "{\n",
      "\n",
      "\n",
      "Recompensa: -16\n",
      "Prompt: [INST] 28 es igual a [/INST]\n",
      "Respuesta: [INST] 28 es igual a [/INST] 28 igl home\"] { REPORT } }\n",
      "Recompensa: -19\n"
     ]
    },
    {
     "name": "stderr",
     "output_type": "stream",
     "text": [
      "/home/aurora/miniconda3/lib/python3.11/site-packages/trl/trainer/ppo_trainer.py:1313: UserWarning: KL divergence is starting to become negative: -37.54 - this might be a precursor for failed training. sometimes this happens because the generation kwargs are not correctly set. Please make sure that the generation kwargs are set correctly, or review your training hyperparameters.\n",
      "  warnings.warn(\n",
      "Setting `pad_token_id` to `eos_token_id`:None for open-end generation.\n",
      "/home/aurora/miniconda3/lib/python3.11/site-packages/trl/trainer/ppo_trainer.py:1313: UserWarning: KL divergence is starting to become negative: -66.91 - this might be a precursor for failed training. sometimes this happens because the generation kwargs are not correctly set. Please make sure that the generation kwargs are set correctly, or review your training hyperparameters.\n",
      "  warnings.warn(\n",
      "Setting `pad_token_id` to `eos_token_id`:None for open-end generation.\n"
     ]
    },
    {
     "name": "stdout",
     "output_type": "stream",
     "text": [
      "Prompt: [INST] 31 es igual a [/INST]\n",
      "Respuesta: [INST] 31 es igual a [/INST] 31 iglv? l 31l? 31\n",
      "Recompensa: -22\n",
      "Prompt: [INST] 34 es igual a [/INST]\n",
      "Respuesta: [INST] 34 es igual a [/INST] 34 es igual]; 34 es ig]\n",
      "Recompensa: -25\n"
     ]
    },
    {
     "name": "stderr",
     "output_type": "stream",
     "text": [
      "/home/aurora/miniconda3/lib/python3.11/site-packages/trl/trainer/ppo_trainer.py:1313: UserWarning: KL divergence is starting to become negative: -33.82 - this might be a precursor for failed training. sometimes this happens because the generation kwargs are not correctly set. Please make sure that the generation kwargs are set correctly, or review your training hyperparameters.\n",
      "  warnings.warn(\n",
      "Setting `pad_token_id` to `eos_token_id`:None for open-end generation.\n",
      "/home/aurora/miniconda3/lib/python3.11/site-packages/trl/trainer/ppo_trainer.py:1313: UserWarning: KL divergence is starting to become negative: -11.03 - this might be a precursor for failed training. sometimes this happens because the generation kwargs are not correctly set. Please make sure that the generation kwargs are set correctly, or review your training hyperparameters.\n",
      "  warnings.warn(\n",
      "Setting `pad_token_id` to `eos_token_id`:None for open-end generation.\n"
     ]
    },
    {
     "name": "stdout",
     "output_type": "stream",
     "text": [
      "Prompt: [INST] 37 es igual a [/INST]\n",
      "Respuesta: [INST] 37 es igual a [/INST] 37 es es] 37 esfellfell]\n",
      "Recompensa: -28\n",
      "Prompt: [INST] 40 es igual a [/INST]\n",
      "Respuesta: [INST] 40 es igual a [/INST]\".}}}}]}}{};};};\n",
      "Recompensa: -31\n"
     ]
    },
    {
     "name": "stderr",
     "output_type": "stream",
     "text": [
      "/home/aurora/miniconda3/lib/python3.11/site-packages/trl/trainer/ppo_trainer.py:1313: UserWarning: KL divergence is starting to become negative: -38.21 - this might be a precursor for failed training. sometimes this happens because the generation kwargs are not correctly set. Please make sure that the generation kwargs are set correctly, or review your training hyperparameters.\n",
      "  warnings.warn(\n",
      "Setting `pad_token_id` to `eos_token_id`:None for open-end generation.\n",
      "/home/aurora/miniconda3/lib/python3.11/site-packages/trl/trainer/ppo_trainer.py:1313: UserWarning: KL divergence is starting to become negative: -41.40 - this might be a precursor for failed training. sometimes this happens because the generation kwargs are not correctly set. Please make sure that the generation kwargs are set correctly, or review your training hyperparameters.\n",
      "  warnings.warn(\n",
      "Setting `pad_token_id` to `eos_token_id`:None for open-end generation.\n"
     ]
    },
    {
     "name": "stdout",
     "output_type": "stream",
     "text": [
      "Prompt: [INST] 43 es igual a [/INST]\n",
      "Respuesta: [INST] 43 es igual a [/INST] 43 es ig]: ig ig a 03\n",
      "\n",
      "Recompensa: -34\n",
      "Prompt: [INST] 46 es igual a [/INST]\n",
      "Respuesta: [INST] 46 es igual a [/INST]?&46&E=&#&\n",
      "Recompensa: -37\n"
     ]
    },
    {
     "name": "stderr",
     "output_type": "stream",
     "text": [
      "/home/aurora/miniconda3/lib/python3.11/site-packages/trl/trainer/ppo_trainer.py:1313: UserWarning: KL divergence is starting to become negative: -28.91 - this might be a precursor for failed training. sometimes this happens because the generation kwargs are not correctly set. Please make sure that the generation kwargs are set correctly, or review your training hyperparameters.\n",
      "  warnings.warn(\n",
      "Setting `pad_token_id` to `eos_token_id`:None for open-end generation.\n",
      "/home/aurora/miniconda3/lib/python3.11/site-packages/trl/trainer/ppo_trainer.py:1313: UserWarning: KL divergence is starting to become negative: -31.32 - this might be a precursor for failed training. sometimes this happens because the generation kwargs are not correctly set. Please make sure that the generation kwargs are set correctly, or review your training hyperparameters.\n",
      "  warnings.warn(\n",
      "Setting `pad_token_id` to `eos_token_id`:None for open-end generation.\n"
     ]
    },
    {
     "name": "stdout",
     "output_type": "stream",
     "text": [
      "Prompt: [INST] 49 es igual a [/INST]\n",
      "Respuesta: [INST] 49 es igual a [/INST] 49 reddit mod]by reddit mod][default\n",
      "Recompensa: -40\n",
      "Prompt: [INST] 10 es igual a [/INST]\n",
      "Respuesta: [INST] 10 es igual a [/INST] Esp /Val /Val /RocketRocketRocket\n",
      "Recompensa: -1\n"
     ]
    },
    {
     "name": "stderr",
     "output_type": "stream",
     "text": [
      "/home/aurora/miniconda3/lib/python3.11/site-packages/trl/trainer/ppo_trainer.py:1313: UserWarning: KL divergence is starting to become negative: -66.40 - this might be a precursor for failed training. sometimes this happens because the generation kwargs are not correctly set. Please make sure that the generation kwargs are set correctly, or review your training hyperparameters.\n",
      "  warnings.warn(\n",
      "Setting `pad_token_id` to `eos_token_id`:None for open-end generation.\n",
      "/home/aurora/miniconda3/lib/python3.11/site-packages/trl/trainer/ppo_trainer.py:1313: UserWarning: KL divergence is starting to become negative: -59.67 - this might be a precursor for failed training. sometimes this happens because the generation kwargs are not correctly set. Please make sure that the generation kwargs are set correctly, or review your training hyperparameters.\n",
      "  warnings.warn(\n",
      "Setting `pad_token_id` to `eos_token_id`:None for open-end generation.\n"
     ]
    },
    {
     "name": "stdout",
     "output_type": "stream",
     "text": [
      "Prompt: [INST] 13 es igual a [/INST]\n",
      "Respuesta: [INST] 13 es igual a [/INST]INST]:INST.zip E 0 13INST\n",
      "Recompensa: -4\n",
      "Prompt: [INST] 16 es igual a [/INST]\n",
      "Respuesta: [INST] 16 es igual a [/INST] /esp /16\n",
      "\n",
      "16 es16\n",
      "Recompensa: -7\n"
     ]
    },
    {
     "name": "stderr",
     "output_type": "stream",
     "text": [
      "/home/aurora/miniconda3/lib/python3.11/site-packages/trl/trainer/ppo_trainer.py:1313: UserWarning: KL divergence is starting to become negative: -67.61 - this might be a precursor for failed training. sometimes this happens because the generation kwargs are not correctly set. Please make sure that the generation kwargs are set correctly, or review your training hyperparameters.\n",
      "  warnings.warn(\n",
      "Setting `pad_token_id` to `eos_token_id`:None for open-end generation.\n",
      "/home/aurora/miniconda3/lib/python3.11/site-packages/trl/trainer/ppo_trainer.py:1313: UserWarning: KL divergence is starting to become negative: -58.13 - this might be a precursor for failed training. sometimes this happens because the generation kwargs are not correctly set. Please make sure that the generation kwargs are set correctly, or review your training hyperparameters.\n",
      "  warnings.warn(\n",
      "Setting `pad_token_id` to `eos_token_id`:None for open-end generation.\n"
     ]
    },
    {
     "name": "stdout",
     "output_type": "stream",
     "text": [
      "Prompt: [INST] 19 es igual a [/INST]\n",
      "Respuesta: [INST] 19 es igual a [/INST] 19] esma [/INST] esma\n",
      "Recompensa: -10\n",
      "Prompt: [INST] 22 es igual a [/INST]\n",
      "Respuesta: [INST] 22 es igual a [/INST] 22 mod GB fr $card fr Feb 10\n",
      "Recompensa: -13\n"
     ]
    },
    {
     "name": "stderr",
     "output_type": "stream",
     "text": [
      "/home/aurora/miniconda3/lib/python3.11/site-packages/trl/trainer/ppo_trainer.py:1313: UserWarning: KL divergence is starting to become negative: -29.57 - this might be a precursor for failed training. sometimes this happens because the generation kwargs are not correctly set. Please make sure that the generation kwargs are set correctly, or review your training hyperparameters.\n",
      "  warnings.warn(\n",
      "Setting `pad_token_id` to `eos_token_id`:None for open-end generation.\n",
      "/home/aurora/miniconda3/lib/python3.11/site-packages/trl/trainer/ppo_trainer.py:1313: UserWarning: KL divergence is starting to become negative: -7.44 - this might be a precursor for failed training. sometimes this happens because the generation kwargs are not correctly set. Please make sure that the generation kwargs are set correctly, or review your training hyperparameters.\n",
      "  warnings.warn(\n",
      "Setting `pad_token_id` to `eos_token_id`:None for open-end generation.\n"
     ]
    },
    {
     "name": "stdout",
     "output_type": "stream",
     "text": [
      "Prompt: [INST] 25 es igual a [/INST]\n",
      "Respuesta: [INST] 25 es igual a [/INST] fr 25 es ig 25] 25 ]])\n",
      "Recompensa: -16\n",
      "Prompt: [INST] 28 es igual a [/INST]\n",
      "Respuesta: [INST] 28 es igual a [/INST][{ld}]][[/INST]\n",
      "Recompensa: -19\n"
     ]
    },
    {
     "name": "stderr",
     "output_type": "stream",
     "text": [
      "/home/aurora/miniconda3/lib/python3.11/site-packages/trl/trainer/ppo_trainer.py:1313: UserWarning: KL divergence is starting to become negative: -24.03 - this might be a precursor for failed training. sometimes this happens because the generation kwargs are not correctly set. Please make sure that the generation kwargs are set correctly, or review your training hyperparameters.\n",
      "  warnings.warn(\n",
      "Setting `pad_token_id` to `eos_token_id`:None for open-end generation.\n",
      "/home/aurora/miniconda3/lib/python3.11/site-packages/trl/trainer/ppo_trainer.py:1313: UserWarning: KL divergence is starting to become negative: -9.77 - this might be a precursor for failed training. sometimes this happens because the generation kwargs are not correctly set. Please make sure that the generation kwargs are set correctly, or review your training hyperparameters.\n",
      "  warnings.warn(\n",
      "Setting `pad_token_id` to `eos_token_id`:None for open-end generation.\n"
     ]
    },
    {
     "name": "stdout",
     "output_type": "stream",
     "text": [
      "Prompt: [INST] 31 es igual a [/INST]\n",
      "Respuesta: [INST] 31 es igual a [/INST] 31 es 31 es 31 AD] { 01\n",
      "Recompensa: -22\n",
      "Prompt: [INST] 34 es igual a [/INST]\n",
      "Respuesta: [INST] 34 es igual a [/INST]?BY?BY?by?BY?\n",
      "Recompensa: -25\n"
     ]
    },
    {
     "name": "stderr",
     "output_type": "stream",
     "text": [
      "/home/aurora/miniconda3/lib/python3.11/site-packages/trl/trainer/ppo_trainer.py:1313: UserWarning: KL divergence is starting to become negative: -25.42 - this might be a precursor for failed training. sometimes this happens because the generation kwargs are not correctly set. Please make sure that the generation kwargs are set correctly, or review your training hyperparameters.\n",
      "  warnings.warn(\n",
      "Setting `pad_token_id` to `eos_token_id`:None for open-end generation.\n",
      "Setting `pad_token_id` to `eos_token_id`:None for open-end generation.\n"
     ]
    },
    {
     "name": "stdout",
     "output_type": "stream",
     "text": [
      "Prompt: [INST] 37 es igual a [/INST]\n",
      "Respuesta: [INST] 37 es igual a [/INST] a ig? a???[INST\n",
      "Recompensa: -28\n",
      "Prompt: [INST] 40 es igual a [/INST]\n",
      "Respuesta: [INST] 40 es igual a [/INST] 41 ab af]INST 41 af[/INST\n",
      "Recompensa: -31\n"
     ]
    },
    {
     "name": "stderr",
     "output_type": "stream",
     "text": [
      "/home/aurora/miniconda3/lib/python3.11/site-packages/trl/trainer/ppo_trainer.py:1313: UserWarning: KL divergence is starting to become negative: -35.20 - this might be a precursor for failed training. sometimes this happens because the generation kwargs are not correctly set. Please make sure that the generation kwargs are set correctly, or review your training hyperparameters.\n",
      "  warnings.warn(\n",
      "Setting `pad_token_id` to `eos_token_id`:None for open-end generation.\n",
      "Setting `pad_token_id` to `eos_token_id`:None for open-end generation.\n"
     ]
    },
    {
     "name": "stdout",
     "output_type": "stream",
     "text": [
      "Prompt: [INST] 43 es igual a [/INST]\n",
      "Respuesta: [INST] 43 es igual a [/INST] b] L 11\n",
      "\n",
      "N 11\n",
      "\n",
      "Recompensa: -34\n",
      "Prompt: [INST] 46 es igual a [/INST]\n",
      "Respuesta: [INST] 46 es igual a [/INST]FIR]LE ab==EleᵣLI\n",
      "Recompensa: -37\n"
     ]
    },
    {
     "name": "stderr",
     "output_type": "stream",
     "text": [
      "/home/aurora/miniconda3/lib/python3.11/site-packages/trl/trainer/ppo_trainer.py:1313: UserWarning: KL divergence is starting to become negative: -7.97 - this might be a precursor for failed training. sometimes this happens because the generation kwargs are not correctly set. Please make sure that the generation kwargs are set correctly, or review your training hyperparameters.\n",
      "  warnings.warn(\n",
      "Setting `pad_token_id` to `eos_token_id`:None for open-end generation.\n",
      "Setting `pad_token_id` to `eos_token_id`:None for open-end generation.\n"
     ]
    },
    {
     "name": "stdout",
     "output_type": "stream",
     "text": [
      "Prompt: [INST] 49 es igual a [/INST]\n",
      "Respuesta: [INST] 49 es igual a [/INST] 49 es] 49 49 49 49]]\n",
      "Recompensa: -40\n",
      "Prompt: [INST] 10 es igual a [/INST]\n",
      "Respuesta: [INST] 10 es igual a [/INST], w 0\n",
      "\n",
      ") 10 , ,\n",
      "Recompensa: -1\n"
     ]
    },
    {
     "name": "stderr",
     "output_type": "stream",
     "text": [
      "/home/aurora/miniconda3/lib/python3.11/site-packages/trl/trainer/ppo_trainer.py:1313: UserWarning: KL divergence is starting to become negative: -36.23 - this might be a precursor for failed training. sometimes this happens because the generation kwargs are not correctly set. Please make sure that the generation kwargs are set correctly, or review your training hyperparameters.\n",
      "  warnings.warn(\n",
      "Setting `pad_token_id` to `eos_token_id`:None for open-end generation.\n",
      "/home/aurora/miniconda3/lib/python3.11/site-packages/trl/trainer/ppo_trainer.py:1313: UserWarning: KL divergence is starting to become negative: -25.03 - this might be a precursor for failed training. sometimes this happens because the generation kwargs are not correctly set. Please make sure that the generation kwargs are set correctly, or review your training hyperparameters.\n",
      "  warnings.warn(\n",
      "Setting `pad_token_id` to `eos_token_id`:None for open-end generation.\n"
     ]
    },
    {
     "name": "stdout",
     "output_type": "stream",
     "text": [
      "Prompt: [INST] 13 es igual a [/INST]\n",
      "Respuesta: [INST] 13 es igual a [/INST] - NORTH Ange Ange Ange] | NOR\n",
      "Recompensa: -4\n",
      "Prompt: [INST] 16 es igual a [/INST]\n",
      "Respuesta: [INST] 16 es igual a [/INST] from unknownESIN; [/INST];\n",
      "Recompensa: -7\n"
     ]
    },
    {
     "name": "stderr",
     "output_type": "stream",
     "text": [
      "/home/aurora/miniconda3/lib/python3.11/site-packages/trl/trainer/ppo_trainer.py:1313: UserWarning: KL divergence is starting to become negative: -26.43 - this might be a precursor for failed training. sometimes this happens because the generation kwargs are not correctly set. Please make sure that the generation kwargs are set correctly, or review your training hyperparameters.\n",
      "  warnings.warn(\n",
      "Setting `pad_token_id` to `eos_token_id`:None for open-end generation.\n",
      "/home/aurora/miniconda3/lib/python3.11/site-packages/trl/trainer/ppo_trainer.py:1313: UserWarning: KL divergence is starting to become negative: -21.19 - this might be a precursor for failed training. sometimes this happens because the generation kwargs are not correctly set. Please make sure that the generation kwargs are set correctly, or review your training hyperparameters.\n",
      "  warnings.warn(\n",
      "Setting `pad_token_id` to `eos_token_id`:None for open-end generation.\n"
     ]
    },
    {
     "name": "stdout",
     "output_type": "stream",
     "text": [
      "Prompt: [INST] 19 es igual a [/INST]\n",
      "Respuesta: [INST] 19 es igual a [/INST] 19 es ig [/INST\n",
      "\n",
      "E?\n",
      "Recompensa: -10\n",
      "Prompt: [INST] 22 es igual a [/INST]\n",
      "Respuesta: [INST] 22 es igual a [/INST]BOX[INST] ?INSTINSTBOX=\n",
      "Recompensa: -13\n"
     ]
    },
    {
     "name": "stderr",
     "output_type": "stream",
     "text": [
      "/home/aurora/miniconda3/lib/python3.11/site-packages/trl/trainer/ppo_trainer.py:1313: UserWarning: KL divergence is starting to become negative: -27.07 - this might be a precursor for failed training. sometimes this happens because the generation kwargs are not correctly set. Please make sure that the generation kwargs are set correctly, or review your training hyperparameters.\n",
      "  warnings.warn(\n",
      "Setting `pad_token_id` to `eos_token_id`:None for open-end generation.\n",
      "/home/aurora/miniconda3/lib/python3.11/site-packages/trl/trainer/ppo_trainer.py:1313: UserWarning: KL divergence is starting to become negative: -32.83 - this might be a precursor for failed training. sometimes this happens because the generation kwargs are not correctly set. Please make sure that the generation kwargs are set correctly, or review your training hyperparameters.\n",
      "  warnings.warn(\n",
      "Setting `pad_token_id` to `eos_token_id`:None for open-end generation.\n"
     ]
    },
    {
     "name": "stdout",
     "output_type": "stream",
     "text": [
      "Prompt: [INST] 25 es igual a [/INST]\n",
      "Respuesta: [INST] 25 es igual a [/INST] day[/]; igual a[/];[/\n",
      "Recompensa: -16\n",
      "Prompt: [INST] 28 es igual a [/INST]\n",
      "Respuesta: [INST] 28 es igual a [/INST] 28 es) 28] 28 lbown 28\n",
      "Recompensa: -19\n"
     ]
    },
    {
     "name": "stderr",
     "output_type": "stream",
     "text": [
      "Setting `pad_token_id` to `eos_token_id`:None for open-end generation.\n",
      "/home/aurora/miniconda3/lib/python3.11/site-packages/trl/trainer/ppo_trainer.py:1313: UserWarning: KL divergence is starting to become negative: -16.06 - this might be a precursor for failed training. sometimes this happens because the generation kwargs are not correctly set. Please make sure that the generation kwargs are set correctly, or review your training hyperparameters.\n",
      "  warnings.warn(\n",
      "Setting `pad_token_id` to `eos_token_id`:None for open-end generation.\n"
     ]
    },
    {
     "name": "stdout",
     "output_type": "stream",
     "text": [
      "Prompt: [INST] 31 es igual a [/INST]\n",
      "Respuesta: [INST] 31 es igual a [/INST] a\"]; iglvienienienien\n",
      "Recompensa: -22\n",
      "Prompt: [INST] 34 es igual a [/INST]\n",
      "Respuesta: [INST] 34 es igual a [/INST] 34 ig] 34 igboth, reg]\n",
      "Recompensa: -25\n"
     ]
    },
    {
     "name": "stderr",
     "output_type": "stream",
     "text": [
      "Setting `pad_token_id` to `eos_token_id`:None for open-end generation.\n",
      "/home/aurora/miniconda3/lib/python3.11/site-packages/trl/trainer/ppo_trainer.py:1313: UserWarning: KL divergence is starting to become negative: -6.95 - this might be a precursor for failed training. sometimes this happens because the generation kwargs are not correctly set. Please make sure that the generation kwargs are set correctly, or review your training hyperparameters.\n",
      "  warnings.warn(\n",
      "Setting `pad_token_id` to `eos_token_id`:None for open-end generation.\n"
     ]
    },
    {
     "name": "stdout",
     "output_type": "stream",
     "text": [
      "Prompt: [INST] 37 es igual a [/INST]\n",
      "Respuesta: [INST] 37 es igual a [/INST] a /INST [INST]] 37 def\n",
      "Recompensa: -28\n",
      "Prompt: [INST] 40 es igual a [/INST]\n",
      "Respuesta: [INST] 40 es igual a [/INST]&\" 40for);Wood.Twice\n",
      "Recompensa: -31\n"
     ]
    },
    {
     "name": "stderr",
     "output_type": "stream",
     "text": [
      "Setting `pad_token_id` to `eos_token_id`:None for open-end generation.\n",
      "Setting `pad_token_id` to `eos_token_id`:None for open-end generation.\n"
     ]
    },
    {
     "name": "stdout",
     "output_type": "stream",
     "text": [
      "Prompt: [INST] 43 es igual a [/INST]\n",
      "Respuesta: [INST] 43 es igual a [/INST] 43 es ig ig b)\n",
      "\n",
      "l\n",
      "Recompensa: -34\n",
      "Prompt: [INST] 46 es igual a [/INST]\n",
      "Respuesta: [INST] 46 es igual a [/INST]?L?LI?days]INST?\n",
      "Recompensa: -37\n"
     ]
    },
    {
     "name": "stderr",
     "output_type": "stream",
     "text": [
      "Setting `pad_token_id` to `eos_token_id`:None for open-end generation.\n",
      "Setting `pad_token_id` to `eos_token_id`:None for open-end generation.\n"
     ]
    },
    {
     "name": "stdout",
     "output_type": "stream",
     "text": [
      "Prompt: [INST] 49 es igual a [/INST]\n",
      "Respuesta: [INST] 49 es igual a [/INST]-&w&w\"]&w\n",
      "Recompensa: -40\n",
      "Prompt: [INST] 10 es igual a [/INST]\n",
      "Respuesta: [INST] 10 es igual a [/INST] mo, NOON);returningMo;\n",
      "Recompensa: -1\n"
     ]
    },
    {
     "name": "stderr",
     "output_type": "stream",
     "text": [
      "/home/aurora/miniconda3/lib/python3.11/site-packages/trl/trainer/ppo_trainer.py:1313: UserWarning: KL divergence is starting to become negative: -21.56 - this might be a precursor for failed training. sometimes this happens because the generation kwargs are not correctly set. Please make sure that the generation kwargs are set correctly, or review your training hyperparameters.\n",
      "  warnings.warn(\n",
      "Setting `pad_token_id` to `eos_token_id`:None for open-end generation.\n",
      "/home/aurora/miniconda3/lib/python3.11/site-packages/trl/trainer/ppo_trainer.py:1313: UserWarning: KL divergence is starting to become negative: -48.63 - this might be a precursor for failed training. sometimes this happens because the generation kwargs are not correctly set. Please make sure that the generation kwargs are set correctly, or review your training hyperparameters.\n",
      "  warnings.warn(\n",
      "Setting `pad_token_id` to `eos_token_id`:None for open-end generation.\n"
     ]
    },
    {
     "name": "stdout",
     "output_type": "stream",
     "text": [
      "Prompt: [INST] 13 es igual a [/INST]\n",
      "Respuesta: [INST] 13 es igual a [/INST][][\"13]+[\"[\"sylvan\n",
      "Recompensa: -4\n",
      "Prompt: [INST] 16 es igual a [/INST]\n",
      "Respuesta: [INST] 16 es igual a [/INST] 17 fr lm [/INSTINSTINST]\n",
      "Recompensa: -7\n"
     ]
    },
    {
     "name": "stderr",
     "output_type": "stream",
     "text": [
      "/home/aurora/miniconda3/lib/python3.11/site-packages/trl/trainer/ppo_trainer.py:1313: UserWarning: KL divergence is starting to become negative: -26.99 - this might be a precursor for failed training. sometimes this happens because the generation kwargs are not correctly set. Please make sure that the generation kwargs are set correctly, or review your training hyperparameters.\n",
      "  warnings.warn(\n",
      "Setting `pad_token_id` to `eos_token_id`:None for open-end generation.\n",
      "/home/aurora/miniconda3/lib/python3.11/site-packages/trl/trainer/ppo_trainer.py:1313: UserWarning: KL divergence is starting to become negative: -9.72 - this might be a precursor for failed training. sometimes this happens because the generation kwargs are not correctly set. Please make sure that the generation kwargs are set correctly, or review your training hyperparameters.\n",
      "  warnings.warn(\n",
      "Setting `pad_token_id` to `eos_token_id`:None for open-end generation.\n"
     ]
    },
    {
     "name": "stdout",
     "output_type": "stream",
     "text": [
      "Prompt: [INST] 19 es igual a [/INST]\n",
      "Respuesta: [INST] 19 es igual a [/INST] KNUT. /19 /E19ES\n",
      "Recompensa: -10\n",
      "Prompt: [INST] 22 es igual a [/INST]\n",
      "Respuesta: [INST] 22 es igual a [/INST][0]by_in\\INST][\n",
      "Recompensa: -13\n"
     ]
    },
    {
     "name": "stderr",
     "output_type": "stream",
     "text": [
      "/home/aurora/miniconda3/lib/python3.11/site-packages/trl/trainer/ppo_trainer.py:1313: UserWarning: KL divergence is starting to become negative: -20.90 - this might be a precursor for failed training. sometimes this happens because the generation kwargs are not correctly set. Please make sure that the generation kwargs are set correctly, or review your training hyperparameters.\n",
      "  warnings.warn(\n",
      "Setting `pad_token_id` to `eos_token_id`:None for open-end generation.\n",
      "/home/aurora/miniconda3/lib/python3.11/site-packages/trl/trainer/ppo_trainer.py:1313: UserWarning: KL divergence is starting to become negative: -77.78 - this might be a precursor for failed training. sometimes this happens because the generation kwargs are not correctly set. Please make sure that the generation kwargs are set correctly, or review your training hyperparameters.\n",
      "  warnings.warn(\n",
      "Setting `pad_token_id` to `eos_token_id`:None for open-end generation.\n"
     ]
    },
    {
     "name": "stdout",
     "output_type": "stream",
     "text": [
      "Prompt: [INST] 25 es igual a [/INST]\n",
      "Respuesta: [INST] 25 es igual a [/INST]INSTINSTINSTINSTINSTINSTINST{INST\n",
      "Recompensa: -16\n",
      "Prompt: [INST] 28 es igual a [/INST]\n",
      "Respuesta: [INST] 28 es igual a [/INST] == dw[/INST]][][/inst],\"\n",
      "Recompensa: -19\n"
     ]
    },
    {
     "name": "stderr",
     "output_type": "stream",
     "text": [
      "/home/aurora/miniconda3/lib/python3.11/site-packages/trl/trainer/ppo_trainer.py:1313: UserWarning: KL divergence is starting to become negative: -9.71 - this might be a precursor for failed training. sometimes this happens because the generation kwargs are not correctly set. Please make sure that the generation kwargs are set correctly, or review your training hyperparameters.\n",
      "  warnings.warn(\n",
      "Setting `pad_token_id` to `eos_token_id`:None for open-end generation.\n",
      "/home/aurora/miniconda3/lib/python3.11/site-packages/trl/trainer/ppo_trainer.py:1313: UserWarning: KL divergence is starting to become negative: -11.23 - this might be a precursor for failed training. sometimes this happens because the generation kwargs are not correctly set. Please make sure that the generation kwargs are set correctly, or review your training hyperparameters.\n",
      "  warnings.warn(\n",
      "Setting `pad_token_id` to `eos_token_id`:None for open-end generation.\n"
     ]
    },
    {
     "name": "stdout",
     "output_type": "stream",
     "text": [
      "Prompt: [INST] 31 es igual a [/INST]\n",
      "Respuesta: [INST] 31 es igual a [/INST] 31 es-Es \"\n",
      "deig Adam\n",
      "Recompensa: -22\n",
      "Prompt: [INST] 34 es igual a [/INST]\n",
      "Respuesta: [INST] 34 es igual a [/INST] 34 34]] 34? 34] 34\n",
      "Recompensa: -25\n"
     ]
    },
    {
     "name": "stderr",
     "output_type": "stream",
     "text": [
      "/home/aurora/miniconda3/lib/python3.11/site-packages/trl/trainer/ppo_trainer.py:1313: UserWarning: KL divergence is starting to become negative: -16.81 - this might be a precursor for failed training. sometimes this happens because the generation kwargs are not correctly set. Please make sure that the generation kwargs are set correctly, or review your training hyperparameters.\n",
      "  warnings.warn(\n",
      "Setting `pad_token_id` to `eos_token_id`:None for open-end generation.\n",
      "/home/aurora/miniconda3/lib/python3.11/site-packages/trl/trainer/ppo_trainer.py:1313: UserWarning: KL divergence is starting to become negative: -3.96 - this might be a precursor for failed training. sometimes this happens because the generation kwargs are not correctly set. Please make sure that the generation kwargs are set correctly, or review your training hyperparameters.\n",
      "  warnings.warn(\n",
      "Setting `pad_token_id` to `eos_token_id`:None for open-end generation.\n"
     ]
    },
    {
     "name": "stdout",
     "output_type": "stream",
     "text": [
      "Prompt: [INST] 37 es igual a [/INST]\n",
      "Respuesta: [INST] 37 es igual a [/INST]??????\n",
      "\n",
      "[\"\n",
      "Recompensa: -28\n",
      "Prompt: [INST] 40 es igual a [/INST]\n",
      "Respuesta: [INST] 40 es igual a [/INST] AB AB AB AC AM IN G AZ W\n",
      "Recompensa: -31\n"
     ]
    },
    {
     "name": "stderr",
     "output_type": "stream",
     "text": [
      "/home/aurora/miniconda3/lib/python3.11/site-packages/trl/trainer/ppo_trainer.py:1313: UserWarning: KL divergence is starting to become negative: -87.45 - this might be a precursor for failed training. sometimes this happens because the generation kwargs are not correctly set. Please make sure that the generation kwargs are set correctly, or review your training hyperparameters.\n",
      "  warnings.warn(\n",
      "Setting `pad_token_id` to `eos_token_id`:None for open-end generation.\n",
      "/home/aurora/miniconda3/lib/python3.11/site-packages/trl/trainer/ppo_trainer.py:1313: UserWarning: KL divergence is starting to become negative: -17.45 - this might be a precursor for failed training. sometimes this happens because the generation kwargs are not correctly set. Please make sure that the generation kwargs are set correctly, or review your training hyperparameters.\n",
      "  warnings.warn(\n",
      "Setting `pad_token_id` to `eos_token_id`:None for open-end generation.\n"
     ]
    },
    {
     "name": "stdout",
     "output_type": "stream",
     "text": [
      "Prompt: [INST] 43 es igual a [/INST]\n",
      "Respuesta: [INST] 43 es igual a [/INST]\\ClassifierَClass[+++]+\n",
      "Recompensa: -34\n",
      "Prompt: [INST] 46 es igual a [/INST]\n",
      "Respuesta: [INST] 46 es igual a [/INST] 46 es igbl a [/INST]]\n",
      "Recompensa: -37\n"
     ]
    },
    {
     "name": "stderr",
     "output_type": "stream",
     "text": [
      "/home/aurora/miniconda3/lib/python3.11/site-packages/trl/trainer/ppo_trainer.py:1313: UserWarning: KL divergence is starting to become negative: -5.33 - this might be a precursor for failed training. sometimes this happens because the generation kwargs are not correctly set. Please make sure that the generation kwargs are set correctly, or review your training hyperparameters.\n",
      "  warnings.warn(\n",
      "Setting `pad_token_id` to `eos_token_id`:None for open-end generation.\n",
      "Setting `pad_token_id` to `eos_token_id`:None for open-end generation.\n"
     ]
    },
    {
     "name": "stdout",
     "output_type": "stream",
     "text": [
      "Prompt: [INST] 49 es igual a [/INST]\n",
      "Respuesta: [INST] 49 es igual a [/INST]E[/MK] es [/def]?)\n",
      "Recompensa: -40\n",
      "Prompt: [INST] 10 es igual a [/INST]\n",
      "Respuesta: [INST] 10 es igual a [/INST]\n",
      "Recompensa: -1\n"
     ]
    },
    {
     "name": "stderr",
     "output_type": "stream",
     "text": [
      "/home/aurora/miniconda3/lib/python3.11/site-packages/trl/trainer/ppo_trainer.py:1313: UserWarning: KL divergence is starting to become negative: -19.70 - this might be a precursor for failed training. sometimes this happens because the generation kwargs are not correctly set. Please make sure that the generation kwargs are set correctly, or review your training hyperparameters.\n",
      "  warnings.warn(\n",
      "Setting `pad_token_id` to `eos_token_id`:None for open-end generation.\n",
      "/home/aurora/miniconda3/lib/python3.11/site-packages/trl/trainer/ppo_trainer.py:1313: UserWarning: KL divergence is starting to become negative: -22.84 - this might be a precursor for failed training. sometimes this happens because the generation kwargs are not correctly set. Please make sure that the generation kwargs are set correctly, or review your training hyperparameters.\n",
      "  warnings.warn(\n",
      "Setting `pad_token_id` to `eos_token_id`:None for open-end generation.\n"
     ]
    },
    {
     "name": "stdout",
     "output_type": "stream",
     "text": [
      "Prompt: [INST] 13 es igual a [/INST]\n",
      "Respuesta: [INST] 13 es igual a [/INST]] [/INST13 sig was moved up inst\n",
      "Recompensa: -4\n",
      "Prompt: [INST] 16 es igual a [/INST]\n",
      "Respuesta: [INST] 16 es igual a [/INST] [/INST]INST\n",
      "\n",
      "INST1616\n",
      "Recompensa: -7\n"
     ]
    },
    {
     "name": "stderr",
     "output_type": "stream",
     "text": [
      "/home/aurora/miniconda3/lib/python3.11/site-packages/trl/trainer/ppo_trainer.py:1313: UserWarning: KL divergence is starting to become negative: -31.99 - this might be a precursor for failed training. sometimes this happens because the generation kwargs are not correctly set. Please make sure that the generation kwargs are set correctly, or review your training hyperparameters.\n",
      "  warnings.warn(\n",
      "Setting `pad_token_id` to `eos_token_id`:None for open-end generation.\n",
      "/home/aurora/miniconda3/lib/python3.11/site-packages/trl/trainer/ppo_trainer.py:1313: UserWarning: KL divergence is starting to become negative: -11.80 - this might be a precursor for failed training. sometimes this happens because the generation kwargs are not correctly set. Please make sure that the generation kwargs are set correctly, or review your training hyperparameters.\n",
      "  warnings.warn(\n",
      "Setting `pad_token_id` to `eos_token_id`:None for open-end generation.\n"
     ]
    },
    {
     "name": "stdout",
     "output_type": "stream",
     "text": [
      "Prompt: [INST] 19 es igual a [/INST]\n",
      "Respuesta: [INST] 19 es igual a [/INST]\" [/Join]) != EBE 19\n",
      "Recompensa: -10\n",
      "Prompt: [INST] 22 es igual a [/INST]\n",
      "Respuesta: [INST] 22 es igual a [/INST]]; [/INST]INST]head]); }\n",
      "Recompensa: -13\n"
     ]
    },
    {
     "name": "stderr",
     "output_type": "stream",
     "text": [
      "Setting `pad_token_id` to `eos_token_id`:None for open-end generation.\n",
      "/home/aurora/miniconda3/lib/python3.11/site-packages/trl/trainer/ppo_trainer.py:1313: UserWarning: KL divergence is starting to become negative: -2.26 - this might be a precursor for failed training. sometimes this happens because the generation kwargs are not correctly set. Please make sure that the generation kwargs are set correctly, or review your training hyperparameters.\n",
      "  warnings.warn(\n",
      "Setting `pad_token_id` to `eos_token_id`:None for open-end generation.\n"
     ]
    },
    {
     "name": "stdout",
     "output_type": "stream",
     "text": [
      "Prompt: [INST] 25 es igual a [/INST]\n",
      "Respuesta: [INST] 25 es igual a [/INST]]\n",
      "here bliland blifau num\n",
      "Recompensa: -16\n",
      "Prompt: [INST] 28 es igual a [/INST]\n",
      "Respuesta: [INST] 28 es igual a [/INST] 28 28 es ig 28 28 es] 28\n",
      "Recompensa: -19\n"
     ]
    },
    {
     "name": "stderr",
     "output_type": "stream",
     "text": [
      "/home/aurora/miniconda3/lib/python3.11/site-packages/trl/trainer/ppo_trainer.py:1313: UserWarning: KL divergence is starting to become negative: -2.45 - this might be a precursor for failed training. sometimes this happens because the generation kwargs are not correctly set. Please make sure that the generation kwargs are set correctly, or review your training hyperparameters.\n",
      "  warnings.warn(\n",
      "Setting `pad_token_id` to `eos_token_id`:None for open-end generation.\n",
      "/home/aurora/miniconda3/lib/python3.11/site-packages/trl/trainer/ppo_trainer.py:1313: UserWarning: KL divergence is starting to become negative: -4.94 - this might be a precursor for failed training. sometimes this happens because the generation kwargs are not correctly set. Please make sure that the generation kwargs are set correctly, or review your training hyperparameters.\n",
      "  warnings.warn(\n",
      "Setting `pad_token_id` to `eos_token_id`:None for open-end generation.\n"
     ]
    },
    {
     "name": "stdout",
     "output_type": "stream",
     "text": [
      "Prompt: [INST] 31 es igual a [/INST]\n",
      "Respuesta: [INST] 31 es igual a [/INST] 31 es ig[/ENRSN[/E\n",
      "Recompensa: -22\n",
      "Prompt: [INST] 34 es igual a [/INST]\n",
      "Respuesta: [INST] 34 es igual a [/INST]?/COR?.2014[/INST]\n",
      "Recompensa: -25\n"
     ]
    },
    {
     "name": "stderr",
     "output_type": "stream",
     "text": [
      "/home/aurora/miniconda3/lib/python3.11/site-packages/trl/trainer/ppo_trainer.py:1313: UserWarning: KL divergence is starting to become negative: -6.24 - this might be a precursor for failed training. sometimes this happens because the generation kwargs are not correctly set. Please make sure that the generation kwargs are set correctly, or review your training hyperparameters.\n",
      "  warnings.warn(\n",
      "Setting `pad_token_id` to `eos_token_id`:None for open-end generation.\n",
      "/home/aurora/miniconda3/lib/python3.11/site-packages/trl/trainer/ppo_trainer.py:1313: UserWarning: KL divergence is starting to become negative: -7.37 - this might be a precursor for failed training. sometimes this happens because the generation kwargs are not correctly set. Please make sure that the generation kwargs are set correctly, or review your training hyperparameters.\n",
      "  warnings.warn(\n",
      "Setting `pad_token_id` to `eos_token_id`:None for open-end generation.\n"
     ]
    },
    {
     "name": "stdout",
     "output_type": "stream",
     "text": [
      "Prompt: [INST] 37 es igual a [/INST]\n",
      "Respuesta: [INST] 37 es igual a [/INST] a.INST 37 es.E.INST\n",
      "Recompensa: -28\n",
      "Prompt: [INST] 40 es igual a [/INST]\n",
      "Respuesta: [INST] 40 es igual a [/INST] 40 es [/INST] [/Dec] E\n",
      "Recompensa: -31\n"
     ]
    },
    {
     "name": "stderr",
     "output_type": "stream",
     "text": [
      "Setting `pad_token_id` to `eos_token_id`:None for open-end generation.\n",
      "Setting `pad_token_id` to `eos_token_id`:None for open-end generation.\n"
     ]
    },
    {
     "name": "stdout",
     "output_type": "stream",
     "text": [
      "Prompt: [INST] 43 es igual a [/INST]\n",
      "Respuesta: [INST] 43 es igual a [/INST]]][INST]DES]DES]\n",
      "Recompensa: -34\n",
      "Prompt: [INST] 46 es igual a [/INST]\n",
      "Respuesta: [INST] 46 es igual a [/INST]):[/INST]?-blbl]\n",
      "Recompensa: -37\n"
     ]
    },
    {
     "name": "stderr",
     "output_type": "stream",
     "text": [
      "Setting `pad_token_id` to `eos_token_id`:None for open-end generation.\n",
      "Setting `pad_token_id` to `eos_token_id`:None for open-end generation.\n"
     ]
    },
    {
     "name": "stdout",
     "output_type": "stream",
     "text": [
      "Prompt: [INST] 49 es igual a [/INST]\n",
      "Respuesta: [INST] 49 es igual a [/INST] 48 es\n",
      "DutchK]: 49 eshop\n",
      "Recompensa: -40\n",
      "Prompt: [INST] 10 es igual a [/INST]\n",
      "Respuesta: [INST] 10 es igual a [/INST] igues igero igius [/INSTINST\n",
      "Recompensa: -1\n"
     ]
    },
    {
     "name": "stderr",
     "output_type": "stream",
     "text": [
      "/home/aurora/miniconda3/lib/python3.11/site-packages/trl/trainer/ppo_trainer.py:1313: UserWarning: KL divergence is starting to become negative: -55.63 - this might be a precursor for failed training. sometimes this happens because the generation kwargs are not correctly set. Please make sure that the generation kwargs are set correctly, or review your training hyperparameters.\n",
      "  warnings.warn(\n",
      "Setting `pad_token_id` to `eos_token_id`:None for open-end generation.\n",
      "/home/aurora/miniconda3/lib/python3.11/site-packages/trl/trainer/ppo_trainer.py:1313: UserWarning: KL divergence is starting to become negative: -54.31 - this might be a precursor for failed training. sometimes this happens because the generation kwargs are not correctly set. Please make sure that the generation kwargs are set correctly, or review your training hyperparameters.\n",
      "  warnings.warn(\n",
      "Setting `pad_token_id` to `eos_token_id`:None for open-end generation.\n"
     ]
    },
    {
     "name": "stdout",
     "output_type": "stream",
     "text": [
      "Prompt: [INST] 13 es igual a [/INST]\n",
      "Respuesta: [INST] 13 es igual a [/INST] 13 ig [/INST]: 13 ig] [/\n",
      "Recompensa: -4\n",
      "Prompt: [INST] 16 es igual a [/INST]\n",
      "Respuesta: [INST] 16 es igual a [/INST] [/] [/INST [/ [/ [/ [/16\n",
      "Recompensa: -7\n"
     ]
    },
    {
     "name": "stderr",
     "output_type": "stream",
     "text": [
      "/home/aurora/miniconda3/lib/python3.11/site-packages/trl/trainer/ppo_trainer.py:1313: UserWarning: KL divergence is starting to become negative: -65.77 - this might be a precursor for failed training. sometimes this happens because the generation kwargs are not correctly set. Please make sure that the generation kwargs are set correctly, or review your training hyperparameters.\n",
      "  warnings.warn(\n",
      "Setting `pad_token_id` to `eos_token_id`:None for open-end generation.\n",
      "/home/aurora/miniconda3/lib/python3.11/site-packages/trl/trainer/ppo_trainer.py:1313: UserWarning: KL divergence is starting to become negative: -53.85 - this might be a precursor for failed training. sometimes this happens because the generation kwargs are not correctly set. Please make sure that the generation kwargs are set correctly, or review your training hyperparameters.\n",
      "  warnings.warn(\n",
      "Setting `pad_token_id` to `eos_token_id`:None for open-end generation.\n"
     ]
    },
    {
     "name": "stdout",
     "output_type": "stream",
     "text": [
      "Prompt: [INST] 19 es igual a [/INST]\n",
      "Respuesta: [INST] 19 es igual a [/INST] 19 modifead modifead 19 mod\n",
      "Recompensa: -10\n",
      "Prompt: [INST] 22 es igual a [/INST]\n",
      "Respuesta: [INST] 22 es igual a [/INST] bur, NO: 02:E -.\n",
      "Recompensa: -13\n"
     ]
    },
    {
     "name": "stderr",
     "output_type": "stream",
     "text": [
      "/home/aurora/miniconda3/lib/python3.11/site-packages/trl/trainer/ppo_trainer.py:1313: UserWarning: KL divergence is starting to become negative: -12.57 - this might be a precursor for failed training. sometimes this happens because the generation kwargs are not correctly set. Please make sure that the generation kwargs are set correctly, or review your training hyperparameters.\n",
      "  warnings.warn(\n",
      "Setting `pad_token_id` to `eos_token_id`:None for open-end generation.\n",
      "/home/aurora/miniconda3/lib/python3.11/site-packages/trl/trainer/ppo_trainer.py:1313: UserWarning: KL divergence is starting to become negative: -26.28 - this might be a precursor for failed training. sometimes this happens because the generation kwargs are not correctly set. Please make sure that the generation kwargs are set correctly, or review your training hyperparameters.\n",
      "  warnings.warn(\n",
      "Setting `pad_token_id` to `eos_token_id`:None for open-end generation.\n"
     ]
    },
    {
     "name": "stdout",
     "output_type": "stream",
     "text": [
      "Prompt: [INST] 25 es igual a [/INST]\n",
      "Respuesta: [INST] 25 es igual a [/INST] [/ esborder]; 25 esbr [/ es\n",
      "Recompensa: -16\n",
      "Prompt: [INST] 28 es igual a [/INST]\n",
      "Respuesta: [INST] 28 es igual a [/INST][\"dd] hope bl\"]-28inge\n",
      "Recompensa: -19\n"
     ]
    },
    {
     "name": "stderr",
     "output_type": "stream",
     "text": [
      "/home/aurora/miniconda3/lib/python3.11/site-packages/trl/trainer/ppo_trainer.py:1313: UserWarning: KL divergence is starting to become negative: -4.46 - this might be a precursor for failed training. sometimes this happens because the generation kwargs are not correctly set. Please make sure that the generation kwargs are set correctly, or review your training hyperparameters.\n",
      "  warnings.warn(\n",
      "Setting `pad_token_id` to `eos_token_id`:None for open-end generation.\n",
      "/home/aurora/miniconda3/lib/python3.11/site-packages/trl/trainer/ppo_trainer.py:1313: UserWarning: KL divergence is starting to become negative: -54.52 - this might be a precursor for failed training. sometimes this happens because the generation kwargs are not correctly set. Please make sure that the generation kwargs are set correctly, or review your training hyperparameters.\n",
      "  warnings.warn(\n",
      "Setting `pad_token_id` to `eos_token_id`:None for open-end generation.\n"
     ]
    },
    {
     "name": "stdout",
     "output_type": "stream",
     "text": [
      "Prompt: [INST] 31 es igual a [/INST]\n",
      "Respuesta: [INST] 31 es igual a [/INST] fe 01 abi 03 abil 03 ab\n",
      "Recompensa: -22\n",
      "Prompt: [INST] 34 es igual a [/INST]\n",
      "Respuesta: [INST] 34 es igual a [/INST]?&]?:-bye:bye]\n",
      "Recompensa: -25\n"
     ]
    },
    {
     "name": "stderr",
     "output_type": "stream",
     "text": [
      "/home/aurora/miniconda3/lib/python3.11/site-packages/trl/trainer/ppo_trainer.py:1313: UserWarning: KL divergence is starting to become negative: -3.48 - this might be a precursor for failed training. sometimes this happens because the generation kwargs are not correctly set. Please make sure that the generation kwargs are set correctly, or review your training hyperparameters.\n",
      "  warnings.warn(\n",
      "Setting `pad_token_id` to `eos_token_id`:None for open-end generation.\n",
      "/home/aurora/miniconda3/lib/python3.11/site-packages/trl/trainer/ppo_trainer.py:1313: UserWarning: KL divergence is starting to become negative: -5.06 - this might be a precursor for failed training. sometimes this happens because the generation kwargs are not correctly set. Please make sure that the generation kwargs are set correctly, or review your training hyperparameters.\n",
      "  warnings.warn(\n",
      "Setting `pad_token_id` to `eos_token_id`:None for open-end generation.\n"
     ]
    },
    {
     "name": "stdout",
     "output_type": "stream",
     "text": [
      "Prompt: [INST] 37 es igual a [/INST]\n",
      "Respuesta: [INST] 37 es igual a [/INST] -];]; DUP 37 es igien a\n",
      "Recompensa: -28\n",
      "Prompt: [INST] 40 es igual a [/INST]\n",
      "Respuesta: [INST] 40 es igual a [/INST]]E];[/],\"fell],\"fellfell\n",
      "Recompensa: -31\n"
     ]
    },
    {
     "name": "stderr",
     "output_type": "stream",
     "text": [
      "Setting `pad_token_id` to `eos_token_id`:None for open-end generation.\n",
      "/home/aurora/miniconda3/lib/python3.11/site-packages/trl/trainer/ppo_trainer.py:1313: UserWarning: KL divergence is starting to become negative: -2.17 - this might be a precursor for failed training. sometimes this happens because the generation kwargs are not correctly set. Please make sure that the generation kwargs are set correctly, or review your training hyperparameters.\n",
      "  warnings.warn(\n",
      "Setting `pad_token_id` to `eos_token_id`:None for open-end generation.\n"
     ]
    },
    {
     "name": "stdout",
     "output_type": "stream",
     "text": [
      "Prompt: [INST] 43 es igual a [/INST]\n",
      "Respuesta: [INST] 43 es igual a [/INST] blfl: Nf nfb a\n",
      "Recompensa: -34\n"
     ]
    },
    {
     "name": "stderr",
     "output_type": "stream",
     "text": [
      "/home/aurora/miniconda3/lib/python3.11/site-packages/trl/trainer/ppo_trainer.py:1313: UserWarning: KL divergence is starting to become negative: -25.62 - this might be a precursor for failed training. sometimes this happens because the generation kwargs are not correctly set. Please make sure that the generation kwargs are set correctly, or review your training hyperparameters.\n",
      "  warnings.warn(\n",
      "Setting `pad_token_id` to `eos_token_id`:None for open-end generation.\n"
     ]
    },
    {
     "name": "stdout",
     "output_type": "stream",
     "text": [
      "Prompt: [INST] 46 es igual a [/INST]\n",
      "Respuesta: [INST] 46 es igual a [/INST] [/INST] [/INST]\", [/INST\n",
      "Recompensa: -37\n",
      "Prompt: [INST] 49 es igual a [/INST]\n",
      "Respuesta: [INST] 49 es igual a [/INST]] by es[/INST]?ls?\n",
      "Recompensa: -40\n"
     ]
    },
    {
     "name": "stderr",
     "output_type": "stream",
     "text": [
      "Setting `pad_token_id` to `eos_token_id`:None for open-end generation.\n",
      "/home/aurora/miniconda3/lib/python3.11/site-packages/trl/trainer/ppo_trainer.py:1313: UserWarning: KL divergence is starting to become negative: -14.73 - this might be a precursor for failed training. sometimes this happens because the generation kwargs are not correctly set. Please make sure that the generation kwargs are set correctly, or review your training hyperparameters.\n",
      "  warnings.warn(\n",
      "Setting `pad_token_id` to `eos_token_id`:None for open-end generation.\n"
     ]
    },
    {
     "name": "stdout",
     "output_type": "stream",
     "text": [
      "Prompt: [INST] 10 es igual a [/INST]\n",
      "Respuesta: [INST] 10 es igual a [/INST]\n",
      "INST.Get /PowerManager&FE\n",
      "Recompensa: -1\n",
      "Prompt: [INST] 13 es igual a [/INST]\n",
      "Respuesta: [INST] 13 es igual a [/INST].b Lange Dec); 13 sep NOR13\n",
      "Recompensa: -4\n"
     ]
    },
    {
     "name": "stderr",
     "output_type": "stream",
     "text": [
      "/home/aurora/miniconda3/lib/python3.11/site-packages/trl/trainer/ppo_trainer.py:1313: UserWarning: KL divergence is starting to become negative: -7.03 - this might be a precursor for failed training. sometimes this happens because the generation kwargs are not correctly set. Please make sure that the generation kwargs are set correctly, or review your training hyperparameters.\n",
      "  warnings.warn(\n",
      "Setting `pad_token_id` to `eos_token_id`:None for open-end generation.\n",
      "/home/aurora/miniconda3/lib/python3.11/site-packages/trl/trainer/ppo_trainer.py:1313: UserWarning: KL divergence is starting to become negative: -48.78 - this might be a precursor for failed training. sometimes this happens because the generation kwargs are not correctly set. Please make sure that the generation kwargs are set correctly, or review your training hyperparameters.\n",
      "  warnings.warn(\n",
      "Setting `pad_token_id` to `eos_token_id`:None for open-end generation.\n"
     ]
    },
    {
     "name": "stdout",
     "output_type": "stream",
     "text": [
      "Prompt: [INST] 16 es igual a [/INST]\n",
      "Respuesta: [INST] 16 es igual a [/INST] 16 igual //౱16]\n",
      "Recompensa: -7\n",
      "Prompt: [INST] 19 es igual a [/INST]\n",
      "Respuesta: [INST] 19 es igual a [/INST] void due to stack? /func??\n",
      "Recompensa: -10\n"
     ]
    },
    {
     "name": "stderr",
     "output_type": "stream",
     "text": [
      "/home/aurora/miniconda3/lib/python3.11/site-packages/trl/trainer/ppo_trainer.py:1313: UserWarning: KL divergence is starting to become negative: -19.48 - this might be a precursor for failed training. sometimes this happens because the generation kwargs are not correctly set. Please make sure that the generation kwargs are set correctly, or review your training hyperparameters.\n",
      "  warnings.warn(\n",
      "Setting `pad_token_id` to `eos_token_id`:None for open-end generation.\n",
      "/home/aurora/miniconda3/lib/python3.11/site-packages/trl/trainer/ppo_trainer.py:1313: UserWarning: KL divergence is starting to become negative: -35.64 - this might be a precursor for failed training. sometimes this happens because the generation kwargs are not correctly set. Please make sure that the generation kwargs are set correctly, or review your training hyperparameters.\n",
      "  warnings.warn(\n",
      "Setting `pad_token_id` to `eos_token_id`:None for open-end generation.\n"
     ]
    },
    {
     "name": "stdout",
     "output_type": "stream",
     "text": [
      "Prompt: [INST] 22 es igual a [/INST]\n",
      "Respuesta: [INST] 22 es igual a [/INST] 02 02 [INST] 00\") 02-\n",
      "Recompensa: -13\n",
      "Prompt: [INST] 25 es igual a [/INST]\n",
      "Respuesta: [INST] 25 es igual a [/INST]? Dec: {1} Mar? {\n",
      "Recompensa: -16\n"
     ]
    },
    {
     "name": "stderr",
     "output_type": "stream",
     "text": [
      "/home/aurora/miniconda3/lib/python3.11/site-packages/trl/trainer/ppo_trainer.py:1313: UserWarning: KL divergence is starting to become negative: -14.29 - this might be a precursor for failed training. sometimes this happens because the generation kwargs are not correctly set. Please make sure that the generation kwargs are set correctly, or review your training hyperparameters.\n",
      "  warnings.warn(\n",
      "Setting `pad_token_id` to `eos_token_id`:None for open-end generation.\n",
      "Setting `pad_token_id` to `eos_token_id`:None for open-end generation.\n"
     ]
    },
    {
     "name": "stdout",
     "output_type": "stream",
     "text": [
      "Prompt: [INST] 28 es igual a [/INST]\n",
      "Respuesta: [INST] 28 es igual a [/INST] 28 es] 28 esN 28 esN\n",
      "Recompensa: -19\n",
      "Prompt: [INST] 31 es igual a [/INST]\n",
      "Respuesta: [INST] 31 es igual a [/INST]?[INST][INST]', 01 01\n",
      "Recompensa: -22\n"
     ]
    },
    {
     "name": "stderr",
     "output_type": "stream",
     "text": [
      "/home/aurora/miniconda3/lib/python3.11/site-packages/trl/trainer/ppo_trainer.py:1313: UserWarning: KL divergence is starting to become negative: -27.26 - this might be a precursor for failed training. sometimes this happens because the generation kwargs are not correctly set. Please make sure that the generation kwargs are set correctly, or review your training hyperparameters.\n",
      "  warnings.warn(\n",
      "Setting `pad_token_id` to `eos_token_id`:None for open-end generation.\n",
      "/home/aurora/miniconda3/lib/python3.11/site-packages/trl/trainer/ppo_trainer.py:1313: UserWarning: KL divergence is starting to become negative: -34.54 - this might be a precursor for failed training. sometimes this happens because the generation kwargs are not correctly set. Please make sure that the generation kwargs are set correctly, or review your training hyperparameters.\n",
      "  warnings.warn(\n",
      "Setting `pad_token_id` to `eos_token_id`:None for open-end generation.\n"
     ]
    },
    {
     "name": "stdout",
     "output_type": "stream",
     "text": [
      "Prompt: [INST] 34 es igual a [/INST]\n",
      "Respuesta: [INST] 34 es igual a [/INST] 0 l l \"]\" l \"\n",
      "\n",
      "\n",
      "Recompensa: -25\n",
      "Prompt: [INST] 37 es igual a [/INST]\n",
      "Respuesta: [INST] 37 es igual a [/INST] e? 37 es ig? 37 es?\n",
      "Recompensa: -28\n"
     ]
    },
    {
     "name": "stderr",
     "output_type": "stream",
     "text": [
      "Setting `pad_token_id` to `eos_token_id`:None for open-end generation.\n",
      "Setting `pad_token_id` to `eos_token_id`:None for open-end generation.\n"
     ]
    },
    {
     "name": "stdout",
     "output_type": "stream",
     "text": [
      "Prompt: [INST] 40 es igual a [/INST]\n",
      "Respuesta: [INST] 40 es igual a [/INST] 40 void void E ig ]) [/INST]\n",
      "Recompensa: -31\n",
      "Prompt: [INST] 43 es igual a [/INST]\n",
      "Respuesta: [INST] 43 es igual a [/INST]?={mc igual. ig} ig\n",
      "Recompensa: -34\n"
     ]
    },
    {
     "name": "stderr",
     "output_type": "stream",
     "text": [
      "/home/aurora/miniconda3/lib/python3.11/site-packages/trl/trainer/ppo_trainer.py:1313: UserWarning: KL divergence is starting to become negative: -29.81 - this might be a precursor for failed training. sometimes this happens because the generation kwargs are not correctly set. Please make sure that the generation kwargs are set correctly, or review your training hyperparameters.\n",
      "  warnings.warn(\n",
      "Setting `pad_token_id` to `eos_token_id`:None for open-end generation.\n",
      "Setting `pad_token_id` to `eos_token_id`:None for open-end generation.\n"
     ]
    },
    {
     "name": "stdout",
     "output_type": "stream",
     "text": [
      "Prompt: [INST] 46 es igual a [/INST]\n",
      "Respuesta: [INST] 46 es igual a [/INST] 46 es igho 49 es ig]?\n",
      "Recompensa: -37\n",
      "Prompt: [INST] 49 es igual a [/INST]\n",
      "Respuesta: [INST] 49 es igual a [/INST] 49 igl. a] [][INST\n",
      "Recompensa: -40\n"
     ]
    },
    {
     "name": "stderr",
     "output_type": "stream",
     "text": [
      "Setting `pad_token_id` to `eos_token_id`:None for open-end generation.\n",
      "/home/aurora/miniconda3/lib/python3.11/site-packages/trl/trainer/ppo_trainer.py:1313: UserWarning: KL divergence is starting to become negative: -65.52 - this might be a precursor for failed training. sometimes this happens because the generation kwargs are not correctly set. Please make sure that the generation kwargs are set correctly, or review your training hyperparameters.\n",
      "  warnings.warn(\n",
      "Setting `pad_token_id` to `eos_token_id`:None for open-end generation.\n"
     ]
    },
    {
     "name": "stdout",
     "output_type": "stream",
     "text": [
      "Prompt: [INST] 10 es igual a [/INST]\n",
      "Respuesta: [INST] 10 es igual a [/INST]\n",
      "\n",
      "\n",
      "10 [10W]\n",
      "\n",
      "Recompensa: -1\n",
      "Prompt: [INST] 13 es igual a [/INST]\n",
      "Respuesta: [INST] 13 es igual a [/INST]INSTINSTINST]13INSTINSTINST13\n",
      "Recompensa: -4\n"
     ]
    },
    {
     "name": "stderr",
     "output_type": "stream",
     "text": [
      "/home/aurora/miniconda3/lib/python3.11/site-packages/trl/trainer/ppo_trainer.py:1313: UserWarning: KL divergence is starting to become negative: -36.30 - this might be a precursor for failed training. sometimes this happens because the generation kwargs are not correctly set. Please make sure that the generation kwargs are set correctly, or review your training hyperparameters.\n",
      "  warnings.warn(\n",
      "Setting `pad_token_id` to `eos_token_id`:None for open-end generation.\n",
      "/home/aurora/miniconda3/lib/python3.11/site-packages/trl/trainer/ppo_trainer.py:1313: UserWarning: KL divergence is starting to become negative: -44.60 - this might be a precursor for failed training. sometimes this happens because the generation kwargs are not correctly set. Please make sure that the generation kwargs are set correctly, or review your training hyperparameters.\n",
      "  warnings.warn(\n",
      "Setting `pad_token_id` to `eos_token_id`:None for open-end generation.\n"
     ]
    },
    {
     "name": "stdout",
     "output_type": "stream",
     "text": [
      "Prompt: [INST] 16 es igual a [/INST]\n",
      "Respuesta: [INST] 16 es igual a [/INST]\n",
      "This is [/this]this [/this\n",
      "Recompensa: -7\n",
      "Prompt: [INST] 19 es igual a [/INST]\n",
      "Respuesta: [INST] 19 es igual a [/INST] 19 es ig?-?-?-\n",
      "Recompensa: -10\n"
     ]
    },
    {
     "name": "stderr",
     "output_type": "stream",
     "text": [
      "/home/aurora/miniconda3/lib/python3.11/site-packages/trl/trainer/ppo_trainer.py:1313: UserWarning: KL divergence is starting to become negative: -27.72 - this might be a precursor for failed training. sometimes this happens because the generation kwargs are not correctly set. Please make sure that the generation kwargs are set correctly, or review your training hyperparameters.\n",
      "  warnings.warn(\n",
      "Setting `pad_token_id` to `eos_token_id`:None for open-end generation.\n",
      "Setting `pad_token_id` to `eos_token_id`:None for open-end generation.\n"
     ]
    },
    {
     "name": "stdout",
     "output_type": "stream",
     "text": [
      "Prompt: [INST] 22 es igual a [/INST]\n",
      "Respuesta: [INST] 22 es igual a [/INST]];[/cell][21])\n",
      "\n",
      "\n",
      "Recompensa: -13\n",
      "Prompt: [INST] 25 es igual a [/INST]\n",
      "Respuesta: [INST] 25 es igual a [/INST]25 25 //[ OUT]25 25 pos]\n",
      "Recompensa: -16\n"
     ]
    },
    {
     "name": "stderr",
     "output_type": "stream",
     "text": [
      "/home/aurora/miniconda3/lib/python3.11/site-packages/trl/trainer/ppo_trainer.py:1313: UserWarning: KL divergence is starting to become negative: -8.25 - this might be a precursor for failed training. sometimes this happens because the generation kwargs are not correctly set. Please make sure that the generation kwargs are set correctly, or review your training hyperparameters.\n",
      "  warnings.warn(\n",
      "Setting `pad_token_id` to `eos_token_id`:None for open-end generation.\n",
      "Setting `pad_token_id` to `eos_token_id`:None for open-end generation.\n"
     ]
    },
    {
     "name": "stdout",
     "output_type": "stream",
     "text": [
      "Prompt: [INST] 28 es igual a [/INST]\n",
      "Respuesta: [INST] 28 es igual a [/INST] 28 es void 28 es ig].?E\n",
      "Recompensa: -19\n",
      "Prompt: [INST] 31 es igual a [/INST]\n",
      "Respuesta: [INST] 31 es igual a [/INST]NJNJ 01 NORNJNJNJ-----]\n",
      "Recompensa: -22\n"
     ]
    },
    {
     "name": "stderr",
     "output_type": "stream",
     "text": [
      "/home/aurora/miniconda3/lib/python3.11/site-packages/trl/trainer/ppo_trainer.py:1313: UserWarning: KL divergence is starting to become negative: -40.24 - this might be a precursor for failed training. sometimes this happens because the generation kwargs are not correctly set. Please make sure that the generation kwargs are set correctly, or review your training hyperparameters.\n",
      "  warnings.warn(\n",
      "Setting `pad_token_id` to `eos_token_id`:None for open-end generation.\n",
      "/home/aurora/miniconda3/lib/python3.11/site-packages/trl/trainer/ppo_trainer.py:1313: UserWarning: KL divergence is starting to become negative: -18.71 - this might be a precursor for failed training. sometimes this happens because the generation kwargs are not correctly set. Please make sure that the generation kwargs are set correctly, or review your training hyperparameters.\n",
      "  warnings.warn(\n",
      "Setting `pad_token_id` to `eos_token_id`:None for open-end generation.\n"
     ]
    },
    {
     "name": "stdout",
     "output_type": "stream",
     "text": [
      "Prompt: [INST] 34 es igual a [/INST]\n",
      "Respuesta: [INST] 34 es igual a [/INST]+[INST]+]?[/Dr\n",
      "Recompensa: -25\n",
      "Prompt: [INST] 37 es igual a [/INST]\n",
      "Respuesta: [INST] 37 es igual a [/INST] 37\n",
      "\n",
      "[/INST] 37 37]\n",
      "Recompensa: -28\n"
     ]
    },
    {
     "name": "stderr",
     "output_type": "stream",
     "text": [
      "/home/aurora/miniconda3/lib/python3.11/site-packages/trl/trainer/ppo_trainer.py:1313: UserWarning: KL divergence is starting to become negative: -22.18 - this might be a precursor for failed training. sometimes this happens because the generation kwargs are not correctly set. Please make sure that the generation kwargs are set correctly, or review your training hyperparameters.\n",
      "  warnings.warn(\n",
      "Setting `pad_token_id` to `eos_token_id`:None for open-end generation.\n",
      "Setting `pad_token_id` to `eos_token_id`:None for open-end generation.\n"
     ]
    },
    {
     "name": "stdout",
     "output_type": "stream",
     "text": [
      "Prompt: [INST] 40 es igual a [/INST]\n",
      "Respuesta: [INST] 40 es igual a [/INST]?Lg])[Ll]===\n",
      "Recompensa: -31\n",
      "Prompt: [INST] 43 es igual a [/INST]\n",
      "Respuesta: [INST] 43 es igual a [/INST]];] 43 eslv)?heads)?heads\n",
      "Recompensa: -34\n"
     ]
    },
    {
     "name": "stderr",
     "output_type": "stream",
     "text": [
      "Setting `pad_token_id` to `eos_token_id`:None for open-end generation.\n",
      "Setting `pad_token_id` to `eos_token_id`:None for open-end generation.\n"
     ]
    },
    {
     "name": "stdout",
     "output_type": "stream",
     "text": [
      "Prompt: [INST] 46 es igual a [/INST]\n",
      "Respuesta: [INST] 46 es igual a [/INST]heads,? respectively?)\n",
      "\n",
      "Chuck eject\n",
      "Recompensa: -37\n",
      "Prompt: [INST] 49 es igual a [/INST]\n",
      "Respuesta: [INST] 49 es igual a [/INST] 49 fe fe\n",
      "ld fe fe\n",
      "ld\n",
      "Recompensa: -40\n"
     ]
    },
    {
     "name": "stderr",
     "output_type": "stream",
     "text": [
      "/home/aurora/miniconda3/lib/python3.11/site-packages/trl/trainer/ppo_trainer.py:1313: UserWarning: KL divergence is starting to become negative: -26.54 - this might be a precursor for failed training. sometimes this happens because the generation kwargs are not correctly set. Please make sure that the generation kwargs are set correctly, or review your training hyperparameters.\n",
      "  warnings.warn(\n",
      "Setting `pad_token_id` to `eos_token_id`:None for open-end generation.\n",
      "/home/aurora/miniconda3/lib/python3.11/site-packages/trl/trainer/ppo_trainer.py:1313: UserWarning: KL divergence is starting to become negative: -65.68 - this might be a precursor for failed training. sometimes this happens because the generation kwargs are not correctly set. Please make sure that the generation kwargs are set correctly, or review your training hyperparameters.\n",
      "  warnings.warn(\n",
      "Setting `pad_token_id` to `eos_token_id`:None for open-end generation.\n"
     ]
    },
    {
     "name": "stdout",
     "output_type": "stream",
     "text": [
      "Prompt: [INST] 10 es igual a [/INST]\n",
      "Respuesta: [INST] 10 es igual a [/INST]\n",
      "\n",
      "[INST]\n",
      "\n",
      "if [\n",
      "Recompensa: -1\n",
      "Prompt: [INST] 13 es igual a [/INST]\n",
      "Respuesta: [INST] 13 es igual a [/INST] 13 es ig?SES]);\n",
      "\n",
      "\n",
      "Recompensa: -4\n"
     ]
    },
    {
     "name": "stderr",
     "output_type": "stream",
     "text": [
      "/home/aurora/miniconda3/lib/python3.11/site-packages/trl/trainer/ppo_trainer.py:1313: UserWarning: KL divergence is starting to become negative: -60.49 - this might be a precursor for failed training. sometimes this happens because the generation kwargs are not correctly set. Please make sure that the generation kwargs are set correctly, or review your training hyperparameters.\n",
      "  warnings.warn(\n",
      "Setting `pad_token_id` to `eos_token_id`:None for open-end generation.\n",
      "/home/aurora/miniconda3/lib/python3.11/site-packages/trl/trainer/ppo_trainer.py:1313: UserWarning: KL divergence is starting to become negative: -28.03 - this might be a precursor for failed training. sometimes this happens because the generation kwargs are not correctly set. Please make sure that the generation kwargs are set correctly, or review your training hyperparameters.\n",
      "  warnings.warn(\n",
      "Setting `pad_token_id` to `eos_token_id`:None for open-end generation.\n"
     ]
    },
    {
     "name": "stdout",
     "output_type": "stream",
     "text": [
      "Prompt: [INST] 16 es igual a [/INST]\n",
      "Respuesta: [INST] 16 es igual a [/INST]][BY //[INST][N]][SPONSORED\n",
      "Recompensa: -7\n",
      "Prompt: [INST] 19 es igual a [/INST]\n",
      "Respuesta: [INST] 19 es igual a [/INST]???:? 19 es 1 es 2\n",
      "Recompensa: -10\n"
     ]
    },
    {
     "name": "stderr",
     "output_type": "stream",
     "text": [
      "/home/aurora/miniconda3/lib/python3.11/site-packages/trl/trainer/ppo_trainer.py:1313: UserWarning: KL divergence is starting to become negative: -46.50 - this might be a precursor for failed training. sometimes this happens because the generation kwargs are not correctly set. Please make sure that the generation kwargs are set correctly, or review your training hyperparameters.\n",
      "  warnings.warn(\n",
      "Setting `pad_token_id` to `eos_token_id`:None for open-end generation.\n",
      "/home/aurora/miniconda3/lib/python3.11/site-packages/trl/trainer/ppo_trainer.py:1313: UserWarning: KL divergence is starting to become negative: -83.92 - this might be a precursor for failed training. sometimes this happens because the generation kwargs are not correctly set. Please make sure that the generation kwargs are set correctly, or review your training hyperparameters.\n",
      "  warnings.warn(\n",
      "Setting `pad_token_id` to `eos_token_id`:None for open-end generation.\n"
     ]
    },
    {
     "name": "stdout",
     "output_type": "stream",
     "text": [
      "Prompt: [INST] 22 es igual a [/INST]\n",
      "Respuesta: [INST] 22 es igual a [/INST]]+++ es es es es es es[/\n",
      "Recompensa: -13\n",
      "Prompt: [INST] 25 es igual a [/INST]\n",
      "Respuesta: [INST] 25 es igual a [/INST] 25 25 25 25 sup 25 25 25 25\n",
      "Recompensa: -16\n"
     ]
    },
    {
     "name": "stderr",
     "output_type": "stream",
     "text": [
      "/home/aurora/miniconda3/lib/python3.11/site-packages/trl/trainer/ppo_trainer.py:1313: UserWarning: KL divergence is starting to become negative: -81.84 - this might be a precursor for failed training. sometimes this happens because the generation kwargs are not correctly set. Please make sure that the generation kwargs are set correctly, or review your training hyperparameters.\n",
      "  warnings.warn(\n",
      "Setting `pad_token_id` to `eos_token_id`:None for open-end generation.\n",
      "Setting `pad_token_id` to `eos_token_id`:None for open-end generation.\n"
     ]
    },
    {
     "name": "stdout",
     "output_type": "stream",
     "text": [
      "Prompt: [INST] 28 es igual a [/INST]\n",
      "Respuesta: [INST] 28 es igual a [/INST] 28 es ig 28 28\n",
      "DES) 28\n",
      "Recompensa: -19\n",
      "Prompt: [INST] 31 es igual a [/INST]\n",
      "Respuesta: [INST] 31 es igual a [/INST]\n",
      "\" 31E 31E]\n",
      "31\n",
      "Recompensa: -22\n"
     ]
    },
    {
     "name": "stderr",
     "output_type": "stream",
     "text": [
      "/home/aurora/miniconda3/lib/python3.11/site-packages/trl/trainer/ppo_trainer.py:1313: UserWarning: KL divergence is starting to become negative: -15.66 - this might be a precursor for failed training. sometimes this happens because the generation kwargs are not correctly set. Please make sure that the generation kwargs are set correctly, or review your training hyperparameters.\n",
      "  warnings.warn(\n",
      "Setting `pad_token_id` to `eos_token_id`:None for open-end generation.\n",
      "/home/aurora/miniconda3/lib/python3.11/site-packages/trl/trainer/ppo_trainer.py:1313: UserWarning: KL divergence is starting to become negative: -18.35 - this might be a precursor for failed training. sometimes this happens because the generation kwargs are not correctly set. Please make sure that the generation kwargs are set correctly, or review your training hyperparameters.\n",
      "  warnings.warn(\n",
      "Setting `pad_token_id` to `eos_token_id`:None for open-end generation.\n"
     ]
    },
    {
     "name": "stdout",
     "output_type": "stream",
     "text": [
      "Prompt: [INST] 34 es igual a [/INST]\n",
      "Respuesta: [INST] 34 es igual a [/INST] 34\n",
      "\n",
      "OF 34-N-34\n",
      "Recompensa: -25\n",
      "Prompt: [INST] 37 es igual a [/INST]\n",
      "Respuesta: [INST] 37 es igual a [/INST] 37) 37 fe?]; 38 1-\n",
      "Recompensa: -28\n"
     ]
    },
    {
     "name": "stderr",
     "output_type": "stream",
     "text": [
      "Setting `pad_token_id` to `eos_token_id`:None for open-end generation.\n",
      "Setting `pad_token_id` to `eos_token_id`:None for open-end generation.\n"
     ]
    },
    {
     "name": "stdout",
     "output_type": "stream",
     "text": [
      "Prompt: [INST] 40 es igual a [/INST]\n",
      "Respuesta: [INST] 40 es igual a [/INST]=?)?=?];?E?\n",
      "Recompensa: -31\n",
      "Prompt: [INST] 43 es igual a [/INST]\n",
      "Respuesta: [INST] 43 es igual a [/INST] 43 es?br] a?tr?\n",
      "Recompensa: -34\n"
     ]
    },
    {
     "name": "stderr",
     "output_type": "stream",
     "text": [
      "Setting `pad_token_id` to `eos_token_id`:None for open-end generation.\n",
      "/home/aurora/miniconda3/lib/python3.11/site-packages/trl/trainer/ppo_trainer.py:1313: UserWarning: KL divergence is starting to become negative: -16.64 - this might be a precursor for failed training. sometimes this happens because the generation kwargs are not correctly set. Please make sure that the generation kwargs are set correctly, or review your training hyperparameters.\n",
      "  warnings.warn(\n",
      "Setting `pad_token_id` to `eos_token_id`:None for open-end generation.\n"
     ]
    },
    {
     "name": "stdout",
     "output_type": "stream",
     "text": [
      "Prompt: [INST] 46 es igual a [/INST]\n",
      "Respuesta: [INST] 46 es igual a [/INST] 46 es fr es b ö) [/\n",
      "Recompensa: -37\n",
      "Prompt: [INST] 49 es igual a [/INST]\n",
      "Respuesta: [INST] 49 es igual a [/INST] - 49 es igau aEbl)\n",
      "Recompensa: -40\n"
     ]
    },
    {
     "name": "stderr",
     "output_type": "stream",
     "text": [
      "/home/aurora/miniconda3/lib/python3.11/site-packages/trl/trainer/ppo_trainer.py:1313: UserWarning: KL divergence is starting to become negative: -15.09 - this might be a precursor for failed training. sometimes this happens because the generation kwargs are not correctly set. Please make sure that the generation kwargs are set correctly, or review your training hyperparameters.\n",
      "  warnings.warn(\n",
      "Setting `pad_token_id` to `eos_token_id`:None for open-end generation.\n",
      "/home/aurora/miniconda3/lib/python3.11/site-packages/trl/trainer/ppo_trainer.py:1313: UserWarning: KL divergence is starting to become negative: -41.38 - this might be a precursor for failed training. sometimes this happens because the generation kwargs are not correctly set. Please make sure that the generation kwargs are set correctly, or review your training hyperparameters.\n",
      "  warnings.warn(\n",
      "Setting `pad_token_id` to `eos_token_id`:None for open-end generation.\n"
     ]
    },
    {
     "name": "stdout",
     "output_type": "stream",
     "text": [
      "Prompt: [INST] 10 es igual a [/INST]\n",
      "Respuesta: [INST] 10 es igual a [/INST] );\n",
      "\n",
      "});\n",
      "\n",
      "}\n",
      "\n",
      "Recompensa: -1\n",
      "Prompt: [INST] 13 es igual a [/INST]\n",
      "Respuesta: [INST] 13 es igual a [/INST] 13 es es [/] [/_?]]\n",
      "Recompensa: -4\n"
     ]
    },
    {
     "name": "stderr",
     "output_type": "stream",
     "text": [
      "/home/aurora/miniconda3/lib/python3.11/site-packages/trl/trainer/ppo_trainer.py:1313: UserWarning: KL divergence is starting to become negative: -65.10 - this might be a precursor for failed training. sometimes this happens because the generation kwargs are not correctly set. Please make sure that the generation kwargs are set correctly, or review your training hyperparameters.\n",
      "  warnings.warn(\n",
      "Setting `pad_token_id` to `eos_token_id`:None for open-end generation.\n",
      "/home/aurora/miniconda3/lib/python3.11/site-packages/trl/trainer/ppo_trainer.py:1313: UserWarning: KL divergence is starting to become negative: -36.86 - this might be a precursor for failed training. sometimes this happens because the generation kwargs are not correctly set. Please make sure that the generation kwargs are set correctly, or review your training hyperparameters.\n",
      "  warnings.warn(\n",
      "Setting `pad_token_id` to `eos_token_id`:None for open-end generation.\n"
     ]
    },
    {
     "name": "stdout",
     "output_type": "stream",
     "text": [
      "Prompt: [INST] 16 es igual a [/INST]\n",
      "Respuesta: [INST] 16 es igual a [/INST] ASC ASC AD S EST AM B AM]\n",
      "Recompensa: -7\n",
      "Prompt: [INST] 19 es igual a [/INST]\n",
      "Respuesta: [INST] 19 es igual a [/INST]]]); } }\n",
      "\n",
      "RAW Paste\n",
      "Recompensa: -10\n"
     ]
    },
    {
     "name": "stderr",
     "output_type": "stream",
     "text": [
      "/home/aurora/miniconda3/lib/python3.11/site-packages/trl/trainer/ppo_trainer.py:1313: UserWarning: KL divergence is starting to become negative: -85.20 - this might be a precursor for failed training. sometimes this happens because the generation kwargs are not correctly set. Please make sure that the generation kwargs are set correctly, or review your training hyperparameters.\n",
      "  warnings.warn(\n",
      "Setting `pad_token_id` to `eos_token_id`:None for open-end generation.\n",
      "Setting `pad_token_id` to `eos_token_id`:None for open-end generation.\n"
     ]
    },
    {
     "name": "stdout",
     "output_type": "stream",
     "text": [
      "Prompt: [INST] 22 es igual a [/INST]\n",
      "Respuesta: [INST] 22 es igual a [/INST]set_head] 1-2 esl\n",
      "Recompensa: -13\n",
      "Prompt: [INST] 25 es igual a [/INST]\n",
      "Respuesta: [INST] 25 es igual a [/INST] [][] esl igual [/]\n",
      "Recompensa: -16\n"
     ]
    },
    {
     "name": "stderr",
     "output_type": "stream",
     "text": [
      "/home/aurora/miniconda3/lib/python3.11/site-packages/trl/trainer/ppo_trainer.py:1313: UserWarning: KL divergence is starting to become negative: -37.15 - this might be a precursor for failed training. sometimes this happens because the generation kwargs are not correctly set. Please make sure that the generation kwargs are set correctly, or review your training hyperparameters.\n",
      "  warnings.warn(\n",
      "Setting `pad_token_id` to `eos_token_id`:None for open-end generation.\n",
      "Setting `pad_token_id` to `eos_token_id`:None for open-end generation.\n"
     ]
    },
    {
     "name": "stdout",
     "output_type": "stream",
     "text": [
      "Prompt: [INST] 28 es igual a [/INST]\n",
      "Respuesta: [INST] 28 es igual a [/INST] /;]); 28 es NOR 28E bl\n",
      "Recompensa: -19\n",
      "Prompt: [INST] 31 es igual a [/INST]\n",
      "Respuesta: [INST] 31 es igual a [/INST]?]?INST?INST?INST?\n",
      "Recompensa: -22\n"
     ]
    },
    {
     "name": "stderr",
     "output_type": "stream",
     "text": [
      "/home/aurora/miniconda3/lib/python3.11/site-packages/trl/trainer/ppo_trainer.py:1313: UserWarning: KL divergence is starting to become negative: -33.88 - this might be a precursor for failed training. sometimes this happens because the generation kwargs are not correctly set. Please make sure that the generation kwargs are set correctly, or review your training hyperparameters.\n",
      "  warnings.warn(\n",
      "Setting `pad_token_id` to `eos_token_id`:None for open-end generation.\n",
      "/home/aurora/miniconda3/lib/python3.11/site-packages/trl/trainer/ppo_trainer.py:1313: UserWarning: KL divergence is starting to become negative: -7.79 - this might be a precursor for failed training. sometimes this happens because the generation kwargs are not correctly set. Please make sure that the generation kwargs are set correctly, or review your training hyperparameters.\n",
      "  warnings.warn(\n",
      "Setting `pad_token_id` to `eos_token_id`:None for open-end generation.\n"
     ]
    },
    {
     "name": "stdout",
     "output_type": "stream",
     "text": [
      "Prompt: [INST] 34 es igual a [/INST]\n",
      "Respuesta: [INST] 34 es igual a [/INST] \"; ? l?\"? 34 frhi\n",
      "Recompensa: -25\n",
      "Prompt: [INST] 37 es igual a [/INST]\n",
      "Respuesta: [INST] 37 es igual a [/INST] b?\n",
      "\n",
      "38 39 es ig.\n",
      "Recompensa: -28\n"
     ]
    },
    {
     "name": "stderr",
     "output_type": "stream",
     "text": [
      "/home/aurora/miniconda3/lib/python3.11/site-packages/trl/trainer/ppo_trainer.py:1313: UserWarning: KL divergence is starting to become negative: -11.12 - this might be a precursor for failed training. sometimes this happens because the generation kwargs are not correctly set. Please make sure that the generation kwargs are set correctly, or review your training hyperparameters.\n",
      "  warnings.warn(\n",
      "Setting `pad_token_id` to `eos_token_id`:None for open-end generation.\n",
      "/home/aurora/miniconda3/lib/python3.11/site-packages/trl/trainer/ppo_trainer.py:1313: UserWarning: KL divergence is starting to become negative: -1.90 - this might be a precursor for failed training. sometimes this happens because the generation kwargs are not correctly set. Please make sure that the generation kwargs are set correctly, or review your training hyperparameters.\n",
      "  warnings.warn(\n",
      "Setting `pad_token_id` to `eos_token_id`:None for open-end generation.\n"
     ]
    },
    {
     "name": "stdout",
     "output_type": "stream",
     "text": [
      "Prompt: [INST] 40 es igual a [/INST]\n",
      "Respuesta: [INST] 40 es igual a [/INST] no?&=];&=?)(\n",
      "Recompensa: -31\n",
      "Prompt: [INST] 43 es igual a [/INST]\n",
      "Respuesta: [INST] 43 es igual a [/INST] 43 [LU] 43LU] 43BE\n",
      "Recompensa: -34\n"
     ]
    },
    {
     "name": "stderr",
     "output_type": "stream",
     "text": [
      "/home/aurora/miniconda3/lib/python3.11/site-packages/trl/trainer/ppo_trainer.py:1313: UserWarning: KL divergence is starting to become negative: -11.66 - this might be a precursor for failed training. sometimes this happens because the generation kwargs are not correctly set. Please make sure that the generation kwargs are set correctly, or review your training hyperparameters.\n",
      "  warnings.warn(\n",
      "Setting `pad_token_id` to `eos_token_id`:None for open-end generation.\n",
      "Setting `pad_token_id` to `eos_token_id`:None for open-end generation.\n"
     ]
    },
    {
     "name": "stdout",
     "output_type": "stream",
     "text": [
      "Prompt: [INST] 46 es igual a [/INST]\n",
      "Respuesta: [INST] 46 es igual a [/INST][/INST]] bolas]\n",
      "\n",
      "\n",
      "Recompensa: -37\n",
      "Prompt: [INST] 49 es igual a [/INST]\n",
      "Respuesta: [INST] 49 es igual a [/INST] 49\n",
      "\n",
      "49 Feb 16h :NOR\n",
      "Recompensa: -40\n"
     ]
    },
    {
     "name": "stderr",
     "output_type": "stream",
     "text": [
      "/home/aurora/miniconda3/lib/python3.11/site-packages/trl/trainer/ppo_trainer.py:1313: UserWarning: KL divergence is starting to become negative: -7.92 - this might be a precursor for failed training. sometimes this happens because the generation kwargs are not correctly set. Please make sure that the generation kwargs are set correctly, or review your training hyperparameters.\n",
      "  warnings.warn(\n",
      "Setting `pad_token_id` to `eos_token_id`:None for open-end generation.\n",
      "/home/aurora/miniconda3/lib/python3.11/site-packages/trl/trainer/ppo_trainer.py:1313: UserWarning: KL divergence is starting to become negative: -31.79 - this might be a precursor for failed training. sometimes this happens because the generation kwargs are not correctly set. Please make sure that the generation kwargs are set correctly, or review your training hyperparameters.\n",
      "  warnings.warn(\n",
      "Setting `pad_token_id` to `eos_token_id`:None for open-end generation.\n"
     ]
    },
    {
     "name": "stdout",
     "output_type": "stream",
     "text": [
      "Prompt: [INST] 10 es igual a [/INST]\n",
      "Respuesta: [INST] 10 es igual a [/INST]\n",
      "\n",
      "with_________________________________________________________), EH\n",
      "Recompensa: -1\n",
      "Prompt: [INST] 13 es igual a [/INST]\n",
      "Respuesta: [INST] 13 es igual a [/INST] [/INSTINST] [/INSTINST]INST\n",
      "Recompensa: -4\n"
     ]
    },
    {
     "name": "stderr",
     "output_type": "stream",
     "text": [
      "/home/aurora/miniconda3/lib/python3.11/site-packages/trl/trainer/ppo_trainer.py:1313: UserWarning: KL divergence is starting to become negative: -62.45 - this might be a precursor for failed training. sometimes this happens because the generation kwargs are not correctly set. Please make sure that the generation kwargs are set correctly, or review your training hyperparameters.\n",
      "  warnings.warn(\n",
      "Setting `pad_token_id` to `eos_token_id`:None for open-end generation.\n",
      "/home/aurora/miniconda3/lib/python3.11/site-packages/trl/trainer/ppo_trainer.py:1313: UserWarning: KL divergence is starting to become negative: -58.21 - this might be a precursor for failed training. sometimes this happens because the generation kwargs are not correctly set. Please make sure that the generation kwargs are set correctly, or review your training hyperparameters.\n",
      "  warnings.warn(\n",
      "Setting `pad_token_id` to `eos_token_id`:None for open-end generation.\n"
     ]
    },
    {
     "name": "stdout",
     "output_type": "stream",
     "text": [
      "Prompt: [INST] 16 es igual a [/INST]\n",
      "Respuesta: [INST] 16 es igual a [/INST] 16:[INSTWORLD 16] 16-\n",
      "Recompensa: -7\n",
      "Prompt: [INST] 19 es igual a [/INST]\n",
      "Respuesta: [INST] 19 es igual a [/INST] rec El failed? Feb 19 01:21\n",
      "Recompensa: -10\n"
     ]
    },
    {
     "name": "stderr",
     "output_type": "stream",
     "text": [
      "/home/aurora/miniconda3/lib/python3.11/site-packages/trl/trainer/ppo_trainer.py:1313: UserWarning: KL divergence is starting to become negative: -33.55 - this might be a precursor for failed training. sometimes this happens because the generation kwargs are not correctly set. Please make sure that the generation kwargs are set correctly, or review your training hyperparameters.\n",
      "  warnings.warn(\n",
      "Setting `pad_token_id` to `eos_token_id`:None for open-end generation.\n",
      "/home/aurora/miniconda3/lib/python3.11/site-packages/trl/trainer/ppo_trainer.py:1313: UserWarning: KL divergence is starting to become negative: -86.36 - this might be a precursor for failed training. sometimes this happens because the generation kwargs are not correctly set. Please make sure that the generation kwargs are set correctly, or review your training hyperparameters.\n",
      "  warnings.warn(\n",
      "Setting `pad_token_id` to `eos_token_id`:None for open-end generation.\n"
     ]
    },
    {
     "name": "stdout",
     "output_type": "stream",
     "text": [
      "Prompt: [INST] 22 es igual a [/INST]\n",
      "Respuesta: [INST] 22 es igual a [/INST] CALL culd culd culd [ -\n",
      "Recompensa: -13\n",
      "Prompt: [INST] 25 es igual a [/INST]\n",
      "Respuesta: [INST] 25 es igual a [/INST], 0\n",
      "Recompensa: -16\n"
     ]
    },
    {
     "name": "stderr",
     "output_type": "stream",
     "text": [
      "/home/aurora/miniconda3/lib/python3.11/site-packages/trl/trainer/ppo_trainer.py:1313: UserWarning: KL divergence is starting to become negative: -23.97 - this might be a precursor for failed training. sometimes this happens because the generation kwargs are not correctly set. Please make sure that the generation kwargs are set correctly, or review your training hyperparameters.\n",
      "  warnings.warn(\n",
      "Setting `pad_token_id` to `eos_token_id`:None for open-end generation.\n",
      "/home/aurora/miniconda3/lib/python3.11/site-packages/trl/trainer/ppo_trainer.py:1313: UserWarning: KL divergence is starting to become negative: -4.56 - this might be a precursor for failed training. sometimes this happens because the generation kwargs are not correctly set. Please make sure that the generation kwargs are set correctly, or review your training hyperparameters.\n",
      "  warnings.warn(\n",
      "Setting `pad_token_id` to `eos_token_id`:None for open-end generation.\n"
     ]
    },
    {
     "name": "stdout",
     "output_type": "stream",
     "text": [
      "Prompt: [INST] 28 es igual a [/INST]\n",
      "Respuesta: [INST] 28 es igual a [/INST] 28 28s]??]\n",
      "\n",
      "28\n",
      "Recompensa: -19\n",
      "Prompt: [INST] 31 es igual a [/INST]\n",
      "Respuesta: [INST] 31 es igual a [/INST]l)\")\"];\n",
      "\n",
      "if (name\n",
      "Recompensa: -22\n"
     ]
    },
    {
     "name": "stderr",
     "output_type": "stream",
     "text": [
      "/home/aurora/miniconda3/lib/python3.11/site-packages/trl/trainer/ppo_trainer.py:1313: UserWarning: KL divergence is starting to become negative: -47.17 - this might be a precursor for failed training. sometimes this happens because the generation kwargs are not correctly set. Please make sure that the generation kwargs are set correctly, or review your training hyperparameters.\n",
      "  warnings.warn(\n",
      "Setting `pad_token_id` to `eos_token_id`:None for open-end generation.\n",
      "/home/aurora/miniconda3/lib/python3.11/site-packages/trl/trainer/ppo_trainer.py:1313: UserWarning: KL divergence is starting to become negative: -21.14 - this might be a precursor for failed training. sometimes this happens because the generation kwargs are not correctly set. Please make sure that the generation kwargs are set correctly, or review your training hyperparameters.\n",
      "  warnings.warn(\n",
      "Setting `pad_token_id` to `eos_token_id`:None for open-end generation.\n"
     ]
    },
    {
     "name": "stdout",
     "output_type": "stream",
     "text": [
      "Prompt: [INST] 34 es igual a [/INST]\n",
      "Respuesta: [INST] 34 es igual a [/INST] 34 igual a?] 34? {\n",
      "Recompensa: -25\n",
      "Prompt: [INST] 37 es igual a [/INST]\n",
      "Respuesta: [INST] 37 es igual a [/INST] 37 es=?\");)?););)?\n",
      "Recompensa: -28\n"
     ]
    },
    {
     "name": "stderr",
     "output_type": "stream",
     "text": [
      "Setting `pad_token_id` to `eos_token_id`:None for open-end generation.\n",
      "Setting `pad_token_id` to `eos_token_id`:None for open-end generation.\n"
     ]
    },
    {
     "name": "stdout",
     "output_type": "stream",
     "text": [
      "Prompt: [INST] 40 es igual a [/INST]\n",
      "Respuesta: [INST] 40 es igual a [/INST] 40 es ig]\n",
      "\n",
      "Elect]\n",
      "\n",
      "Recompensa: -31\n",
      "Prompt: [INST] 43 es igual a [/INST]\n",
      "Respuesta: [INST] 43 es igual a [/INST]]; es l.=none.INST]\n",
      "Recompensa: -34\n"
     ]
    },
    {
     "name": "stderr",
     "output_type": "stream",
     "text": [
      "/home/aurora/miniconda3/lib/python3.11/site-packages/trl/trainer/ppo_trainer.py:1313: UserWarning: KL divergence is starting to become negative: -4.35 - this might be a precursor for failed training. sometimes this happens because the generation kwargs are not correctly set. Please make sure that the generation kwargs are set correctly, or review your training hyperparameters.\n",
      "  warnings.warn(\n",
      "Setting `pad_token_id` to `eos_token_id`:None for open-end generation.\n",
      "/home/aurora/miniconda3/lib/python3.11/site-packages/trl/trainer/ppo_trainer.py:1313: UserWarning: KL divergence is starting to become negative: -5.42 - this might be a precursor for failed training. sometimes this happens because the generation kwargs are not correctly set. Please make sure that the generation kwargs are set correctly, or review your training hyperparameters.\n",
      "  warnings.warn(\n",
      "Setting `pad_token_id` to `eos_token_id`:None for open-end generation.\n"
     ]
    },
    {
     "name": "stdout",
     "output_type": "stream",
     "text": [
      "Prompt: [INST] 46 es igual a [/INST]\n",
      "Respuesta: [INST] 46 es igual a [/INST]ES]ES]+[/INST]ES\n",
      "Recompensa: -37\n",
      "Prompt: [INST] 49 es igual a [/INST]\n",
      "Respuesta: [INST] 49 es igual a [/INST]\n",
      "\n",
      "Neb 2 Kl 49 esw\n",
      "Recompensa: -40\n"
     ]
    },
    {
     "name": "stderr",
     "output_type": "stream",
     "text": [
      "/home/aurora/miniconda3/lib/python3.11/site-packages/trl/trainer/ppo_trainer.py:1313: UserWarning: KL divergence is starting to become negative: -33.25 - this might be a precursor for failed training. sometimes this happens because the generation kwargs are not correctly set. Please make sure that the generation kwargs are set correctly, or review your training hyperparameters.\n",
      "  warnings.warn(\n",
      "Setting `pad_token_id` to `eos_token_id`:None for open-end generation.\n",
      "/home/aurora/miniconda3/lib/python3.11/site-packages/trl/trainer/ppo_trainer.py:1313: UserWarning: KL divergence is starting to become negative: -76.94 - this might be a precursor for failed training. sometimes this happens because the generation kwargs are not correctly set. Please make sure that the generation kwargs are set correctly, or review your training hyperparameters.\n",
      "  warnings.warn(\n",
      "Setting `pad_token_id` to `eos_token_id`:None for open-end generation.\n"
     ]
    },
    {
     "name": "stdout",
     "output_type": "stream",
     "text": [
      "Prompt: [INST] 10 es igual a [/INST]\n",
      "Respuesta: [INST] 10 es igual a [/INST]\n",
      "\n",
      "10\n",
      "\n",
      "\n",
      "10\n",
      "\n",
      "\n",
      "Recompensa: -1\n",
      "Prompt: [INST] 13 es igual a [/INST]\n",
      "Respuesta: [INST] 13 es igual a [/INST];);INST}14})INST)\n",
      "Recompensa: -4\n"
     ]
    },
    {
     "name": "stderr",
     "output_type": "stream",
     "text": [
      "/home/aurora/miniconda3/lib/python3.11/site-packages/trl/trainer/ppo_trainer.py:1313: UserWarning: KL divergence is starting to become negative: -3.68 - this might be a precursor for failed training. sometimes this happens because the generation kwargs are not correctly set. Please make sure that the generation kwargs are set correctly, or review your training hyperparameters.\n",
      "  warnings.warn(\n",
      "Setting `pad_token_id` to `eos_token_id`:None for open-end generation.\n",
      "/home/aurora/miniconda3/lib/python3.11/site-packages/trl/trainer/ppo_trainer.py:1313: UserWarning: KL divergence is starting to become negative: -56.44 - this might be a precursor for failed training. sometimes this happens because the generation kwargs are not correctly set. Please make sure that the generation kwargs are set correctly, or review your training hyperparameters.\n",
      "  warnings.warn(\n",
      "Setting `pad_token_id` to `eos_token_id`:None for open-end generation.\n"
     ]
    },
    {
     "name": "stdout",
     "output_type": "stream",
     "text": [
      "Prompt: [INST] 16 es igual a [/INST]\n",
      "Respuesta: [INST] 16 es igual a [/INST] 2017-11-16 eth1 eth05\n",
      "Recompensa: -7\n",
      "Prompt: [INST] 19 es igual a [/INST]\n",
      "Respuesta: [INST] 19 es igual a [/INST] IN (N.N. 19 L ?\n",
      "Recompensa: -10\n"
     ]
    },
    {
     "name": "stderr",
     "output_type": "stream",
     "text": [
      "/home/aurora/miniconda3/lib/python3.11/site-packages/trl/trainer/ppo_trainer.py:1313: UserWarning: KL divergence is starting to become negative: -41.33 - this might be a precursor for failed training. sometimes this happens because the generation kwargs are not correctly set. Please make sure that the generation kwargs are set correctly, or review your training hyperparameters.\n",
      "  warnings.warn(\n",
      "Setting `pad_token_id` to `eos_token_id`:None for open-end generation.\n",
      "/home/aurora/miniconda3/lib/python3.11/site-packages/trl/trainer/ppo_trainer.py:1313: UserWarning: KL divergence is starting to become negative: -32.76 - this might be a precursor for failed training. sometimes this happens because the generation kwargs are not correctly set. Please make sure that the generation kwargs are set correctly, or review your training hyperparameters.\n",
      "  warnings.warn(\n",
      "Setting `pad_token_id` to `eos_token_id`:None for open-end generation.\n"
     ]
    },
    {
     "name": "stdout",
     "output_type": "stream",
     "text": [
      "Prompt: [INST] 22 es igual a [/INST]\n",
      "Respuesta: [INST] 22 es igual a [/INST]\n",
      "C[#22 Feb 1 #ead\n",
      "Recompensa: -13\n",
      "Prompt: [INST] 25 es igual a [/INST]\n",
      "Respuesta: [INST] 25 es igual a [/INST]]; igual[/lv]\n",
      "\n",
      "25\n",
      "Recompensa: -16\n"
     ]
    },
    {
     "name": "stderr",
     "output_type": "stream",
     "text": [
      "/home/aurora/miniconda3/lib/python3.11/site-packages/trl/trainer/ppo_trainer.py:1313: UserWarning: KL divergence is starting to become negative: -25.60 - this might be a precursor for failed training. sometimes this happens because the generation kwargs are not correctly set. Please make sure that the generation kwargs are set correctly, or review your training hyperparameters.\n",
      "  warnings.warn(\n",
      "Setting `pad_token_id` to `eos_token_id`:None for open-end generation.\n",
      "/home/aurora/miniconda3/lib/python3.11/site-packages/trl/trainer/ppo_trainer.py:1313: UserWarning: KL divergence is starting to become negative: -7.51 - this might be a precursor for failed training. sometimes this happens because the generation kwargs are not correctly set. Please make sure that the generation kwargs are set correctly, or review your training hyperparameters.\n",
      "  warnings.warn(\n",
      "Setting `pad_token_id` to `eos_token_id`:None for open-end generation.\n"
     ]
    },
    {
     "name": "stdout",
     "output_type": "stream",
     "text": [
      "Prompt: [INST] 28 es igual a [/INST]\n",
      "Respuesta: [INST] 28 es igual a [/INST]&\"]]{delic&DES&\n",
      "Recompensa: -19\n",
      "Prompt: [INST] 31 es igual a [/INST]\n",
      "Respuesta: [INST] 31 es igual a [/INST] [/[]]]]t]1\n",
      "Recompensa: -22\n"
     ]
    },
    {
     "name": "stderr",
     "output_type": "stream",
     "text": [
      "/home/aurora/miniconda3/lib/python3.11/site-packages/trl/trainer/ppo_trainer.py:1313: UserWarning: KL divergence is starting to become negative: -14.33 - this might be a precursor for failed training. sometimes this happens because the generation kwargs are not correctly set. Please make sure that the generation kwargs are set correctly, or review your training hyperparameters.\n",
      "  warnings.warn(\n",
      "Setting `pad_token_id` to `eos_token_id`:None for open-end generation.\n",
      "/home/aurora/miniconda3/lib/python3.11/site-packages/trl/trainer/ppo_trainer.py:1313: UserWarning: KL divergence is starting to become negative: -18.54 - this might be a precursor for failed training. sometimes this happens because the generation kwargs are not correctly set. Please make sure that the generation kwargs are set correctly, or review your training hyperparameters.\n",
      "  warnings.warn(\n",
      "Setting `pad_token_id` to `eos_token_id`:None for open-end generation.\n"
     ]
    },
    {
     "name": "stdout",
     "output_type": "stream",
     "text": [
      "Prompt: [INST] 34 es igual a [/INST]\n",
      "Respuesta: [INST] 34 es igual a [/INST]\n",
      "\n",
      "mid Feb 25\n",
      "\n",
      "Dutch PM\n",
      "Recompensa: -25\n",
      "Prompt: [INST] 37 es igual a [/INST]\n",
      "Respuesta: [INST] 37 es igual a [/INST]INST]);[/INST\n",
      "\n",
      "INST 37 es\n",
      "Recompensa: -28\n"
     ]
    },
    {
     "name": "stderr",
     "output_type": "stream",
     "text": [
      "/home/aurora/miniconda3/lib/python3.11/site-packages/trl/trainer/ppo_trainer.py:1313: UserWarning: KL divergence is starting to become negative: -27.09 - this might be a precursor for failed training. sometimes this happens because the generation kwargs are not correctly set. Please make sure that the generation kwargs are set correctly, or review your training hyperparameters.\n",
      "  warnings.warn(\n",
      "Setting `pad_token_id` to `eos_token_id`:None for open-end generation.\n",
      "/home/aurora/miniconda3/lib/python3.11/site-packages/trl/trainer/ppo_trainer.py:1313: UserWarning: KL divergence is starting to become negative: -2.35 - this might be a precursor for failed training. sometimes this happens because the generation kwargs are not correctly set. Please make sure that the generation kwargs are set correctly, or review your training hyperparameters.\n",
      "  warnings.warn(\n",
      "Setting `pad_token_id` to `eos_token_id`:None for open-end generation.\n"
     ]
    },
    {
     "name": "stdout",
     "output_type": "stream",
     "text": [
      "Prompt: [INST] 40 es igual a [/INST]\n",
      "Respuesta: [INST] 40 es igual a [/INST]\n",
      "\n",
      "(DESN 40 dec NOR)\n",
      "Recompensa: -31\n",
      "Prompt: [INST] 43 es igual a [/INST]\n",
      "Respuesta: [INST] 43 es igual a [/INST]\n",
      "\n",
      "landlandland\n",
      "\n",
      "land)\n",
      "Recompensa: -34\n"
     ]
    },
    {
     "name": "stderr",
     "output_type": "stream",
     "text": [
      "/home/aurora/miniconda3/lib/python3.11/site-packages/trl/trainer/ppo_trainer.py:1313: UserWarning: KL divergence is starting to become negative: -18.38 - this might be a precursor for failed training. sometimes this happens because the generation kwargs are not correctly set. Please make sure that the generation kwargs are set correctly, or review your training hyperparameters.\n",
      "  warnings.warn(\n",
      "Setting `pad_token_id` to `eos_token_id`:None for open-end generation.\n",
      "/home/aurora/miniconda3/lib/python3.11/site-packages/trl/trainer/ppo_trainer.py:1313: UserWarning: KL divergence is starting to become negative: -8.12 - this might be a precursor for failed training. sometimes this happens because the generation kwargs are not correctly set. Please make sure that the generation kwargs are set correctly, or review your training hyperparameters.\n",
      "  warnings.warn(\n",
      "Setting `pad_token_id` to `eos_token_id`:None for open-end generation.\n"
     ]
    },
    {
     "name": "stdout",
     "output_type": "stream",
     "text": [
      "Prompt: [INST] 46 es igual a [/INST]\n",
      "Respuesta: [INST] 46 es igual a [/INST]HOT]E.[/INST][INST\n",
      "Recompensa: -37\n",
      "Prompt: [INST] 49 es igual a [/INST]\n",
      "Respuesta: [INST] 49 es igual a [/INST]? 49 \"DES\"] 49 \"DEKK\n",
      "Recompensa: -40\n"
     ]
    },
    {
     "name": "stderr",
     "output_type": "stream",
     "text": [
      "/home/aurora/miniconda3/lib/python3.11/site-packages/trl/trainer/ppo_trainer.py:1313: UserWarning: KL divergence is starting to become negative: -17.16 - this might be a precursor for failed training. sometimes this happens because the generation kwargs are not correctly set. Please make sure that the generation kwargs are set correctly, or review your training hyperparameters.\n",
      "  warnings.warn(\n",
      "Setting `pad_token_id` to `eos_token_id`:None for open-end generation.\n",
      "/home/aurora/miniconda3/lib/python3.11/site-packages/trl/trainer/ppo_trainer.py:1313: UserWarning: KL divergence is starting to become negative: -72.79 - this might be a precursor for failed training. sometimes this happens because the generation kwargs are not correctly set. Please make sure that the generation kwargs are set correctly, or review your training hyperparameters.\n",
      "  warnings.warn(\n",
      "Setting `pad_token_id` to `eos_token_id`:None for open-end generation.\n"
     ]
    },
    {
     "name": "stdout",
     "output_type": "stream",
     "text": [
      "Prompt: [INST] 10 es igual a [/INST]\n",
      "Respuesta: [INST] 10 es igual a [/INST]\"); 10 ab\n",
      "\n",
      "FINE\n",
      "\n",
      "\n",
      "Recompensa: -1\n",
      "Prompt: [INST] 13 es igual a [/INST]\n",
      "Respuesta: [INST] 13 es igual a [/INST]⑐\n",
      "\n",
      "2013-E?\n",
      "Recompensa: -4\n"
     ]
    },
    {
     "name": "stderr",
     "output_type": "stream",
     "text": [
      "/home/aurora/miniconda3/lib/python3.11/site-packages/trl/trainer/ppo_trainer.py:1313: UserWarning: KL divergence is starting to become negative: -24.34 - this might be a precursor for failed training. sometimes this happens because the generation kwargs are not correctly set. Please make sure that the generation kwargs are set correctly, or review your training hyperparameters.\n",
      "  warnings.warn(\n",
      "Setting `pad_token_id` to `eos_token_id`:None for open-end generation.\n",
      "/home/aurora/miniconda3/lib/python3.11/site-packages/trl/trainer/ppo_trainer.py:1313: UserWarning: KL divergence is starting to become negative: -57.73 - this might be a precursor for failed training. sometimes this happens because the generation kwargs are not correctly set. Please make sure that the generation kwargs are set correctly, or review your training hyperparameters.\n",
      "  warnings.warn(\n",
      "Setting `pad_token_id` to `eos_token_id`:None for open-end generation.\n"
     ]
    },
    {
     "name": "stdout",
     "output_type": "stream",
     "text": [
      "Prompt: [INST] 16 es igual a [/INST]\n",
      "Respuesta: [INST] 16 es igual a [/INST] un [/A?] ?] 16 es\n",
      "Recompensa: -7\n",
      "Prompt: [INST] 19 es igual a [/INST]\n",
      "Respuesta: [INST] 19 es igual a [/INST] 19 seige ahabgrand [/N.\n",
      "Recompensa: -10\n"
     ]
    },
    {
     "name": "stderr",
     "output_type": "stream",
     "text": [
      "/home/aurora/miniconda3/lib/python3.11/site-packages/trl/trainer/ppo_trainer.py:1313: UserWarning: KL divergence is starting to become negative: -36.16 - this might be a precursor for failed training. sometimes this happens because the generation kwargs are not correctly set. Please make sure that the generation kwargs are set correctly, or review your training hyperparameters.\n",
      "  warnings.warn(\n",
      "Setting `pad_token_id` to `eos_token_id`:None for open-end generation.\n",
      "/home/aurora/miniconda3/lib/python3.11/site-packages/trl/trainer/ppo_trainer.py:1313: UserWarning: KL divergence is starting to become negative: -64.13 - this might be a precursor for failed training. sometimes this happens because the generation kwargs are not correctly set. Please make sure that the generation kwargs are set correctly, or review your training hyperparameters.\n",
      "  warnings.warn(\n",
      "Setting `pad_token_id` to `eos_token_id`:None for open-end generation.\n"
     ]
    },
    {
     "name": "stdout",
     "output_type": "stream",
     "text": [
      "Prompt: [INST] 22 es igual a [/INST]\n",
      "Respuesta: [INST] 22 es igual a [/INST]\n",
      "\n",
      "\"\n",
      "\n",
      "here es es \"\n",
      "Recompensa: -13\n",
      "Prompt: [INST] 25 es igual a [/INST]\n",
      "Respuesta: [INST] 25 es igual a [/INST][INST]][IF]FIR]SB\n",
      "Recompensa: -16\n"
     ]
    },
    {
     "name": "stderr",
     "output_type": "stream",
     "text": [
      "/home/aurora/miniconda3/lib/python3.11/site-packages/trl/trainer/ppo_trainer.py:1313: UserWarning: KL divergence is starting to become negative: -22.14 - this might be a precursor for failed training. sometimes this happens because the generation kwargs are not correctly set. Please make sure that the generation kwargs are set correctly, or review your training hyperparameters.\n",
      "  warnings.warn(\n",
      "Setting `pad_token_id` to `eos_token_id`:None for open-end generation.\n",
      "Setting `pad_token_id` to `eos_token_id`:None for open-end generation.\n"
     ]
    },
    {
     "name": "stdout",
     "output_type": "stream",
     "text": [
      "Prompt: [INST] 28 es igual a [/INST]\n",
      "Respuesta: [INST] 28 es igual a [/INST] w] 1 es?) l? se?\n",
      "Recompensa: -19\n",
      "Prompt: [INST] 31 es igual a [/INST]\n",
      "Respuesta: [INST] 31 es igual a [/INST]\n",
      "]�[/fore]\n",
      "Major-\n",
      "Recompensa: -22\n"
     ]
    },
    {
     "name": "stderr",
     "output_type": "stream",
     "text": [
      "Setting `pad_token_id` to `eos_token_id`:None for open-end generation.\n",
      "Setting `pad_token_id` to `eos_token_id`:None for open-end generation.\n"
     ]
    },
    {
     "name": "stdout",
     "output_type": "stream",
     "text": [
      "Prompt: [INST] 34 es igual a [/INST]\n",
      "Respuesta: [INST] 34 es igual a [/INST] 34 fr] 34 a fr 34 fr istg\n",
      "Recompensa: -25\n",
      "Prompt: [INST] 37 es igual a [/INST]\n",
      "Respuesta: [INST] 37 es igual a [/INST] c[/INST]?]]:?]\n",
      "Recompensa: -28\n"
     ]
    },
    {
     "name": "stderr",
     "output_type": "stream",
     "text": [
      "/home/aurora/miniconda3/lib/python3.11/site-packages/trl/trainer/ppo_trainer.py:1313: UserWarning: KL divergence is starting to become negative: -5.27 - this might be a precursor for failed training. sometimes this happens because the generation kwargs are not correctly set. Please make sure that the generation kwargs are set correctly, or review your training hyperparameters.\n",
      "  warnings.warn(\n",
      "Setting `pad_token_id` to `eos_token_id`:None for open-end generation.\n",
      "Setting `pad_token_id` to `eos_token_id`:None for open-end generation.\n"
     ]
    },
    {
     "name": "stdout",
     "output_type": "stream",
     "text": [
      "Prompt: [INST] 40 es igual a [/INST]\n",
      "Respuesta: [INST] 40 es igual a [/INST]\n",
      "\n",
      "by] L\" 38\n",
      "\n",
      "\n",
      "Recompensa: -31\n",
      "Prompt: [INST] 43 es igual a [/INST]\n",
      "Respuesta: [INST] 43 es igual a [/INST]]: 1). [03.06] +\n",
      "Recompensa: -34\n"
     ]
    },
    {
     "name": "stderr",
     "output_type": "stream",
     "text": [
      "/home/aurora/miniconda3/lib/python3.11/site-packages/trl/trainer/ppo_trainer.py:1313: UserWarning: KL divergence is starting to become negative: -5.58 - this might be a precursor for failed training. sometimes this happens because the generation kwargs are not correctly set. Please make sure that the generation kwargs are set correctly, or review your training hyperparameters.\n",
      "  warnings.warn(\n",
      "Setting `pad_token_id` to `eos_token_id`:None for open-end generation.\n",
      "/home/aurora/miniconda3/lib/python3.11/site-packages/trl/trainer/ppo_trainer.py:1313: UserWarning: KL divergence is starting to become negative: -16.21 - this might be a precursor for failed training. sometimes this happens because the generation kwargs are not correctly set. Please make sure that the generation kwargs are set correctly, or review your training hyperparameters.\n",
      "  warnings.warn(\n",
      "Setting `pad_token_id` to `eos_token_id`:None for open-end generation.\n"
     ]
    },
    {
     "name": "stdout",
     "output_type": "stream",
     "text": [
      "Prompt: [INST] 46 es igual a [/INST]\n",
      "Respuesta: [INST] 46 es igual a [/INST]);[/];[/INST];[/INST]\n",
      "Recompensa: -37\n",
      "Prompt: [INST] 49 es igual a [/INST]\n",
      "Respuesta: [INST] 49 es igual a [/INST] 49 f:DES] 49)\"],16\n",
      "Recompensa: -40\n"
     ]
    },
    {
     "name": "stderr",
     "output_type": "stream",
     "text": [
      "Setting `pad_token_id` to `eos_token_id`:None for open-end generation.\n",
      "/home/aurora/miniconda3/lib/python3.11/site-packages/trl/trainer/ppo_trainer.py:1313: UserWarning: KL divergence is starting to become negative: -78.04 - this might be a precursor for failed training. sometimes this happens because the generation kwargs are not correctly set. Please make sure that the generation kwargs are set correctly, or review your training hyperparameters.\n",
      "  warnings.warn(\n",
      "Setting `pad_token_id` to `eos_token_id`:None for open-end generation.\n"
     ]
    },
    {
     "name": "stdout",
     "output_type": "stream",
     "text": [
      "Prompt: [INST] 10 es igual a [/INST]\n",
      "Respuesta: [INST] 10 es igual a [/INST] revoking len+++ 10\n",
      "\n",
      "Join mod\n",
      "Recompensa: -1\n",
      "Prompt: [INST] 13 es igual a [/INST]\n",
      "Respuesta: [INST] 13 es igual a [/INST] [␙ es13}] 13\n",
      "Recompensa: -4\n"
     ]
    },
    {
     "name": "stderr",
     "output_type": "stream",
     "text": [
      "/home/aurora/miniconda3/lib/python3.11/site-packages/trl/trainer/ppo_trainer.py:1313: UserWarning: KL divergence is starting to become negative: -30.26 - this might be a precursor for failed training. sometimes this happens because the generation kwargs are not correctly set. Please make sure that the generation kwargs are set correctly, or review your training hyperparameters.\n",
      "  warnings.warn(\n",
      "Setting `pad_token_id` to `eos_token_id`:None for open-end generation.\n",
      "Setting `pad_token_id` to `eos_token_id`:None for open-end generation.\n"
     ]
    },
    {
     "name": "stdout",
     "output_type": "stream",
     "text": [
      "Prompt: [INST] 16 es igual a [/INST]\n",
      "Respuesta: [INST] 16 es igual a [/INST] 16 mod-16-foreforeforefore\n",
      "Recompensa: -7\n",
      "Prompt: [INST] 19 es igual a [/INST]\n",
      "Respuesta: [INST] 19 es igual a [/INST]INST?19[19]?19maker\n",
      "Recompensa: -10\n"
     ]
    },
    {
     "name": "stderr",
     "output_type": "stream",
     "text": [
      "Setting `pad_token_id` to `eos_token_id`:None for open-end generation.\n",
      "/home/aurora/miniconda3/lib/python3.11/site-packages/trl/trainer/ppo_trainer.py:1313: UserWarning: KL divergence is starting to become negative: -16.33 - this might be a precursor for failed training. sometimes this happens because the generation kwargs are not correctly set. Please make sure that the generation kwargs are set correctly, or review your training hyperparameters.\n",
      "  warnings.warn(\n",
      "Setting `pad_token_id` to `eos_token_id`:None for open-end generation.\n"
     ]
    },
    {
     "name": "stdout",
     "output_type": "stream",
     "text": [
      "Prompt: [INST] 22 es igual a [/INST]\n",
      "Respuesta: [INST] 22 es igual a [/INST] [/block[INST]); [/]][];\n",
      "Recompensa: -13\n",
      "Prompt: [INST] 25 es igual a [/INST]\n",
      "Respuesta: [INST] 25 es igual a [/INST]flu]GRUR[E]HOU])\n",
      "Recompensa: -16\n"
     ]
    },
    {
     "name": "stderr",
     "output_type": "stream",
     "text": [
      "/home/aurora/miniconda3/lib/python3.11/site-packages/trl/trainer/ppo_trainer.py:1313: UserWarning: KL divergence is starting to become negative: -2.33 - this might be a precursor for failed training. sometimes this happens because the generation kwargs are not correctly set. Please make sure that the generation kwargs are set correctly, or review your training hyperparameters.\n",
      "  warnings.warn(\n",
      "Setting `pad_token_id` to `eos_token_id`:None for open-end generation.\n",
      "/home/aurora/miniconda3/lib/python3.11/site-packages/trl/trainer/ppo_trainer.py:1313: UserWarning: KL divergence is starting to become negative: -14.82 - this might be a precursor for failed training. sometimes this happens because the generation kwargs are not correctly set. Please make sure that the generation kwargs are set correctly, or review your training hyperparameters.\n",
      "  warnings.warn(\n",
      "Setting `pad_token_id` to `eos_token_id`:None for open-end generation.\n"
     ]
    },
    {
     "name": "stdout",
     "output_type": "stream",
     "text": [
      "Prompt: [INST] 28 es igual a [/INST]\n",
      "Respuesta: [INST] 28 es igual a [/INST] [N][AR] 0] {L\n",
      "Recompensa: -19\n",
      "Prompt: [INST] 31 es igual a [/INST]\n",
      "Respuesta: [INST] 31 es igual a [/INST]\n",
      "\n",
      "Gov] 01] {DESK\n",
      "Recompensa: -22\n"
     ]
    },
    {
     "name": "stderr",
     "output_type": "stream",
     "text": [
      "/home/aurora/miniconda3/lib/python3.11/site-packages/trl/trainer/ppo_trainer.py:1313: UserWarning: KL divergence is starting to become negative: -16.60 - this might be a precursor for failed training. sometimes this happens because the generation kwargs are not correctly set. Please make sure that the generation kwargs are set correctly, or review your training hyperparameters.\n",
      "  warnings.warn(\n",
      "Setting `pad_token_id` to `eos_token_id`:None for open-end generation.\n",
      "/home/aurora/miniconda3/lib/python3.11/site-packages/trl/trainer/ppo_trainer.py:1313: UserWarning: KL divergence is starting to become negative: -16.00 - this might be a precursor for failed training. sometimes this happens because the generation kwargs are not correctly set. Please make sure that the generation kwargs are set correctly, or review your training hyperparameters.\n",
      "  warnings.warn(\n",
      "Setting `pad_token_id` to `eos_token_id`:None for open-end generation.\n"
     ]
    },
    {
     "name": "stdout",
     "output_type": "stream",
     "text": [
      "Prompt: [INST] 34 es igual a [/INST]\n",
      "Respuesta: [INST] 34 es igual a [/INST] 34 es [/FIR]\n",
      "\n",
      "[/many\n",
      "Recompensa: -25\n",
      "Prompt: [INST] 37 es igual a [/INST]\n",
      "Respuesta: [INST] 37 es igual a [/INST] 37 g 37 (LU 37 1Es?\n",
      "Recompensa: -28\n"
     ]
    },
    {
     "name": "stderr",
     "output_type": "stream",
     "text": [
      "/home/aurora/miniconda3/lib/python3.11/site-packages/trl/trainer/ppo_trainer.py:1313: UserWarning: KL divergence is starting to become negative: -28.41 - this might be a precursor for failed training. sometimes this happens because the generation kwargs are not correctly set. Please make sure that the generation kwargs are set correctly, or review your training hyperparameters.\n",
      "  warnings.warn(\n",
      "Setting `pad_token_id` to `eos_token_id`:None for open-end generation.\n",
      "Setting `pad_token_id` to `eos_token_id`:None for open-end generation.\n"
     ]
    },
    {
     "name": "stdout",
     "output_type": "stream",
     "text": [
      "Prompt: [INST] 40 es igual a [/INST]\n",
      "Respuesta: [INST] 40 es igual a [/INST]>INST>{in}.bl}\")\n",
      "Recompensa: -31\n",
      "Prompt: [INST] 43 es igual a [/INST]\n",
      "Respuesta: [INST] 43 es igual a [/INST] 43 es [/INST\n",
      "\n",
      "[/INST]\n",
      "Recompensa: -34\n"
     ]
    },
    {
     "name": "stderr",
     "output_type": "stream",
     "text": [
      "/home/aurora/miniconda3/lib/python3.11/site-packages/trl/trainer/ppo_trainer.py:1313: UserWarning: KL divergence is starting to become negative: -26.58 - this might be a precursor for failed training. sometimes this happens because the generation kwargs are not correctly set. Please make sure that the generation kwargs are set correctly, or review your training hyperparameters.\n",
      "  warnings.warn(\n",
      "Setting `pad_token_id` to `eos_token_id`:None for open-end generation.\n",
      "Setting `pad_token_id` to `eos_token_id`:None for open-end generation.\n"
     ]
    },
    {
     "name": "stdout",
     "output_type": "stream",
     "text": [
      "Prompt: [INST] 46 es igual a [/INST]\n",
      "Respuesta: [INST] 46 es igual a [/INST][INST]for each];INST]here\n",
      "Recompensa: -37\n",
      "Prompt: [INST] 49 es igual a [/INST]\n",
      "Respuesta: [INST] 49 es igual a [/INST] ([IND]) ([ [/IND][IND])\n",
      "Recompensa: -40\n"
     ]
    },
    {
     "name": "stderr",
     "output_type": "stream",
     "text": [
      "/home/aurora/miniconda3/lib/python3.11/site-packages/trl/trainer/ppo_trainer.py:1313: UserWarning: KL divergence is starting to become negative: -36.09 - this might be a precursor for failed training. sometimes this happens because the generation kwargs are not correctly set. Please make sure that the generation kwargs are set correctly, or review your training hyperparameters.\n",
      "  warnings.warn(\n",
      "Setting `pad_token_id` to `eos_token_id`:None for open-end generation.\n",
      "/home/aurora/miniconda3/lib/python3.11/site-packages/trl/trainer/ppo_trainer.py:1313: UserWarning: KL divergence is starting to become negative: -100.40 - this might be a precursor for failed training. sometimes this happens because the generation kwargs are not correctly set. Please make sure that the generation kwargs are set correctly, or review your training hyperparameters.\n",
      "  warnings.warn(\n",
      "Setting `pad_token_id` to `eos_token_id`:None for open-end generation.\n"
     ]
    },
    {
     "name": "stdout",
     "output_type": "stream",
     "text": [
      "Prompt: [INST] 10 es igual a [/INST]\n",
      "Respuesta: [INST] 10 es igual a [/INST]\n",
      "10 [/1010] rev [/10\n",
      "Recompensa: -1\n",
      "Prompt: [INST] 13 es igual a [/INST]\n",
      "Respuesta: [INST] 13 es igual a [/INST]{}(13}⅔ (\n",
      "Recompensa: -4\n"
     ]
    },
    {
     "name": "stderr",
     "output_type": "stream",
     "text": [
      "/home/aurora/miniconda3/lib/python3.11/site-packages/trl/trainer/ppo_trainer.py:1313: UserWarning: KL divergence is starting to become negative: -29.10 - this might be a precursor for failed training. sometimes this happens because the generation kwargs are not correctly set. Please make sure that the generation kwargs are set correctly, or review your training hyperparameters.\n",
      "  warnings.warn(\n",
      "Setting `pad_token_id` to `eos_token_id`:None for open-end generation.\n",
      "/home/aurora/miniconda3/lib/python3.11/site-packages/trl/trainer/ppo_trainer.py:1313: UserWarning: KL divergence is starting to become negative: -44.59 - this might be a precursor for failed training. sometimes this happens because the generation kwargs are not correctly set. Please make sure that the generation kwargs are set correctly, or review your training hyperparameters.\n",
      "  warnings.warn(\n",
      "Setting `pad_token_id` to `eos_token_id`:None for open-end generation.\n"
     ]
    },
    {
     "name": "stdout",
     "output_type": "stream",
     "text": [
      "Prompt: [INST] 16 es igual a [/INST]\n",
      "Respuesta: [INST] 16 es igual a [/INST] [/ld-w] seld [/sp\n",
      "Recompensa: -7\n",
      "Prompt: [INST] 19 es igual a [/INST]\n",
      "Respuesta: [INST] 19 es igual a [/INST] [sylv]) 2015-10-19]\n",
      "Recompensa: -10\n"
     ]
    },
    {
     "name": "stderr",
     "output_type": "stream",
     "text": [
      "/home/aurora/miniconda3/lib/python3.11/site-packages/trl/trainer/ppo_trainer.py:1313: UserWarning: KL divergence is starting to become negative: -44.63 - this might be a precursor for failed training. sometimes this happens because the generation kwargs are not correctly set. Please make sure that the generation kwargs are set correctly, or review your training hyperparameters.\n",
      "  warnings.warn(\n",
      "Setting `pad_token_id` to `eos_token_id`:None for open-end generation.\n",
      "/home/aurora/miniconda3/lib/python3.11/site-packages/trl/trainer/ppo_trainer.py:1313: UserWarning: KL divergence is starting to become negative: -59.52 - this might be a precursor for failed training. sometimes this happens because the generation kwargs are not correctly set. Please make sure that the generation kwargs are set correctly, or review your training hyperparameters.\n",
      "  warnings.warn(\n",
      "Setting `pad_token_id` to `eos_token_id`:None for open-end generation.\n"
     ]
    },
    {
     "name": "stdout",
     "output_type": "stream",
     "text": [
      "Prompt: [INST] 22 es igual a [/INST]\n",
      "Respuesta: [INST] 22 es igual a [/INST]')')')\n",
      "\n",
      "The second time,\n",
      "Recompensa: -13\n",
      "Prompt: [INST] 25 es igual a [/INST]\n",
      "Respuesta: [INST] 25 es igual a [/INST] #ESL 25 }) 1 esNOTES\n",
      "Recompensa: -16\n"
     ]
    },
    {
     "name": "stderr",
     "output_type": "stream",
     "text": [
      "/home/aurora/miniconda3/lib/python3.11/site-packages/trl/trainer/ppo_trainer.py:1313: UserWarning: KL divergence is starting to become negative: -39.02 - this might be a precursor for failed training. sometimes this happens because the generation kwargs are not correctly set. Please make sure that the generation kwargs are set correctly, or review your training hyperparameters.\n",
      "  warnings.warn(\n",
      "Setting `pad_token_id` to `eos_token_id`:None for open-end generation.\n",
      "/home/aurora/miniconda3/lib/python3.11/site-packages/trl/trainer/ppo_trainer.py:1313: UserWarning: KL divergence is starting to become negative: -12.81 - this might be a precursor for failed training. sometimes this happens because the generation kwargs are not correctly set. Please make sure that the generation kwargs are set correctly, or review your training hyperparameters.\n",
      "  warnings.warn(\n",
      "Setting `pad_token_id` to `eos_token_id`:None for open-end generation.\n"
     ]
    },
    {
     "name": "stdout",
     "output_type": "stream",
     "text": [
      "Prompt: [INST] 28 es igual a [/INST]\n",
      "Respuesta: [INST] 28 es igual a [/INST] 28 A es s e.) 28]; 28\n",
      "Recompensa: -19\n",
      "Prompt: [INST] 31 es igual a [/INST]\n",
      "Respuesta: [INST] 31 es igual a [/INST] [INST] [INST] [DE]\n",
      "Recompensa: -22\n"
     ]
    },
    {
     "name": "stderr",
     "output_type": "stream",
     "text": [
      "/home/aurora/miniconda3/lib/python3.11/site-packages/trl/trainer/ppo_trainer.py:1313: UserWarning: KL divergence is starting to become negative: -31.75 - this might be a precursor for failed training. sometimes this happens because the generation kwargs are not correctly set. Please make sure that the generation kwargs are set correctly, or review your training hyperparameters.\n",
      "  warnings.warn(\n",
      "Setting `pad_token_id` to `eos_token_id`:None for open-end generation.\n",
      "/home/aurora/miniconda3/lib/python3.11/site-packages/trl/trainer/ppo_trainer.py:1313: UserWarning: KL divergence is starting to become negative: -18.37 - this might be a precursor for failed training. sometimes this happens because the generation kwargs are not correctly set. Please make sure that the generation kwargs are set correctly, or review your training hyperparameters.\n",
      "  warnings.warn(\n",
      "Setting `pad_token_id` to `eos_token_id`:None for open-end generation.\n"
     ]
    },
    {
     "name": "stdout",
     "output_type": "stream",
     "text": [
      "Prompt: [INST] 34 es igual a [/INST]\n",
      "Respuesta: [INST] 34 es igual a [/INST]] [/INST]]:\n",
      "\n",
      "L\"\n",
      "Recompensa: -25\n",
      "Prompt: [INST] 37 es igual a [/INST]\n",
      "Respuesta: [INST] 37 es igual a [/INST] 37 fr] 37\n",
      "Aug] 37 ig\n",
      "Recompensa: -28\n"
     ]
    },
    {
     "name": "stderr",
     "output_type": "stream",
     "text": [
      "Setting `pad_token_id` to `eos_token_id`:None for open-end generation.\n",
      "Setting `pad_token_id` to `eos_token_id`:None for open-end generation.\n"
     ]
    },
    {
     "name": "stdout",
     "output_type": "stream",
     "text": [
      "Prompt: [INST] 40 es igual a [/INST]\n",
      "Respuesta: [INST] 40 es igual a [/INST] 10 es lhs];];];];];\n",
      "Recompensa: -31\n",
      "Prompt: [INST] 43 es igual a [/INST]\n",
      "Respuesta: [INST] 43 es igual a [/INST][/NUM]], [/reg] [/parts\n",
      "Recompensa: -34\n"
     ]
    },
    {
     "name": "stderr",
     "output_type": "stream",
     "text": [
      "Setting `pad_token_id` to `eos_token_id`:None for open-end generation.\n",
      "/home/aurora/miniconda3/lib/python3.11/site-packages/trl/trainer/ppo_trainer.py:1313: UserWarning: KL divergence is starting to become negative: -43.84 - this might be a precursor for failed training. sometimes this happens because the generation kwargs are not correctly set. Please make sure that the generation kwargs are set correctly, or review your training hyperparameters.\n",
      "  warnings.warn(\n",
      "Setting `pad_token_id` to `eos_token_id`:None for open-end generation.\n"
     ]
    },
    {
     "name": "stdout",
     "output_type": "stream",
     "text": [
      "Prompt: [INST] 46 es igual a [/INST]\n",
      "Respuesta: [INST] 46 es igual a [/INST] 46 es igual a\n",
      "\n",
      "Elect?\"\n",
      "Recompensa: -37\n",
      "Prompt: [INST] 49 es igual a [/INST]\n",
      "Respuesta: [INST] 49 es igual a [/INST] 49 es] 49 es [/INST]?)\n",
      "Recompensa: -40\n"
     ]
    },
    {
     "name": "stderr",
     "output_type": "stream",
     "text": [
      "/home/aurora/miniconda3/lib/python3.11/site-packages/trl/trainer/ppo_trainer.py:1313: UserWarning: KL divergence is starting to become negative: -8.37 - this might be a precursor for failed training. sometimes this happens because the generation kwargs are not correctly set. Please make sure that the generation kwargs are set correctly, or review your training hyperparameters.\n",
      "  warnings.warn(\n",
      "Setting `pad_token_id` to `eos_token_id`:None for open-end generation.\n",
      "/home/aurora/miniconda3/lib/python3.11/site-packages/trl/trainer/ppo_trainer.py:1313: UserWarning: KL divergence is starting to become negative: -35.03 - this might be a precursor for failed training. sometimes this happens because the generation kwargs are not correctly set. Please make sure that the generation kwargs are set correctly, or review your training hyperparameters.\n",
      "  warnings.warn(\n",
      "Setting `pad_token_id` to `eos_token_id`:None for open-end generation.\n"
     ]
    },
    {
     "name": "stdout",
     "output_type": "stream",
     "text": [
      "Prompt: [INST] 10 es igual a [/INST]\n",
      "Respuesta: [INST] 10 es igual a [/INST])\n",
      "\n",
      ")\n",
      "]); }\n",
      "\n",
      "Recompensa: -1\n",
      "Prompt: [INST] 13 es igual a [/INST]\n",
      "Respuesta: [INST] 13 es igual a [/INST] /EVRESC /12\n",
      "\n",
      "RES\n",
      "Recompensa: -4\n"
     ]
    },
    {
     "name": "stderr",
     "output_type": "stream",
     "text": [
      "/home/aurora/miniconda3/lib/python3.11/site-packages/trl/trainer/ppo_trainer.py:1313: UserWarning: KL divergence is starting to become negative: -46.37 - this might be a precursor for failed training. sometimes this happens because the generation kwargs are not correctly set. Please make sure that the generation kwargs are set correctly, or review your training hyperparameters.\n",
      "  warnings.warn(\n",
      "Setting `pad_token_id` to `eos_token_id`:None for open-end generation.\n",
      "/home/aurora/miniconda3/lib/python3.11/site-packages/trl/trainer/ppo_trainer.py:1313: UserWarning: KL divergence is starting to become negative: -12.71 - this might be a precursor for failed training. sometimes this happens because the generation kwargs are not correctly set. Please make sure that the generation kwargs are set correctly, or review your training hyperparameters.\n",
      "  warnings.warn(\n",
      "Setting `pad_token_id` to `eos_token_id`:None for open-end generation.\n"
     ]
    },
    {
     "name": "stdout",
     "output_type": "stream",
     "text": [
      "Prompt: [INST] 16 es igual a [/INST]\n",
      "Respuesta: [INST] 16 es igual a [/INST]16MattMatt)Matt,l;John\n",
      "Recompensa: -7\n",
      "Prompt: [INST] 19 es igual a [/INST]\n",
      "Respuesta: [INST] 19 es igual a [/INST]?ldGBFOR19]BYNIGHT\n",
      "Recompensa: -10\n"
     ]
    },
    {
     "name": "stderr",
     "output_type": "stream",
     "text": [
      "/home/aurora/miniconda3/lib/python3.11/site-packages/trl/trainer/ppo_trainer.py:1313: UserWarning: KL divergence is starting to become negative: -12.95 - this might be a precursor for failed training. sometimes this happens because the generation kwargs are not correctly set. Please make sure that the generation kwargs are set correctly, or review your training hyperparameters.\n",
      "  warnings.warn(\n",
      "Setting `pad_token_id` to `eos_token_id`:None for open-end generation.\n",
      "/home/aurora/miniconda3/lib/python3.11/site-packages/trl/trainer/ppo_trainer.py:1313: UserWarning: KL divergence is starting to become negative: -31.82 - this might be a precursor for failed training. sometimes this happens because the generation kwargs are not correctly set. Please make sure that the generation kwargs are set correctly, or review your training hyperparameters.\n",
      "  warnings.warn(\n",
      "Setting `pad_token_id` to `eos_token_id`:None for open-end generation.\n"
     ]
    },
    {
     "name": "stdout",
     "output_type": "stream",
     "text": [
      "Prompt: [INST] 22 es igual a [/INST]\n",
      "Respuesta: [INST] 22 es igual a [/INST]]]])—) 1 es\n",
      "\n",
      "\n",
      "Recompensa: -13\n",
      "Prompt: [INST] 25 es igual a [/INST]\n",
      "Respuesta: [INST] 25 es igual a [/INST]\", \"fore\",\"]]\"]\"]\"]\n",
      "Recompensa: -16\n"
     ]
    },
    {
     "name": "stderr",
     "output_type": "stream",
     "text": [
      "/home/aurora/miniconda3/lib/python3.11/site-packages/trl/trainer/ppo_trainer.py:1313: UserWarning: KL divergence is starting to become negative: -68.47 - this might be a precursor for failed training. sometimes this happens because the generation kwargs are not correctly set. Please make sure that the generation kwargs are set correctly, or review your training hyperparameters.\n",
      "  warnings.warn(\n",
      "Setting `pad_token_id` to `eos_token_id`:None for open-end generation.\n",
      "Setting `pad_token_id` to `eos_token_id`:None for open-end generation.\n"
     ]
    },
    {
     "name": "stdout",
     "output_type": "stream",
     "text": [
      "Prompt: [INST] 28 es igual a [/INST]\n",
      "Respuesta: [INST] 28 es igual a [/INST][INST] 28 se 27 es ig 28\n",
      "Recompensa: -19\n"
     ]
    },
    {
     "name": "stderr",
     "output_type": "stream",
     "text": [
      "/home/aurora/miniconda3/lib/python3.11/site-packages/trl/trainer/ppo_trainer.py:1313: UserWarning: KL divergence is starting to become negative: -48.13 - this might be a precursor for failed training. sometimes this happens because the generation kwargs are not correctly set. Please make sure that the generation kwargs are set correctly, or review your training hyperparameters.\n",
      "  warnings.warn(\n",
      "Setting `pad_token_id` to `eos_token_id`:None for open-end generation.\n"
     ]
    },
    {
     "name": "stdout",
     "output_type": "stream",
     "text": [
      "Prompt: [INST] 31 es igual a [/INST]\n",
      "Respuesta: [INST] 31 es igual a [/INST]\n",
      "\n",
      "])])])])])])])\n",
      "Recompensa: -22\n",
      "Prompt: [INST] 34 es igual a [/INST]\n",
      "Respuesta: [INST] 34 es igual a [/INST] LET NOR LET NOR NOR NOR NOR]\n",
      "\n",
      "Recompensa: -25\n"
     ]
    },
    {
     "name": "stderr",
     "output_type": "stream",
     "text": [
      "/home/aurora/miniconda3/lib/python3.11/site-packages/trl/trainer/ppo_trainer.py:1313: UserWarning: KL divergence is starting to become negative: -44.79 - this might be a precursor for failed training. sometimes this happens because the generation kwargs are not correctly set. Please make sure that the generation kwargs are set correctly, or review your training hyperparameters.\n",
      "  warnings.warn(\n",
      "Setting `pad_token_id` to `eos_token_id`:None for open-end generation.\n",
      "/home/aurora/miniconda3/lib/python3.11/site-packages/trl/trainer/ppo_trainer.py:1313: UserWarning: KL divergence is starting to become negative: -42.81 - this might be a precursor for failed training. sometimes this happens because the generation kwargs are not correctly set. Please make sure that the generation kwargs are set correctly, or review your training hyperparameters.\n",
      "  warnings.warn(\n",
      "Setting `pad_token_id` to `eos_token_id`:None for open-end generation.\n"
     ]
    },
    {
     "name": "stdout",
     "output_type": "stream",
     "text": [
      "Prompt: [INST] 37 es igual a [/INST]\n",
      "Respuesta: [INST] 37 es igual a [/INST]][/INST][/INST][/INST][/][/\n",
      "Recompensa: -28\n"
     ]
    },
    {
     "name": "stderr",
     "output_type": "stream",
     "text": [
      "/home/aurora/miniconda3/lib/python3.11/site-packages/trl/trainer/ppo_trainer.py:1313: UserWarning: KL divergence is starting to become negative: -8.79 - this might be a precursor for failed training. sometimes this happens because the generation kwargs are not correctly set. Please make sure that the generation kwargs are set correctly, or review your training hyperparameters.\n",
      "  warnings.warn(\n",
      "Setting `pad_token_id` to `eos_token_id`:None for open-end generation.\n"
     ]
    },
    {
     "name": "stdout",
     "output_type": "stream",
     "text": [
      "Prompt: [INST] 40 es igual a [/INST]\n",
      "Respuesta: [INST] 40 es igual a [/INST]INST]INST:[] 40\n",
      "\n",
      "LIST\n",
      "Recompensa: -31\n",
      "Prompt: [INST] 43 es igual a [/INST]\n",
      "Respuesta: [INST] 43 es igual a [/INST] 43 es es(INST[INST[Thursday\n",
      "Recompensa: -34\n"
     ]
    },
    {
     "name": "stderr",
     "output_type": "stream",
     "text": [
      "/home/aurora/miniconda3/lib/python3.11/site-packages/trl/trainer/ppo_trainer.py:1313: UserWarning: KL divergence is starting to become negative: -19.38 - this might be a precursor for failed training. sometimes this happens because the generation kwargs are not correctly set. Please make sure that the generation kwargs are set correctly, or review your training hyperparameters.\n",
      "  warnings.warn(\n",
      "Setting `pad_token_id` to `eos_token_id`:None for open-end generation.\n",
      "/home/aurora/miniconda3/lib/python3.11/site-packages/trl/trainer/ppo_trainer.py:1313: UserWarning: KL divergence is starting to become negative: -47.80 - this might be a precursor for failed training. sometimes this happens because the generation kwargs are not correctly set. Please make sure that the generation kwargs are set correctly, or review your training hyperparameters.\n",
      "  warnings.warn(\n",
      "Setting `pad_token_id` to `eos_token_id`:None for open-end generation.\n"
     ]
    },
    {
     "name": "stdout",
     "output_type": "stream",
     "text": [
      "Prompt: [INST] 46 es igual a [/INST]\n",
      "Respuesta: [INST] 46 es igual a [/INST] [/ESVES] [/INSTES)[\n",
      "Recompensa: -37\n",
      "Prompt: [INST] 49 es igual a [/INST]\n",
      "Respuesta: [INST] 49 es igual a [/INST] 49 b⑪] 49-WW\n",
      "Recompensa: -40\n"
     ]
    }
   ],
   "source": [
    "import torch\n",
    "from transformers import AutoTokenizer, AutoModelForCausalLM\n",
    "from trl import PPOTrainer, PPOConfig, AutoModelForCausalLMWithValueHead\n",
    "from tqdm.notebook import trange\n",
    "# version 0.11\n",
    "\n",
    "# Cargar el tokenizador y el modelo preentrenado\n",
    "# modelo_nombre = \"C:\\\\Users\\\\NLP\\\\Propio\\\\Research\\\\Notebooks\\\\NUMBERS\"\n",
    "modelo_nombre = \"gpt2\"\n",
    "\n",
    "# tokenizador = AutoTokenizer.from_pretrained(\"unsloth/mistral-7b-instruct-v0.2-bnb-4bit\")\n",
    "tokenizador = AutoTokenizer.from_pretrained(\"gpt2\")\n",
    "modelo = AutoModelForCausalLMWithValueHead.from_pretrained(modelo_nombre)\n",
    "\n",
    "tokenizador.pad_token = tokenizador.eos_token\n",
    "\n",
    "# Configurar el dispositivo\n",
    "device = torch.device(\"cuda\" if torch.cuda.is_available() else \"cpu\")\n",
    "modelo = modelo.to(device)\n",
    "\n",
    "\n",
    "# Configurar los parámetros de PPO\n",
    "config_ppo = PPOConfig(\n",
    "    batch_size=1,\n",
    "    forward_batch_size=1,\n",
    "    ppo_epochs=5,\n",
    "    learning_rate=1.41e-6\n",
    ")\n",
    "\n",
    "# Inicializar el entrenador PPO\n",
    "entrenador_ppo = PPOTrainer(\n",
    "    config=config_ppo,\n",
    "    model=modelo,\n",
    "    tokenizer=tokenizador\n",
    ")\n",
    "\n",
    "# Lista de prompts\n",
    "prompts = [\n",
    "    \"[INST] 10 es igual a [/INST]\",\n",
    "    \"[INST] 13 es igual a [/INST]\",\n",
    "    \"[INST] 16 es igual a [/INST]\",\n",
    "    \"[INST] 19 es igual a [/INST]\",\n",
    "    \"[INST] 22 es igual a [/INST]\",\n",
    "    \"[INST] 25 es igual a [/INST]\",\n",
    "    \"[INST] 28 es igual a [/INST]\",\n",
    "    \"[INST] 31 es igual a [/INST]\",\n",
    "    \"[INST] 34 es igual a [/INST]\",\n",
    "    \"[INST] 37 es igual a [/INST]\",\n",
    "    \"[INST] 40 es igual a [/INST]\",\n",
    "    \"[INST] 43 es igual a [/INST]\",\n",
    "    \"[INST] 46 es igual a [/INST]\",\n",
    "    \"[INST] 49 es igual a [/INST]\"\n",
    "]\n",
    "\n",
    "for epoch in trange(60, desc=\"train PPO\"):\n",
    "    for prompt in prompts:\n",
    "        # Tokenizar el prompt y convertirlo en tensor\n",
    "        entradas = tokenizador(prompt, return_tensors='pt').to(device)\n",
    "\n",
    "        # Generar una respuesta inicial del modelo\n",
    "        salida = modelo.generate(**entradas)\n",
    "\n",
    "        respuesta = tokenizador.decode(salida[0], skip_special_tokens=True)\n",
    "\n",
    "        # Calcular la recompensa utilizando la función personalizada\n",
    "        recompensa = funcion_de_recompensa2(respuesta)\n",
    "\n",
    "\n",
    "        print(f\"Prompt: {prompt}\")\n",
    "        print(f\"Respuesta: {respuesta}\")\n",
    "        print(f\"Recompensa: {recompensa}\")\n",
    "\n",
    "        # Preparar los datos para el paso de entrenamiento PPO\n",
    "        # Convertir prompt y respuesta a listas de tensores\n",
    "        prompt_tensor = entradas['input_ids'][0]\n",
    "        respuesta_tensor = salida[0]\n",
    "\n",
    "        # Asegurarse de que las recompensas estén en una lista de tensores\n",
    "        recompensa_tensor = torch.tensor([recompensa], dtype=torch.float).to(device)\n",
    "\n",
    "        # Aplicar un paso de entrenamiento PPO\n",
    "        entrenador_ppo.step([prompt_tensor], [respuesta_tensor], [recompensa_tensor])\n"
   ]
  }
 ],
 "metadata": {
  "accelerator": "GPU",
  "colab": {
   "gpuType": "T4",
   "provenance": []
  },
  "kernelspec": {
   "display_name": "Python 3",
   "name": "python3"
  },
  "language_info": {
   "codemirror_mode": {
    "name": "ipython",
    "version": 3
   },
   "file_extension": ".py",
   "mimetype": "text/x-python",
   "name": "python",
   "nbconvert_exporter": "python",
   "pygments_lexer": "ipython3",
   "version": "3.11.7"
  }
 },
 "nbformat": 4,
 "nbformat_minor": 0
}
